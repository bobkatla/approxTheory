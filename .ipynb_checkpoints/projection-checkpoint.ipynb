{
 "cells": [
  {
   "cell_type": "markdown",
   "metadata": {},
   "source": [
    "# Alternative projection"
   ]
  },
  {
   "cell_type": "code",
   "execution_count": 1,
   "metadata": {},
   "outputs": [],
   "source": [
    "# Getting all the required library\n",
    "# using JuMP\n",
    "# using GLPK\n",
    "using Plots"
   ]
  },
  {
   "cell_type": "code",
   "execution_count": 2,
   "metadata": {},
   "outputs": [
    {
     "data": {
      "text/plain": [
       "vander (generic function with 1 method)"
      ]
     },
     "execution_count": 2,
     "metadata": {},
     "output_type": "execute_result"
    }
   ],
   "source": [
    "# Create the vander function for creating a form of representing the vectors and calculations\n",
    "vander(t,n) = hcat([t.^i for i = 0:n-1]...)"
   ]
  },
  {
   "cell_type": "code",
   "execution_count": 52,
   "metadata": {},
   "outputs": [
    {
     "data": {
      "text/plain": [
       "f (generic function with 1 method)"
      ]
     },
     "execution_count": 52,
     "metadata": {},
     "output_type": "execute_result"
    }
   ],
   "source": [
    "# Setting the parameters\n",
    "T=1:0.01:5 # Interpolation points, note it has to be different from 0 so it's best to pick from 1\n",
    "(n, m) = (5, 6) # The power of the 2 poly in the rational functions\n",
    "hy_space_sz = n+m+2\n",
    "# N = 10\n",
    "# c = rand(N)\n",
    "# f(t) = sum([c[i]*sin(π*i*(t+0.25)) for i in 1:N]) # Function to approximate\n",
    "\n",
    "f(t) = (t^3+3)/(t^2 + 1) #function simple to test"
   ]
  },
  {
   "cell_type": "code",
   "execution_count": 53,
   "metadata": {},
   "outputs": [
    {
     "data": {
      "image/svg+xml": [
       "<?xml version=\"1.0\" encoding=\"utf-8\"?>\n",
       "<svg xmlns=\"http://www.w3.org/2000/svg\" xmlns:xlink=\"http://www.w3.org/1999/xlink\" width=\"600\" height=\"400\" viewBox=\"0 0 2400 1600\">\n",
       "<defs>\n",
       "  <clipPath id=\"clip930\">\n",
       "    <rect x=\"0\" y=\"0\" width=\"2400\" height=\"1600\"/>\n",
       "  </clipPath>\n",
       "</defs>\n",
       "<path clip-path=\"url(#clip930)\" d=\"\n",
       "M0 1600 L2400 1600 L2400 0 L0 0  Z\n",
       "  \" fill=\"#ffffff\" fill-rule=\"evenodd\" fill-opacity=\"1\"/>\n",
       "<defs>\n",
       "  <clipPath id=\"clip931\">\n",
       "    <rect x=\"480\" y=\"0\" width=\"1681\" height=\"1600\"/>\n",
       "  </clipPath>\n",
       "</defs>\n",
       "<path clip-path=\"url(#clip930)\" d=\"\n",
       "M112.177 1486.45 L2352.76 1486.45 L2352.76 47.2441 L112.177 47.2441  Z\n",
       "  \" fill=\"#ffffff\" fill-rule=\"evenodd\" fill-opacity=\"1\"/>\n",
       "<defs>\n",
       "  <clipPath id=\"clip932\">\n",
       "    <rect x=\"112\" y=\"47\" width=\"2242\" height=\"1440\"/>\n",
       "  </clipPath>\n",
       "</defs>\n",
       "<polyline clip-path=\"url(#clip932)\" style=\"stroke:#000000; stroke-width:2; stroke-opacity:0.1; fill:none\" points=\"\n",
       "  175.59,1486.45 175.59,47.2441 \n",
       "  \"/>\n",
       "<polyline clip-path=\"url(#clip932)\" style=\"stroke:#000000; stroke-width:2; stroke-opacity:0.1; fill:none\" points=\"\n",
       "  704.028,1486.45 704.028,47.2441 \n",
       "  \"/>\n",
       "<polyline clip-path=\"url(#clip932)\" style=\"stroke:#000000; stroke-width:2; stroke-opacity:0.1; fill:none\" points=\"\n",
       "  1232.47,1486.45 1232.47,47.2441 \n",
       "  \"/>\n",
       "<polyline clip-path=\"url(#clip932)\" style=\"stroke:#000000; stroke-width:2; stroke-opacity:0.1; fill:none\" points=\"\n",
       "  1760.9,1486.45 1760.9,47.2441 \n",
       "  \"/>\n",
       "<polyline clip-path=\"url(#clip932)\" style=\"stroke:#000000; stroke-width:2; stroke-opacity:0.1; fill:none\" points=\"\n",
       "  2289.34,1486.45 2289.34,47.2441 \n",
       "  \"/>\n",
       "<polyline clip-path=\"url(#clip930)\" style=\"stroke:#000000; stroke-width:4; stroke-opacity:1; fill:none\" points=\"\n",
       "  112.177,1486.45 2352.76,1486.45 \n",
       "  \"/>\n",
       "<polyline clip-path=\"url(#clip930)\" style=\"stroke:#000000; stroke-width:4; stroke-opacity:1; fill:none\" points=\"\n",
       "  175.59,1486.45 175.59,1469.18 \n",
       "  \"/>\n",
       "<polyline clip-path=\"url(#clip930)\" style=\"stroke:#000000; stroke-width:4; stroke-opacity:1; fill:none\" points=\"\n",
       "  704.028,1486.45 704.028,1469.18 \n",
       "  \"/>\n",
       "<polyline clip-path=\"url(#clip930)\" style=\"stroke:#000000; stroke-width:4; stroke-opacity:1; fill:none\" points=\"\n",
       "  1232.47,1486.45 1232.47,1469.18 \n",
       "  \"/>\n",
       "<polyline clip-path=\"url(#clip930)\" style=\"stroke:#000000; stroke-width:4; stroke-opacity:1; fill:none\" points=\"\n",
       "  1760.9,1486.45 1760.9,1469.18 \n",
       "  \"/>\n",
       "<polyline clip-path=\"url(#clip930)\" style=\"stroke:#000000; stroke-width:4; stroke-opacity:1; fill:none\" points=\"\n",
       "  2289.34,1486.45 2289.34,1469.18 \n",
       "  \"/>\n",
       "<path clip-path=\"url(#clip930)\" d=\"M 0 0 M165.972 1543.18 L173.611 1543.18 L173.611 1516.82 L165.3 1518.49 L165.3 1514.23 L173.564 1512.56 L178.24 1512.56 L178.24 1543.18 L185.879 1543.18 L185.879 1547.12 L165.972 1547.12 L165.972 1543.18 Z\" fill=\"#000000\" fill-rule=\"evenodd\" fill-opacity=\"1\" /><path clip-path=\"url(#clip930)\" d=\"M 0 0 M698.681 1543.18 L715 1543.18 L715 1547.12 L693.056 1547.12 L693.056 1543.18 Q695.718 1540.43 700.301 1535.8 Q704.908 1531.15 706.088 1529.81 Q708.334 1527.28 709.213 1525.55 Q710.116 1523.79 710.116 1522.1 Q710.116 1519.34 708.172 1517.61 Q706.25 1515.87 703.149 1515.87 Q700.949 1515.87 698.496 1516.63 Q696.065 1517.4 693.287 1518.95 L693.287 1514.23 Q696.112 1513.09 698.565 1512.51 Q701.019 1511.93 703.056 1511.93 Q708.426 1511.93 711.621 1514.62 Q714.815 1517.31 714.815 1521.8 Q714.815 1523.93 714.005 1525.85 Q713.218 1527.74 711.111 1530.34 Q710.533 1531.01 707.431 1534.23 Q704.329 1537.42 698.681 1543.18 Z\" fill=\"#000000\" fill-rule=\"evenodd\" fill-opacity=\"1\" /><path clip-path=\"url(#clip930)\" d=\"M 0 0 M1236.71 1528.49 Q1240.07 1529.2 1241.95 1531.47 Q1243.84 1533.74 1243.84 1537.07 Q1243.84 1542.19 1240.33 1544.99 Q1236.81 1547.79 1230.33 1547.79 Q1228.15 1547.79 1225.83 1547.35 Q1223.54 1546.93 1221.09 1546.08 L1221.09 1541.56 Q1223.03 1542.7 1225.35 1543.28 Q1227.66 1543.86 1230.19 1543.86 Q1234.58 1543.86 1236.88 1542.12 Q1239.19 1540.38 1239.19 1537.07 Q1239.19 1534.02 1237.04 1532.31 Q1234.91 1530.57 1231.09 1530.57 L1227.06 1530.57 L1227.06 1526.73 L1231.27 1526.73 Q1234.72 1526.73 1236.55 1525.36 Q1238.38 1523.97 1238.38 1521.38 Q1238.38 1518.72 1236.48 1517.31 Q1234.61 1515.87 1231.09 1515.87 Q1229.17 1515.87 1226.97 1516.29 Q1224.77 1516.7 1222.13 1517.58 L1222.13 1513.42 Q1224.79 1512.68 1227.11 1512.31 Q1229.45 1511.93 1231.51 1511.93 Q1236.83 1511.93 1239.93 1514.37 Q1243.03 1516.77 1243.03 1520.89 Q1243.03 1523.76 1241.39 1525.75 Q1239.75 1527.72 1236.71 1528.49 Z\" fill=\"#000000\" fill-rule=\"evenodd\" fill-opacity=\"1\" /><path clip-path=\"url(#clip930)\" d=\"M 0 0 M1763.91 1516.63 L1752.11 1535.08 L1763.91 1535.08 L1763.91 1516.63 M1762.69 1512.56 L1768.57 1512.56 L1768.57 1535.08 L1773.5 1535.08 L1773.5 1538.97 L1768.57 1538.97 L1768.57 1547.12 L1763.91 1547.12 L1763.91 1538.97 L1748.31 1538.97 L1748.31 1534.46 L1762.69 1512.56 Z\" fill=\"#000000\" fill-rule=\"evenodd\" fill-opacity=\"1\" /><path clip-path=\"url(#clip930)\" d=\"M 0 0 M2279.62 1512.56 L2297.98 1512.56 L2297.98 1516.5 L2283.9 1516.5 L2283.9 1524.97 Q2284.92 1524.62 2285.94 1524.46 Q2286.96 1524.27 2287.98 1524.27 Q2293.76 1524.27 2297.14 1527.44 Q2300.52 1530.62 2300.52 1536.03 Q2300.52 1541.61 2297.05 1544.71 Q2293.58 1547.79 2287.26 1547.79 Q2285.08 1547.79 2282.82 1547.42 Q2280.57 1547.05 2278.16 1546.31 L2278.16 1541.61 Q2280.25 1542.74 2282.47 1543.3 Q2284.69 1543.86 2287.17 1543.86 Q2291.17 1543.86 2293.51 1541.75 Q2295.85 1539.64 2295.85 1536.03 Q2295.85 1532.42 2293.51 1530.31 Q2291.17 1528.21 2287.17 1528.21 Q2285.29 1528.21 2283.42 1528.62 Q2281.57 1529.04 2279.62 1529.92 L2279.62 1512.56 Z\" fill=\"#000000\" fill-rule=\"evenodd\" fill-opacity=\"1\" /><polyline clip-path=\"url(#clip932)\" style=\"stroke:#000000; stroke-width:2; stroke-opacity:0.1; fill:none\" points=\"\n",
       "  112.177,1416.34 2352.76,1416.34 \n",
       "  \"/>\n",
       "<polyline clip-path=\"url(#clip932)\" style=\"stroke:#000000; stroke-width:2; stroke-opacity:0.1; fill:none\" points=\"\n",
       "  112.177,961.898 2352.76,961.898 \n",
       "  \"/>\n",
       "<polyline clip-path=\"url(#clip932)\" style=\"stroke:#000000; stroke-width:2; stroke-opacity:0.1; fill:none\" points=\"\n",
       "  112.177,507.459 2352.76,507.459 \n",
       "  \"/>\n",
       "<polyline clip-path=\"url(#clip932)\" style=\"stroke:#000000; stroke-width:2; stroke-opacity:0.1; fill:none\" points=\"\n",
       "  112.177,53.0194 2352.76,53.0194 \n",
       "  \"/>\n",
       "<polyline clip-path=\"url(#clip930)\" style=\"stroke:#000000; stroke-width:4; stroke-opacity:1; fill:none\" points=\"\n",
       "  112.177,1486.45 112.177,47.2441 \n",
       "  \"/>\n",
       "<polyline clip-path=\"url(#clip930)\" style=\"stroke:#000000; stroke-width:4; stroke-opacity:1; fill:none\" points=\"\n",
       "  112.177,1416.34 139.064,1416.34 \n",
       "  \"/>\n",
       "<polyline clip-path=\"url(#clip930)\" style=\"stroke:#000000; stroke-width:4; stroke-opacity:1; fill:none\" points=\"\n",
       "  112.177,961.898 139.064,961.898 \n",
       "  \"/>\n",
       "<polyline clip-path=\"url(#clip930)\" style=\"stroke:#000000; stroke-width:4; stroke-opacity:1; fill:none\" points=\"\n",
       "  112.177,507.459 139.064,507.459 \n",
       "  \"/>\n",
       "<polyline clip-path=\"url(#clip930)\" style=\"stroke:#000000; stroke-width:4; stroke-opacity:1; fill:none\" points=\"\n",
       "  112.177,53.0194 139.064,53.0194 \n",
       "  \"/>\n",
       "<path clip-path=\"url(#clip930)\" d=\"M 0 0 M59.8578 1429.68 L76.1772 1429.68 L76.1772 1433.62 L54.2328 1433.62 L54.2328 1429.68 Q56.8949 1426.93 61.4782 1422.3 Q66.0846 1417.65 67.2652 1416.3 Q69.5105 1413.78 70.3902 1412.04 Q71.2929 1410.28 71.2929 1408.6 Q71.2929 1405.84 69.3485 1404.1 Q67.4272 1402.37 64.3254 1402.37 Q62.1263 1402.37 59.6726 1403.13 Q57.2421 1403.9 54.4643 1405.45 L54.4643 1400.72 Q57.2884 1399.59 59.7421 1399.01 Q62.1958 1398.43 64.2328 1398.43 Q69.6031 1398.43 72.7976 1401.12 Q75.992 1403.8 75.992 1408.29 Q75.992 1410.42 75.1818 1412.35 Q74.3948 1414.24 72.2883 1416.84 Q71.7096 1417.51 68.6078 1420.72 Q65.5059 1423.92 59.8578 1429.68 Z\" fill=\"#000000\" fill-rule=\"evenodd\" fill-opacity=\"1\" /><path clip-path=\"url(#clip930)\" d=\"M 0 0 M69.0476 960.544 Q72.404 961.262 74.279 963.53 Q76.1772 965.799 76.1772 969.132 Q76.1772 974.248 72.6587 977.049 Q69.1402 979.85 62.6587 979.85 Q60.4828 979.85 58.168 979.41 Q55.8764 978.993 53.4227 978.137 L53.4227 973.623 Q55.3671 974.757 57.6819 975.336 Q59.9967 975.915 62.5198 975.915 Q66.918 975.915 69.2096 974.179 Q71.5244 972.442 71.5244 969.132 Q71.5244 966.077 69.3717 964.364 Q67.242 962.628 63.4226 962.628 L59.3949 962.628 L59.3949 958.785 L63.6078 958.785 Q67.0569 958.785 68.8855 957.419 Q70.7142 956.03 70.7142 953.438 Q70.7142 950.776 68.8161 949.364 Q66.9411 947.929 63.4226 947.929 Q61.5013 947.929 59.3023 948.345 Q57.1032 948.762 54.4643 949.642 L54.4643 945.475 Q57.1264 944.734 59.4412 944.364 Q61.7791 943.994 63.8393 943.994 Q69.1633 943.994 72.2652 946.424 Q75.367 948.831 75.367 952.952 Q75.367 955.822 73.7235 957.813 Q72.08 959.78 69.0476 960.544 Z\" fill=\"#000000\" fill-rule=\"evenodd\" fill-opacity=\"1\" /><path clip-path=\"url(#clip930)\" d=\"M 0 0 M66.5939 494.253 L54.7884 512.702 L66.5939 512.702 L66.5939 494.253 M65.367 490.179 L71.2466 490.179 L71.2466 512.702 L76.1772 512.702 L76.1772 516.591 L71.2466 516.591 L71.2466 524.739 L66.5939 524.739 L66.5939 516.591 L50.9921 516.591 L50.9921 512.077 L65.367 490.179 Z\" fill=\"#000000\" fill-rule=\"evenodd\" fill-opacity=\"1\" /><path clip-path=\"url(#clip930)\" d=\"M 0 0 M55.2745 35.7394 L73.6309 35.7394 L73.6309 39.6746 L59.5569 39.6746 L59.5569 48.1467 Q60.5754 47.7995 61.5939 47.6375 Q62.6124 47.4523 63.6309 47.4523 Q69.418 47.4523 72.7976 50.6236 Q76.1772 53.7948 76.1772 59.2115 Q76.1772 64.7902 72.705 67.892 Q69.2328 70.9707 62.9134 70.9707 Q60.7374 70.9707 58.4689 70.6003 Q56.2236 70.2299 53.8162 69.4892 L53.8162 64.7902 Q55.8995 65.9244 58.1217 66.48 Q60.3439 67.0355 62.8208 67.0355 Q66.8254 67.0355 69.1633 64.929 Q71.5013 62.8226 71.5013 59.2115 Q71.5013 55.6004 69.1633 53.4939 Q66.8254 51.3875 62.8208 51.3875 Q60.9458 51.3875 59.0708 51.8041 Q57.2189 52.2208 55.2745 53.1004 L55.2745 35.7394 Z\" fill=\"#000000\" fill-rule=\"evenodd\" fill-opacity=\"1\" /><polyline clip-path=\"url(#clip932)\" style=\"stroke:#009af9; stroke-width:4; stroke-opacity:1; fill:none\" points=\"\n",
       "  175.59,1416.34 185.911,1420.6 196.232,1424.53 291.667,1445.72 387.102,1443.34 444.455,1432.73 501.807,1416.46 550.298,1398.92 598.789,1378.41 704.138,1325.39 \n",
       "  801.261,1268.45 905.386,1201 1026.03,1116.7 1133.24,1037.65 1227.25,965.933 1329.75,885.748 1432.86,803.443 1546.86,710.947 1655.33,621.8 1768.11,528.184 \n",
       "  1863.05,448.797 1978.96,351.297 2087.92,259.177 2262.48,110.866 2289.34,87.9763 \n",
       "  \"/>\n",
       "<path clip-path=\"url(#clip930)\" d=\"\n",
       "M1978.1 216.178 L2278.07 216.178 L2278.07 95.2176 L1978.1 95.2176  Z\n",
       "  \" fill=\"#ffffff\" fill-rule=\"evenodd\" fill-opacity=\"1\"/>\n",
       "<polyline clip-path=\"url(#clip930)\" style=\"stroke:#000000; stroke-width:4; stroke-opacity:1; fill:none\" points=\"\n",
       "  1978.1,216.178 2278.07,216.178 2278.07,95.2176 1978.1,95.2176 1978.1,216.178 \n",
       "  \"/>\n",
       "<polyline clip-path=\"url(#clip930)\" style=\"stroke:#009af9; stroke-width:4; stroke-opacity:1; fill:none\" points=\"\n",
       "  2002.99,155.698 2152.37,155.698 \n",
       "  \"/>\n",
       "<path clip-path=\"url(#clip930)\" d=\"M 0 0 M2191.1 175.385 Q2189.3 180.015 2187.59 181.427 Q2185.87 182.839 2183 182.839 L2179.6 182.839 L2179.6 179.274 L2182.1 179.274 Q2183.86 179.274 2184.83 178.44 Q2185.8 177.607 2186.98 174.505 L2187.75 172.561 L2177.26 147.052 L2181.77 147.052 L2189.88 167.329 L2197.98 147.052 L2202.49 147.052 L2191.1 175.385 Z\" fill=\"#000000\" fill-rule=\"evenodd\" fill-opacity=\"1\" /><path clip-path=\"url(#clip930)\" d=\"M 0 0 M2208.37 169.042 L2216.01 169.042 L2216.01 142.677 L2207.7 144.343 L2207.7 140.084 L2215.96 138.418 L2220.64 138.418 L2220.64 169.042 L2228.28 169.042 L2228.28 172.978 L2208.37 172.978 L2208.37 169.042 Z\" fill=\"#000000\" fill-rule=\"evenodd\" fill-opacity=\"1\" /></svg>\n"
      ]
     },
     "execution_count": 53,
     "metadata": {},
     "output_type": "execute_result"
    }
   ],
   "source": [
    "# plot the f to see\n",
    "plot(f,1,5)"
   ]
  },
  {
   "cell_type": "code",
   "execution_count": 54,
   "metadata": {},
   "outputs": [
    {
     "data": {
      "text/plain": [
       "calculateDisAndPoint (generic function with 1 method)"
      ]
     },
     "execution_count": 54,
     "metadata": {},
     "output_type": "execute_result"
    }
   ],
   "source": [
    "# we are creating hyperplanes by thinking f(x) = p(x)/q(x)\n",
    "# or converting to <A, xn> - f(x)<B, xm> = 0 with A, B is correspondingly coe of p(x) and q(x) and are the keys\n",
    "# xn and xm are the vectors which will represent the fucntions\n",
    "# for easy calculation combining A and B into a big vector so it would be: <A to B, xn to -f(x)xm> = 0\n",
    "# this is a hyperplan formula with d = 0\n",
    "# therefore, xn to -f(x)xm is the vector of the hyperplane in R n+m+2 space\n",
    "\n",
    "# function to calculate the distince between a point and the hyperplane with the sign\n",
    "function calculateDisAndPoint(check_value, the_point, n, m)\n",
    "    hy_space_sz = n + m + 2\n",
    "    xn = vander(check_value, n+1)\n",
    "    xm = vander(check_value, m+1)\n",
    "    big_vect = hcat(xn, -f(check_value)*xm)\n",
    "#     calculate distance by |vect.start_point + d|/||vect|| , d is 0 in this case\n",
    "    a = sum(hcat([the_point[i]*big_vect[i] for i in 1:hy_space_sz]...))\n",
    "    b = sum(hcat([big_vect[i]*big_vect[i] for i in 1:hy_space_sz]...))\n",
    "    c = sqrt(b)\n",
    "    dis = a/c\n",
    "#     calculate lambda in x - x0 = lambda.vect to calculate the projectpoint\n",
    "    lambd = a/b\n",
    "    x0 = the_point - (lambd * big_vect)\n",
    "    return dis, x0\n",
    "end"
   ]
  },
  {
   "cell_type": "code",
   "execution_count": 55,
   "metadata": {},
   "outputs": [
    {
     "data": {
      "text/plain": [
       "distanceBetween (generic function with 1 method)"
      ]
     },
     "execution_count": 55,
     "metadata": {},
     "output_type": "execute_result"
    }
   ],
   "source": [
    "#function to calculate the distance between 2 points\n",
    "function distanceBetween(p1, p2)\n",
    "    sz = size(p1)[2]\n",
    "    p = p2 - p1\n",
    "    result = sqrt(sum(hcat([p[i]*p[i] for i in 1:sz]...)))\n",
    "    return result\n",
    "end"
   ]
  },
  {
   "cell_type": "code",
   "execution_count": 90,
   "metadata": {},
   "outputs": [
    {
     "name": "stdout",
     "output_type": "stream",
     "text": [
      "the number of iteration: 3286\n"
     ]
    }
   ],
   "source": [
    "# iterate after a certain times and store the value in a array of the size of number of hyperplanes\n",
    "num_hy = size(T)[1]\n",
    "pointA = Array{Array{Float64}}(undef, 1, num_hy)\n",
    "\n",
    "# pointB = Array{Array{Float64}}(undef, 1, num_hy)\n",
    "error_rate = 0.0001\n",
    "\n",
    "s_p = vander(1, hy_space_sz)\n",
    "need_to_cal = true\n",
    "count = 0\n",
    "\n",
    "while true\n",
    "    for i in 1:num_hy\n",
    "        result = calculateDisAndPoint(T[i],s_p,n,m)\n",
    "        if isassigned(pointA, i)\n",
    "            if need_to_cal\n",
    "                if distanceBetween(result[2], pointA[i]) > error_rate\n",
    "                    need_to_cal = false\n",
    "                end\n",
    "            end\n",
    "        else\n",
    "            need_to_cal = false\n",
    "        end\n",
    "        pointA[i] = result[2]\n",
    "        s_p = result[2]\n",
    "    end\n",
    "    count += 1\n",
    "    if need_to_cal\n",
    "        break\n",
    "    else\n",
    "        need_to_cal = true\n",
    "    end\n",
    "end\n",
    "\n",
    "println(\"the number of iteration: \", count)"
   ]
  },
  {
   "cell_type": "code",
   "execution_count": 91,
   "metadata": {},
   "outputs": [
    {
     "data": {
      "text/plain": [
       "1×13 Array{Float64,2}:\n",
       " 1.39005  1.28872  1.11376  0.904659  …  0.875844  0.159293  -0.0224577"
      ]
     },
     "execution_count": 91,
     "metadata": {},
     "output_type": "execute_result"
    }
   ],
   "source": [
    "# calculate the mid point\n",
    "mid_p = sum(pointA)/num_hy"
   ]
  },
  {
   "cell_type": "code",
   "execution_count": 92,
   "metadata": {},
   "outputs": [
    {
     "name": "stdout",
     "output_type": "stream",
     "text": [
      "1.3900493960730278\n",
      "1.2887174994071842\n",
      "1.113764988662718\n",
      "0.9046589864376504\n",
      "0.7994232703878856\n",
      "1.1110750375330771\n",
      "0.25340657888143064\n",
      "0.41077970451353113\n",
      "0.6717862464617375\n",
      "0.9236445268770321\n",
      "0.8758437500171119\n",
      "0.15929290633767398\n",
      "-0.022457698477120536\n"
     ]
    }
   ],
   "source": [
    "for i in mid_p\n",
    "    println(i)\n",
    "end"
   ]
  },
  {
   "cell_type": "code",
   "execution_count": 93,
   "metadata": {},
   "outputs": [
    {
     "data": {
      "text/plain": [
       "g (generic function with 1 method)"
      ]
     },
     "execution_count": 93,
     "metadata": {},
     "output_type": "execute_result"
    }
   ],
   "source": [
    "# we now have the final results\n",
    "p(t) = sum((t^(i-1))*mid_p[i] for i in 1:(n+1))\n",
    "q(t) = sum((t^(i-1))*mid_p[i+n+1] for i in 1:(m+1))\n",
    "g(t) = p(t)/q(t)"
   ]
  },
  {
   "cell_type": "code",
   "execution_count": 94,
   "metadata": {},
   "outputs": [
    {
     "data": {
      "text/plain": [
       "1.9295184778492638"
      ]
     },
     "execution_count": 94,
     "metadata": {},
     "output_type": "execute_result"
    }
   ],
   "source": [
    "g(1.2)"
   ]
  },
  {
   "cell_type": "code",
   "execution_count": 95,
   "metadata": {},
   "outputs": [
    {
     "data": {
      "text/plain": [
       "1.9377049180327868"
      ]
     },
     "execution_count": 95,
     "metadata": {},
     "output_type": "execute_result"
    }
   ],
   "source": [
    "f(1.2)"
   ]
  },
  {
   "cell_type": "code",
   "execution_count": 96,
   "metadata": {},
   "outputs": [
    {
     "data": {
      "image/svg+xml": [
       "<?xml version=\"1.0\" encoding=\"utf-8\"?>\n",
       "<svg xmlns=\"http://www.w3.org/2000/svg\" xmlns:xlink=\"http://www.w3.org/1999/xlink\" width=\"600\" height=\"400\" viewBox=\"0 0 2400 1600\">\n",
       "<defs>\n",
       "  <clipPath id=\"clip130\">\n",
       "    <rect x=\"0\" y=\"0\" width=\"2400\" height=\"1600\"/>\n",
       "  </clipPath>\n",
       "</defs>\n",
       "<path clip-path=\"url(#clip130)\" d=\"\n",
       "M0 1600 L2400 1600 L2400 0 L0 0  Z\n",
       "  \" fill=\"#ffffff\" fill-rule=\"evenodd\" fill-opacity=\"1\"/>\n",
       "<defs>\n",
       "  <clipPath id=\"clip131\">\n",
       "    <rect x=\"480\" y=\"0\" width=\"1681\" height=\"1600\"/>\n",
       "  </clipPath>\n",
       "</defs>\n",
       "<path clip-path=\"url(#clip130)\" d=\"\n",
       "M112.177 1486.45 L2352.76 1486.45 L2352.76 47.2441 L112.177 47.2441  Z\n",
       "  \" fill=\"#ffffff\" fill-rule=\"evenodd\" fill-opacity=\"1\"/>\n",
       "<defs>\n",
       "  <clipPath id=\"clip132\">\n",
       "    <rect x=\"112\" y=\"47\" width=\"2242\" height=\"1440\"/>\n",
       "  </clipPath>\n",
       "</defs>\n",
       "<polyline clip-path=\"url(#clip132)\" style=\"stroke:#000000; stroke-width:2; stroke-opacity:0.1; fill:none\" points=\"\n",
       "  175.59,1486.45 175.59,47.2441 \n",
       "  \"/>\n",
       "<polyline clip-path=\"url(#clip132)\" style=\"stroke:#000000; stroke-width:2; stroke-opacity:0.1; fill:none\" points=\"\n",
       "  704.028,1486.45 704.028,47.2441 \n",
       "  \"/>\n",
       "<polyline clip-path=\"url(#clip132)\" style=\"stroke:#000000; stroke-width:2; stroke-opacity:0.1; fill:none\" points=\"\n",
       "  1232.47,1486.45 1232.47,47.2441 \n",
       "  \"/>\n",
       "<polyline clip-path=\"url(#clip132)\" style=\"stroke:#000000; stroke-width:2; stroke-opacity:0.1; fill:none\" points=\"\n",
       "  1760.9,1486.45 1760.9,47.2441 \n",
       "  \"/>\n",
       "<polyline clip-path=\"url(#clip132)\" style=\"stroke:#000000; stroke-width:2; stroke-opacity:0.1; fill:none\" points=\"\n",
       "  2289.34,1486.45 2289.34,47.2441 \n",
       "  \"/>\n",
       "<polyline clip-path=\"url(#clip130)\" style=\"stroke:#000000; stroke-width:4; stroke-opacity:1; fill:none\" points=\"\n",
       "  112.177,1486.45 2352.76,1486.45 \n",
       "  \"/>\n",
       "<polyline clip-path=\"url(#clip130)\" style=\"stroke:#000000; stroke-width:4; stroke-opacity:1; fill:none\" points=\"\n",
       "  175.59,1486.45 175.59,1469.18 \n",
       "  \"/>\n",
       "<polyline clip-path=\"url(#clip130)\" style=\"stroke:#000000; stroke-width:4; stroke-opacity:1; fill:none\" points=\"\n",
       "  704.028,1486.45 704.028,1469.18 \n",
       "  \"/>\n",
       "<polyline clip-path=\"url(#clip130)\" style=\"stroke:#000000; stroke-width:4; stroke-opacity:1; fill:none\" points=\"\n",
       "  1232.47,1486.45 1232.47,1469.18 \n",
       "  \"/>\n",
       "<polyline clip-path=\"url(#clip130)\" style=\"stroke:#000000; stroke-width:4; stroke-opacity:1; fill:none\" points=\"\n",
       "  1760.9,1486.45 1760.9,1469.18 \n",
       "  \"/>\n",
       "<polyline clip-path=\"url(#clip130)\" style=\"stroke:#000000; stroke-width:4; stroke-opacity:1; fill:none\" points=\"\n",
       "  2289.34,1486.45 2289.34,1469.18 \n",
       "  \"/>\n",
       "<path clip-path=\"url(#clip130)\" d=\"M 0 0 M165.972 1543.18 L173.611 1543.18 L173.611 1516.82 L165.3 1518.49 L165.3 1514.23 L173.564 1512.56 L178.24 1512.56 L178.24 1543.18 L185.879 1543.18 L185.879 1547.12 L165.972 1547.12 L165.972 1543.18 Z\" fill=\"#000000\" fill-rule=\"evenodd\" fill-opacity=\"1\" /><path clip-path=\"url(#clip130)\" d=\"M 0 0 M698.681 1543.18 L715 1543.18 L715 1547.12 L693.056 1547.12 L693.056 1543.18 Q695.718 1540.43 700.301 1535.8 Q704.908 1531.15 706.088 1529.81 Q708.334 1527.28 709.213 1525.55 Q710.116 1523.79 710.116 1522.1 Q710.116 1519.34 708.172 1517.61 Q706.25 1515.87 703.149 1515.87 Q700.949 1515.87 698.496 1516.63 Q696.065 1517.4 693.287 1518.95 L693.287 1514.23 Q696.112 1513.09 698.565 1512.51 Q701.019 1511.93 703.056 1511.93 Q708.426 1511.93 711.621 1514.62 Q714.815 1517.31 714.815 1521.8 Q714.815 1523.93 714.005 1525.85 Q713.218 1527.74 711.111 1530.34 Q710.533 1531.01 707.431 1534.23 Q704.329 1537.42 698.681 1543.18 Z\" fill=\"#000000\" fill-rule=\"evenodd\" fill-opacity=\"1\" /><path clip-path=\"url(#clip130)\" d=\"M 0 0 M1236.71 1528.49 Q1240.07 1529.2 1241.95 1531.47 Q1243.84 1533.74 1243.84 1537.07 Q1243.84 1542.19 1240.33 1544.99 Q1236.81 1547.79 1230.33 1547.79 Q1228.15 1547.79 1225.83 1547.35 Q1223.54 1546.93 1221.09 1546.08 L1221.09 1541.56 Q1223.03 1542.7 1225.35 1543.28 Q1227.66 1543.86 1230.19 1543.86 Q1234.58 1543.86 1236.88 1542.12 Q1239.19 1540.38 1239.19 1537.07 Q1239.19 1534.02 1237.04 1532.31 Q1234.91 1530.57 1231.09 1530.57 L1227.06 1530.57 L1227.06 1526.73 L1231.27 1526.73 Q1234.72 1526.73 1236.55 1525.36 Q1238.38 1523.97 1238.38 1521.38 Q1238.38 1518.72 1236.48 1517.31 Q1234.61 1515.87 1231.09 1515.87 Q1229.17 1515.87 1226.97 1516.29 Q1224.77 1516.7 1222.13 1517.58 L1222.13 1513.42 Q1224.79 1512.68 1227.11 1512.31 Q1229.45 1511.93 1231.51 1511.93 Q1236.83 1511.93 1239.93 1514.37 Q1243.03 1516.77 1243.03 1520.89 Q1243.03 1523.76 1241.39 1525.75 Q1239.75 1527.72 1236.71 1528.49 Z\" fill=\"#000000\" fill-rule=\"evenodd\" fill-opacity=\"1\" /><path clip-path=\"url(#clip130)\" d=\"M 0 0 M1763.91 1516.63 L1752.11 1535.08 L1763.91 1535.08 L1763.91 1516.63 M1762.69 1512.56 L1768.57 1512.56 L1768.57 1535.08 L1773.5 1535.08 L1773.5 1538.97 L1768.57 1538.97 L1768.57 1547.12 L1763.91 1547.12 L1763.91 1538.97 L1748.31 1538.97 L1748.31 1534.46 L1762.69 1512.56 Z\" fill=\"#000000\" fill-rule=\"evenodd\" fill-opacity=\"1\" /><path clip-path=\"url(#clip130)\" d=\"M 0 0 M2279.62 1512.56 L2297.98 1512.56 L2297.98 1516.5 L2283.9 1516.5 L2283.9 1524.97 Q2284.92 1524.62 2285.94 1524.46 Q2286.96 1524.27 2287.98 1524.27 Q2293.76 1524.27 2297.14 1527.44 Q2300.52 1530.62 2300.52 1536.03 Q2300.52 1541.61 2297.05 1544.71 Q2293.58 1547.79 2287.26 1547.79 Q2285.08 1547.79 2282.82 1547.42 Q2280.57 1547.05 2278.16 1546.31 L2278.16 1541.61 Q2280.25 1542.74 2282.47 1543.3 Q2284.69 1543.86 2287.17 1543.86 Q2291.17 1543.86 2293.51 1541.75 Q2295.85 1539.64 2295.85 1536.03 Q2295.85 1532.42 2293.51 1530.31 Q2291.17 1528.21 2287.17 1528.21 Q2285.29 1528.21 2283.42 1528.62 Q2281.57 1529.04 2279.62 1529.92 L2279.62 1512.56 Z\" fill=\"#000000\" fill-rule=\"evenodd\" fill-opacity=\"1\" /><polyline clip-path=\"url(#clip132)\" style=\"stroke:#000000; stroke-width:2; stroke-opacity:0.1; fill:none\" points=\"\n",
       "  112.177,1411.94 2352.76,1411.94 \n",
       "  \"/>\n",
       "<polyline clip-path=\"url(#clip132)\" style=\"stroke:#000000; stroke-width:2; stroke-opacity:0.1; fill:none\" points=\"\n",
       "  112.177,966.364 2352.76,966.364 \n",
       "  \"/>\n",
       "<polyline clip-path=\"url(#clip132)\" style=\"stroke:#000000; stroke-width:2; stroke-opacity:0.1; fill:none\" points=\"\n",
       "  112.177,520.791 2352.76,520.791 \n",
       "  \"/>\n",
       "<polyline clip-path=\"url(#clip132)\" style=\"stroke:#000000; stroke-width:2; stroke-opacity:0.1; fill:none\" points=\"\n",
       "  112.177,75.2172 2352.76,75.2172 \n",
       "  \"/>\n",
       "<polyline clip-path=\"url(#clip130)\" style=\"stroke:#000000; stroke-width:4; stroke-opacity:1; fill:none\" points=\"\n",
       "  112.177,1486.45 112.177,47.2441 \n",
       "  \"/>\n",
       "<polyline clip-path=\"url(#clip130)\" style=\"stroke:#000000; stroke-width:4; stroke-opacity:1; fill:none\" points=\"\n",
       "  112.177,1411.94 139.064,1411.94 \n",
       "  \"/>\n",
       "<polyline clip-path=\"url(#clip130)\" style=\"stroke:#000000; stroke-width:4; stroke-opacity:1; fill:none\" points=\"\n",
       "  112.177,966.364 139.064,966.364 \n",
       "  \"/>\n",
       "<polyline clip-path=\"url(#clip130)\" style=\"stroke:#000000; stroke-width:4; stroke-opacity:1; fill:none\" points=\"\n",
       "  112.177,520.791 139.064,520.791 \n",
       "  \"/>\n",
       "<polyline clip-path=\"url(#clip130)\" style=\"stroke:#000000; stroke-width:4; stroke-opacity:1; fill:none\" points=\"\n",
       "  112.177,75.2172 139.064,75.2172 \n",
       "  \"/>\n",
       "<path clip-path=\"url(#clip130)\" d=\"M 0 0 M59.8578 1425.28 L76.1772 1425.28 L76.1772 1429.22 L54.2328 1429.22 L54.2328 1425.28 Q56.8949 1422.53 61.4782 1417.9 Q66.0846 1413.25 67.2652 1411.9 Q69.5105 1409.38 70.3902 1407.64 Q71.2929 1405.88 71.2929 1404.19 Q71.2929 1401.44 69.3485 1399.7 Q67.4272 1397.97 64.3254 1397.97 Q62.1263 1397.97 59.6726 1398.73 Q57.2421 1399.5 54.4643 1401.05 L54.4643 1396.32 Q57.2884 1395.19 59.7421 1394.61 Q62.1958 1394.03 64.2328 1394.03 Q69.6031 1394.03 72.7976 1396.72 Q75.992 1399.4 75.992 1403.89 Q75.992 1406.02 75.1818 1407.94 Q74.3948 1409.84 72.2883 1412.44 Q71.7096 1413.11 68.6078 1416.32 Q65.5059 1419.52 59.8578 1425.28 Z\" fill=\"#000000\" fill-rule=\"evenodd\" fill-opacity=\"1\" /><path clip-path=\"url(#clip130)\" d=\"M 0 0 M69.0476 965.01 Q72.404 965.728 74.279 967.996 Q76.1772 970.265 76.1772 973.598 Q76.1772 978.714 72.6587 981.515 Q69.1402 984.315 62.6587 984.315 Q60.4828 984.315 58.168 983.876 Q55.8764 983.459 53.4227 982.603 L53.4227 978.089 Q55.3671 979.223 57.6819 979.802 Q59.9967 980.38 62.5198 980.38 Q66.918 980.38 69.2096 978.644 Q71.5244 976.908 71.5244 973.598 Q71.5244 970.542 69.3717 968.829 Q67.242 967.093 63.4226 967.093 L59.3949 967.093 L59.3949 963.251 L63.6078 963.251 Q67.0569 963.251 68.8855 961.885 Q70.7142 960.496 70.7142 957.904 Q70.7142 955.242 68.8161 953.83 Q66.9411 952.394 63.4226 952.394 Q61.5013 952.394 59.3023 952.811 Q57.1032 953.228 54.4643 954.107 L54.4643 949.941 Q57.1264 949.2 59.4412 948.83 Q61.7791 948.459 63.8393 948.459 Q69.1633 948.459 72.2652 950.89 Q75.367 953.297 75.367 957.417 Q75.367 960.288 73.7235 962.279 Q72.08 964.246 69.0476 965.01 Z\" fill=\"#000000\" fill-rule=\"evenodd\" fill-opacity=\"1\" /><path clip-path=\"url(#clip130)\" d=\"M 0 0 M66.5939 507.585 L54.7884 526.034 L66.5939 526.034 L66.5939 507.585 M65.367 503.511 L71.2466 503.511 L71.2466 526.034 L76.1772 526.034 L76.1772 529.923 L71.2466 529.923 L71.2466 538.071 L66.5939 538.071 L66.5939 529.923 L50.9921 529.923 L50.9921 525.409 L65.367 503.511 Z\" fill=\"#000000\" fill-rule=\"evenodd\" fill-opacity=\"1\" /><path clip-path=\"url(#clip130)\" d=\"M 0 0 M55.2745 57.9372 L73.6309 57.9372 L73.6309 61.8724 L59.5569 61.8724 L59.5569 70.3446 Q60.5754 69.9974 61.5939 69.8353 Q62.6124 69.6501 63.6309 69.6501 Q69.418 69.6501 72.7976 72.8214 Q76.1772 75.9927 76.1772 81.4093 Q76.1772 86.988 72.705 90.0898 Q69.2328 93.1685 62.9134 93.1685 Q60.7374 93.1685 58.4689 92.7982 Q56.2236 92.4278 53.8162 91.6871 L53.8162 86.988 Q55.8995 88.1223 58.1217 88.6778 Q60.3439 89.2334 62.8208 89.2334 Q66.8254 89.2334 69.1633 87.1269 Q71.5013 85.0204 71.5013 81.4093 Q71.5013 77.7982 69.1633 75.6918 Q66.8254 73.5853 62.8208 73.5853 Q60.9458 73.5853 59.0708 74.002 Q57.2189 74.4186 55.2745 75.2983 L55.2745 57.9372 Z\" fill=\"#000000\" fill-rule=\"evenodd\" fill-opacity=\"1\" /><polyline clip-path=\"url(#clip132)\" style=\"stroke:#009af9; stroke-width:4; stroke-opacity:1; fill:none\" points=\"\n",
       "  175.59,1403.35 180.75,1406.67 185.911,1409.84 191.072,1412.84 196.232,1415.69 243.95,1435.31 291.667,1444.6 339.385,1445.72 387.102,1440.37 444.455,1427.25 \n",
       "  501.807,1408.49 550.298,1389.21 598.789,1367.43 704.138,1313.64 801.261,1258.35 905.386,1194.82 1026.03,1117.12 1133.24,1045.11 1227.25,979.953 1329.75,906.853 \n",
       "  1432.86,831.129 1546.86,744.714 1655.33,659.645 1768.11,567.934 1863.05,487.877 1978.96,386.178 2087.92,286.137 2262.48,115.502 2289.34,87.9763 \n",
       "  \"/>\n",
       "<polyline clip-path=\"url(#clip132)\" style=\"stroke:#e26f46; stroke-width:4; stroke-opacity:1; fill:none\" points=\"\n",
       "  175.59,1411.94 185.911,1416.12 196.232,1419.97 291.667,1440.74 387.102,1438.41 444.455,1428.01 501.807,1412.06 550.298,1394.86 598.789,1374.75 704.138,1322.76 \n",
       "  801.261,1266.94 905.386,1200.8 1026.03,1118.14 1133.24,1040.64 1227.25,970.32 1329.75,891.7 1432.86,811 1546.86,720.309 1655.33,632.901 1768.11,541.111 \n",
       "  1863.05,463.273 1978.96,367.675 2087.92,277.353 2262.48,131.935 2289.34,109.492 \n",
       "  \"/>\n",
       "<path clip-path=\"url(#clip130)\" d=\"\n",
       "M1978.1 276.658 L2278.07 276.658 L2278.07 95.2176 L1978.1 95.2176  Z\n",
       "  \" fill=\"#ffffff\" fill-rule=\"evenodd\" fill-opacity=\"1\"/>\n",
       "<polyline clip-path=\"url(#clip130)\" style=\"stroke:#000000; stroke-width:4; stroke-opacity:1; fill:none\" points=\"\n",
       "  1978.1,276.658 2278.07,276.658 2278.07,95.2176 1978.1,95.2176 1978.1,276.658 \n",
       "  \"/>\n",
       "<polyline clip-path=\"url(#clip130)\" style=\"stroke:#009af9; stroke-width:4; stroke-opacity:1; fill:none\" points=\"\n",
       "  2002.99,155.698 2152.37,155.698 \n",
       "  \"/>\n",
       "<path clip-path=\"url(#clip130)\" d=\"M 0 0 M2191.1 175.385 Q2189.3 180.015 2187.59 181.427 Q2185.87 182.839 2183 182.839 L2179.6 182.839 L2179.6 179.274 L2182.1 179.274 Q2183.86 179.274 2184.83 178.44 Q2185.8 177.607 2186.98 174.505 L2187.75 172.561 L2177.26 147.052 L2181.77 147.052 L2189.88 167.329 L2197.98 147.052 L2202.49 147.052 L2191.1 175.385 Z\" fill=\"#000000\" fill-rule=\"evenodd\" fill-opacity=\"1\" /><path clip-path=\"url(#clip130)\" d=\"M 0 0 M2208.37 169.042 L2216.01 169.042 L2216.01 142.677 L2207.7 144.343 L2207.7 140.084 L2215.96 138.418 L2220.64 138.418 L2220.64 169.042 L2228.28 169.042 L2228.28 172.978 L2208.37 172.978 L2208.37 169.042 Z\" fill=\"#000000\" fill-rule=\"evenodd\" fill-opacity=\"1\" /><polyline clip-path=\"url(#clip130)\" style=\"stroke:#e26f46; stroke-width:4; stroke-opacity:1; fill:none\" points=\"\n",
       "  2002.99,216.178 2152.37,216.178 \n",
       "  \"/>\n",
       "<path clip-path=\"url(#clip130)\" d=\"M 0 0 M2191.1 235.865 Q2189.3 240.495 2187.59 241.907 Q2185.87 243.319 2183 243.319 L2179.6 243.319 L2179.6 239.754 L2182.1 239.754 Q2183.86 239.754 2184.83 238.92 Q2185.8 238.087 2186.98 234.985 L2187.75 233.041 L2177.26 207.532 L2181.77 207.532 L2189.88 227.809 L2197.98 207.532 L2202.49 207.532 L2191.1 235.865 Z\" fill=\"#000000\" fill-rule=\"evenodd\" fill-opacity=\"1\" /><path clip-path=\"url(#clip130)\" d=\"M 0 0 M2211.59 229.522 L2227.91 229.522 L2227.91 233.458 L2205.96 233.458 L2205.96 229.522 Q2208.63 226.768 2213.21 222.138 Q2217.82 217.485 2219 216.143 Q2221.24 213.62 2222.12 211.884 Q2223.02 210.124 2223.02 208.435 Q2223.02 205.68 2221.08 203.944 Q2219.16 202.208 2216.06 202.208 Q2213.86 202.208 2211.4 202.972 Q2208.97 203.735 2206.2 205.286 L2206.2 200.564 Q2209.02 199.43 2211.47 198.851 Q2213.93 198.273 2215.96 198.273 Q2221.33 198.273 2224.53 200.958 Q2227.72 203.643 2227.72 208.134 Q2227.72 210.263 2226.91 212.185 Q2226.13 214.083 2224.02 216.675 Q2223.44 217.347 2220.34 220.564 Q2217.24 223.759 2211.59 229.522 Z\" fill=\"#000000\" fill-rule=\"evenodd\" fill-opacity=\"1\" /></svg>\n"
      ]
     },
     "execution_count": 96,
     "metadata": {},
     "output_type": "execute_result"
    }
   ],
   "source": [
    "plot(g,1,5)\n",
    "plot!(f,1,5)"
   ]
  },
  {
   "cell_type": "code",
   "execution_count": 97,
   "metadata": {},
   "outputs": [
    {
     "data": {
      "text/plain": [
       "1-element Array{Float64,1}:\n",
       " 3.92"
      ]
     },
     "execution_count": 97,
     "metadata": {},
     "output_type": "execute_result"
    }
   ],
   "source": [
    "# Find the points of extreme deviation:\n",
    "\n",
    "σ(t) = g(t) - f(t)\n",
    "Tmax = maximum(abs.(σ.(T)))\n",
    "T⁺ = T[findall(t -> σ(t) ≈ Tmax, T)]\n",
    "T⁻ = T[findall(t -> σ(t) ≈ -Tmax, T)]"
   ]
  },
  {
   "cell_type": "code",
   "execution_count": 98,
   "metadata": {},
   "outputs": [
    {
     "data": {
      "image/svg+xml": [
       "<?xml version=\"1.0\" encoding=\"utf-8\"?>\n",
       "<svg xmlns=\"http://www.w3.org/2000/svg\" xmlns:xlink=\"http://www.w3.org/1999/xlink\" width=\"600\" height=\"400\" viewBox=\"0 0 2400 1600\">\n",
       "<defs>\n",
       "  <clipPath id=\"clip170\">\n",
       "    <rect x=\"0\" y=\"0\" width=\"2400\" height=\"1600\"/>\n",
       "  </clipPath>\n",
       "</defs>\n",
       "<path clip-path=\"url(#clip170)\" d=\"\n",
       "M0 1600 L2400 1600 L2400 0 L0 0  Z\n",
       "  \" fill=\"#ffffff\" fill-rule=\"evenodd\" fill-opacity=\"1\"/>\n",
       "<defs>\n",
       "  <clipPath id=\"clip171\">\n",
       "    <rect x=\"480\" y=\"0\" width=\"1681\" height=\"1600\"/>\n",
       "  </clipPath>\n",
       "</defs>\n",
       "<path clip-path=\"url(#clip170)\" d=\"\n",
       "M233.681 1486.45 L2352.76 1486.45 L2352.76 47.2441 L233.681 47.2441  Z\n",
       "  \" fill=\"#ffffff\" fill-rule=\"evenodd\" fill-opacity=\"1\"/>\n",
       "<defs>\n",
       "  <clipPath id=\"clip172\">\n",
       "    <rect x=\"233\" y=\"47\" width=\"2120\" height=\"1440\"/>\n",
       "  </clipPath>\n",
       "</defs>\n",
       "<polyline clip-path=\"url(#clip172)\" style=\"stroke:#000000; stroke-width:2; stroke-opacity:0.1; fill:none\" points=\"\n",
       "  293.655,1486.45 293.655,47.2441 \n",
       "  \"/>\n",
       "<polyline clip-path=\"url(#clip172)\" style=\"stroke:#000000; stroke-width:2; stroke-opacity:0.1; fill:none\" points=\"\n",
       "  793.437,1486.45 793.437,47.2441 \n",
       "  \"/>\n",
       "<polyline clip-path=\"url(#clip172)\" style=\"stroke:#000000; stroke-width:2; stroke-opacity:0.1; fill:none\" points=\"\n",
       "  1293.22,1486.45 1293.22,47.2441 \n",
       "  \"/>\n",
       "<polyline clip-path=\"url(#clip172)\" style=\"stroke:#000000; stroke-width:2; stroke-opacity:0.1; fill:none\" points=\"\n",
       "  1793,1486.45 1793,47.2441 \n",
       "  \"/>\n",
       "<polyline clip-path=\"url(#clip172)\" style=\"stroke:#000000; stroke-width:2; stroke-opacity:0.1; fill:none\" points=\"\n",
       "  2292.78,1486.45 2292.78,47.2441 \n",
       "  \"/>\n",
       "<polyline clip-path=\"url(#clip170)\" style=\"stroke:#000000; stroke-width:4; stroke-opacity:1; fill:none\" points=\"\n",
       "  233.681,1486.45 2352.76,1486.45 \n",
       "  \"/>\n",
       "<polyline clip-path=\"url(#clip170)\" style=\"stroke:#000000; stroke-width:4; stroke-opacity:1; fill:none\" points=\"\n",
       "  293.655,1486.45 293.655,1469.18 \n",
       "  \"/>\n",
       "<polyline clip-path=\"url(#clip170)\" style=\"stroke:#000000; stroke-width:4; stroke-opacity:1; fill:none\" points=\"\n",
       "  793.437,1486.45 793.437,1469.18 \n",
       "  \"/>\n",
       "<polyline clip-path=\"url(#clip170)\" style=\"stroke:#000000; stroke-width:4; stroke-opacity:1; fill:none\" points=\"\n",
       "  1293.22,1486.45 1293.22,1469.18 \n",
       "  \"/>\n",
       "<polyline clip-path=\"url(#clip170)\" style=\"stroke:#000000; stroke-width:4; stroke-opacity:1; fill:none\" points=\"\n",
       "  1793,1486.45 1793,1469.18 \n",
       "  \"/>\n",
       "<polyline clip-path=\"url(#clip170)\" style=\"stroke:#000000; stroke-width:4; stroke-opacity:1; fill:none\" points=\"\n",
       "  2292.78,1486.45 2292.78,1469.18 \n",
       "  \"/>\n",
       "<path clip-path=\"url(#clip170)\" d=\"M 0 0 M284.037 1543.18 L291.676 1543.18 L291.676 1516.82 L283.366 1518.49 L283.366 1514.23 L291.63 1512.56 L296.305 1512.56 L296.305 1543.18 L303.944 1543.18 L303.944 1547.12 L284.037 1547.12 L284.037 1543.18 Z\" fill=\"#000000\" fill-rule=\"evenodd\" fill-opacity=\"1\" /><path clip-path=\"url(#clip170)\" d=\"M 0 0 M788.09 1543.18 L804.409 1543.18 L804.409 1547.12 L782.465 1547.12 L782.465 1543.18 Q785.127 1540.43 789.71 1535.8 Q794.316 1531.15 795.497 1529.81 Q797.742 1527.28 798.622 1525.55 Q799.525 1523.79 799.525 1522.1 Q799.525 1519.34 797.58 1517.61 Q795.659 1515.87 792.557 1515.87 Q790.358 1515.87 787.904 1516.63 Q785.474 1517.4 782.696 1518.95 L782.696 1514.23 Q785.52 1513.09 787.974 1512.51 Q790.428 1511.93 792.465 1511.93 Q797.835 1511.93 801.029 1514.62 Q804.224 1517.31 804.224 1521.8 Q804.224 1523.93 803.414 1525.85 Q802.627 1527.74 800.52 1530.34 Q799.941 1531.01 796.84 1534.23 Q793.738 1537.42 788.09 1543.18 Z\" fill=\"#000000\" fill-rule=\"evenodd\" fill-opacity=\"1\" /><path clip-path=\"url(#clip170)\" d=\"M 0 0 M1297.47 1528.49 Q1300.82 1529.2 1302.7 1531.47 Q1304.6 1533.74 1304.6 1537.07 Q1304.6 1542.19 1301.08 1544.99 Q1297.56 1547.79 1291.08 1547.79 Q1288.9 1547.79 1286.59 1547.35 Q1284.29 1546.93 1281.84 1546.08 L1281.84 1541.56 Q1283.79 1542.7 1286.1 1543.28 Q1288.42 1543.86 1290.94 1543.86 Q1295.34 1543.86 1297.63 1542.12 Q1299.94 1540.38 1299.94 1537.07 Q1299.94 1534.02 1297.79 1532.31 Q1295.66 1530.57 1291.84 1530.57 L1287.81 1530.57 L1287.81 1526.73 L1292.03 1526.73 Q1295.48 1526.73 1297.3 1525.36 Q1299.13 1523.97 1299.13 1521.38 Q1299.13 1518.72 1297.23 1517.31 Q1295.36 1515.87 1291.84 1515.87 Q1289.92 1515.87 1287.72 1516.29 Q1285.52 1516.7 1282.88 1517.58 L1282.88 1513.42 Q1285.54 1512.68 1287.86 1512.31 Q1290.2 1511.93 1292.26 1511.93 Q1297.58 1511.93 1300.68 1514.37 Q1303.79 1516.77 1303.79 1520.89 Q1303.79 1523.76 1302.14 1525.75 Q1300.5 1527.72 1297.47 1528.49 Z\" fill=\"#000000\" fill-rule=\"evenodd\" fill-opacity=\"1\" /><path clip-path=\"url(#clip170)\" d=\"M 0 0 M1796.01 1516.63 L1784.2 1535.08 L1796.01 1535.08 L1796.01 1516.63 M1794.78 1512.56 L1800.66 1512.56 L1800.66 1535.08 L1805.59 1535.08 L1805.59 1538.97 L1800.66 1538.97 L1800.66 1547.12 L1796.01 1547.12 L1796.01 1538.97 L1780.41 1538.97 L1780.41 1534.46 L1794.78 1512.56 Z\" fill=\"#000000\" fill-rule=\"evenodd\" fill-opacity=\"1\" /><path clip-path=\"url(#clip170)\" d=\"M 0 0 M2283.06 1512.56 L2301.42 1512.56 L2301.42 1516.5 L2287.34 1516.5 L2287.34 1524.97 Q2288.36 1524.62 2289.38 1524.46 Q2290.4 1524.27 2291.42 1524.27 Q2297.2 1524.27 2300.58 1527.44 Q2303.96 1530.62 2303.96 1536.03 Q2303.96 1541.61 2300.49 1544.71 Q2297.02 1547.79 2290.7 1547.79 Q2288.52 1547.79 2286.25 1547.42 Q2284.01 1547.05 2281.6 1546.31 L2281.6 1541.61 Q2283.68 1542.74 2285.91 1543.3 Q2288.13 1543.86 2290.61 1543.86 Q2294.61 1543.86 2296.95 1541.75 Q2299.29 1539.64 2299.29 1536.03 Q2299.29 1532.42 2296.95 1530.31 Q2294.61 1528.21 2290.61 1528.21 Q2288.73 1528.21 2286.86 1528.62 Q2285 1529.04 2283.06 1529.92 L2283.06 1512.56 Z\" fill=\"#000000\" fill-rule=\"evenodd\" fill-opacity=\"1\" /><polyline clip-path=\"url(#clip172)\" style=\"stroke:#000000; stroke-width:2; stroke-opacity:0.1; fill:none\" points=\"\n",
       "  233.681,1310.56 2352.76,1310.56 \n",
       "  \"/>\n",
       "<polyline clip-path=\"url(#clip172)\" style=\"stroke:#000000; stroke-width:2; stroke-opacity:0.1; fill:none\" points=\"\n",
       "  233.681,999.587 2352.76,999.587 \n",
       "  \"/>\n",
       "<polyline clip-path=\"url(#clip172)\" style=\"stroke:#000000; stroke-width:2; stroke-opacity:0.1; fill:none\" points=\"\n",
       "  233.681,688.618 2352.76,688.618 \n",
       "  \"/>\n",
       "<polyline clip-path=\"url(#clip172)\" style=\"stroke:#000000; stroke-width:2; stroke-opacity:0.1; fill:none\" points=\"\n",
       "  233.681,377.65 2352.76,377.65 \n",
       "  \"/>\n",
       "<polyline clip-path=\"url(#clip172)\" style=\"stroke:#000000; stroke-width:2; stroke-opacity:0.1; fill:none\" points=\"\n",
       "  233.681,66.6811 2352.76,66.6811 \n",
       "  \"/>\n",
       "<polyline clip-path=\"url(#clip170)\" style=\"stroke:#000000; stroke-width:4; stroke-opacity:1; fill:none\" points=\"\n",
       "  233.681,1486.45 233.681,47.2441 \n",
       "  \"/>\n",
       "<polyline clip-path=\"url(#clip170)\" style=\"stroke:#000000; stroke-width:4; stroke-opacity:1; fill:none\" points=\"\n",
       "  233.681,1310.56 259.11,1310.56 \n",
       "  \"/>\n",
       "<polyline clip-path=\"url(#clip170)\" style=\"stroke:#000000; stroke-width:4; stroke-opacity:1; fill:none\" points=\"\n",
       "  233.681,999.587 259.11,999.587 \n",
       "  \"/>\n",
       "<polyline clip-path=\"url(#clip170)\" style=\"stroke:#000000; stroke-width:4; stroke-opacity:1; fill:none\" points=\"\n",
       "  233.681,688.618 259.11,688.618 \n",
       "  \"/>\n",
       "<polyline clip-path=\"url(#clip170)\" style=\"stroke:#000000; stroke-width:4; stroke-opacity:1; fill:none\" points=\"\n",
       "  233.681,377.65 259.11,377.65 \n",
       "  \"/>\n",
       "<polyline clip-path=\"url(#clip170)\" style=\"stroke:#000000; stroke-width:4; stroke-opacity:1; fill:none\" points=\"\n",
       "  233.681,66.6811 259.11,66.6811 \n",
       "  \"/>\n",
       "<path clip-path=\"url(#clip170)\" d=\"M 0 0 M50.9921 1311.01 L80.6679 1311.01 L80.6679 1314.94 L50.9921 1314.94 L50.9921 1311.01 Z\" fill=\"#000000\" fill-rule=\"evenodd\" fill-opacity=\"1\" /><path clip-path=\"url(#clip170)\" d=\"M 0 0 M95.7373 1296.35 Q92.1262 1296.35 90.2975 1299.92 Q88.4919 1303.46 88.4919 1310.59 Q88.4919 1317.7 90.2975 1321.26 Q92.1262 1324.8 95.7373 1324.8 Q99.3715 1324.8 101.177 1321.26 Q103.006 1317.7 103.006 1310.59 Q103.006 1303.46 101.177 1299.92 Q99.3715 1296.35 95.7373 1296.35 M95.7373 1292.65 Q101.547 1292.65 104.603 1297.26 Q107.682 1301.84 107.682 1310.59 Q107.682 1319.32 104.603 1323.92 Q101.547 1328.51 95.7373 1328.51 Q89.9271 1328.51 86.8484 1323.92 Q83.7929 1319.32 83.7929 1310.59 Q83.7929 1301.84 86.8484 1297.26 Q89.9271 1292.65 95.7373 1292.65 Z\" fill=\"#000000\" fill-rule=\"evenodd\" fill-opacity=\"1\" /><path clip-path=\"url(#clip170)\" d=\"M 0 0 M112.751 1321.96 L117.635 1321.96 L117.635 1327.84 L112.751 1327.84 L112.751 1321.96 Z\" fill=\"#000000\" fill-rule=\"evenodd\" fill-opacity=\"1\" /><path clip-path=\"url(#clip170)\" d=\"M 0 0 M132.705 1296.35 Q129.094 1296.35 127.265 1299.92 Q125.459 1303.46 125.459 1310.59 Q125.459 1317.7 127.265 1321.26 Q129.094 1324.8 132.705 1324.8 Q136.339 1324.8 138.144 1321.26 Q139.973 1317.7 139.973 1310.59 Q139.973 1303.46 138.144 1299.92 Q136.339 1296.35 132.705 1296.35 M132.705 1292.65 Q138.515 1292.65 141.57 1297.26 Q144.649 1301.84 144.649 1310.59 Q144.649 1319.32 141.57 1323.92 Q138.515 1328.51 132.705 1328.51 Q126.894 1328.51 123.816 1323.92 Q120.76 1319.32 120.76 1310.59 Q120.76 1301.84 123.816 1297.26 Q126.894 1292.65 132.705 1292.65 Z\" fill=\"#000000\" fill-rule=\"evenodd\" fill-opacity=\"1\" /><path clip-path=\"url(#clip170)\" d=\"M 0 0 M149.765 1293.28 L168.121 1293.28 L168.121 1297.21 L154.047 1297.21 L154.047 1305.68 Q155.066 1305.34 156.084 1305.17 Q157.103 1304.99 158.121 1304.99 Q163.908 1304.99 167.288 1308.16 Q170.667 1311.33 170.667 1316.75 Q170.667 1322.33 167.195 1325.43 Q163.723 1328.51 157.404 1328.51 Q155.228 1328.51 152.959 1328.14 Q150.714 1327.77 148.306 1327.03 L148.306 1322.33 Q150.39 1323.46 152.612 1324.02 Q154.834 1324.57 157.311 1324.57 Q161.316 1324.57 163.654 1322.47 Q165.992 1320.36 165.992 1316.75 Q165.992 1313.14 163.654 1311.03 Q161.316 1308.92 157.311 1308.92 Q155.436 1308.92 153.561 1309.34 Q151.709 1309.76 149.765 1310.64 L149.765 1293.28 Z\" fill=\"#000000\" fill-rule=\"evenodd\" fill-opacity=\"1\" /><path clip-path=\"url(#clip170)\" d=\"M 0 0 M185.737 1296.35 Q182.126 1296.35 180.297 1299.92 Q178.491 1303.46 178.491 1310.59 Q178.491 1317.7 180.297 1321.26 Q182.126 1324.8 185.737 1324.8 Q189.371 1324.8 191.177 1321.26 Q193.005 1317.7 193.005 1310.59 Q193.005 1303.46 191.177 1299.92 Q189.371 1296.35 185.737 1296.35 M185.737 1292.65 Q191.547 1292.65 194.602 1297.26 Q197.681 1301.84 197.681 1310.59 Q197.681 1319.32 194.602 1323.92 Q191.547 1328.51 185.737 1328.51 Q179.927 1328.51 176.848 1323.92 Q173.792 1319.32 173.792 1310.59 Q173.792 1301.84 176.848 1297.26 Q179.927 1292.65 185.737 1292.65 Z\" fill=\"#000000\" fill-rule=\"evenodd\" fill-opacity=\"1\" /><path clip-path=\"url(#clip170)\" d=\"M 0 0 M52.5893 1000.04 L82.2651 1000.04 L82.2651 1003.97 L52.5893 1003.97 L52.5893 1000.04 Z\" fill=\"#000000\" fill-rule=\"evenodd\" fill-opacity=\"1\" /><path clip-path=\"url(#clip170)\" d=\"M 0 0 M97.3345 985.386 Q93.7234 985.386 91.8947 988.951 Q90.0891 992.492 90.0891 999.622 Q90.0891 1006.73 91.8947 1010.29 Q93.7234 1013.83 97.3345 1013.83 Q100.969 1013.83 102.774 1010.29 Q104.603 1006.73 104.603 999.622 Q104.603 992.492 102.774 988.951 Q100.969 985.386 97.3345 985.386 M97.3345 981.682 Q103.145 981.682 106.2 986.289 Q109.279 990.872 109.279 999.622 Q109.279 1008.35 106.2 1012.96 Q103.145 1017.54 97.3345 1017.54 Q91.5243 1017.54 88.4456 1012.96 Q85.3901 1008.35 85.3901 999.622 Q85.3901 990.872 88.4456 986.289 Q91.5243 981.682 97.3345 981.682 Z\" fill=\"#000000\" fill-rule=\"evenodd\" fill-opacity=\"1\" /><path clip-path=\"url(#clip170)\" d=\"M 0 0 M114.348 1010.99 L119.233 1010.99 L119.233 1016.87 L114.348 1016.87 L114.348 1010.99 Z\" fill=\"#000000\" fill-rule=\"evenodd\" fill-opacity=\"1\" /><path clip-path=\"url(#clip170)\" d=\"M 0 0 M134.302 985.386 Q130.691 985.386 128.862 988.951 Q127.057 992.492 127.057 999.622 Q127.057 1006.73 128.862 1010.29 Q130.691 1013.83 134.302 1013.83 Q137.936 1013.83 139.742 1010.29 Q141.57 1006.73 141.57 999.622 Q141.57 992.492 139.742 988.951 Q137.936 985.386 134.302 985.386 M134.302 981.682 Q140.112 981.682 143.168 986.289 Q146.246 990.872 146.246 999.622 Q146.246 1008.35 143.168 1012.96 Q140.112 1017.54 134.302 1017.54 Q128.492 1017.54 125.413 1012.96 Q122.357 1008.35 122.357 999.622 Q122.357 990.872 125.413 986.289 Q128.492 981.682 134.302 981.682 Z\" fill=\"#000000\" fill-rule=\"evenodd\" fill-opacity=\"1\" /><path clip-path=\"url(#clip170)\" d=\"M 0 0 M155.343 1012.93 L171.663 1012.93 L171.663 1016.87 L149.718 1016.87 L149.718 1012.93 Q152.38 1010.18 156.964 1005.55 Q161.57 1000.89 162.751 999.552 Q164.996 997.029 165.876 995.293 Q166.779 993.534 166.779 991.844 Q166.779 989.089 164.834 987.353 Q162.913 985.617 159.811 985.617 Q157.612 985.617 155.158 986.381 Q152.728 987.145 149.95 988.696 L149.95 983.974 Q152.774 982.84 155.228 982.261 Q157.681 981.682 159.718 981.682 Q165.089 981.682 168.283 984.367 Q171.478 987.052 171.478 991.543 Q171.478 993.673 170.667 995.594 Q169.88 997.492 167.774 1000.08 Q167.195 1000.76 164.093 1003.97 Q160.992 1007.17 155.343 1012.93 Z\" fill=\"#000000\" fill-rule=\"evenodd\" fill-opacity=\"1\" /><path clip-path=\"url(#clip170)\" d=\"M 0 0 M176.778 982.307 L195.135 982.307 L195.135 986.242 L181.061 986.242 L181.061 994.714 Q182.079 994.367 183.098 994.205 Q184.116 994.02 185.135 994.02 Q190.922 994.02 194.302 997.191 Q197.681 1000.36 197.681 1005.78 Q197.681 1011.36 194.209 1014.46 Q190.737 1017.54 184.417 1017.54 Q182.241 1017.54 179.973 1017.17 Q177.728 1016.8 175.32 1016.06 L175.32 1011.36 Q177.403 1012.49 179.626 1013.05 Q181.848 1013.6 184.325 1013.6 Q188.329 1013.6 190.667 1011.5 Q193.005 1009.39 193.005 1005.78 Q193.005 1002.17 190.667 1000.06 Q188.329 997.955 184.325 997.955 Q182.45 997.955 180.575 998.372 Q178.723 998.789 176.778 999.668 L176.778 982.307 Z\" fill=\"#000000\" fill-rule=\"evenodd\" fill-opacity=\"1\" /><path clip-path=\"url(#clip170)\" d=\"M 0 0 M94.7419 674.417 Q91.1308 674.417 89.3021 677.982 Q87.4966 681.524 87.4966 688.653 Q87.4966 695.76 89.3021 699.324 Q91.1308 702.866 94.7419 702.866 Q98.3761 702.866 100.182 699.324 Q102.01 695.76 102.01 688.653 Q102.01 681.524 100.182 677.982 Q98.3761 674.417 94.7419 674.417 M94.7419 670.713 Q100.552 670.713 103.608 675.32 Q106.686 679.903 106.686 688.653 Q106.686 697.38 103.608 701.986 Q100.552 706.57 94.7419 706.57 Q88.9317 706.57 85.8531 701.986 Q82.7975 697.38 82.7975 688.653 Q82.7975 679.903 85.8531 675.32 Q88.9317 670.713 94.7419 670.713 Z\" fill=\"#000000\" fill-rule=\"evenodd\" fill-opacity=\"1\" /><path clip-path=\"url(#clip170)\" d=\"M 0 0 M111.756 700.019 L116.64 700.019 L116.64 705.898 L111.756 705.898 L111.756 700.019 Z\" fill=\"#000000\" fill-rule=\"evenodd\" fill-opacity=\"1\" /><path clip-path=\"url(#clip170)\" d=\"M 0 0 M131.709 674.417 Q128.098 674.417 126.27 677.982 Q124.464 681.524 124.464 688.653 Q124.464 695.76 126.27 699.324 Q128.098 702.866 131.709 702.866 Q135.344 702.866 137.149 699.324 Q138.978 695.76 138.978 688.653 Q138.978 681.524 137.149 677.982 Q135.344 674.417 131.709 674.417 M131.709 670.713 Q137.519 670.713 140.575 675.32 Q143.654 679.903 143.654 688.653 Q143.654 697.38 140.575 701.986 Q137.519 706.57 131.709 706.57 Q125.899 706.57 122.82 701.986 Q119.765 697.38 119.765 688.653 Q119.765 679.903 122.82 675.32 Q125.899 670.713 131.709 670.713 Z\" fill=\"#000000\" fill-rule=\"evenodd\" fill-opacity=\"1\" /><path clip-path=\"url(#clip170)\" d=\"M 0 0 M158.723 674.417 Q155.112 674.417 153.283 677.982 Q151.478 681.524 151.478 688.653 Q151.478 695.76 153.283 699.324 Q155.112 702.866 158.723 702.866 Q162.357 702.866 164.163 699.324 Q165.992 695.76 165.992 688.653 Q165.992 681.524 164.163 677.982 Q162.357 674.417 158.723 674.417 M158.723 670.713 Q164.533 670.713 167.589 675.32 Q170.667 679.903 170.667 688.653 Q170.667 697.38 167.589 701.986 Q164.533 706.57 158.723 706.57 Q152.913 706.57 149.834 701.986 Q146.779 697.38 146.779 688.653 Q146.779 679.903 149.834 675.32 Q152.913 670.713 158.723 670.713 Z\" fill=\"#000000\" fill-rule=\"evenodd\" fill-opacity=\"1\" /><path clip-path=\"url(#clip170)\" d=\"M 0 0 M185.737 674.417 Q182.126 674.417 180.297 677.982 Q178.491 681.524 178.491 688.653 Q178.491 695.76 180.297 699.324 Q182.126 702.866 185.737 702.866 Q189.371 702.866 191.177 699.324 Q193.005 695.76 193.005 688.653 Q193.005 681.524 191.177 677.982 Q189.371 674.417 185.737 674.417 M185.737 670.713 Q191.547 670.713 194.602 675.32 Q197.681 679.903 197.681 688.653 Q197.681 697.38 194.602 701.986 Q191.547 706.57 185.737 706.57 Q179.927 706.57 176.848 701.986 Q173.792 697.38 173.792 688.653 Q173.792 679.903 176.848 675.32 Q179.927 670.713 185.737 670.713 Z\" fill=\"#000000\" fill-rule=\"evenodd\" fill-opacity=\"1\" /><path clip-path=\"url(#clip170)\" d=\"M 0 0 M97.3345 363.448 Q93.7234 363.448 91.8947 367.013 Q90.0891 370.555 90.0891 377.684 Q90.0891 384.791 91.8947 388.356 Q93.7234 391.897 97.3345 391.897 Q100.969 391.897 102.774 388.356 Q104.603 384.791 104.603 377.684 Q104.603 370.555 102.774 367.013 Q100.969 363.448 97.3345 363.448 M97.3345 359.745 Q103.145 359.745 106.2 364.351 Q109.279 368.935 109.279 377.684 Q109.279 386.411 106.2 391.018 Q103.145 395.601 97.3345 395.601 Q91.5243 395.601 88.4456 391.018 Q85.3901 386.411 85.3901 377.684 Q85.3901 368.935 88.4456 364.351 Q91.5243 359.745 97.3345 359.745 Z\" fill=\"#000000\" fill-rule=\"evenodd\" fill-opacity=\"1\" /><path clip-path=\"url(#clip170)\" d=\"M 0 0 M114.348 389.05 L119.233 389.05 L119.233 394.93 L114.348 394.93 L114.348 389.05 Z\" fill=\"#000000\" fill-rule=\"evenodd\" fill-opacity=\"1\" /><path clip-path=\"url(#clip170)\" d=\"M 0 0 M134.302 363.448 Q130.691 363.448 128.862 367.013 Q127.057 370.555 127.057 377.684 Q127.057 384.791 128.862 388.356 Q130.691 391.897 134.302 391.897 Q137.936 391.897 139.742 388.356 Q141.57 384.791 141.57 377.684 Q141.57 370.555 139.742 367.013 Q137.936 363.448 134.302 363.448 M134.302 359.745 Q140.112 359.745 143.168 364.351 Q146.246 368.935 146.246 377.684 Q146.246 386.411 143.168 391.018 Q140.112 395.601 134.302 395.601 Q128.492 395.601 125.413 391.018 Q122.357 386.411 122.357 377.684 Q122.357 368.935 125.413 364.351 Q128.492 359.745 134.302 359.745 Z\" fill=\"#000000\" fill-rule=\"evenodd\" fill-opacity=\"1\" /><path clip-path=\"url(#clip170)\" d=\"M 0 0 M155.343 390.995 L171.663 390.995 L171.663 394.93 L149.718 394.93 L149.718 390.995 Q152.38 388.24 156.964 383.61 Q161.57 378.958 162.751 377.615 Q164.996 375.092 165.876 373.356 Q166.779 371.597 166.779 369.907 Q166.779 367.152 164.834 365.416 Q162.913 363.68 159.811 363.68 Q157.612 363.68 155.158 364.444 Q152.728 365.208 149.95 366.759 L149.95 362.036 Q152.774 360.902 155.228 360.323 Q157.681 359.745 159.718 359.745 Q165.089 359.745 168.283 362.43 Q171.478 365.115 171.478 369.606 Q171.478 371.735 170.667 373.657 Q169.88 375.555 167.774 378.147 Q167.195 378.819 164.093 382.036 Q160.992 385.231 155.343 390.995 Z\" fill=\"#000000\" fill-rule=\"evenodd\" fill-opacity=\"1\" /><path clip-path=\"url(#clip170)\" d=\"M 0 0 M176.778 360.37 L195.135 360.37 L195.135 364.305 L181.061 364.305 L181.061 372.777 Q182.079 372.43 183.098 372.268 Q184.116 372.083 185.135 372.083 Q190.922 372.083 194.302 375.254 Q197.681 378.425 197.681 383.842 Q197.681 389.421 194.209 392.522 Q190.737 395.601 184.417 395.601 Q182.241 395.601 179.973 395.231 Q177.728 394.86 175.32 394.12 L175.32 389.421 Q177.403 390.555 179.626 391.11 Q181.848 391.666 184.325 391.666 Q188.329 391.666 190.667 389.559 Q193.005 387.453 193.005 383.842 Q193.005 380.231 190.667 378.124 Q188.329 376.018 184.325 376.018 Q182.45 376.018 180.575 376.434 Q178.723 376.851 176.778 377.731 L176.778 360.37 Z\" fill=\"#000000\" fill-rule=\"evenodd\" fill-opacity=\"1\" /><path clip-path=\"url(#clip170)\" d=\"M 0 0 M95.7373 52.4797 Q92.1262 52.4797 90.2975 56.0445 Q88.4919 59.5862 88.4919 66.7158 Q88.4919 73.8222 90.2975 77.387 Q92.1262 80.9287 95.7373 80.9287 Q99.3715 80.9287 101.177 77.387 Q103.006 73.8222 103.006 66.7158 Q103.006 59.5862 101.177 56.0445 Q99.3715 52.4797 95.7373 52.4797 M95.7373 48.7761 Q101.547 48.7761 104.603 53.3825 Q107.682 57.9658 107.682 66.7158 Q107.682 75.4426 104.603 80.049 Q101.547 84.6323 95.7373 84.6323 Q89.9271 84.6323 86.8484 80.049 Q83.7929 75.4426 83.7929 66.7158 Q83.7929 57.9658 86.8484 53.3825 Q89.9271 48.7761 95.7373 48.7761 Z\" fill=\"#000000\" fill-rule=\"evenodd\" fill-opacity=\"1\" /><path clip-path=\"url(#clip170)\" d=\"M 0 0 M112.751 78.0815 L117.635 78.0815 L117.635 83.9611 L112.751 83.9611 L112.751 78.0815 Z\" fill=\"#000000\" fill-rule=\"evenodd\" fill-opacity=\"1\" /><path clip-path=\"url(#clip170)\" d=\"M 0 0 M132.705 52.4797 Q129.094 52.4797 127.265 56.0445 Q125.459 59.5862 125.459 66.7158 Q125.459 73.8222 127.265 77.387 Q129.094 80.9287 132.705 80.9287 Q136.339 80.9287 138.144 77.387 Q139.973 73.8222 139.973 66.7158 Q139.973 59.5862 138.144 56.0445 Q136.339 52.4797 132.705 52.4797 M132.705 48.7761 Q138.515 48.7761 141.57 53.3825 Q144.649 57.9658 144.649 66.7158 Q144.649 75.4426 141.57 80.049 Q138.515 84.6323 132.705 84.6323 Q126.894 84.6323 123.816 80.049 Q120.76 75.4426 120.76 66.7158 Q120.76 57.9658 123.816 53.3825 Q126.894 48.7761 132.705 48.7761 Z\" fill=\"#000000\" fill-rule=\"evenodd\" fill-opacity=\"1\" /><path clip-path=\"url(#clip170)\" d=\"M 0 0 M149.765 49.4011 L168.121 49.4011 L168.121 53.3362 L154.047 53.3362 L154.047 61.8084 Q155.066 61.4612 156.084 61.2991 Q157.103 61.114 158.121 61.114 Q163.908 61.114 167.288 64.2852 Q170.667 67.4565 170.667 72.8731 Q170.667 78.4518 167.195 81.5537 Q163.723 84.6323 157.404 84.6323 Q155.228 84.6323 152.959 84.262 Q150.714 83.8916 148.306 83.1509 L148.306 78.4518 Q150.39 79.5861 152.612 80.1416 Q154.834 80.6972 157.311 80.6972 Q161.316 80.6972 163.654 78.5907 Q165.992 76.4842 165.992 72.8731 Q165.992 69.2621 163.654 67.1556 Q161.316 65.0491 157.311 65.0491 Q155.436 65.0491 153.561 65.4658 Q151.709 65.8824 149.765 66.7621 L149.765 49.4011 Z\" fill=\"#000000\" fill-rule=\"evenodd\" fill-opacity=\"1\" /><path clip-path=\"url(#clip170)\" d=\"M 0 0 M185.737 52.4797 Q182.126 52.4797 180.297 56.0445 Q178.491 59.5862 178.491 66.7158 Q178.491 73.8222 180.297 77.387 Q182.126 80.9287 185.737 80.9287 Q189.371 80.9287 191.177 77.387 Q193.005 73.8222 193.005 66.7158 Q193.005 59.5862 191.177 56.0445 Q189.371 52.4797 185.737 52.4797 M185.737 48.7761 Q191.547 48.7761 194.602 53.3825 Q197.681 57.9658 197.681 66.7158 Q197.681 75.4426 194.602 80.049 Q191.547 84.6323 185.737 84.6323 Q179.927 84.6323 176.848 80.049 Q173.792 75.4426 173.792 66.7158 Q173.792 57.9658 176.848 53.3825 Q179.927 48.7761 185.737 48.7761 Z\" fill=\"#000000\" fill-rule=\"evenodd\" fill-opacity=\"1\" /><polyline clip-path=\"url(#clip172)\" style=\"stroke:#009af9; stroke-width:4; stroke-opacity:1; fill:none\" points=\"\n",
       "  293.655,448.772 298.536,482.119 303.417,513.258 308.297,542.283 313.178,569.281 324.461,624.408 335.743,670.182 347.025,707.543 358.308,737.362 369.59,760.441 \n",
       "  380.873,777.522 392.155,789.284 403.438,796.352 426.003,798.643 448.568,788.408 471.133,768.982 493.697,743.121 547.94,667.333 602.182,588.996 648.043,530.649 \n",
       "  693.904,484.316 743.723,450.185 793.541,433.861 839.469,434.351 885.396,448.895 934.636,478.722 983.875,521.557 1040.92,584.932 1097.97,660.138 1199.37,813.493 \n",
       "  1288.29,957.548 1385.23,1111.64 1482.75,1250.56 1536.65,1315.73 1590.56,1369.92 1641.86,1409.39 1693.15,1435.22 1719.82,1442.66 1746.48,1445.68 1773.15,1444.02 \n",
       "  1799.82,1437.42 1822.26,1427.85 1844.71,1414.44 1867.16,1397.03 1889.61,1375.47 1917.01,1343.28 1944.42,1304.37 1971.83,1258.43 1999.23,1205.15 2024.99,1148.11 \n",
       "  2050.76,1084.06 2076.52,1012.72 2102.28,933.833 2122.92,865.002 2143.55,791 2164.19,711.677 2184.83,626.884 2205.46,536.466 2226.1,440.266 2246.74,338.124 \n",
       "  2267.37,229.878 2273.73,195.306 2280.08,160.135 2286.43,124.36 2292.78,87.9763 \n",
       "  \"/>\n",
       "<circle clip-path=\"url(#clip172)\" cx=\"1753.02\" cy=\"1445.72\" r=\"14\" fill=\"#3da44d\" fill-rule=\"evenodd\" fill-opacity=\"1\" stroke=\"#000000\" stroke-opacity=\"1\" stroke-width=\"3.2\"/>\n",
       "<path clip-path=\"url(#clip170)\" d=\"\n",
       "M1995.07 337.138 L2282.12 337.138 L2282.12 95.2176 L1995.07 95.2176  Z\n",
       "  \" fill=\"#ffffff\" fill-rule=\"evenodd\" fill-opacity=\"1\"/>\n",
       "<polyline clip-path=\"url(#clip170)\" style=\"stroke:#000000; stroke-width:4; stroke-opacity:1; fill:none\" points=\"\n",
       "  1995.07,337.138 2282.12,337.138 2282.12,95.2176 1995.07,95.2176 1995.07,337.138 \n",
       "  \"/>\n",
       "<polyline clip-path=\"url(#clip170)\" style=\"stroke:#009af9; stroke-width:4; stroke-opacity:1; fill:none\" points=\"\n",
       "  2018.62,155.698 2159.89,155.698 \n",
       "  \"/>\n",
       "<path clip-path=\"url(#clip170)\" d=\"M 0 0 M2197.28 175.385 Q2195.47 180.015 2193.76 181.427 Q2192.04 182.839 2189.17 182.839 L2185.77 182.839 L2185.77 179.274 L2188.27 179.274 Q2190.03 179.274 2191 178.44 Q2191.97 177.607 2193.15 174.505 L2193.92 172.561 L2183.43 147.052 L2187.95 147.052 L2196.05 167.329 L2204.15 147.052 L2208.66 147.052 L2197.28 175.385 Z\" fill=\"#000000\" fill-rule=\"evenodd\" fill-opacity=\"1\" /><path clip-path=\"url(#clip170)\" d=\"M 0 0 M2214.54 169.042 L2222.18 169.042 L2222.18 142.677 L2213.87 144.343 L2213.87 140.084 L2222.14 138.418 L2226.81 138.418 L2226.81 169.042 L2234.45 169.042 L2234.45 172.978 L2214.54 172.978 L2214.54 169.042 Z\" fill=\"#000000\" fill-rule=\"evenodd\" fill-opacity=\"1\" /><path clip-path=\"url(#clip170)\" d=\"M 0 0 M2197.28 235.865 Q2195.47 240.495 2193.76 241.907 Q2192.04 243.319 2189.17 243.319 L2185.77 243.319 L2185.77 239.754 L2188.27 239.754 Q2190.03 239.754 2191 238.92 Q2191.97 238.087 2193.15 234.985 L2193.92 233.041 L2183.43 207.532 L2187.95 207.532 L2196.05 227.809 L2204.15 207.532 L2208.66 207.532 L2197.28 235.865 Z\" fill=\"#000000\" fill-rule=\"evenodd\" fill-opacity=\"1\" /><path clip-path=\"url(#clip170)\" d=\"M 0 0 M2217.76 229.522 L2234.08 229.522 L2234.08 233.458 L2212.14 233.458 L2212.14 229.522 Q2214.8 226.768 2219.38 222.138 Q2223.99 217.485 2225.17 216.143 Q2227.41 213.62 2228.29 211.884 Q2229.2 210.124 2229.2 208.435 Q2229.2 205.68 2227.25 203.944 Q2225.33 202.208 2222.23 202.208 Q2220.03 202.208 2217.58 202.972 Q2215.15 203.735 2212.37 205.286 L2212.37 200.564 Q2215.19 199.43 2217.65 198.851 Q2220.1 198.273 2222.14 198.273 Q2227.51 198.273 2230.7 200.958 Q2233.9 203.643 2233.9 208.134 Q2233.9 210.263 2233.09 212.185 Q2232.3 214.083 2230.19 216.675 Q2229.61 217.347 2226.51 220.564 Q2223.41 223.759 2217.76 229.522 Z\" fill=\"#000000\" fill-rule=\"evenodd\" fill-opacity=\"1\" /><circle clip-path=\"url(#clip170)\" cx=\"2089.25\" cy=\"276.658\" r=\"23\" fill=\"#3da44d\" fill-rule=\"evenodd\" fill-opacity=\"1\" stroke=\"#000000\" stroke-opacity=\"1\" stroke-width=\"5.12\"/>\n",
       "<path clip-path=\"url(#clip170)\" d=\"M 0 0 M2197.28 296.345 Q2195.47 300.975 2193.76 302.387 Q2192.04 303.799 2189.17 303.799 L2185.77 303.799 L2185.77 300.234 L2188.27 300.234 Q2190.03 300.234 2191 299.4 Q2191.97 298.567 2193.15 295.465 L2193.92 293.521 L2183.43 268.012 L2187.95 268.012 L2196.05 288.289 L2204.15 268.012 L2208.66 268.012 L2197.28 296.345 Z\" fill=\"#000000\" fill-rule=\"evenodd\" fill-opacity=\"1\" /><path clip-path=\"url(#clip170)\" d=\"M 0 0 M2227.9 275.303 Q2231.26 276.021 2233.13 278.289 Q2235.03 280.558 2235.03 283.891 Q2235.03 289.007 2231.51 291.808 Q2227.99 294.609 2221.51 294.609 Q2219.34 294.609 2217.02 294.169 Q2214.73 293.752 2212.28 292.896 L2212.28 288.382 Q2214.22 289.516 2216.53 290.095 Q2218.85 290.674 2221.37 290.674 Q2225.77 290.674 2228.06 288.938 Q2230.38 287.201 2230.38 283.891 Q2230.38 280.836 2228.22 279.123 Q2226.09 277.387 2222.27 277.387 L2218.25 277.387 L2218.25 273.544 L2222.46 273.544 Q2225.91 273.544 2227.74 272.178 Q2229.57 270.79 2229.57 268.197 Q2229.57 265.535 2227.67 264.123 Q2225.79 262.688 2222.27 262.688 Q2220.35 262.688 2218.15 263.104 Q2215.96 263.521 2213.32 264.401 L2213.32 260.234 Q2215.98 259.493 2218.29 259.123 Q2220.63 258.753 2222.69 258.753 Q2228.02 258.753 2231.12 261.183 Q2234.22 263.59 2234.22 267.711 Q2234.22 270.581 2232.58 272.572 Q2230.93 274.54 2227.9 275.303 Z\" fill=\"#000000\" fill-rule=\"evenodd\" fill-opacity=\"1\" /></svg>\n"
      ]
     },
     "execution_count": 98,
     "metadata": {},
     "output_type": "execute_result"
    }
   ],
   "source": [
    "plot(σ,1,5)\n",
    "scatter!(T⁺,σ.(T⁺))\n",
    "scatter!(T⁻,σ.(T⁻))"
   ]
  },
  {
   "cell_type": "code",
   "execution_count": null,
   "metadata": {},
   "outputs": [],
   "source": []
  }
 ],
 "metadata": {
  "kernelspec": {
   "display_name": "Julia 1.5.2",
   "language": "julia",
   "name": "julia-1.5"
  },
  "language_info": {
   "file_extension": ".jl",
   "mimetype": "application/julia",
   "name": "julia",
   "version": "1.5.2"
  }
 },
 "nbformat": 4,
 "nbformat_minor": 4
}
