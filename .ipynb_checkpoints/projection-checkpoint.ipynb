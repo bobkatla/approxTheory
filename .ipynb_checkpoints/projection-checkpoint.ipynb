{
 "cells": [
  {
   "cell_type": "markdown",
   "metadata": {},
   "source": [
    "# Alternative projection"
   ]
  },
  {
   "cell_type": "code",
   "execution_count": 1,
   "metadata": {},
   "outputs": [],
   "source": [
    "# Getting all the required library\n",
    "# using JuMP\n",
    "# using GLPK\n",
    "using Plots"
   ]
  },
  {
   "cell_type": "code",
   "execution_count": 2,
   "metadata": {},
   "outputs": [
    {
     "data": {
      "text/plain": [
       "vander (generic function with 1 method)"
      ]
     },
     "execution_count": 2,
     "metadata": {},
     "output_type": "execute_result"
    }
   ],
   "source": [
    "# Create the vander function for creating a form of representing the vectors and calculations\n",
    "vander(t,n) = hcat([t.^i for i = 0:n-1]...)"
   ]
  },
  {
   "cell_type": "code",
   "execution_count": 52,
   "metadata": {},
   "outputs": [
    {
     "data": {
      "text/plain": [
       "f (generic function with 1 method)"
      ]
     },
     "execution_count": 52,
     "metadata": {},
     "output_type": "execute_result"
    }
   ],
   "source": [
    "# Setting the parameters\n",
    "T=1:0.01:5 # Interpolation points, note it has to be different from 0 so it's best to pick from 1\n",
    "(n, m) = (5, 6) # The power of the 2 poly in the rational functions\n",
    "hy_space_sz = n+m+2\n",
    "# N = 10\n",
    "# c = rand(N)\n",
    "# f(t) = sum([c[i]*sin(π*i*(t+0.25)) for i in 1:N]) # Function to approximate\n",
    "\n",
    "f(t) = (t^3+3)/(t^2 + 1) #function simple to test"
   ]
  },
  {
   "cell_type": "code",
   "execution_count": 53,
   "metadata": {},
   "outputs": [
    {
     "data": {
      "image/svg+xml": [
       "<?xml version=\"1.0\" encoding=\"utf-8\"?>\n",
       "<svg xmlns=\"http://www.w3.org/2000/svg\" xmlns:xlink=\"http://www.w3.org/1999/xlink\" width=\"600\" height=\"400\" viewBox=\"0 0 2400 1600\">\n",
       "<defs>\n",
       "  <clipPath id=\"clip930\">\n",
       "    <rect x=\"0\" y=\"0\" width=\"2400\" height=\"1600\"/>\n",
       "  </clipPath>\n",
       "</defs>\n",
       "<path clip-path=\"url(#clip930)\" d=\"\n",
       "M0 1600 L2400 1600 L2400 0 L0 0  Z\n",
       "  \" fill=\"#ffffff\" fill-rule=\"evenodd\" fill-opacity=\"1\"/>\n",
       "<defs>\n",
       "  <clipPath id=\"clip931\">\n",
       "    <rect x=\"480\" y=\"0\" width=\"1681\" height=\"1600\"/>\n",
       "  </clipPath>\n",
       "</defs>\n",
       "<path clip-path=\"url(#clip930)\" d=\"\n",
       "M112.177 1486.45 L2352.76 1486.45 L2352.76 47.2441 L112.177 47.2441  Z\n",
       "  \" fill=\"#ffffff\" fill-rule=\"evenodd\" fill-opacity=\"1\"/>\n",
       "<defs>\n",
       "  <clipPath id=\"clip932\">\n",
       "    <rect x=\"112\" y=\"47\" width=\"2242\" height=\"1440\"/>\n",
       "  </clipPath>\n",
       "</defs>\n",
       "<polyline clip-path=\"url(#clip932)\" style=\"stroke:#000000; stroke-width:2; stroke-opacity:0.1; fill:none\" points=\"\n",
       "  175.59,1486.45 175.59,47.2441 \n",
       "  \"/>\n",
       "<polyline clip-path=\"url(#clip932)\" style=\"stroke:#000000; stroke-width:2; stroke-opacity:0.1; fill:none\" points=\"\n",
       "  704.028,1486.45 704.028,47.2441 \n",
       "  \"/>\n",
       "<polyline clip-path=\"url(#clip932)\" style=\"stroke:#000000; stroke-width:2; stroke-opacity:0.1; fill:none\" points=\"\n",
       "  1232.47,1486.45 1232.47,47.2441 \n",
       "  \"/>\n",
       "<polyline clip-path=\"url(#clip932)\" style=\"stroke:#000000; stroke-width:2; stroke-opacity:0.1; fill:none\" points=\"\n",
       "  1760.9,1486.45 1760.9,47.2441 \n",
       "  \"/>\n",
       "<polyline clip-path=\"url(#clip932)\" style=\"stroke:#000000; stroke-width:2; stroke-opacity:0.1; fill:none\" points=\"\n",
       "  2289.34,1486.45 2289.34,47.2441 \n",
       "  \"/>\n",
       "<polyline clip-path=\"url(#clip930)\" style=\"stroke:#000000; stroke-width:4; stroke-opacity:1; fill:none\" points=\"\n",
       "  112.177,1486.45 2352.76,1486.45 \n",
       "  \"/>\n",
       "<polyline clip-path=\"url(#clip930)\" style=\"stroke:#000000; stroke-width:4; stroke-opacity:1; fill:none\" points=\"\n",
       "  175.59,1486.45 175.59,1469.18 \n",
       "  \"/>\n",
       "<polyline clip-path=\"url(#clip930)\" style=\"stroke:#000000; stroke-width:4; stroke-opacity:1; fill:none\" points=\"\n",
       "  704.028,1486.45 704.028,1469.18 \n",
       "  \"/>\n",
       "<polyline clip-path=\"url(#clip930)\" style=\"stroke:#000000; stroke-width:4; stroke-opacity:1; fill:none\" points=\"\n",
       "  1232.47,1486.45 1232.47,1469.18 \n",
       "  \"/>\n",
       "<polyline clip-path=\"url(#clip930)\" style=\"stroke:#000000; stroke-width:4; stroke-opacity:1; fill:none\" points=\"\n",
       "  1760.9,1486.45 1760.9,1469.18 \n",
       "  \"/>\n",
       "<polyline clip-path=\"url(#clip930)\" style=\"stroke:#000000; stroke-width:4; stroke-opacity:1; fill:none\" points=\"\n",
       "  2289.34,1486.45 2289.34,1469.18 \n",
       "  \"/>\n",
       "<path clip-path=\"url(#clip930)\" d=\"M 0 0 M165.972 1543.18 L173.611 1543.18 L173.611 1516.82 L165.3 1518.49 L165.3 1514.23 L173.564 1512.56 L178.24 1512.56 L178.24 1543.18 L185.879 1543.18 L185.879 1547.12 L165.972 1547.12 L165.972 1543.18 Z\" fill=\"#000000\" fill-rule=\"evenodd\" fill-opacity=\"1\" /><path clip-path=\"url(#clip930)\" d=\"M 0 0 M698.681 1543.18 L715 1543.18 L715 1547.12 L693.056 1547.12 L693.056 1543.18 Q695.718 1540.43 700.301 1535.8 Q704.908 1531.15 706.088 1529.81 Q708.334 1527.28 709.213 1525.55 Q710.116 1523.79 710.116 1522.1 Q710.116 1519.34 708.172 1517.61 Q706.25 1515.87 703.149 1515.87 Q700.949 1515.87 698.496 1516.63 Q696.065 1517.4 693.287 1518.95 L693.287 1514.23 Q696.112 1513.09 698.565 1512.51 Q701.019 1511.93 703.056 1511.93 Q708.426 1511.93 711.621 1514.62 Q714.815 1517.31 714.815 1521.8 Q714.815 1523.93 714.005 1525.85 Q713.218 1527.74 711.111 1530.34 Q710.533 1531.01 707.431 1534.23 Q704.329 1537.42 698.681 1543.18 Z\" fill=\"#000000\" fill-rule=\"evenodd\" fill-opacity=\"1\" /><path clip-path=\"url(#clip930)\" d=\"M 0 0 M1236.71 1528.49 Q1240.07 1529.2 1241.95 1531.47 Q1243.84 1533.74 1243.84 1537.07 Q1243.84 1542.19 1240.33 1544.99 Q1236.81 1547.79 1230.33 1547.79 Q1228.15 1547.79 1225.83 1547.35 Q1223.54 1546.93 1221.09 1546.08 L1221.09 1541.56 Q1223.03 1542.7 1225.35 1543.28 Q1227.66 1543.86 1230.19 1543.86 Q1234.58 1543.86 1236.88 1542.12 Q1239.19 1540.38 1239.19 1537.07 Q1239.19 1534.02 1237.04 1532.31 Q1234.91 1530.57 1231.09 1530.57 L1227.06 1530.57 L1227.06 1526.73 L1231.27 1526.73 Q1234.72 1526.73 1236.55 1525.36 Q1238.38 1523.97 1238.38 1521.38 Q1238.38 1518.72 1236.48 1517.31 Q1234.61 1515.87 1231.09 1515.87 Q1229.17 1515.87 1226.97 1516.29 Q1224.77 1516.7 1222.13 1517.58 L1222.13 1513.42 Q1224.79 1512.68 1227.11 1512.31 Q1229.45 1511.93 1231.51 1511.93 Q1236.83 1511.93 1239.93 1514.37 Q1243.03 1516.77 1243.03 1520.89 Q1243.03 1523.76 1241.39 1525.75 Q1239.75 1527.72 1236.71 1528.49 Z\" fill=\"#000000\" fill-rule=\"evenodd\" fill-opacity=\"1\" /><path clip-path=\"url(#clip930)\" d=\"M 0 0 M1763.91 1516.63 L1752.11 1535.08 L1763.91 1535.08 L1763.91 1516.63 M1762.69 1512.56 L1768.57 1512.56 L1768.57 1535.08 L1773.5 1535.08 L1773.5 1538.97 L1768.57 1538.97 L1768.57 1547.12 L1763.91 1547.12 L1763.91 1538.97 L1748.31 1538.97 L1748.31 1534.46 L1762.69 1512.56 Z\" fill=\"#000000\" fill-rule=\"evenodd\" fill-opacity=\"1\" /><path clip-path=\"url(#clip930)\" d=\"M 0 0 M2279.62 1512.56 L2297.98 1512.56 L2297.98 1516.5 L2283.9 1516.5 L2283.9 1524.97 Q2284.92 1524.62 2285.94 1524.46 Q2286.96 1524.27 2287.98 1524.27 Q2293.76 1524.27 2297.14 1527.44 Q2300.52 1530.62 2300.52 1536.03 Q2300.52 1541.61 2297.05 1544.71 Q2293.58 1547.79 2287.26 1547.79 Q2285.08 1547.79 2282.82 1547.42 Q2280.57 1547.05 2278.16 1546.31 L2278.16 1541.61 Q2280.25 1542.74 2282.47 1543.3 Q2284.69 1543.86 2287.17 1543.86 Q2291.17 1543.86 2293.51 1541.75 Q2295.85 1539.64 2295.85 1536.03 Q2295.85 1532.42 2293.51 1530.31 Q2291.17 1528.21 2287.17 1528.21 Q2285.29 1528.21 2283.42 1528.62 Q2281.57 1529.04 2279.62 1529.92 L2279.62 1512.56 Z\" fill=\"#000000\" fill-rule=\"evenodd\" fill-opacity=\"1\" /><polyline clip-path=\"url(#clip932)\" style=\"stroke:#000000; stroke-width:2; stroke-opacity:0.1; fill:none\" points=\"\n",
       "  112.177,1416.34 2352.76,1416.34 \n",
       "  \"/>\n",
       "<polyline clip-path=\"url(#clip932)\" style=\"stroke:#000000; stroke-width:2; stroke-opacity:0.1; fill:none\" points=\"\n",
       "  112.177,961.898 2352.76,961.898 \n",
       "  \"/>\n",
       "<polyline clip-path=\"url(#clip932)\" style=\"stroke:#000000; stroke-width:2; stroke-opacity:0.1; fill:none\" points=\"\n",
       "  112.177,507.459 2352.76,507.459 \n",
       "  \"/>\n",
       "<polyline clip-path=\"url(#clip932)\" style=\"stroke:#000000; stroke-width:2; stroke-opacity:0.1; fill:none\" points=\"\n",
       "  112.177,53.0194 2352.76,53.0194 \n",
       "  \"/>\n",
       "<polyline clip-path=\"url(#clip930)\" style=\"stroke:#000000; stroke-width:4; stroke-opacity:1; fill:none\" points=\"\n",
       "  112.177,1486.45 112.177,47.2441 \n",
       "  \"/>\n",
       "<polyline clip-path=\"url(#clip930)\" style=\"stroke:#000000; stroke-width:4; stroke-opacity:1; fill:none\" points=\"\n",
       "  112.177,1416.34 139.064,1416.34 \n",
       "  \"/>\n",
       "<polyline clip-path=\"url(#clip930)\" style=\"stroke:#000000; stroke-width:4; stroke-opacity:1; fill:none\" points=\"\n",
       "  112.177,961.898 139.064,961.898 \n",
       "  \"/>\n",
       "<polyline clip-path=\"url(#clip930)\" style=\"stroke:#000000; stroke-width:4; stroke-opacity:1; fill:none\" points=\"\n",
       "  112.177,507.459 139.064,507.459 \n",
       "  \"/>\n",
       "<polyline clip-path=\"url(#clip930)\" style=\"stroke:#000000; stroke-width:4; stroke-opacity:1; fill:none\" points=\"\n",
       "  112.177,53.0194 139.064,53.0194 \n",
       "  \"/>\n",
       "<path clip-path=\"url(#clip930)\" d=\"M 0 0 M59.8578 1429.68 L76.1772 1429.68 L76.1772 1433.62 L54.2328 1433.62 L54.2328 1429.68 Q56.8949 1426.93 61.4782 1422.3 Q66.0846 1417.65 67.2652 1416.3 Q69.5105 1413.78 70.3902 1412.04 Q71.2929 1410.28 71.2929 1408.6 Q71.2929 1405.84 69.3485 1404.1 Q67.4272 1402.37 64.3254 1402.37 Q62.1263 1402.37 59.6726 1403.13 Q57.2421 1403.9 54.4643 1405.45 L54.4643 1400.72 Q57.2884 1399.59 59.7421 1399.01 Q62.1958 1398.43 64.2328 1398.43 Q69.6031 1398.43 72.7976 1401.12 Q75.992 1403.8 75.992 1408.29 Q75.992 1410.42 75.1818 1412.35 Q74.3948 1414.24 72.2883 1416.84 Q71.7096 1417.51 68.6078 1420.72 Q65.5059 1423.92 59.8578 1429.68 Z\" fill=\"#000000\" fill-rule=\"evenodd\" fill-opacity=\"1\" /><path clip-path=\"url(#clip930)\" d=\"M 0 0 M69.0476 960.544 Q72.404 961.262 74.279 963.53 Q76.1772 965.799 76.1772 969.132 Q76.1772 974.248 72.6587 977.049 Q69.1402 979.85 62.6587 979.85 Q60.4828 979.85 58.168 979.41 Q55.8764 978.993 53.4227 978.137 L53.4227 973.623 Q55.3671 974.757 57.6819 975.336 Q59.9967 975.915 62.5198 975.915 Q66.918 975.915 69.2096 974.179 Q71.5244 972.442 71.5244 969.132 Q71.5244 966.077 69.3717 964.364 Q67.242 962.628 63.4226 962.628 L59.3949 962.628 L59.3949 958.785 L63.6078 958.785 Q67.0569 958.785 68.8855 957.419 Q70.7142 956.03 70.7142 953.438 Q70.7142 950.776 68.8161 949.364 Q66.9411 947.929 63.4226 947.929 Q61.5013 947.929 59.3023 948.345 Q57.1032 948.762 54.4643 949.642 L54.4643 945.475 Q57.1264 944.734 59.4412 944.364 Q61.7791 943.994 63.8393 943.994 Q69.1633 943.994 72.2652 946.424 Q75.367 948.831 75.367 952.952 Q75.367 955.822 73.7235 957.813 Q72.08 959.78 69.0476 960.544 Z\" fill=\"#000000\" fill-rule=\"evenodd\" fill-opacity=\"1\" /><path clip-path=\"url(#clip930)\" d=\"M 0 0 M66.5939 494.253 L54.7884 512.702 L66.5939 512.702 L66.5939 494.253 M65.367 490.179 L71.2466 490.179 L71.2466 512.702 L76.1772 512.702 L76.1772 516.591 L71.2466 516.591 L71.2466 524.739 L66.5939 524.739 L66.5939 516.591 L50.9921 516.591 L50.9921 512.077 L65.367 490.179 Z\" fill=\"#000000\" fill-rule=\"evenodd\" fill-opacity=\"1\" /><path clip-path=\"url(#clip930)\" d=\"M 0 0 M55.2745 35.7394 L73.6309 35.7394 L73.6309 39.6746 L59.5569 39.6746 L59.5569 48.1467 Q60.5754 47.7995 61.5939 47.6375 Q62.6124 47.4523 63.6309 47.4523 Q69.418 47.4523 72.7976 50.6236 Q76.1772 53.7948 76.1772 59.2115 Q76.1772 64.7902 72.705 67.892 Q69.2328 70.9707 62.9134 70.9707 Q60.7374 70.9707 58.4689 70.6003 Q56.2236 70.2299 53.8162 69.4892 L53.8162 64.7902 Q55.8995 65.9244 58.1217 66.48 Q60.3439 67.0355 62.8208 67.0355 Q66.8254 67.0355 69.1633 64.929 Q71.5013 62.8226 71.5013 59.2115 Q71.5013 55.6004 69.1633 53.4939 Q66.8254 51.3875 62.8208 51.3875 Q60.9458 51.3875 59.0708 51.8041 Q57.2189 52.2208 55.2745 53.1004 L55.2745 35.7394 Z\" fill=\"#000000\" fill-rule=\"evenodd\" fill-opacity=\"1\" /><polyline clip-path=\"url(#clip932)\" style=\"stroke:#009af9; stroke-width:4; stroke-opacity:1; fill:none\" points=\"\n",
       "  175.59,1416.34 185.911,1420.6 196.232,1424.53 291.667,1445.72 387.102,1443.34 444.455,1432.73 501.807,1416.46 550.298,1398.92 598.789,1378.41 704.138,1325.39 \n",
       "  801.261,1268.45 905.386,1201 1026.03,1116.7 1133.24,1037.65 1227.25,965.933 1329.75,885.748 1432.86,803.443 1546.86,710.947 1655.33,621.8 1768.11,528.184 \n",
       "  1863.05,448.797 1978.96,351.297 2087.92,259.177 2262.48,110.866 2289.34,87.9763 \n",
       "  \"/>\n",
       "<path clip-path=\"url(#clip930)\" d=\"\n",
       "M1978.1 216.178 L2278.07 216.178 L2278.07 95.2176 L1978.1 95.2176  Z\n",
       "  \" fill=\"#ffffff\" fill-rule=\"evenodd\" fill-opacity=\"1\"/>\n",
       "<polyline clip-path=\"url(#clip930)\" style=\"stroke:#000000; stroke-width:4; stroke-opacity:1; fill:none\" points=\"\n",
       "  1978.1,216.178 2278.07,216.178 2278.07,95.2176 1978.1,95.2176 1978.1,216.178 \n",
       "  \"/>\n",
       "<polyline clip-path=\"url(#clip930)\" style=\"stroke:#009af9; stroke-width:4; stroke-opacity:1; fill:none\" points=\"\n",
       "  2002.99,155.698 2152.37,155.698 \n",
       "  \"/>\n",
       "<path clip-path=\"url(#clip930)\" d=\"M 0 0 M2191.1 175.385 Q2189.3 180.015 2187.59 181.427 Q2185.87 182.839 2183 182.839 L2179.6 182.839 L2179.6 179.274 L2182.1 179.274 Q2183.86 179.274 2184.83 178.44 Q2185.8 177.607 2186.98 174.505 L2187.75 172.561 L2177.26 147.052 L2181.77 147.052 L2189.88 167.329 L2197.98 147.052 L2202.49 147.052 L2191.1 175.385 Z\" fill=\"#000000\" fill-rule=\"evenodd\" fill-opacity=\"1\" /><path clip-path=\"url(#clip930)\" d=\"M 0 0 M2208.37 169.042 L2216.01 169.042 L2216.01 142.677 L2207.7 144.343 L2207.7 140.084 L2215.96 138.418 L2220.64 138.418 L2220.64 169.042 L2228.28 169.042 L2228.28 172.978 L2208.37 172.978 L2208.37 169.042 Z\" fill=\"#000000\" fill-rule=\"evenodd\" fill-opacity=\"1\" /></svg>\n"
      ]
     },
     "execution_count": 53,
     "metadata": {},
     "output_type": "execute_result"
    }
   ],
   "source": [
    "# plot the f to see\n",
    "plot(f,1,5)"
   ]
  },
  {
   "cell_type": "code",
   "execution_count": 54,
   "metadata": {},
   "outputs": [
    {
     "data": {
      "text/plain": [
       "calculateDisAndPoint (generic function with 1 method)"
      ]
     },
     "execution_count": 54,
     "metadata": {},
     "output_type": "execute_result"
    }
   ],
   "source": [
    "# we are creating hyperplanes by thinking f(x) = p(x)/q(x)\n",
    "# or converting to <A, xn> - f(x)<B, xm> = 0 with A, B is correspondingly coe of p(x) and q(x) and are the keys\n",
    "# xn and xm are the vectors which will represent the fucntions\n",
    "# for easy calculation combining A and B into a big vector so it would be: <A to B, xn to -f(x)xm> = 0\n",
    "# this is a hyperplan formula with d = 0\n",
    "# therefore, xn to -f(x)xm is the vector of the hyperplane in R n+m+2 space\n",
    "\n",
    "# function to calculate the distince between a point and the hyperplane with the sign\n",
    "function calculateDisAndPoint(check_value, the_point, n, m)\n",
    "    hy_space_sz = n + m + 2\n",
    "    xn = vander(check_value, n+1)\n",
    "    xm = vander(check_value, m+1)\n",
    "    big_vect = hcat(xn, -f(check_value)*xm)\n",
    "#     calculate distance by |vect.start_point + d|/||vect|| , d is 0 in this case\n",
    "    a = sum(hcat([the_point[i]*big_vect[i] for i in 1:hy_space_sz]...))\n",
    "    b = sum(hcat([big_vect[i]*big_vect[i] for i in 1:hy_space_sz]...))\n",
    "    c = sqrt(b)\n",
    "    dis = a/c\n",
    "#     calculate lambda in x - x0 = lambda.vect to calculate the projectpoint\n",
    "    lambd = a/b\n",
    "    x0 = the_point - (lambd * big_vect)\n",
    "    return dis, x0\n",
    "end"
   ]
  },
  {
   "cell_type": "code",
   "execution_count": 55,
   "metadata": {},
   "outputs": [
    {
     "data": {
      "text/plain": [
       "distanceBetween (generic function with 1 method)"
      ]
     },
     "execution_count": 55,
     "metadata": {},
     "output_type": "execute_result"
    }
   ],
   "source": [
    "#function to calculate the distance between 2 points\n",
    "function distanceBetween(p1, p2)\n",
    "    sz = size(p1)[2]\n",
    "    p = p2 - p1\n",
    "    result = sqrt(sum(hcat([p[i]*p[i] for i in 1:sz]...)))\n",
    "    return result\n",
    "end"
   ]
  },
  {
   "cell_type": "code",
   "execution_count": null,
   "metadata": {},
   "outputs": [],
   "source": [
    "# iterate after a certain times and store the value in a array of the size of number of hyperplanes\n",
    "num_hy = size(T)[1]\n",
    "pointA = Array{Array{Float64}}(undef, 1, num_hy)\n",
    "\n",
    "# pointB = Array{Array{Float64}}(undef, 1, num_hy)\n",
    "error_rate = 0.00001\n",
    "\n",
    "s_p = vander(1, hy_space_sz)\n",
    "need_to_cal = true\n",
    "count = 0\n",
    "\n",
    "while true\n",
    "    for i in 1:num_hy\n",
    "        result = calculateDisAndPoint(T[i],s_p,n,m)\n",
    "        if isassigned(pointA, i)\n",
    "            if need_to_cal\n",
    "                if distanceBetween(result[2], pointA[i]) > error_rate\n",
    "                    need_to_cal = false\n",
    "                end\n",
    "            end\n",
    "        else\n",
    "            need_to_cal = false\n",
    "        end\n",
    "        pointA[i] = result[2]\n",
    "        s_p = result[2]\n",
    "    end\n",
    "    count += 1\n",
    "    if need_to_cal\n",
    "        break\n",
    "    else\n",
    "        need_to_cal = true\n",
    "    end\n",
    "end\n",
    "\n",
    "println(count)"
   ]
  },
  {
   "cell_type": "code",
   "execution_count": 57,
   "metadata": {},
   "outputs": [
    {
     "data": {
      "text/plain": [
       "1×13 Array{Float64,2}:\n",
       " 1.25777  1.26381  1.27265  1.28619  1.308  …  0.381414  0.300032  0.144011"
      ]
     },
     "execution_count": 57,
     "metadata": {},
     "output_type": "execute_result"
    }
   ],
   "source": [
    "# calculate the mid point\n",
    "mid_p = sum(pointA)/num_hy"
   ]
  },
  {
   "cell_type": "code",
   "execution_count": 44,
   "metadata": {},
   "outputs": [
    {
     "name": "stdout",
     "output_type": "stream",
     "text": [
      "1.2577716031749915\n",
      "1.2638086447037264\n",
      "1.272651038703165\n",
      "1.2861853865674142\n",
      "1.3080011957956457\n",
      "1.345362228997774\n",
      "0.4852287838193318\n",
      "0.47316172416595736\n",
      "0.4552710200882791\n",
      "0.42741114592722407\n",
      "0.3814136348044519\n",
      "0.3000318599788315\n",
      "0.14401144152754478\n"
     ]
    }
   ],
   "source": [
    "for i in mid_p\n",
    "    println(i)\n",
    "end"
   ]
  },
  {
   "cell_type": "code",
   "execution_count": 45,
   "metadata": {},
   "outputs": [
    {
     "data": {
      "text/plain": [
       "g (generic function with 1 method)"
      ]
     },
     "execution_count": 45,
     "metadata": {},
     "output_type": "execute_result"
    }
   ],
   "source": [
    "# we now have the final results\n",
    "p(t) = sum((t^(i-1))*mid_p[i] for i in 1:(n+1))\n",
    "q(t) = sum((t^(i-1))*mid_p[i+n+1] for i in 1:(m+1))\n",
    "g(t) = p(t)/q(t)"
   ]
  },
  {
   "cell_type": "code",
   "execution_count": 46,
   "metadata": {},
   "outputs": [
    {
     "data": {
      "text/plain": [
       "2.9196861249474164"
      ]
     },
     "execution_count": 46,
     "metadata": {},
     "output_type": "execute_result"
    }
   ],
   "source": [
    "g(1.2)"
   ]
  },
  {
   "cell_type": "code",
   "execution_count": 47,
   "metadata": {},
   "outputs": [
    {
     "data": {
      "text/plain": [
       "1.9377049180327868"
      ]
     },
     "execution_count": 47,
     "metadata": {},
     "output_type": "execute_result"
    }
   ],
   "source": [
    "f(1.2)"
   ]
  },
  {
   "cell_type": "code",
   "execution_count": 48,
   "metadata": {},
   "outputs": [
    {
     "data": {
      "image/svg+xml": [
       "<?xml version=\"1.0\" encoding=\"utf-8\"?>\n",
       "<svg xmlns=\"http://www.w3.org/2000/svg\" xmlns:xlink=\"http://www.w3.org/1999/xlink\" width=\"600\" height=\"400\" viewBox=\"0 0 2400 1600\">\n",
       "<defs>\n",
       "  <clipPath id=\"clip850\">\n",
       "    <rect x=\"0\" y=\"0\" width=\"2400\" height=\"1600\"/>\n",
       "  </clipPath>\n",
       "</defs>\n",
       "<path clip-path=\"url(#clip850)\" d=\"\n",
       "M0 1600 L2400 1600 L2400 0 L0 0  Z\n",
       "  \" fill=\"#ffffff\" fill-rule=\"evenodd\" fill-opacity=\"1\"/>\n",
       "<defs>\n",
       "  <clipPath id=\"clip851\">\n",
       "    <rect x=\"480\" y=\"0\" width=\"1681\" height=\"1600\"/>\n",
       "  </clipPath>\n",
       "</defs>\n",
       "<path clip-path=\"url(#clip850)\" d=\"\n",
       "M112.177 1486.45 L2352.76 1486.45 L2352.76 47.2441 L112.177 47.2441  Z\n",
       "  \" fill=\"#ffffff\" fill-rule=\"evenodd\" fill-opacity=\"1\"/>\n",
       "<defs>\n",
       "  <clipPath id=\"clip852\">\n",
       "    <rect x=\"112\" y=\"47\" width=\"2242\" height=\"1440\"/>\n",
       "  </clipPath>\n",
       "</defs>\n",
       "<polyline clip-path=\"url(#clip852)\" style=\"stroke:#000000; stroke-width:2; stroke-opacity:0.1; fill:none\" points=\"\n",
       "  175.59,1486.45 175.59,47.2441 \n",
       "  \"/>\n",
       "<polyline clip-path=\"url(#clip852)\" style=\"stroke:#000000; stroke-width:2; stroke-opacity:0.1; fill:none\" points=\"\n",
       "  704.028,1486.45 704.028,47.2441 \n",
       "  \"/>\n",
       "<polyline clip-path=\"url(#clip852)\" style=\"stroke:#000000; stroke-width:2; stroke-opacity:0.1; fill:none\" points=\"\n",
       "  1232.47,1486.45 1232.47,47.2441 \n",
       "  \"/>\n",
       "<polyline clip-path=\"url(#clip852)\" style=\"stroke:#000000; stroke-width:2; stroke-opacity:0.1; fill:none\" points=\"\n",
       "  1760.9,1486.45 1760.9,47.2441 \n",
       "  \"/>\n",
       "<polyline clip-path=\"url(#clip852)\" style=\"stroke:#000000; stroke-width:2; stroke-opacity:0.1; fill:none\" points=\"\n",
       "  2289.34,1486.45 2289.34,47.2441 \n",
       "  \"/>\n",
       "<polyline clip-path=\"url(#clip850)\" style=\"stroke:#000000; stroke-width:4; stroke-opacity:1; fill:none\" points=\"\n",
       "  112.177,1486.45 2352.76,1486.45 \n",
       "  \"/>\n",
       "<polyline clip-path=\"url(#clip850)\" style=\"stroke:#000000; stroke-width:4; stroke-opacity:1; fill:none\" points=\"\n",
       "  175.59,1486.45 175.59,1469.18 \n",
       "  \"/>\n",
       "<polyline clip-path=\"url(#clip850)\" style=\"stroke:#000000; stroke-width:4; stroke-opacity:1; fill:none\" points=\"\n",
       "  704.028,1486.45 704.028,1469.18 \n",
       "  \"/>\n",
       "<polyline clip-path=\"url(#clip850)\" style=\"stroke:#000000; stroke-width:4; stroke-opacity:1; fill:none\" points=\"\n",
       "  1232.47,1486.45 1232.47,1469.18 \n",
       "  \"/>\n",
       "<polyline clip-path=\"url(#clip850)\" style=\"stroke:#000000; stroke-width:4; stroke-opacity:1; fill:none\" points=\"\n",
       "  1760.9,1486.45 1760.9,1469.18 \n",
       "  \"/>\n",
       "<polyline clip-path=\"url(#clip850)\" style=\"stroke:#000000; stroke-width:4; stroke-opacity:1; fill:none\" points=\"\n",
       "  2289.34,1486.45 2289.34,1469.18 \n",
       "  \"/>\n",
       "<path clip-path=\"url(#clip850)\" d=\"M 0 0 M165.972 1543.18 L173.611 1543.18 L173.611 1516.82 L165.3 1518.49 L165.3 1514.23 L173.564 1512.56 L178.24 1512.56 L178.24 1543.18 L185.879 1543.18 L185.879 1547.12 L165.972 1547.12 L165.972 1543.18 Z\" fill=\"#000000\" fill-rule=\"evenodd\" fill-opacity=\"1\" /><path clip-path=\"url(#clip850)\" d=\"M 0 0 M698.681 1543.18 L715 1543.18 L715 1547.12 L693.056 1547.12 L693.056 1543.18 Q695.718 1540.43 700.301 1535.8 Q704.908 1531.15 706.088 1529.81 Q708.334 1527.28 709.213 1525.55 Q710.116 1523.79 710.116 1522.1 Q710.116 1519.34 708.172 1517.61 Q706.25 1515.87 703.149 1515.87 Q700.949 1515.87 698.496 1516.63 Q696.065 1517.4 693.287 1518.95 L693.287 1514.23 Q696.112 1513.09 698.565 1512.51 Q701.019 1511.93 703.056 1511.93 Q708.426 1511.93 711.621 1514.62 Q714.815 1517.31 714.815 1521.8 Q714.815 1523.93 714.005 1525.85 Q713.218 1527.74 711.111 1530.34 Q710.533 1531.01 707.431 1534.23 Q704.329 1537.42 698.681 1543.18 Z\" fill=\"#000000\" fill-rule=\"evenodd\" fill-opacity=\"1\" /><path clip-path=\"url(#clip850)\" d=\"M 0 0 M1236.71 1528.49 Q1240.07 1529.2 1241.95 1531.47 Q1243.84 1533.74 1243.84 1537.07 Q1243.84 1542.19 1240.33 1544.99 Q1236.81 1547.79 1230.33 1547.79 Q1228.15 1547.79 1225.83 1547.35 Q1223.54 1546.93 1221.09 1546.08 L1221.09 1541.56 Q1223.03 1542.7 1225.35 1543.28 Q1227.66 1543.86 1230.19 1543.86 Q1234.58 1543.86 1236.88 1542.12 Q1239.19 1540.38 1239.19 1537.07 Q1239.19 1534.02 1237.04 1532.31 Q1234.91 1530.57 1231.09 1530.57 L1227.06 1530.57 L1227.06 1526.73 L1231.27 1526.73 Q1234.72 1526.73 1236.55 1525.36 Q1238.38 1523.97 1238.38 1521.38 Q1238.38 1518.72 1236.48 1517.31 Q1234.61 1515.87 1231.09 1515.87 Q1229.17 1515.87 1226.97 1516.29 Q1224.77 1516.7 1222.13 1517.58 L1222.13 1513.42 Q1224.79 1512.68 1227.11 1512.31 Q1229.45 1511.93 1231.51 1511.93 Q1236.83 1511.93 1239.93 1514.37 Q1243.03 1516.77 1243.03 1520.89 Q1243.03 1523.76 1241.39 1525.75 Q1239.75 1527.72 1236.71 1528.49 Z\" fill=\"#000000\" fill-rule=\"evenodd\" fill-opacity=\"1\" /><path clip-path=\"url(#clip850)\" d=\"M 0 0 M1763.91 1516.63 L1752.11 1535.08 L1763.91 1535.08 L1763.91 1516.63 M1762.69 1512.56 L1768.57 1512.56 L1768.57 1535.08 L1773.5 1535.08 L1773.5 1538.97 L1768.57 1538.97 L1768.57 1547.12 L1763.91 1547.12 L1763.91 1538.97 L1748.31 1538.97 L1748.31 1534.46 L1762.69 1512.56 Z\" fill=\"#000000\" fill-rule=\"evenodd\" fill-opacity=\"1\" /><path clip-path=\"url(#clip850)\" d=\"M 0 0 M2279.62 1512.56 L2297.98 1512.56 L2297.98 1516.5 L2283.9 1516.5 L2283.9 1524.97 Q2284.92 1524.62 2285.94 1524.46 Q2286.96 1524.27 2287.98 1524.27 Q2293.76 1524.27 2297.14 1527.44 Q2300.52 1530.62 2300.52 1536.03 Q2300.52 1541.61 2297.05 1544.71 Q2293.58 1547.79 2287.26 1547.79 Q2285.08 1547.79 2282.82 1547.42 Q2280.57 1547.05 2278.16 1546.31 L2278.16 1541.61 Q2280.25 1542.74 2282.47 1543.3 Q2284.69 1543.86 2287.17 1543.86 Q2291.17 1543.86 2293.51 1541.75 Q2295.85 1539.64 2295.85 1536.03 Q2295.85 1532.42 2293.51 1530.31 Q2291.17 1528.21 2287.17 1528.21 Q2285.29 1528.21 2283.42 1528.62 Q2281.57 1529.04 2279.62 1529.92 L2279.62 1512.56 Z\" fill=\"#000000\" fill-rule=\"evenodd\" fill-opacity=\"1\" /><polyline clip-path=\"url(#clip852)\" style=\"stroke:#000000; stroke-width:2; stroke-opacity:0.1; fill:none\" points=\"\n",
       "  112.177,1245.57 2352.76,1245.57 \n",
       "  \"/>\n",
       "<polyline clip-path=\"url(#clip852)\" style=\"stroke:#000000; stroke-width:2; stroke-opacity:0.1; fill:none\" points=\"\n",
       "  112.177,849.554 2352.76,849.554 \n",
       "  \"/>\n",
       "<polyline clip-path=\"url(#clip852)\" style=\"stroke:#000000; stroke-width:2; stroke-opacity:0.1; fill:none\" points=\"\n",
       "  112.177,453.533 2352.76,453.533 \n",
       "  \"/>\n",
       "<polyline clip-path=\"url(#clip852)\" style=\"stroke:#000000; stroke-width:2; stroke-opacity:0.1; fill:none\" points=\"\n",
       "  112.177,57.5132 2352.76,57.5132 \n",
       "  \"/>\n",
       "<polyline clip-path=\"url(#clip850)\" style=\"stroke:#000000; stroke-width:4; stroke-opacity:1; fill:none\" points=\"\n",
       "  112.177,1486.45 112.177,47.2441 \n",
       "  \"/>\n",
       "<polyline clip-path=\"url(#clip850)\" style=\"stroke:#000000; stroke-width:4; stroke-opacity:1; fill:none\" points=\"\n",
       "  112.177,1245.57 139.064,1245.57 \n",
       "  \"/>\n",
       "<polyline clip-path=\"url(#clip850)\" style=\"stroke:#000000; stroke-width:4; stroke-opacity:1; fill:none\" points=\"\n",
       "  112.177,849.554 139.064,849.554 \n",
       "  \"/>\n",
       "<polyline clip-path=\"url(#clip850)\" style=\"stroke:#000000; stroke-width:4; stroke-opacity:1; fill:none\" points=\"\n",
       "  112.177,453.533 139.064,453.533 \n",
       "  \"/>\n",
       "<polyline clip-path=\"url(#clip850)\" style=\"stroke:#000000; stroke-width:4; stroke-opacity:1; fill:none\" points=\"\n",
       "  112.177,57.5132 139.064,57.5132 \n",
       "  \"/>\n",
       "<path clip-path=\"url(#clip850)\" d=\"M 0 0 M59.8578 1258.92 L76.1772 1258.92 L76.1772 1262.85 L54.2328 1262.85 L54.2328 1258.92 Q56.8949 1256.16 61.4782 1251.53 Q66.0846 1246.88 67.2652 1245.54 Q69.5105 1243.02 70.3902 1241.28 Q71.2929 1239.52 71.2929 1237.83 Q71.2929 1235.08 69.3485 1233.34 Q67.4272 1231.6 64.3254 1231.6 Q62.1263 1231.6 59.6726 1232.37 Q57.2421 1233.13 54.4643 1234.68 L54.4643 1229.96 Q57.2884 1228.83 59.7421 1228.25 Q62.1958 1227.67 64.2328 1227.67 Q69.6031 1227.67 72.7976 1230.35 Q75.992 1233.04 75.992 1237.53 Q75.992 1239.66 75.1818 1241.58 Q74.3948 1243.48 72.2883 1246.07 Q71.7096 1246.74 68.6078 1249.96 Q65.5059 1253.15 59.8578 1258.92 Z\" fill=\"#000000\" fill-rule=\"evenodd\" fill-opacity=\"1\" /><path clip-path=\"url(#clip850)\" d=\"M 0 0 M69.0476 848.199 Q72.404 848.917 74.279 851.186 Q76.1772 853.454 76.1772 856.787 Q76.1772 861.903 72.6587 864.704 Q69.1402 867.505 62.6587 867.505 Q60.4828 867.505 58.168 867.065 Q55.8764 866.648 53.4227 865.792 L53.4227 861.278 Q55.3671 862.412 57.6819 862.991 Q59.9967 863.57 62.5198 863.57 Q66.918 863.57 69.2096 861.834 Q71.5244 860.098 71.5244 856.787 Q71.5244 853.732 69.3717 852.019 Q67.242 850.283 63.4226 850.283 L59.3949 850.283 L59.3949 846.44 L63.6078 846.44 Q67.0569 846.44 68.8855 845.074 Q70.7142 843.686 70.7142 841.093 Q70.7142 838.431 68.8161 837.019 Q66.9411 835.584 63.4226 835.584 Q61.5013 835.584 59.3023 836 Q57.1032 836.417 54.4643 837.297 L54.4643 833.13 Q57.1264 832.389 59.4412 832.019 Q61.7791 831.649 63.8393 831.649 Q69.1633 831.649 72.2652 834.079 Q75.367 836.487 75.367 840.607 Q75.367 843.477 73.7235 845.468 Q72.08 847.436 69.0476 848.199 Z\" fill=\"#000000\" fill-rule=\"evenodd\" fill-opacity=\"1\" /><path clip-path=\"url(#clip850)\" d=\"M 0 0 M66.5939 440.327 L54.7884 458.776 L66.5939 458.776 L66.5939 440.327 M65.367 436.253 L71.2466 436.253 L71.2466 458.776 L76.1772 458.776 L76.1772 462.665 L71.2466 462.665 L71.2466 470.813 L66.5939 470.813 L66.5939 462.665 L50.9921 462.665 L50.9921 458.151 L65.367 436.253 Z\" fill=\"#000000\" fill-rule=\"evenodd\" fill-opacity=\"1\" /><path clip-path=\"url(#clip850)\" d=\"M 0 0 M55.2745 40.2332 L73.6309 40.2332 L73.6309 44.1683 L59.5569 44.1683 L59.5569 52.6405 Q60.5754 52.2933 61.5939 52.1313 Q62.6124 51.9461 63.6309 51.9461 Q69.418 51.9461 72.7976 55.1174 Q76.1772 58.2886 76.1772 63.7053 Q76.1772 69.284 72.705 72.3858 Q69.2328 75.4645 62.9134 75.4645 Q60.7374 75.4645 58.4689 75.0941 Q56.2236 74.7237 53.8162 73.983 L53.8162 69.284 Q55.8995 70.4182 58.1217 70.9738 Q60.3439 71.5293 62.8208 71.5293 Q66.8254 71.5293 69.1633 69.4228 Q71.5013 67.3164 71.5013 63.7053 Q71.5013 60.0942 69.1633 57.9877 Q66.8254 55.8812 62.8208 55.8812 Q60.9458 55.8812 59.0708 56.2979 Q57.2189 56.7146 55.2745 57.5942 L55.2745 40.2332 Z\" fill=\"#000000\" fill-rule=\"evenodd\" fill-opacity=\"1\" /><polyline clip-path=\"url(#clip852)\" style=\"stroke:#009af9; stroke-width:4; stroke-opacity:1; fill:none\" points=\"\n",
       "  175.59,889.03 180.75,888.166 185.911,887.351 191.072,886.586 196.232,885.871 243.95,881.655 291.667,881.731 339.385,885.815 387.102,893.433 444.455,906.479 \n",
       "  501.807,922.852 550.298,938.63 598.789,955.688 704.138,995.405 801.261,1033.32 905.386,1073.72 1026.03,1118.95 1133.24,1157.12 1227.25,1188.84 1329.75,1221.51 \n",
       "  1432.86,1252.39 1546.86,1284.32 1655.33,1312.66 1768.11,1340.18 1863.05,1361.91 1978.96,1386.81 2087.92,1408.7 2262.48,1441.02 2289.34,1445.72 \n",
       "  \"/>\n",
       "<polyline clip-path=\"url(#clip852)\" style=\"stroke:#e26f46; stroke-width:4; stroke-opacity:1; fill:none\" points=\"\n",
       "  175.59,1245.57 185.911,1249.29 196.232,1252.71 291.667,1271.17 387.102,1269.11 444.455,1259.86 501.807,1245.68 550.298,1230.4 598.789,1212.52 704.138,1166.32 \n",
       "  801.261,1116.7 905.386,1057.92 1026.03,984.451 1133.24,915.571 1227.25,853.069 1329.75,783.193 1432.86,711.468 1546.86,630.863 1655.33,553.175 1768.11,471.594 \n",
       "  1863.05,402.412 1978.96,317.446 2087.92,237.169 2262.48,107.923 2289.34,87.9763 \n",
       "  \"/>\n",
       "<path clip-path=\"url(#clip850)\" d=\"\n",
       "M1978.1 276.658 L2278.07 276.658 L2278.07 95.2176 L1978.1 95.2176  Z\n",
       "  \" fill=\"#ffffff\" fill-rule=\"evenodd\" fill-opacity=\"1\"/>\n",
       "<polyline clip-path=\"url(#clip850)\" style=\"stroke:#000000; stroke-width:4; stroke-opacity:1; fill:none\" points=\"\n",
       "  1978.1,276.658 2278.07,276.658 2278.07,95.2176 1978.1,95.2176 1978.1,276.658 \n",
       "  \"/>\n",
       "<polyline clip-path=\"url(#clip850)\" style=\"stroke:#009af9; stroke-width:4; stroke-opacity:1; fill:none\" points=\"\n",
       "  2002.99,155.698 2152.37,155.698 \n",
       "  \"/>\n",
       "<path clip-path=\"url(#clip850)\" d=\"M 0 0 M2191.1 175.385 Q2189.3 180.015 2187.59 181.427 Q2185.87 182.839 2183 182.839 L2179.6 182.839 L2179.6 179.274 L2182.1 179.274 Q2183.86 179.274 2184.83 178.44 Q2185.8 177.607 2186.98 174.505 L2187.75 172.561 L2177.26 147.052 L2181.77 147.052 L2189.88 167.329 L2197.98 147.052 L2202.49 147.052 L2191.1 175.385 Z\" fill=\"#000000\" fill-rule=\"evenodd\" fill-opacity=\"1\" /><path clip-path=\"url(#clip850)\" d=\"M 0 0 M2208.37 169.042 L2216.01 169.042 L2216.01 142.677 L2207.7 144.343 L2207.7 140.084 L2215.96 138.418 L2220.64 138.418 L2220.64 169.042 L2228.28 169.042 L2228.28 172.978 L2208.37 172.978 L2208.37 169.042 Z\" fill=\"#000000\" fill-rule=\"evenodd\" fill-opacity=\"1\" /><polyline clip-path=\"url(#clip850)\" style=\"stroke:#e26f46; stroke-width:4; stroke-opacity:1; fill:none\" points=\"\n",
       "  2002.99,216.178 2152.37,216.178 \n",
       "  \"/>\n",
       "<path clip-path=\"url(#clip850)\" d=\"M 0 0 M2191.1 235.865 Q2189.3 240.495 2187.59 241.907 Q2185.87 243.319 2183 243.319 L2179.6 243.319 L2179.6 239.754 L2182.1 239.754 Q2183.86 239.754 2184.83 238.92 Q2185.8 238.087 2186.98 234.985 L2187.75 233.041 L2177.26 207.532 L2181.77 207.532 L2189.88 227.809 L2197.98 207.532 L2202.49 207.532 L2191.1 235.865 Z\" fill=\"#000000\" fill-rule=\"evenodd\" fill-opacity=\"1\" /><path clip-path=\"url(#clip850)\" d=\"M 0 0 M2211.59 229.522 L2227.91 229.522 L2227.91 233.458 L2205.96 233.458 L2205.96 229.522 Q2208.63 226.768 2213.21 222.138 Q2217.82 217.485 2219 216.143 Q2221.24 213.62 2222.12 211.884 Q2223.02 210.124 2223.02 208.435 Q2223.02 205.68 2221.08 203.944 Q2219.16 202.208 2216.06 202.208 Q2213.86 202.208 2211.4 202.972 Q2208.97 203.735 2206.2 205.286 L2206.2 200.564 Q2209.02 199.43 2211.47 198.851 Q2213.93 198.273 2215.96 198.273 Q2221.33 198.273 2224.53 200.958 Q2227.72 203.643 2227.72 208.134 Q2227.72 210.263 2226.91 212.185 Q2226.13 214.083 2224.02 216.675 Q2223.44 217.347 2220.34 220.564 Q2217.24 223.759 2211.59 229.522 Z\" fill=\"#000000\" fill-rule=\"evenodd\" fill-opacity=\"1\" /></svg>\n"
      ]
     },
     "execution_count": 48,
     "metadata": {},
     "output_type": "execute_result"
    }
   ],
   "source": [
    "plot(g,1,5)\n",
    "plot!(f,1,5)"
   ]
  },
  {
   "cell_type": "code",
   "execution_count": 49,
   "metadata": {},
   "outputs": [
    {
     "data": {
      "text/plain": [
       "1-element Array{Float64,1}:\n",
       " 5.0"
      ]
     },
     "execution_count": 49,
     "metadata": {},
     "output_type": "execute_result"
    }
   ],
   "source": [
    "# Find the points of extreme deviation:\n",
    "\n",
    "σ(t) = g(t) - f(t)\n",
    "Tmax = maximum(abs.(σ.(T)))\n",
    "T⁺ = T[findall(t -> σ(t) ≈ Tmax, T)]\n",
    "T⁻ = T[findall(t -> σ(t) ≈ -Tmax, T)]"
   ]
  },
  {
   "cell_type": "code",
   "execution_count": 50,
   "metadata": {},
   "outputs": [
    {
     "data": {
      "image/svg+xml": [
       "<?xml version=\"1.0\" encoding=\"utf-8\"?>\n",
       "<svg xmlns=\"http://www.w3.org/2000/svg\" xmlns:xlink=\"http://www.w3.org/1999/xlink\" width=\"600\" height=\"400\" viewBox=\"0 0 2400 1600\">\n",
       "<defs>\n",
       "  <clipPath id=\"clip890\">\n",
       "    <rect x=\"0\" y=\"0\" width=\"2400\" height=\"1600\"/>\n",
       "  </clipPath>\n",
       "</defs>\n",
       "<path clip-path=\"url(#clip890)\" d=\"\n",
       "M0 1600 L2400 1600 L2400 0 L0 0  Z\n",
       "  \" fill=\"#ffffff\" fill-rule=\"evenodd\" fill-opacity=\"1\"/>\n",
       "<defs>\n",
       "  <clipPath id=\"clip891\">\n",
       "    <rect x=\"480\" y=\"0\" width=\"1681\" height=\"1600\"/>\n",
       "  </clipPath>\n",
       "</defs>\n",
       "<path clip-path=\"url(#clip890)\" d=\"\n",
       "M143.033 1486.45 L2352.76 1486.45 L2352.76 47.2441 L143.033 47.2441  Z\n",
       "  \" fill=\"#ffffff\" fill-rule=\"evenodd\" fill-opacity=\"1\"/>\n",
       "<defs>\n",
       "  <clipPath id=\"clip892\">\n",
       "    <rect x=\"143\" y=\"47\" width=\"2211\" height=\"1440\"/>\n",
       "  </clipPath>\n",
       "</defs>\n",
       "<polyline clip-path=\"url(#clip892)\" style=\"stroke:#000000; stroke-width:2; stroke-opacity:0.1; fill:none\" points=\"\n",
       "  205.573,1486.45 205.573,47.2441 \n",
       "  \"/>\n",
       "<polyline clip-path=\"url(#clip892)\" style=\"stroke:#000000; stroke-width:2; stroke-opacity:0.1; fill:none\" points=\"\n",
       "  726.734,1486.45 726.734,47.2441 \n",
       "  \"/>\n",
       "<polyline clip-path=\"url(#clip892)\" style=\"stroke:#000000; stroke-width:2; stroke-opacity:0.1; fill:none\" points=\"\n",
       "  1247.89,1486.45 1247.89,47.2441 \n",
       "  \"/>\n",
       "<polyline clip-path=\"url(#clip892)\" style=\"stroke:#000000; stroke-width:2; stroke-opacity:0.1; fill:none\" points=\"\n",
       "  1769.06,1486.45 1769.06,47.2441 \n",
       "  \"/>\n",
       "<polyline clip-path=\"url(#clip892)\" style=\"stroke:#000000; stroke-width:2; stroke-opacity:0.1; fill:none\" points=\"\n",
       "  2290.22,1486.45 2290.22,47.2441 \n",
       "  \"/>\n",
       "<polyline clip-path=\"url(#clip890)\" style=\"stroke:#000000; stroke-width:4; stroke-opacity:1; fill:none\" points=\"\n",
       "  143.033,1486.45 2352.76,1486.45 \n",
       "  \"/>\n",
       "<polyline clip-path=\"url(#clip890)\" style=\"stroke:#000000; stroke-width:4; stroke-opacity:1; fill:none\" points=\"\n",
       "  205.573,1486.45 205.573,1469.18 \n",
       "  \"/>\n",
       "<polyline clip-path=\"url(#clip890)\" style=\"stroke:#000000; stroke-width:4; stroke-opacity:1; fill:none\" points=\"\n",
       "  726.734,1486.45 726.734,1469.18 \n",
       "  \"/>\n",
       "<polyline clip-path=\"url(#clip890)\" style=\"stroke:#000000; stroke-width:4; stroke-opacity:1; fill:none\" points=\"\n",
       "  1247.89,1486.45 1247.89,1469.18 \n",
       "  \"/>\n",
       "<polyline clip-path=\"url(#clip890)\" style=\"stroke:#000000; stroke-width:4; stroke-opacity:1; fill:none\" points=\"\n",
       "  1769.06,1486.45 1769.06,1469.18 \n",
       "  \"/>\n",
       "<polyline clip-path=\"url(#clip890)\" style=\"stroke:#000000; stroke-width:4; stroke-opacity:1; fill:none\" points=\"\n",
       "  2290.22,1486.45 2290.22,1469.18 \n",
       "  \"/>\n",
       "<path clip-path=\"url(#clip890)\" d=\"M 0 0 M195.955 1543.18 L203.594 1543.18 L203.594 1516.82 L195.284 1518.49 L195.284 1514.23 L203.547 1512.56 L208.223 1512.56 L208.223 1543.18 L215.862 1543.18 L215.862 1547.12 L195.955 1547.12 L195.955 1543.18 Z\" fill=\"#000000\" fill-rule=\"evenodd\" fill-opacity=\"1\" /><path clip-path=\"url(#clip890)\" d=\"M 0 0 M721.387 1543.18 L737.706 1543.18 L737.706 1547.12 L715.762 1547.12 L715.762 1543.18 Q718.424 1540.43 723.007 1535.8 Q727.613 1531.15 728.794 1529.81 Q731.039 1527.28 731.919 1525.55 Q732.822 1523.79 732.822 1522.1 Q732.822 1519.34 730.877 1517.61 Q728.956 1515.87 725.854 1515.87 Q723.655 1515.87 721.201 1516.63 Q718.771 1517.4 715.993 1518.95 L715.993 1514.23 Q718.817 1513.09 721.271 1512.51 Q723.725 1511.93 725.762 1511.93 Q731.132 1511.93 734.326 1514.62 Q737.521 1517.31 737.521 1521.8 Q737.521 1523.93 736.711 1525.85 Q735.924 1527.74 733.817 1530.34 Q733.238 1531.01 730.137 1534.23 Q727.035 1537.42 721.387 1543.18 Z\" fill=\"#000000\" fill-rule=\"evenodd\" fill-opacity=\"1\" /><path clip-path=\"url(#clip890)\" d=\"M 0 0 M1252.14 1528.49 Q1255.5 1529.2 1257.37 1531.47 Q1259.27 1533.74 1259.27 1537.07 Q1259.27 1542.19 1255.75 1544.99 Q1252.23 1547.79 1245.75 1547.79 Q1243.58 1547.79 1241.26 1547.35 Q1238.97 1546.93 1236.52 1546.08 L1236.52 1541.56 Q1238.46 1542.7 1240.78 1543.28 Q1243.09 1543.86 1245.61 1543.86 Q1250.01 1543.86 1252.3 1542.12 Q1254.62 1540.38 1254.62 1537.07 Q1254.62 1534.02 1252.47 1532.31 Q1250.34 1530.57 1246.52 1530.57 L1242.49 1530.57 L1242.49 1526.73 L1246.7 1526.73 Q1250.15 1526.73 1251.98 1525.36 Q1253.81 1523.97 1253.81 1521.38 Q1253.81 1518.72 1251.91 1517.31 Q1250.04 1515.87 1246.52 1515.87 Q1244.6 1515.87 1242.4 1516.29 Q1240.2 1516.7 1237.56 1517.58 L1237.56 1513.42 Q1240.22 1512.68 1242.54 1512.31 Q1244.87 1511.93 1246.93 1511.93 Q1252.26 1511.93 1255.36 1514.37 Q1258.46 1516.77 1258.46 1520.89 Q1258.46 1523.76 1256.82 1525.75 Q1255.17 1527.72 1252.14 1528.49 Z\" fill=\"#000000\" fill-rule=\"evenodd\" fill-opacity=\"1\" /><path clip-path=\"url(#clip890)\" d=\"M 0 0 M1772.06 1516.63 L1760.26 1535.08 L1772.06 1535.08 L1772.06 1516.63 M1770.84 1512.56 L1776.72 1512.56 L1776.72 1535.08 L1781.65 1535.08 L1781.65 1538.97 L1776.72 1538.97 L1776.72 1547.12 L1772.06 1547.12 L1772.06 1538.97 L1756.46 1538.97 L1756.46 1534.46 L1770.84 1512.56 Z\" fill=\"#000000\" fill-rule=\"evenodd\" fill-opacity=\"1\" /><path clip-path=\"url(#clip890)\" d=\"M 0 0 M2280.49 1512.56 L2298.85 1512.56 L2298.85 1516.5 L2284.78 1516.5 L2284.78 1524.97 Q2285.8 1524.62 2286.81 1524.46 Q2287.83 1524.27 2288.85 1524.27 Q2294.64 1524.27 2298.02 1527.44 Q2301.4 1530.62 2301.4 1536.03 Q2301.4 1541.61 2297.92 1544.71 Q2294.45 1547.79 2288.13 1547.79 Q2285.96 1547.79 2283.69 1547.42 Q2281.44 1547.05 2279.04 1546.31 L2279.04 1541.61 Q2281.12 1542.74 2283.34 1543.3 Q2285.56 1543.86 2288.04 1543.86 Q2292.05 1543.86 2294.38 1541.75 Q2296.72 1539.64 2296.72 1536.03 Q2296.72 1532.42 2294.38 1530.31 Q2292.05 1528.21 2288.04 1528.21 Q2286.17 1528.21 2284.29 1528.62 Q2282.44 1529.04 2280.49 1529.92 L2280.49 1512.56 Z\" fill=\"#000000\" fill-rule=\"evenodd\" fill-opacity=\"1\" /><polyline clip-path=\"url(#clip892)\" style=\"stroke:#000000; stroke-width:2; stroke-opacity:0.1; fill:none\" points=\"\n",
       "  143.033,1313.86 2352.76,1313.86 \n",
       "  \"/>\n",
       "<polyline clip-path=\"url(#clip892)\" style=\"stroke:#000000; stroke-width:2; stroke-opacity:0.1; fill:none\" points=\"\n",
       "  143.033,1006.11 2352.76,1006.11 \n",
       "  \"/>\n",
       "<polyline clip-path=\"url(#clip892)\" style=\"stroke:#000000; stroke-width:2; stroke-opacity:0.1; fill:none\" points=\"\n",
       "  143.033,698.362 2352.76,698.362 \n",
       "  \"/>\n",
       "<polyline clip-path=\"url(#clip892)\" style=\"stroke:#000000; stroke-width:2; stroke-opacity:0.1; fill:none\" points=\"\n",
       "  143.033,390.614 2352.76,390.614 \n",
       "  \"/>\n",
       "<polyline clip-path=\"url(#clip892)\" style=\"stroke:#000000; stroke-width:2; stroke-opacity:0.1; fill:none\" points=\"\n",
       "  143.033,82.8659 2352.76,82.8659 \n",
       "  \"/>\n",
       "<polyline clip-path=\"url(#clip890)\" style=\"stroke:#000000; stroke-width:4; stroke-opacity:1; fill:none\" points=\"\n",
       "  143.033,1486.45 143.033,47.2441 \n",
       "  \"/>\n",
       "<polyline clip-path=\"url(#clip890)\" style=\"stroke:#000000; stroke-width:4; stroke-opacity:1; fill:none\" points=\"\n",
       "  143.033,1313.86 169.55,1313.86 \n",
       "  \"/>\n",
       "<polyline clip-path=\"url(#clip890)\" style=\"stroke:#000000; stroke-width:4; stroke-opacity:1; fill:none\" points=\"\n",
       "  143.033,1006.11 169.55,1006.11 \n",
       "  \"/>\n",
       "<polyline clip-path=\"url(#clip890)\" style=\"stroke:#000000; stroke-width:4; stroke-opacity:1; fill:none\" points=\"\n",
       "  143.033,698.362 169.55,698.362 \n",
       "  \"/>\n",
       "<polyline clip-path=\"url(#clip890)\" style=\"stroke:#000000; stroke-width:4; stroke-opacity:1; fill:none\" points=\"\n",
       "  143.033,390.614 169.55,390.614 \n",
       "  \"/>\n",
       "<polyline clip-path=\"url(#clip890)\" style=\"stroke:#000000; stroke-width:4; stroke-opacity:1; fill:none\" points=\"\n",
       "  143.033,82.8659 169.55,82.8659 \n",
       "  \"/>\n",
       "<path clip-path=\"url(#clip890)\" d=\"M 0 0 M50.9921 1314.31 L80.6679 1314.31 L80.6679 1318.24 L50.9921 1318.24 L50.9921 1314.31 Z\" fill=\"#000000\" fill-rule=\"evenodd\" fill-opacity=\"1\" /><path clip-path=\"url(#clip890)\" d=\"M 0 0 M99.9039 1312.5 Q103.26 1313.22 105.135 1315.49 Q107.033 1317.76 107.033 1321.09 Q107.033 1326.21 103.515 1329.01 Q99.9965 1331.81 93.515 1331.81 Q91.3391 1331.81 89.0243 1331.37 Q86.7327 1330.95 84.279 1330.1 L84.279 1325.58 Q86.2234 1326.72 88.5382 1327.3 Q90.853 1327.87 93.3762 1327.87 Q97.7743 1327.87 100.066 1326.14 Q102.381 1324.4 102.381 1321.09 Q102.381 1318.04 100.228 1316.32 Q98.0984 1314.59 94.2789 1314.59 L90.2512 1314.59 L90.2512 1310.74 L94.4641 1310.74 Q97.9132 1310.74 99.7419 1309.38 Q101.571 1307.99 101.571 1305.4 Q101.571 1302.74 99.6724 1301.32 Q97.7974 1299.89 94.2789 1299.89 Q92.3576 1299.89 90.1586 1300.3 Q87.9595 1300.72 85.3206 1301.6 L85.3206 1297.43 Q87.9827 1296.69 90.2975 1296.32 Q92.6354 1295.95 94.6956 1295.95 Q100.02 1295.95 103.121 1298.38 Q106.223 1300.79 106.223 1304.91 Q106.223 1307.78 104.58 1309.77 Q102.936 1311.74 99.9039 1312.5 Z\" fill=\"#000000\" fill-rule=\"evenodd\" fill-opacity=\"1\" /><path clip-path=\"url(#clip890)\" d=\"M 0 0 M51.9412 1006.56 L81.617 1006.56 L81.617 1010.5 L51.9412 1010.5 L51.9412 1006.56 Z\" fill=\"#000000\" fill-rule=\"evenodd\" fill-opacity=\"1\" /><path clip-path=\"url(#clip890)\" d=\"M 0 0 M90.7141 1019.45 L107.033 1019.45 L107.033 1023.39 L85.0892 1023.39 L85.0892 1019.45 Q87.7512 1016.7 92.3345 1012.07 Q96.941 1007.42 98.1215 1006.08 Q100.367 1003.55 101.246 1001.82 Q102.149 1000.06 102.149 998.367 Q102.149 995.612 100.205 993.876 Q98.2835 992.14 95.1817 992.14 Q92.9826 992.14 90.529 992.904 Q88.0984 993.668 85.3206 995.219 L85.3206 990.497 Q88.1447 989.362 90.5984 988.784 Q93.0521 988.205 95.0891 988.205 Q100.459 988.205 103.654 990.89 Q106.848 993.575 106.848 998.066 Q106.848 1000.2 106.038 1002.12 Q105.251 1004.02 103.145 1006.61 Q102.566 1007.28 99.4641 1010.5 Q96.3623 1013.69 90.7141 1019.45 Z\" fill=\"#000000\" fill-rule=\"evenodd\" fill-opacity=\"1\" /><path clip-path=\"url(#clip890)\" d=\"M 0 0 M51.5708 698.813 L81.2466 698.813 L81.2466 702.748 L51.5708 702.748 L51.5708 698.813 Z\" fill=\"#000000\" fill-rule=\"evenodd\" fill-opacity=\"1\" /><path clip-path=\"url(#clip890)\" d=\"M 0 0 M87.1262 711.707 L94.765 711.707 L94.765 685.341 L86.4549 687.008 L86.4549 682.749 L94.7187 681.082 L99.3946 681.082 L99.3946 711.707 L107.033 711.707 L107.033 715.642 L87.1262 715.642 L87.1262 711.707 Z\" fill=\"#000000\" fill-rule=\"evenodd\" fill-opacity=\"1\" /><path clip-path=\"url(#clip890)\" d=\"M 0 0 M95.0891 376.413 Q91.478 376.413 89.6493 379.977 Q87.8438 383.519 87.8438 390.649 Q87.8438 397.755 89.6493 401.32 Q91.478 404.862 95.0891 404.862 Q98.7234 404.862 100.529 401.32 Q102.358 397.755 102.358 390.649 Q102.358 383.519 100.529 379.977 Q98.7234 376.413 95.0891 376.413 M95.0891 372.709 Q100.899 372.709 103.955 377.315 Q107.033 381.899 107.033 390.649 Q107.033 399.375 103.955 403.982 Q100.899 408.565 95.0891 408.565 Q89.279 408.565 86.2003 403.982 Q83.1447 399.375 83.1447 390.649 Q83.1447 381.899 86.2003 377.315 Q89.279 372.709 95.0891 372.709 Z\" fill=\"#000000\" fill-rule=\"evenodd\" fill-opacity=\"1\" /><path clip-path=\"url(#clip890)\" d=\"M 0 0 M87.1262 96.2107 L94.765 96.2107 L94.765 69.8451 L86.4549 71.5118 L86.4549 67.2526 L94.7187 65.5859 L99.3946 65.5859 L99.3946 96.2107 L107.033 96.2107 L107.033 100.146 L87.1262 100.146 L87.1262 96.2107 Z\" fill=\"#000000\" fill-rule=\"evenodd\" fill-opacity=\"1\" /><polyline clip-path=\"url(#clip892)\" style=\"stroke:#009af9; stroke-width:4; stroke-opacity:1; fill:none\" points=\"\n",
       "  205.573,113.543 210.662,111.398 215.752,109.35 220.841,107.398 225.931,105.542 272.991,92.8724 320.052,87.9763 367.112,90.1835 414.173,98.6784 470.735,116 \n",
       "  527.298,139.743 575.121,163.88 622.944,191.029 726.842,257.798 822.627,325.82 925.319,402.89 1044.3,495.13 1150.03,578.324 1242.75,651.546 1343.84,731.234 \n",
       "  1445.53,810.967 1557.96,898.413 1664.93,980.809 1776.16,1065.59 1869.8,1136.24 1984.11,1221.61 2091.57,1301.01 2263.72,1426.57 2290.22,1445.72 \n",
       "  \"/>\n",
       "<circle clip-path=\"url(#clip892)\" cx=\"2290.22\" cy=\"1445.72\" r=\"14\" fill=\"#3da44d\" fill-rule=\"evenodd\" fill-opacity=\"1\" stroke=\"#000000\" stroke-opacity=\"1\" stroke-width=\"3.2\"/>\n",
       "<path clip-path=\"url(#clip890)\" d=\"\n",
       "M1981.98 337.138 L2279.1 337.138 L2279.1 95.2176 L1981.98 95.2176  Z\n",
       "  \" fill=\"#ffffff\" fill-rule=\"evenodd\" fill-opacity=\"1\"/>\n",
       "<polyline clip-path=\"url(#clip890)\" style=\"stroke:#000000; stroke-width:4; stroke-opacity:1; fill:none\" points=\"\n",
       "  1981.98,337.138 2279.1,337.138 2279.1,95.2176 1981.98,95.2176 1981.98,337.138 \n",
       "  \"/>\n",
       "<polyline clip-path=\"url(#clip890)\" style=\"stroke:#009af9; stroke-width:4; stroke-opacity:1; fill:none\" points=\"\n",
       "  2006.53,155.698 2153.84,155.698 \n",
       "  \"/>\n",
       "<path clip-path=\"url(#clip890)\" d=\"M 0 0 M2192.24 175.385 Q2190.43 180.015 2188.72 181.427 Q2187.01 182.839 2184.14 182.839 L2180.73 182.839 L2180.73 179.274 L2183.23 179.274 Q2184.99 179.274 2185.97 178.44 Q2186.94 177.607 2188.12 174.505 L2188.88 172.561 L2178.4 147.052 L2182.91 147.052 L2191.01 167.329 L2199.11 147.052 L2203.63 147.052 L2192.24 175.385 Z\" fill=\"#000000\" fill-rule=\"evenodd\" fill-opacity=\"1\" /><path clip-path=\"url(#clip890)\" d=\"M 0 0 M2209.51 169.042 L2217.15 169.042 L2217.15 142.677 L2208.84 144.343 L2208.84 140.084 L2217.1 138.418 L2221.78 138.418 L2221.78 169.042 L2229.41 169.042 L2229.41 172.978 L2209.51 172.978 L2209.51 169.042 Z\" fill=\"#000000\" fill-rule=\"evenodd\" fill-opacity=\"1\" /><path clip-path=\"url(#clip890)\" d=\"M 0 0 M2192.24 235.865 Q2190.43 240.495 2188.72 241.907 Q2187.01 243.319 2184.14 243.319 L2180.73 243.319 L2180.73 239.754 L2183.23 239.754 Q2184.99 239.754 2185.97 238.92 Q2186.94 238.087 2188.12 234.985 L2188.88 233.041 L2178.4 207.532 L2182.91 207.532 L2191.01 227.809 L2199.11 207.532 L2203.63 207.532 L2192.24 235.865 Z\" fill=\"#000000\" fill-rule=\"evenodd\" fill-opacity=\"1\" /><path clip-path=\"url(#clip890)\" d=\"M 0 0 M2212.73 229.522 L2229.04 229.522 L2229.04 233.458 L2207.1 233.458 L2207.1 229.522 Q2209.76 226.768 2214.35 222.138 Q2218.95 217.485 2220.13 216.143 Q2222.38 213.62 2223.26 211.884 Q2224.16 210.124 2224.16 208.435 Q2224.16 205.68 2222.22 203.944 Q2220.29 202.208 2217.19 202.208 Q2214.99 202.208 2212.54 202.972 Q2210.11 203.735 2207.33 205.286 L2207.33 200.564 Q2210.16 199.43 2212.61 198.851 Q2215.06 198.273 2217.1 198.273 Q2222.47 198.273 2225.66 200.958 Q2228.86 203.643 2228.86 208.134 Q2228.86 210.263 2228.05 212.185 Q2227.26 214.083 2225.16 216.675 Q2224.58 217.347 2221.48 220.564 Q2218.37 223.759 2212.73 229.522 Z\" fill=\"#000000\" fill-rule=\"evenodd\" fill-opacity=\"1\" /><circle clip-path=\"url(#clip890)\" cx=\"2080.19\" cy=\"276.658\" r=\"23\" fill=\"#3da44d\" fill-rule=\"evenodd\" fill-opacity=\"1\" stroke=\"#000000\" stroke-opacity=\"1\" stroke-width=\"5.12\"/>\n",
       "<path clip-path=\"url(#clip890)\" d=\"M 0 0 M2192.24 296.345 Q2190.43 300.975 2188.72 302.387 Q2187.01 303.799 2184.14 303.799 L2180.73 303.799 L2180.73 300.234 L2183.23 300.234 Q2184.99 300.234 2185.97 299.4 Q2186.94 298.567 2188.12 295.465 L2188.88 293.521 L2178.4 268.012 L2182.91 268.012 L2191.01 288.289 L2199.11 268.012 L2203.63 268.012 L2192.24 296.345 Z\" fill=\"#000000\" fill-rule=\"evenodd\" fill-opacity=\"1\" /><path clip-path=\"url(#clip890)\" d=\"M 0 0 M2222.86 275.303 Q2226.22 276.021 2228.1 278.289 Q2229.99 280.558 2229.99 283.891 Q2229.99 289.007 2226.48 291.808 Q2222.96 294.609 2216.48 294.609 Q2214.3 294.609 2211.98 294.169 Q2209.69 293.752 2207.24 292.896 L2207.24 288.382 Q2209.18 289.516 2211.5 290.095 Q2213.81 290.674 2216.34 290.674 Q2220.73 290.674 2223.03 288.938 Q2225.34 287.201 2225.34 283.891 Q2225.34 280.836 2223.19 279.123 Q2221.06 277.387 2217.24 277.387 L2213.21 277.387 L2213.21 273.544 L2217.42 273.544 Q2220.87 273.544 2222.7 272.178 Q2224.53 270.79 2224.53 268.197 Q2224.53 265.535 2222.63 264.123 Q2220.76 262.688 2217.24 262.688 Q2215.32 262.688 2213.12 263.104 Q2210.92 263.521 2208.28 264.401 L2208.28 260.234 Q2210.94 259.493 2213.26 259.123 Q2215.6 258.753 2217.66 258.753 Q2222.98 258.753 2226.08 261.183 Q2229.18 263.59 2229.18 267.711 Q2229.18 270.581 2227.54 272.572 Q2225.9 274.54 2222.86 275.303 Z\" fill=\"#000000\" fill-rule=\"evenodd\" fill-opacity=\"1\" /></svg>\n"
      ]
     },
     "execution_count": 50,
     "metadata": {},
     "output_type": "execute_result"
    }
   ],
   "source": [
    "plot(σ,1,5)\n",
    "scatter!(T⁺,σ.(T⁺))\n",
    "scatter!(T⁻,σ.(T⁻))"
   ]
  },
  {
   "cell_type": "code",
   "execution_count": null,
   "metadata": {},
   "outputs": [],
   "source": []
  }
 ],
 "metadata": {
  "kernelspec": {
   "display_name": "Julia 1.5.2",
   "language": "julia",
   "name": "julia-1.5"
  },
  "language_info": {
   "file_extension": ".jl",
   "mimetype": "application/julia",
   "name": "julia",
   "version": "1.5.2"
  }
 },
 "nbformat": 4,
 "nbformat_minor": 4
}
