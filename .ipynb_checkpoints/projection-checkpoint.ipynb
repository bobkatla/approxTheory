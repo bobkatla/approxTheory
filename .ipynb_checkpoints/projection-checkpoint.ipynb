{
 "cells": [
  {
   "cell_type": "markdown",
   "metadata": {},
   "source": [
    "# Alternative projection"
   ]
  },
  {
   "cell_type": "code",
   "execution_count": 1,
   "metadata": {},
   "outputs": [],
   "source": [
    "# Getting all the required library\n",
    "# using JuMP\n",
    "# using GLPK\n",
    "using Plots"
   ]
  },
  {
   "cell_type": "code",
   "execution_count": 2,
   "metadata": {},
   "outputs": [
    {
     "data": {
      "text/plain": [
       "vander (generic function with 1 method)"
      ]
     },
     "execution_count": 2,
     "metadata": {},
     "output_type": "execute_result"
    }
   ],
   "source": [
    "# Create the vander function for creating a form of representing the vectors and calculations\n",
    "vander(t,n) = hcat([t.^i for i = 0:n-1]...)"
   ]
  },
  {
   "cell_type": "code",
   "execution_count": 3,
   "metadata": {},
   "outputs": [
    {
     "data": {
      "text/plain": [
       "f (generic function with 1 method)"
      ]
     },
     "execution_count": 3,
     "metadata": {},
     "output_type": "execute_result"
    }
   ],
   "source": [
    "# Setting the parameters\n",
    "T=1:0.1:2 # Interpolation points\n",
    "(n, m) = (6, 7) # The power of the 2 poly in the rational functions\n",
    "hy_space_sz = n+m+2\n",
    "N = 10\n",
    "# c = rand(N)\n",
    "# f(t) = sum([c[i]*sin(π*i*(t+0.25)) for i in 1:N]) # Function to approximate\n",
    "\n",
    "f(t) = (t^3+3)/(t^2 + 1) #function simple to test"
   ]
  },
  {
   "cell_type": "code",
   "execution_count": 4,
   "metadata": {},
   "outputs": [
    {
     "data": {
      "image/svg+xml": [
       "<?xml version=\"1.0\" encoding=\"utf-8\"?>\n",
       "<svg xmlns=\"http://www.w3.org/2000/svg\" xmlns:xlink=\"http://www.w3.org/1999/xlink\" width=\"600\" height=\"400\" viewBox=\"0 0 2400 1600\">\n",
       "<defs>\n",
       "  <clipPath id=\"clip820\">\n",
       "    <rect x=\"0\" y=\"0\" width=\"2400\" height=\"1600\"/>\n",
       "  </clipPath>\n",
       "</defs>\n",
       "<path clip-path=\"url(#clip820)\" d=\"\n",
       "M0 1600 L2400 1600 L2400 0 L0 0  Z\n",
       "  \" fill=\"#ffffff\" fill-rule=\"evenodd\" fill-opacity=\"1\"/>\n",
       "<defs>\n",
       "  <clipPath id=\"clip821\">\n",
       "    <rect x=\"480\" y=\"0\" width=\"1681\" height=\"1600\"/>\n",
       "  </clipPath>\n",
       "</defs>\n",
       "<path clip-path=\"url(#clip820)\" d=\"\n",
       "M134.584 1486.45 L2352.76 1486.45 L2352.76 47.2441 L134.584 47.2441  Z\n",
       "  \" fill=\"#ffffff\" fill-rule=\"evenodd\" fill-opacity=\"1\"/>\n",
       "<defs>\n",
       "  <clipPath id=\"clip822\">\n",
       "    <rect x=\"134\" y=\"47\" width=\"2219\" height=\"1440\"/>\n",
       "  </clipPath>\n",
       "</defs>\n",
       "<polyline clip-path=\"url(#clip822)\" style=\"stroke:#000000; stroke-width:2; stroke-opacity:0.1; fill:none\" points=\"\n",
       "  197.363,1486.45 197.363,47.2441 \n",
       "  \"/>\n",
       "<polyline clip-path=\"url(#clip822)\" style=\"stroke:#000000; stroke-width:2; stroke-opacity:0.1; fill:none\" points=\"\n",
       "  720.517,1486.45 720.517,47.2441 \n",
       "  \"/>\n",
       "<polyline clip-path=\"url(#clip822)\" style=\"stroke:#000000; stroke-width:2; stroke-opacity:0.1; fill:none\" points=\"\n",
       "  1243.67,1486.45 1243.67,47.2441 \n",
       "  \"/>\n",
       "<polyline clip-path=\"url(#clip822)\" style=\"stroke:#000000; stroke-width:2; stroke-opacity:0.1; fill:none\" points=\"\n",
       "  1766.82,1486.45 1766.82,47.2441 \n",
       "  \"/>\n",
       "<polyline clip-path=\"url(#clip822)\" style=\"stroke:#000000; stroke-width:2; stroke-opacity:0.1; fill:none\" points=\"\n",
       "  2289.98,1486.45 2289.98,47.2441 \n",
       "  \"/>\n",
       "<polyline clip-path=\"url(#clip820)\" style=\"stroke:#000000; stroke-width:4; stroke-opacity:1; fill:none\" points=\"\n",
       "  134.584,1486.45 2352.76,1486.45 \n",
       "  \"/>\n",
       "<polyline clip-path=\"url(#clip820)\" style=\"stroke:#000000; stroke-width:4; stroke-opacity:1; fill:none\" points=\"\n",
       "  197.363,1486.45 197.363,1469.18 \n",
       "  \"/>\n",
       "<polyline clip-path=\"url(#clip820)\" style=\"stroke:#000000; stroke-width:4; stroke-opacity:1; fill:none\" points=\"\n",
       "  720.517,1486.45 720.517,1469.18 \n",
       "  \"/>\n",
       "<polyline clip-path=\"url(#clip820)\" style=\"stroke:#000000; stroke-width:4; stroke-opacity:1; fill:none\" points=\"\n",
       "  1243.67,1486.45 1243.67,1469.18 \n",
       "  \"/>\n",
       "<polyline clip-path=\"url(#clip820)\" style=\"stroke:#000000; stroke-width:4; stroke-opacity:1; fill:none\" points=\"\n",
       "  1766.82,1486.45 1766.82,1469.18 \n",
       "  \"/>\n",
       "<polyline clip-path=\"url(#clip820)\" style=\"stroke:#000000; stroke-width:4; stroke-opacity:1; fill:none\" points=\"\n",
       "  2289.98,1486.45 2289.98,1469.18 \n",
       "  \"/>\n",
       "<path clip-path=\"url(#clip820)\" d=\"M 0 0 M178.879 1515.64 Q175.268 1515.64 173.439 1519.2 Q171.634 1522.75 171.634 1529.87 Q171.634 1536.98 173.439 1540.55 Q175.268 1544.09 178.879 1544.09 Q182.513 1544.09 184.319 1540.55 Q186.148 1536.98 186.148 1529.87 Q186.148 1522.75 184.319 1519.2 Q182.513 1515.64 178.879 1515.64 M178.879 1511.93 Q184.689 1511.93 187.745 1516.54 Q190.824 1521.12 190.824 1529.87 Q190.824 1538.6 187.745 1543.21 Q184.689 1547.79 178.879 1547.79 Q173.069 1547.79 169.99 1543.21 Q166.935 1538.6 166.935 1529.87 Q166.935 1521.12 169.99 1516.54 Q173.069 1511.93 178.879 1511.93 Z\" fill=\"#000000\" fill-rule=\"evenodd\" fill-opacity=\"1\" /><path clip-path=\"url(#clip820)\" d=\"M 0 0 M195.893 1541.24 L200.777 1541.24 L200.777 1547.12 L195.893 1547.12 L195.893 1541.24 Z\" fill=\"#000000\" fill-rule=\"evenodd\" fill-opacity=\"1\" /><path clip-path=\"url(#clip820)\" d=\"M 0 0 M215.847 1515.64 Q212.236 1515.64 210.407 1519.2 Q208.601 1522.75 208.601 1529.87 Q208.601 1536.98 210.407 1540.55 Q212.236 1544.09 215.847 1544.09 Q219.481 1544.09 221.286 1540.55 Q223.115 1536.98 223.115 1529.87 Q223.115 1522.75 221.286 1519.2 Q219.481 1515.64 215.847 1515.64 M215.847 1511.93 Q221.657 1511.93 224.712 1516.54 Q227.791 1521.12 227.791 1529.87 Q227.791 1538.6 224.712 1543.21 Q221.657 1547.79 215.847 1547.79 Q210.036 1547.79 206.958 1543.21 Q203.902 1538.6 203.902 1529.87 Q203.902 1521.12 206.958 1516.54 Q210.036 1511.93 215.847 1511.93 Z\" fill=\"#000000\" fill-rule=\"evenodd\" fill-opacity=\"1\" /><path clip-path=\"url(#clip820)\" d=\"M 0 0 M697.183 1543.18 L713.503 1543.18 L713.503 1547.12 L691.558 1547.12 L691.558 1543.18 Q694.22 1540.43 698.804 1535.8 Q703.41 1531.15 704.591 1529.81 Q706.836 1527.28 707.716 1525.55 Q708.618 1523.79 708.618 1522.1 Q708.618 1519.34 706.674 1517.61 Q704.753 1515.87 701.651 1515.87 Q699.452 1515.87 696.998 1516.63 Q694.568 1517.4 691.79 1518.95 L691.79 1514.23 Q694.614 1513.09 697.068 1512.51 Q699.521 1511.93 701.558 1511.93 Q706.929 1511.93 710.123 1514.62 Q713.318 1517.31 713.318 1521.8 Q713.318 1523.93 712.507 1525.85 Q711.72 1527.74 709.614 1530.34 Q709.035 1531.01 705.933 1534.23 Q702.831 1537.42 697.183 1543.18 Z\" fill=\"#000000\" fill-rule=\"evenodd\" fill-opacity=\"1\" /><path clip-path=\"url(#clip820)\" d=\"M 0 0 M718.572 1541.24 L723.456 1541.24 L723.456 1547.12 L718.572 1547.12 L718.572 1541.24 Z\" fill=\"#000000\" fill-rule=\"evenodd\" fill-opacity=\"1\" /><path clip-path=\"url(#clip820)\" d=\"M 0 0 M728.572 1512.56 L746.928 1512.56 L746.928 1516.5 L732.854 1516.5 L732.854 1524.97 Q733.873 1524.62 734.891 1524.46 Q735.91 1524.27 736.928 1524.27 Q742.715 1524.27 746.095 1527.44 Q749.475 1530.62 749.475 1536.03 Q749.475 1541.61 746.003 1544.71 Q742.53 1547.79 736.211 1547.79 Q734.035 1547.79 731.766 1547.42 Q729.521 1547.05 727.114 1546.31 L727.114 1541.61 Q729.197 1542.74 731.419 1543.3 Q733.641 1543.86 736.118 1543.86 Q740.123 1543.86 742.461 1541.75 Q744.799 1539.64 744.799 1536.03 Q744.799 1532.42 742.461 1530.31 Q740.123 1528.21 736.118 1528.21 Q734.243 1528.21 732.368 1528.62 Q730.516 1529.04 728.572 1529.92 L728.572 1512.56 Z\" fill=\"#000000\" fill-rule=\"evenodd\" fill-opacity=\"1\" /><path clip-path=\"url(#clip820)\" d=\"M 0 0 M1215.46 1512.56 L1233.82 1512.56 L1233.82 1516.5 L1219.75 1516.5 L1219.75 1524.97 Q1220.77 1524.62 1221.78 1524.46 Q1222.8 1524.27 1223.82 1524.27 Q1229.61 1524.27 1232.99 1527.44 Q1236.37 1530.62 1236.37 1536.03 Q1236.37 1541.61 1232.89 1544.71 Q1229.42 1547.79 1223.1 1547.79 Q1220.93 1547.79 1218.66 1547.42 Q1216.41 1547.05 1214.01 1546.31 L1214.01 1541.61 Q1216.09 1542.74 1218.31 1543.3 Q1220.53 1543.86 1223.01 1543.86 Q1227.02 1543.86 1229.35 1541.75 Q1231.69 1539.64 1231.69 1536.03 Q1231.69 1532.42 1229.35 1530.31 Q1227.02 1528.21 1223.01 1528.21 Q1221.14 1528.21 1219.26 1528.62 Q1217.41 1529.04 1215.46 1529.92 L1215.46 1512.56 Z\" fill=\"#000000\" fill-rule=\"evenodd\" fill-opacity=\"1\" /><path clip-path=\"url(#clip820)\" d=\"M 0 0 M1241.44 1541.24 L1246.32 1541.24 L1246.32 1547.12 L1241.44 1547.12 L1241.44 1541.24 Z\" fill=\"#000000\" fill-rule=\"evenodd\" fill-opacity=\"1\" /><path clip-path=\"url(#clip820)\" d=\"M 0 0 M1261.39 1515.64 Q1257.78 1515.64 1255.95 1519.2 Q1254.14 1522.75 1254.14 1529.87 Q1254.14 1536.98 1255.95 1540.55 Q1257.78 1544.09 1261.39 1544.09 Q1265.02 1544.09 1266.83 1540.55 Q1268.66 1536.98 1268.66 1529.87 Q1268.66 1522.75 1266.83 1519.2 Q1265.02 1515.64 1261.39 1515.64 M1261.39 1511.93 Q1267.2 1511.93 1270.26 1516.54 Q1273.33 1521.12 1273.33 1529.87 Q1273.33 1538.6 1270.26 1543.21 Q1267.2 1547.79 1261.39 1547.79 Q1255.58 1547.79 1252.5 1543.21 Q1249.45 1538.6 1249.45 1529.87 Q1249.45 1521.12 1252.5 1516.54 Q1255.58 1511.93 1261.39 1511.93 Z\" fill=\"#000000\" fill-rule=\"evenodd\" fill-opacity=\"1\" /><path clip-path=\"url(#clip820)\" d=\"M 0 0 M1737.73 1512.56 L1759.95 1512.56 L1759.95 1514.55 L1747.4 1547.12 L1742.52 1547.12 L1754.32 1516.5 L1737.73 1516.5 L1737.73 1512.56 Z\" fill=\"#000000\" fill-rule=\"evenodd\" fill-opacity=\"1\" /><path clip-path=\"url(#clip820)\" d=\"M 0 0 M1765.02 1541.24 L1769.9 1541.24 L1769.9 1547.12 L1765.02 1547.12 L1765.02 1541.24 Z\" fill=\"#000000\" fill-rule=\"evenodd\" fill-opacity=\"1\" /><path clip-path=\"url(#clip820)\" d=\"M 0 0 M1775.02 1512.56 L1793.37 1512.56 L1793.37 1516.5 L1779.3 1516.5 L1779.3 1524.97 Q1780.32 1524.62 1781.34 1524.46 Q1782.36 1524.27 1783.37 1524.27 Q1789.16 1524.27 1792.54 1527.44 Q1795.92 1530.62 1795.92 1536.03 Q1795.92 1541.61 1792.45 1544.71 Q1788.98 1547.79 1782.66 1547.79 Q1780.48 1547.79 1778.21 1547.42 Q1775.97 1547.05 1773.56 1546.31 L1773.56 1541.61 Q1775.64 1542.74 1777.87 1543.3 Q1780.09 1543.86 1782.56 1543.86 Q1786.57 1543.86 1788.91 1541.75 Q1791.24 1539.64 1791.24 1536.03 Q1791.24 1532.42 1788.91 1530.31 Q1786.57 1528.21 1782.56 1528.21 Q1780.69 1528.21 1778.81 1528.62 Q1776.96 1529.04 1775.02 1529.92 L1775.02 1512.56 Z\" fill=\"#000000\" fill-rule=\"evenodd\" fill-opacity=\"1\" /><path clip-path=\"url(#clip820)\" d=\"M 0 0 M2248.37 1543.18 L2256.01 1543.18 L2256.01 1516.82 L2247.7 1518.49 L2247.7 1514.23 L2255.96 1512.56 L2260.64 1512.56 L2260.64 1543.18 L2268.28 1543.18 L2268.28 1547.12 L2248.37 1547.12 L2248.37 1543.18 Z\" fill=\"#000000\" fill-rule=\"evenodd\" fill-opacity=\"1\" /><path clip-path=\"url(#clip820)\" d=\"M 0 0 M2283.35 1515.64 Q2279.73 1515.64 2277.91 1519.2 Q2276.1 1522.75 2276.1 1529.87 Q2276.1 1536.98 2277.91 1540.55 Q2279.73 1544.09 2283.35 1544.09 Q2286.98 1544.09 2288.79 1540.55 Q2290.61 1536.98 2290.61 1529.87 Q2290.61 1522.75 2288.79 1519.2 Q2286.98 1515.64 2283.35 1515.64 M2283.35 1511.93 Q2289.16 1511.93 2292.21 1516.54 Q2295.29 1521.12 2295.29 1529.87 Q2295.29 1538.6 2292.21 1543.21 Q2289.16 1547.79 2283.35 1547.79 Q2277.54 1547.79 2274.46 1543.21 Q2271.4 1538.6 2271.4 1529.87 Q2271.4 1521.12 2274.46 1516.54 Q2277.54 1511.93 2283.35 1511.93 Z\" fill=\"#000000\" fill-rule=\"evenodd\" fill-opacity=\"1\" /><path clip-path=\"url(#clip820)\" d=\"M 0 0 M2300.36 1541.24 L2305.24 1541.24 L2305.24 1547.12 L2300.36 1547.12 L2300.36 1541.24 Z\" fill=\"#000000\" fill-rule=\"evenodd\" fill-opacity=\"1\" /><path clip-path=\"url(#clip820)\" d=\"M 0 0 M2320.31 1515.64 Q2316.7 1515.64 2314.87 1519.2 Q2313.07 1522.75 2313.07 1529.87 Q2313.07 1536.98 2314.87 1540.55 Q2316.7 1544.09 2320.31 1544.09 Q2323.95 1544.09 2325.75 1540.55 Q2327.58 1536.98 2327.58 1529.87 Q2327.58 1522.75 2325.75 1519.2 Q2323.95 1515.64 2320.31 1515.64 M2320.31 1511.93 Q2326.12 1511.93 2329.18 1516.54 Q2332.26 1521.12 2332.26 1529.87 Q2332.26 1538.6 2329.18 1543.21 Q2326.12 1547.79 2320.31 1547.79 Q2314.5 1547.79 2311.42 1543.21 Q2308.37 1538.6 2308.37 1529.87 Q2308.37 1521.12 2311.42 1516.54 Q2314.5 1511.93 2320.31 1511.93 Z\" fill=\"#000000\" fill-rule=\"evenodd\" fill-opacity=\"1\" /><polyline clip-path=\"url(#clip822)\" style=\"stroke:#000000; stroke-width:2; stroke-opacity:0.1; fill:none\" points=\"\n",
       "  134.584,1434.18 2352.76,1434.18 \n",
       "  \"/>\n",
       "<polyline clip-path=\"url(#clip822)\" style=\"stroke:#000000; stroke-width:2; stroke-opacity:0.1; fill:none\" points=\"\n",
       "  134.584,1094.69 2352.76,1094.69 \n",
       "  \"/>\n",
       "<polyline clip-path=\"url(#clip822)\" style=\"stroke:#000000; stroke-width:2; stroke-opacity:0.1; fill:none\" points=\"\n",
       "  134.584,755.197 2352.76,755.197 \n",
       "  \"/>\n",
       "<polyline clip-path=\"url(#clip822)\" style=\"stroke:#000000; stroke-width:2; stroke-opacity:0.1; fill:none\" points=\"\n",
       "  134.584,415.704 2352.76,415.704 \n",
       "  \"/>\n",
       "<polyline clip-path=\"url(#clip822)\" style=\"stroke:#000000; stroke-width:2; stroke-opacity:0.1; fill:none\" points=\"\n",
       "  134.584,76.2117 2352.76,76.2117 \n",
       "  \"/>\n",
       "<polyline clip-path=\"url(#clip820)\" style=\"stroke:#000000; stroke-width:4; stroke-opacity:1; fill:none\" points=\"\n",
       "  134.584,1486.45 134.584,47.2441 \n",
       "  \"/>\n",
       "<polyline clip-path=\"url(#clip820)\" style=\"stroke:#000000; stroke-width:4; stroke-opacity:1; fill:none\" points=\"\n",
       "  134.584,1434.18 161.203,1434.18 \n",
       "  \"/>\n",
       "<polyline clip-path=\"url(#clip820)\" style=\"stroke:#000000; stroke-width:4; stroke-opacity:1; fill:none\" points=\"\n",
       "  134.584,1094.69 161.203,1094.69 \n",
       "  \"/>\n",
       "<polyline clip-path=\"url(#clip820)\" style=\"stroke:#000000; stroke-width:4; stroke-opacity:1; fill:none\" points=\"\n",
       "  134.584,755.197 161.203,755.197 \n",
       "  \"/>\n",
       "<polyline clip-path=\"url(#clip820)\" style=\"stroke:#000000; stroke-width:4; stroke-opacity:1; fill:none\" points=\"\n",
       "  134.584,415.704 161.203,415.704 \n",
       "  \"/>\n",
       "<polyline clip-path=\"url(#clip820)\" style=\"stroke:#000000; stroke-width:4; stroke-opacity:1; fill:none\" points=\"\n",
       "  134.584,76.2117 161.203,76.2117 \n",
       "  \"/>\n",
       "<path clip-path=\"url(#clip820)\" d=\"M 0 0 M82.2651 1447.53 L98.5845 1447.53 L98.5845 1451.46 L76.6401 1451.46 L76.6401 1447.53 Q79.3022 1444.77 83.8855 1440.14 Q88.4919 1435.49 89.6725 1434.15 Q91.9178 1431.62 92.7975 1429.89 Q93.7002 1428.13 93.7002 1426.44 Q93.7002 1423.68 91.7558 1421.95 Q89.8345 1420.21 86.7327 1420.21 Q84.5336 1420.21 82.0799 1420.98 Q79.6494 1421.74 76.8716 1423.29 L76.8716 1418.57 Q79.6957 1417.43 82.1494 1416.86 Q84.6031 1416.28 86.6401 1416.28 Q92.0104 1416.28 95.2049 1418.96 Q98.3993 1421.65 98.3993 1426.14 Q98.3993 1428.27 97.5891 1430.19 Q96.8021 1432.09 94.6956 1434.68 Q94.1169 1435.35 91.0151 1438.57 Q87.9132 1441.76 82.2651 1447.53 Z\" fill=\"#000000\" fill-rule=\"evenodd\" fill-opacity=\"1\" /><path clip-path=\"url(#clip820)\" d=\"M 0 0 M89.0012 1081.48 L77.1957 1099.93 L89.0012 1099.93 L89.0012 1081.48 M87.7743 1077.41 L93.6539 1077.41 L93.6539 1099.93 L98.5845 1099.93 L98.5845 1103.82 L93.6539 1103.82 L93.6539 1111.97 L89.0012 1111.97 L89.0012 1103.82 L73.3994 1103.82 L73.3994 1099.31 L87.7743 1077.41 Z\" fill=\"#000000\" fill-rule=\"evenodd\" fill-opacity=\"1\" /><path clip-path=\"url(#clip820)\" d=\"M 0 0 M87.0567 753.333 Q83.9086 753.333 82.0568 755.486 Q80.2281 757.639 80.2281 761.389 Q80.2281 765.116 82.0568 767.291 Q83.9086 769.444 87.0567 769.444 Q90.2049 769.444 92.0336 767.291 Q93.8854 765.116 93.8854 761.389 Q93.8854 757.639 92.0336 755.486 Q90.2049 753.333 87.0567 753.333 M96.3391 738.68 L96.3391 742.94 Q94.5799 742.106 92.7743 741.667 Q90.9919 741.227 89.2327 741.227 Q84.6031 741.227 82.1494 744.352 Q79.7188 747.477 79.3716 753.796 Q80.7373 751.782 82.7975 750.717 Q84.8577 749.629 87.3345 749.629 Q92.5428 749.629 95.5521 752.801 Q98.5845 755.949 98.5845 761.389 Q98.5845 766.713 95.4363 769.93 Q92.2882 773.148 87.0567 773.148 Q81.0614 773.148 77.8901 768.565 Q74.7189 763.958 74.7189 755.231 Q74.7189 747.037 78.6077 742.176 Q82.4966 737.292 89.0475 737.292 Q90.8067 737.292 92.5891 737.639 Q94.3947 737.986 96.3391 738.68 Z\" fill=\"#000000\" fill-rule=\"evenodd\" fill-opacity=\"1\" /><path clip-path=\"url(#clip820)\" d=\"M 0 0 M86.7327 416.572 Q83.3994 416.572 81.4781 418.355 Q79.5799 420.137 79.5799 423.262 Q79.5799 426.387 81.4781 428.169 Q83.3994 429.952 86.7327 429.952 Q90.066 429.952 91.9873 428.169 Q93.9086 426.364 93.9086 423.262 Q93.9086 420.137 91.9873 418.355 Q90.0891 416.572 86.7327 416.572 M82.0568 414.581 Q79.0475 413.841 77.3577 411.781 Q75.6911 409.72 75.6911 406.757 Q75.6911 402.614 78.6309 400.207 Q81.5938 397.799 86.7327 397.799 Q91.8947 397.799 94.8345 400.207 Q97.7743 402.614 97.7743 406.757 Q97.7743 409.72 96.0845 411.781 Q94.4178 413.841 91.4317 414.581 Q94.8113 415.368 96.6863 417.66 Q98.5845 419.952 98.5845 423.262 Q98.5845 428.285 95.5058 430.97 Q92.4502 433.655 86.7327 433.655 Q81.0151 433.655 77.9364 430.97 Q74.8809 428.285 74.8809 423.262 Q74.8809 419.952 76.779 417.66 Q78.6772 415.368 82.0568 414.581 M80.3438 407.197 Q80.3438 409.882 82.0105 411.387 Q83.7003 412.892 86.7327 412.892 Q89.7419 412.892 91.4317 411.387 Q93.1447 409.882 93.1447 407.197 Q93.1447 404.512 91.4317 403.007 Q89.7419 401.503 86.7327 401.503 Q83.7003 401.503 82.0105 403.007 Q80.3438 404.512 80.3438 407.197 Z\" fill=\"#000000\" fill-rule=\"evenodd\" fill-opacity=\"1\" /><path clip-path=\"url(#clip820)\" d=\"M 0 0 M51.6634 89.5565 L59.3023 89.5565 L59.3023 63.1909 L50.9921 64.8576 L50.9921 60.5983 L59.256 58.9317 L63.9319 58.9317 L63.9319 89.5565 L71.5707 89.5565 L71.5707 93.4917 L51.6634 93.4917 L51.6634 89.5565 Z\" fill=\"#000000\" fill-rule=\"evenodd\" fill-opacity=\"1\" /><path clip-path=\"url(#clip820)\" d=\"M 0 0 M86.6401 62.0104 Q83.029 62.0104 81.2003 65.5752 Q79.3948 69.1168 79.3948 76.2464 Q79.3948 83.3529 81.2003 86.9176 Q83.029 90.4593 86.6401 90.4593 Q90.2743 90.4593 92.0799 86.9176 Q93.9086 83.3529 93.9086 76.2464 Q93.9086 69.1168 92.0799 65.5752 Q90.2743 62.0104 86.6401 62.0104 M86.6401 58.3067 Q92.4502 58.3067 95.5058 62.9131 Q98.5845 67.4965 98.5845 76.2464 Q98.5845 84.9732 95.5058 89.5797 Q92.4502 94.163 86.6401 94.163 Q80.8299 94.163 77.7512 89.5797 Q74.6957 84.9732 74.6957 76.2464 Q74.6957 67.4965 77.7512 62.9131 Q80.8299 58.3067 86.6401 58.3067 Z\" fill=\"#000000\" fill-rule=\"evenodd\" fill-opacity=\"1\" /><polyline clip-path=\"url(#clip822)\" style=\"stroke:#009af9; stroke-width:4; stroke-opacity:1; fill:none\" points=\"\n",
       "  197.363,1264.44 202.472,1264.74 207.581,1265.63 212.69,1267.09 217.799,1269.09 265.039,1307.46 312.28,1360.83 359.52,1406.14 406.76,1434.24 435.15,1442.72 \n",
       "  463.539,1445.72 491.929,1444.07 520.318,1438.59 568.324,1422.47 616.33,1400 720.625,1337.53 816.777,1270.53 919.861,1193.55 1039.29,1100.83 1145.43,1016.7 \n",
       "  1238.51,942.151 1339.98,860.371 1442.06,777.771 1554.92,686.205 1662.3,598.939 1773.96,508.113 1867.95,431.615 1982.7,338.191 2090.57,250.356 2263.38,109.632 \n",
       "  2289.98,87.9763 \n",
       "  \"/>\n",
       "<path clip-path=\"url(#clip820)\" d=\"\n",
       "M1981.34 216.178 L2278.82 216.178 L2278.82 95.2176 L1981.34 95.2176  Z\n",
       "  \" fill=\"#ffffff\" fill-rule=\"evenodd\" fill-opacity=\"1\"/>\n",
       "<polyline clip-path=\"url(#clip820)\" style=\"stroke:#000000; stroke-width:4; stroke-opacity:1; fill:none\" points=\"\n",
       "  1981.34,216.178 2278.82,216.178 2278.82,95.2176 1981.34,95.2176 1981.34,216.178 \n",
       "  \"/>\n",
       "<polyline clip-path=\"url(#clip820)\" style=\"stroke:#009af9; stroke-width:4; stroke-opacity:1; fill:none\" points=\"\n",
       "  2005.98,155.698 2153.86,155.698 \n",
       "  \"/>\n",
       "<path clip-path=\"url(#clip820)\" d=\"M 0 0 M2192.35 175.385 Q2190.54 180.015 2188.83 181.427 Q2187.12 182.839 2184.25 182.839 L2180.84 182.839 L2180.84 179.274 L2183.34 179.274 Q2185.1 179.274 2186.08 178.44 Q2187.05 177.607 2188.23 174.505 L2188.99 172.561 L2178.51 147.052 L2183.02 147.052 L2191.12 167.329 L2199.22 147.052 L2203.74 147.052 L2192.35 175.385 Z\" fill=\"#000000\" fill-rule=\"evenodd\" fill-opacity=\"1\" /><path clip-path=\"url(#clip820)\" d=\"M 0 0 M2209.62 169.042 L2217.26 169.042 L2217.26 142.677 L2208.95 144.343 L2208.95 140.084 L2217.21 138.418 L2221.89 138.418 L2221.89 169.042 L2229.52 169.042 L2229.52 172.978 L2209.62 172.978 L2209.62 169.042 Z\" fill=\"#000000\" fill-rule=\"evenodd\" fill-opacity=\"1\" /></svg>\n"
      ]
     },
     "execution_count": 4,
     "metadata": {},
     "output_type": "execute_result"
    }
   ],
   "source": [
    "# plot the f to see\n",
    "plot(f,0,10)"
   ]
  },
  {
   "cell_type": "code",
   "execution_count": 5,
   "metadata": {},
   "outputs": [
    {
     "data": {
      "text/plain": [
       "calculateDisAndPoint (generic function with 1 method)"
      ]
     },
     "execution_count": 5,
     "metadata": {},
     "output_type": "execute_result"
    }
   ],
   "source": [
    "# we are creating hyperplanes by thinking f(x) = p(x)/q(x)\n",
    "# or converting to <A, xn> - f(x)<B, xm> = 0 with A, B is correspondingly coe of p(x) and q(x) and are the keys\n",
    "# xn and xm are the vectors which will represent the fucntions\n",
    "# for easy calculation combining A and B into a big vector so it would be: <A to B, xn to -f(x)xm> = 0\n",
    "# this is a hyperplan formula with d = 0\n",
    "# therefore, xn to -f(x)xm is the vector of the hyperplane in R n+m+2 space\n",
    "\n",
    "# function to calculate the distince between a point and the hyperplane with the sign\n",
    "function calculateDisAndPoint(check_value, the_point, n, m)\n",
    "    hy_space_sz = n + m + 2\n",
    "    xn = vander(check_value, n+1)\n",
    "    xm = vander(check_value, m+1)\n",
    "    big_vect = hcat(xn, -f(check_value)*xm)\n",
    "#     calculate distance by |vect.start_point + d|/||vect|| , d is 0 in this case\n",
    "    a = sum(hcat([the_point[i]*big_vect[i] for i in 1:hy_space_sz]...))\n",
    "    b = sum(hcat([big_vect[i]*big_vect[i] for i in 1:hy_space_sz]...))\n",
    "    c = sqrt(b)\n",
    "    dis = a/b\n",
    "#     calculate lambda in x - x0 = lambda.vect to calculate the projectpoint\n",
    "    lambd = a/c\n",
    "    x0 = the_point - (lambd * big_vect)\n",
    "    return dis, x0\n",
    "end"
   ]
  },
  {
   "cell_type": "code",
   "execution_count": 6,
   "metadata": {},
   "outputs": [],
   "source": [
    "# iterate after a certain times and store the value in a array of the size of number of hyperplanes\n",
    "num_hy = size(T)[1]\n",
    "distA = Array{Float64}(undef, 1, num_hy)\n",
    "pointA = Array{Array{Float64}}(undef, 1, num_hy)\n",
    "ite_times = 10\n",
    "s_p = vander(1, hy_space_sz)\n",
    "\n",
    "for i in 1:(ite_times*num_hy)\n",
    "    check = i%num_hy + 1\n",
    "    result = calculateDisAndPoint(T[check],s_p,n,m)\n",
    "    distA[check] = result[1]\n",
    "    pointA[check] = result[2]\n",
    "    s_p = result[2]\n",
    "end"
   ]
  },
  {
   "cell_type": "code",
   "execution_count": null,
   "metadata": {},
   "outputs": [],
   "source": [
    "# calculate the mid point\n",
    "mid_p = sum(pointA)/num_hy"
   ]
  },
  {
   "cell_type": "code",
   "execution_count": null,
   "metadata": {},
   "outputs": [],
   "source": [
    "for i in mid_p\n",
    "    println(i)\n",
    "end"
   ]
  },
  {
   "cell_type": "code",
   "execution_count": null,
   "metadata": {},
   "outputs": [],
   "source": [
    "# we now have the final results\n",
    "p(t) = sum((t^i)*mid_p[i] for i in 1:(n+1))\n",
    "q(t) = sum((t^i)*mid_p[i+n+1] for i in 1:(m+1))\n",
    "g(t) = p(t)/q(t)"
   ]
  },
  {
   "cell_type": "code",
   "execution_count": null,
   "metadata": {},
   "outputs": [],
   "source": [
    "plot(g,1,2)\n",
    "plot!(f,1,2)"
   ]
  },
  {
   "cell_type": "code",
   "execution_count": null,
   "metadata": {},
   "outputs": [],
   "source": [
    "# Find the points of extreme deviation:\n",
    "\n",
    "σ(t) = g(t) - f(t)\n",
    "Tmax = maximum(abs.(σ.(T)))\n",
    "T⁺ = T[findall(t -> σ(t) ≈ Tmax, T)]\n",
    "T⁻ = T[findall(t -> σ(t) ≈ -Tmax, T)]"
   ]
  },
  {
   "cell_type": "code",
   "execution_count": null,
   "metadata": {},
   "outputs": [],
   "source": [
    "plot(σ,0,1)\n",
    "scatter!(T⁺,σ.(T⁺))\n",
    "scatter!(T⁻,σ.(T⁻))"
   ]
  },
  {
   "cell_type": "code",
   "execution_count": null,
   "metadata": {},
   "outputs": [],
   "source": []
  }
 ],
 "metadata": {
  "kernelspec": {
   "display_name": "Julia 1.5.2",
   "language": "julia",
   "name": "julia-1.5"
  },
  "language_info": {
   "file_extension": ".jl",
   "mimetype": "application/julia",
   "name": "julia",
   "version": "1.5.2"
  }
 },
 "nbformat": 4,
 "nbformat_minor": 4
}
