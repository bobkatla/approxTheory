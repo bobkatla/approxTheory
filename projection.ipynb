{
 "cells": [
  {
   "cell_type": "markdown",
   "metadata": {},
   "source": [
    "# Alternative projection"
   ]
  },
  {
   "cell_type": "code",
   "execution_count": 1,
   "metadata": {},
   "outputs": [],
   "source": [
    "# Getting all the required library\n",
    "# using JuMP\n",
    "# using GLPK\n",
    "\n",
    "using Plots\n",
    "using LinearAlgebra\n",
    "using Statistics"
   ]
  },
  {
   "cell_type": "code",
   "execution_count": 2,
   "metadata": {},
   "outputs": [
    {
     "data": {
      "text/plain": [
       "vander (generic function with 1 method)"
      ]
     },
     "execution_count": 2,
     "metadata": {},
     "output_type": "execute_result"
    }
   ],
   "source": [
    "# Create the vander function for creating a form of representing the vectors and calculations\n",
    "vander(t,n) = hcat([t.^i for i = 0:n-1]...)"
   ]
  },
  {
   "cell_type": "code",
   "execution_count": 3,
   "metadata": {},
   "outputs": [
    {
     "data": {
      "text/plain": [
       "10-element Array{Float64,1}:\n",
       " 0.33206414725396494\n",
       " 0.47132951637308595\n",
       " 0.5248175732258622\n",
       " 0.533329980436396\n",
       " 0.41917156154344304\n",
       " 0.7603814121386427\n",
       " 0.15751322247319477\n",
       " 0.955988458657586\n",
       " 0.343428948373818\n",
       " 0.30263118511576237"
      ]
     },
     "execution_count": 3,
     "metadata": {},
     "output_type": "execute_result"
    }
   ],
   "source": [
    "N = 10\n",
    "c = rand(N)"
   ]
  },
  {
   "cell_type": "code",
   "execution_count": 4,
   "metadata": {},
   "outputs": [
    {
     "data": {
      "text/plain": [
       "f (generic function with 1 method)"
      ]
     },
     "execution_count": 4,
     "metadata": {},
     "output_type": "execute_result"
    }
   ],
   "source": [
    "# Setting the parameters\n",
    "T=0:0.1:3 # Interpolation points, note it has to be different from 0 so it's best to pick from 1\n",
    "(n, m) = (3, 3) # The power of the 2 poly in the rational functions\n",
    "# f(t) = sum([c[i]*sin(π*i*(t+0.25)) for i in 1:N]) # Function to approximate\n",
    "\n",
    "# f(t) = (t^3+3)/(t^2 + 1) #function simple to test"
   ]
  },
  {
   "cell_type": "code",
   "execution_count": 100,
   "metadata": {},
   "outputs": [
    {
     "data": {
      "text/plain": [
       "r (generic function with 1 method)"
      ]
     },
     "execution_count": 100,
     "metadata": {},
     "output_type": "execute_result"
    }
   ],
   "source": [
    "# x = range(-2, stop=2, length=100)\n",
    "# y = range(sqrt(2), stop=2, length=100)\n",
    "r(x,y) = x*y*x - x^2 - y^3 + 3"
   ]
  },
  {
   "cell_type": "code",
   "execution_count": 120,
   "metadata": {},
   "outputs": [
    {
     "ename": "LoadError",
     "evalue": "MethodError: Cannot `convert` an object of type \n  Float64 to an object of type \n  Array{Float64,N} where N\nClosest candidates are:\n  convert(::Type{Array{T,N} where N}, !Matched::StaticArrays.SizedArray{S,T,N,M,Array{T,M}}) where {S, T, N, M} at C:\\Users\\Bob Kat\\.julia\\packages\\StaticArrays\\NTbHj\\src\\SizedArray.jl:111\n  convert(::Type{Array{T,N} where N}, !Matched::StaticArrays.SizedArray{S,T,N,M,TData} where TData<:AbstractArray{T,M} where M where N) where {T, S} at C:\\Users\\Bob Kat\\.julia\\packages\\StaticArrays\\NTbHj\\src\\SizedArray.jl:108\n  convert(::Type{T}, !Matched::AbstractArray) where T<:Array at array.jl:554\n  ...",
     "output_type": "error",
     "traceback": [
      "MethodError: Cannot `convert` an object of type \n  Float64 to an object of type \n  Array{Float64,N} where N\nClosest candidates are:\n  convert(::Type{Array{T,N} where N}, !Matched::StaticArrays.SizedArray{S,T,N,M,Array{T,M}}) where {S, T, N, M} at C:\\Users\\Bob Kat\\.julia\\packages\\StaticArrays\\NTbHj\\src\\SizedArray.jl:111\n  convert(::Type{Array{T,N} where N}, !Matched::StaticArrays.SizedArray{S,T,N,M,TData} where TData<:AbstractArray{T,M} where M where N) where {T, S} at C:\\Users\\Bob Kat\\.julia\\packages\\StaticArrays\\NTbHj\\src\\SizedArray.jl:108\n  convert(::Type{T}, !Matched::AbstractArray) where T<:Array at array.jl:554\n  ...",
      "",
      "Stacktrace:",
      " [1] setindex!(::Array{Array{Float64,N} where N,2}, ::Float64, ::Int64) at .\\array.jl:847",
      " [2] top-level scope at .\\In[120]:12",
      " [3] include_string(::Function, ::Module, ::String, ::String) at .\\loading.jl:1091",
      " [4] execute_code(::String, ::String) at C:\\Users\\Bob Kat\\.julia\\packages\\IJulia\\a1SNk\\src\\execute_request.jl:27",
      " [5] execute_request(::ZMQ.Socket, ::IJulia.Msg) at C:\\Users\\Bob Kat\\.julia\\packages\\IJulia\\a1SNk\\src\\execute_request.jl:86",
      " [6] #invokelatest#1 at .\\essentials.jl:710 [inlined]",
      " [7] invokelatest at .\\essentials.jl:709 [inlined]",
      " [8] eventloop(::ZMQ.Socket) at C:\\Users\\Bob Kat\\.julia\\packages\\IJulia\\a1SNk\\src\\eventloop.jl:8",
      " [9] (::IJulia.var\"#15#18\")() at .\\task.jl:356"
     ]
    }
   ],
   "source": [
    "rangeOfCheck_x = 0:0.2:10\n",
    "rangeOfCheck_y = 0:0.2:10\n",
    "szOfArr = size(rangeOfCheck_x)[1] * size(rangeOfCheck_y)[1]\n",
    "x_coor = Array{Array{Float64}}(undef, 1, szOfArr)\n",
    "y_coor = Array{Array{Float64}}(undef, 1, szOfArr)\n",
    "z_coor = Array{Array{Float64}}(undef, 1, szOfArr)\n",
    "\n",
    "count = 1\n",
    "\n",
    "for a in rangeOfCheck_x\n",
    "    for b in rangeOfCheck_y\n",
    "        x_coor[count] = a\n",
    "        y_coor[count] = b\n",
    "        z_coor[count] = r(a,b)\n",
    "        count = count + 1\n",
    "    end\n",
    "end"
   ]
  },
  {
   "cell_type": "code",
   "execution_count": 115,
   "metadata": {},
   "outputs": [
    {
     "data": {
      "text/plain": [
       "(51,)"
      ]
     },
     "execution_count": 115,
     "metadata": {},
     "output_type": "execute_result"
    }
   ],
   "source": [
    "size(rangeOfCheck)"
   ]
  },
  {
   "cell_type": "code",
   "execution_count": 104,
   "metadata": {},
   "outputs": [
    {
     "data": {
      "image/svg+xml": [
       "<?xml version=\"1.0\" encoding=\"utf-8\"?>\n",
       "<svg xmlns=\"http://www.w3.org/2000/svg\" xmlns:xlink=\"http://www.w3.org/1999/xlink\" width=\"600\" height=\"400\" viewBox=\"0 0 2400 1600\">\n",
       "<defs>\n",
       "  <clipPath id=\"clip740\">\n",
       "    <rect x=\"0\" y=\"0\" width=\"2400\" height=\"1600\"/>\n",
       "  </clipPath>\n",
       "</defs>\n",
       "<path clip-path=\"url(#clip740)\" d=\"\n",
       "M0 1600 L2400 1600 L2400 0 L0 0  Z\n",
       "  \" fill=\"#ffffff\" fill-rule=\"evenodd\" fill-opacity=\"1\"/>\n",
       "<defs>\n",
       "  <clipPath id=\"clip741\">\n",
       "    <rect x=\"480\" y=\"0\" width=\"1681\" height=\"1600\"/>\n",
       "  </clipPath>\n",
       "</defs>\n",
       "<defs>\n",
       "  <clipPath id=\"clip742\">\n",
       "    <rect x=\"167\" y=\"47\" width=\"2186\" height=\"1440\"/>\n",
       "  </clipPath>\n",
       "</defs>\n",
       "<path clip-path=\"url(#clip742)\" d=\"\n",
       "M167.871 1401.43 L167.871 302.298 L967.595 47.2441 L2352.76 132.262 L2352.76 1231.39 L1553.03 1486.45 L167.871 1401.43  Z\n",
       "  \" fill=\"#ffffff\" fill-rule=\"evenodd\" fill-opacity=\"1\"/>\n",
       "<polyline clip-path=\"url(#clip742)\" style=\"stroke:#000000; stroke-width:2; stroke-opacity:0.1; fill:none\" points=\"\n",
       "  207.074,1403.84 1006.8,1148.78 \n",
       "  \"/>\n",
       "<polyline clip-path=\"url(#clip742)\" style=\"stroke:#000000; stroke-width:2; stroke-opacity:0.1; fill:none\" points=\"\n",
       "  1006.8,1148.78 1006.8,49.6503 \n",
       "  \"/>\n",
       "<polyline clip-path=\"url(#clip742)\" style=\"stroke:#000000; stroke-width:2; stroke-opacity:0.1; fill:none\" points=\"\n",
       "  642.659,1430.57 1442.38,1175.52 \n",
       "  \"/>\n",
       "<polyline clip-path=\"url(#clip742)\" style=\"stroke:#000000; stroke-width:2; stroke-opacity:0.1; fill:none\" points=\"\n",
       "  1442.38,1175.52 1442.38,76.3855 \n",
       "  \"/>\n",
       "<polyline clip-path=\"url(#clip742)\" style=\"stroke:#000000; stroke-width:2; stroke-opacity:0.1; fill:none\" points=\"\n",
       "  1078.24,1457.31 1877.97,1202.25 \n",
       "  \"/>\n",
       "<polyline clip-path=\"url(#clip742)\" style=\"stroke:#000000; stroke-width:2; stroke-opacity:0.1; fill:none\" points=\"\n",
       "  1877.97,1202.25 1877.97,103.121 \n",
       "  \"/>\n",
       "<polyline clip-path=\"url(#clip742)\" style=\"stroke:#000000; stroke-width:2; stroke-opacity:0.1; fill:none\" points=\"\n",
       "  1513.83,1484.04 2313.55,1228.99 \n",
       "  \"/>\n",
       "<polyline clip-path=\"url(#clip742)\" style=\"stroke:#000000; stroke-width:2; stroke-opacity:0.1; fill:none\" points=\"\n",
       "  2313.55,1228.99 2313.55,129.856 \n",
       "  \"/>\n",
       "<polyline clip-path=\"url(#clip740)\" style=\"stroke:#000000; stroke-width:4; stroke-opacity:1; fill:none\" points=\"\n",
       "  167.871,1401.43 1553.03,1486.45 \n",
       "  \"/>\n",
       "<polyline clip-path=\"url(#clip740)\" style=\"stroke:#000000; stroke-width:4; stroke-opacity:1; fill:none\" points=\"\n",
       "  207.074,1403.84 216.671,1400.78 \n",
       "  \"/>\n",
       "<polyline clip-path=\"url(#clip740)\" style=\"stroke:#000000; stroke-width:4; stroke-opacity:1; fill:none\" points=\"\n",
       "  642.659,1430.57 652.256,1427.51 \n",
       "  \"/>\n",
       "<polyline clip-path=\"url(#clip740)\" style=\"stroke:#000000; stroke-width:4; stroke-opacity:1; fill:none\" points=\"\n",
       "  1078.24,1457.31 1087.84,1454.25 \n",
       "  \"/>\n",
       "<polyline clip-path=\"url(#clip740)\" style=\"stroke:#000000; stroke-width:4; stroke-opacity:1; fill:none\" points=\"\n",
       "  1513.83,1484.04 1523.43,1480.98 \n",
       "  \"/>\n",
       "<path clip-path=\"url(#clip740)\" d=\"M 0 0 M173.456 1465.37 L181.095 1465.37 L181.095 1439.01 L172.785 1440.67 L172.785 1436.41 L181.049 1434.75 L185.724 1434.75 L185.724 1465.37 L193.363 1465.37 L193.363 1469.31 L173.456 1469.31 L173.456 1465.37 Z\" fill=\"#000000\" fill-rule=\"evenodd\" fill-opacity=\"1\" /><path clip-path=\"url(#clip740)\" d=\"M 0 0 M613.312 1492.11 L629.631 1492.11 L629.631 1496.04 L607.687 1496.04 L607.687 1492.11 Q610.349 1489.35 614.932 1484.72 Q619.539 1480.07 620.719 1478.73 Q622.965 1476.21 623.844 1474.47 Q624.747 1472.71 624.747 1471.02 Q624.747 1468.27 622.803 1466.53 Q620.882 1464.79 617.78 1464.79 Q615.581 1464.79 613.127 1465.56 Q610.696 1466.32 607.919 1467.87 L607.919 1463.15 Q610.743 1462.02 613.196 1461.44 Q615.65 1460.86 617.687 1460.86 Q623.057 1460.86 626.252 1463.54 Q629.446 1466.23 629.446 1470.72 Q629.446 1472.85 628.636 1474.77 Q627.849 1476.67 625.743 1479.26 Q625.164 1479.93 622.062 1483.15 Q618.96 1486.34 613.312 1492.11 Z\" fill=\"#000000\" fill-rule=\"evenodd\" fill-opacity=\"1\" /><path clip-path=\"url(#clip740)\" d=\"M 0 0 M1058.49 1504.14 Q1061.85 1504.86 1063.72 1507.13 Q1065.62 1509.4 1065.62 1512.73 Q1065.62 1517.85 1062.1 1520.65 Q1058.58 1523.45 1052.1 1523.45 Q1049.93 1523.45 1047.61 1523.01 Q1045.32 1522.59 1042.87 1521.74 L1042.87 1517.22 Q1044.81 1518.36 1047.13 1518.94 Q1049.44 1519.51 1051.96 1519.51 Q1056.36 1519.51 1058.65 1517.78 Q1060.97 1516.04 1060.97 1512.73 Q1060.97 1509.68 1058.82 1507.96 Q1056.69 1506.23 1052.87 1506.23 L1048.84 1506.23 L1048.84 1502.39 L1053.05 1502.39 Q1056.5 1502.39 1058.33 1501.02 Q1060.16 1499.63 1060.16 1497.04 Q1060.16 1494.38 1058.26 1492.96 Q1056.39 1491.53 1052.87 1491.53 Q1050.95 1491.53 1048.75 1491.95 Q1046.55 1492.36 1043.91 1493.24 L1043.91 1489.07 Q1046.57 1488.33 1048.89 1487.96 Q1051.22 1487.59 1053.28 1487.59 Q1058.61 1487.59 1061.71 1490.02 Q1064.81 1492.43 1064.81 1496.55 Q1064.81 1499.42 1063.17 1501.41 Q1061.52 1503.38 1058.49 1504.14 Z\" fill=\"#000000\" fill-rule=\"evenodd\" fill-opacity=\"1\" /><path clip-path=\"url(#clip740)\" d=\"M 0 0 M1492.84 1519.03 L1481.03 1537.48 L1492.84 1537.48 L1492.84 1519.03 M1491.61 1514.95 L1497.49 1514.95 L1497.49 1537.48 L1502.42 1537.48 L1502.42 1541.37 L1497.49 1541.37 L1497.49 1549.51 L1492.84 1549.51 L1492.84 1541.37 L1477.24 1541.37 L1477.24 1536.85 L1491.61 1514.95 Z\" fill=\"#000000\" fill-rule=\"evenodd\" fill-opacity=\"1\" /><polyline clip-path=\"url(#clip742)\" style=\"stroke:#000000; stroke-width:2; stroke-opacity:0.1; fill:none\" points=\"\n",
       "  1575.67,1479.23 190.505,1394.21 \n",
       "  \"/>\n",
       "<polyline clip-path=\"url(#clip742)\" style=\"stroke:#000000; stroke-width:2; stroke-opacity:0.1; fill:none\" points=\"\n",
       "  190.505,1394.21 190.505,295.08 \n",
       "  \"/>\n",
       "<polyline clip-path=\"url(#clip742)\" style=\"stroke:#000000; stroke-width:2; stroke-opacity:0.1; fill:none\" points=\"\n",
       "  1827.15,1399.02 441.99,1314.01 \n",
       "  \"/>\n",
       "<polyline clip-path=\"url(#clip742)\" style=\"stroke:#000000; stroke-width:2; stroke-opacity:0.1; fill:none\" points=\"\n",
       "  441.99,1314.01 441.99,214.874 \n",
       "  \"/>\n",
       "<polyline clip-path=\"url(#clip742)\" style=\"stroke:#000000; stroke-width:2; stroke-opacity:0.1; fill:none\" points=\"\n",
       "  2078.64,1318.82 693.476,1233.8 \n",
       "  \"/>\n",
       "<polyline clip-path=\"url(#clip742)\" style=\"stroke:#000000; stroke-width:2; stroke-opacity:0.1; fill:none\" points=\"\n",
       "  693.476,1233.8 693.476,134.668 \n",
       "  \"/>\n",
       "<polyline clip-path=\"url(#clip742)\" style=\"stroke:#000000; stroke-width:2; stroke-opacity:0.1; fill:none\" points=\"\n",
       "  2330.12,1238.61 944.961,1153.59 \n",
       "  \"/>\n",
       "<polyline clip-path=\"url(#clip742)\" style=\"stroke:#000000; stroke-width:2; stroke-opacity:0.1; fill:none\" points=\"\n",
       "  944.961,1153.59 944.961,54.4626 \n",
       "  \"/>\n",
       "<polyline clip-path=\"url(#clip740)\" style=\"stroke:#000000; stroke-width:4; stroke-opacity:1; fill:none\" points=\"\n",
       "  1553.03,1486.45 2352.76,1231.39 \n",
       "  \"/>\n",
       "<polyline clip-path=\"url(#clip740)\" style=\"stroke:#000000; stroke-width:4; stroke-opacity:1; fill:none\" points=\"\n",
       "  1575.67,1479.23 1559.04,1478.21 \n",
       "  \"/>\n",
       "<polyline clip-path=\"url(#clip740)\" style=\"stroke:#000000; stroke-width:4; stroke-opacity:1; fill:none\" points=\"\n",
       "  1827.15,1399.02 1810.53,1398 \n",
       "  \"/>\n",
       "<polyline clip-path=\"url(#clip740)\" style=\"stroke:#000000; stroke-width:4; stroke-opacity:1; fill:none\" points=\"\n",
       "  2078.64,1318.82 2062.01,1317.8 \n",
       "  \"/>\n",
       "<polyline clip-path=\"url(#clip740)\" style=\"stroke:#000000; stroke-width:4; stroke-opacity:1; fill:none\" points=\"\n",
       "  2330.12,1238.61 2313.5,1237.59 \n",
       "  \"/>\n",
       "<path clip-path=\"url(#clip740)\" d=\"M 0 0 M1590.05 1540.77 L1597.69 1540.77 L1597.69 1514.4 L1589.38 1516.07 L1589.38 1511.81 L1597.64 1510.14 L1602.32 1510.14 L1602.32 1540.77 L1609.96 1540.77 L1609.96 1544.7 L1590.05 1544.7 L1590.05 1540.77 Z\" fill=\"#000000\" fill-rule=\"evenodd\" fill-opacity=\"1\" /><path clip-path=\"url(#clip740)\" d=\"M 0 0 M1845.8 1460.56 L1862.12 1460.56 L1862.12 1464.5 L1840.18 1464.5 L1840.18 1460.56 Q1842.84 1457.81 1847.42 1453.18 Q1852.03 1448.52 1853.21 1447.18 Q1855.46 1444.66 1856.34 1442.92 Q1857.24 1441.16 1857.24 1439.47 Q1857.24 1436.72 1855.3 1434.98 Q1853.37 1433.25 1850.27 1433.25 Q1848.07 1433.25 1845.62 1434.01 Q1843.19 1434.77 1840.41 1436.32 L1840.41 1431.6 Q1843.23 1430.47 1845.69 1429.89 Q1848.14 1429.31 1850.18 1429.31 Q1855.55 1429.31 1858.74 1432 Q1861.94 1434.68 1861.94 1439.17 Q1861.94 1441.3 1861.13 1443.22 Q1860.34 1445.12 1858.23 1447.71 Q1857.66 1448.38 1854.55 1451.6 Q1851.45 1454.8 1845.8 1460.56 Z\" fill=\"#000000\" fill-rule=\"evenodd\" fill-opacity=\"1\" /><path clip-path=\"url(#clip740)\" d=\"M 0 0 M2106.88 1365.66 Q2110.24 1366.37 2112.12 1368.64 Q2114.01 1370.91 2114.01 1374.24 Q2114.01 1379.36 2110.5 1382.16 Q2106.98 1384.96 2100.5 1384.96 Q2098.32 1384.96 2096.01 1384.52 Q2093.71 1384.1 2091.26 1383.25 L2091.26 1378.73 Q2093.2 1379.87 2095.52 1380.45 Q2097.83 1381.03 2100.36 1381.03 Q2104.75 1381.03 2107.05 1379.29 Q2109.36 1377.55 2109.36 1374.24 Q2109.36 1371.19 2107.21 1369.48 Q2105.08 1367.74 2101.26 1367.74 L2097.23 1367.74 L2097.23 1363.9 L2101.44 1363.9 Q2104.89 1363.9 2106.72 1362.53 Q2108.55 1361.14 2108.55 1358.55 Q2108.55 1355.89 2106.65 1354.48 Q2104.78 1353.04 2101.26 1353.04 Q2099.34 1353.04 2097.14 1353.46 Q2094.94 1353.87 2092.3 1354.75 L2092.3 1350.59 Q2094.96 1349.85 2097.28 1349.48 Q2099.62 1349.1 2101.68 1349.1 Q2107 1349.1 2110.1 1351.54 Q2113.2 1353.94 2113.2 1358.06 Q2113.2 1360.93 2111.56 1362.92 Q2109.92 1364.89 2106.88 1365.66 Z\" fill=\"#000000\" fill-rule=\"evenodd\" fill-opacity=\"1\" /><path clip-path=\"url(#clip740)\" d=\"M 0 0 M2357.13 1273.6 L2345.33 1292.05 L2357.13 1292.05 L2357.13 1273.6 M2355.9 1269.52 L2361.78 1269.52 L2361.78 1292.05 L2366.71 1292.05 L2366.71 1295.94 L2361.78 1295.94 L2361.78 1304.08 L2357.13 1304.08 L2357.13 1295.94 L2341.53 1295.94 L2341.53 1291.42 L2355.9 1269.52 Z\" fill=\"#000000\" fill-rule=\"evenodd\" fill-opacity=\"1\" /><polyline clip-path=\"url(#clip742)\" style=\"stroke:#000000; stroke-width:2; stroke-opacity:0.1; fill:none\" points=\"\n",
       "  167.871,1301.19 967.595,1046.14 \n",
       "  \"/>\n",
       "<polyline clip-path=\"url(#clip742)\" style=\"stroke:#000000; stroke-width:2; stroke-opacity:0.1; fill:none\" points=\"\n",
       "  967.595,1046.14 2352.76,1131.16 \n",
       "  \"/>\n",
       "<polyline clip-path=\"url(#clip742)\" style=\"stroke:#000000; stroke-width:2; stroke-opacity:0.1; fill:none\" points=\"\n",
       "  167.871,1093.81 967.595,838.757 \n",
       "  \"/>\n",
       "<polyline clip-path=\"url(#clip742)\" style=\"stroke:#000000; stroke-width:2; stroke-opacity:0.1; fill:none\" points=\"\n",
       "  967.595,838.757 2352.76,923.775 \n",
       "  \"/>\n",
       "<polyline clip-path=\"url(#clip742)\" style=\"stroke:#000000; stroke-width:2; stroke-opacity:0.1; fill:none\" points=\"\n",
       "  167.871,886.428 967.595,631.374 \n",
       "  \"/>\n",
       "<polyline clip-path=\"url(#clip742)\" style=\"stroke:#000000; stroke-width:2; stroke-opacity:0.1; fill:none\" points=\"\n",
       "  967.595,631.374 2352.76,716.392 \n",
       "  \"/>\n",
       "<polyline clip-path=\"url(#clip742)\" style=\"stroke:#000000; stroke-width:2; stroke-opacity:0.1; fill:none\" points=\"\n",
       "  167.871,679.045 967.595,423.99 \n",
       "  \"/>\n",
       "<polyline clip-path=\"url(#clip742)\" style=\"stroke:#000000; stroke-width:2; stroke-opacity:0.1; fill:none\" points=\"\n",
       "  967.595,423.99 2352.76,509.008 \n",
       "  \"/>\n",
       "<polyline clip-path=\"url(#clip742)\" style=\"stroke:#000000; stroke-width:2; stroke-opacity:0.1; fill:none\" points=\"\n",
       "  167.871,471.661 967.595,216.607 \n",
       "  \"/>\n",
       "<polyline clip-path=\"url(#clip742)\" style=\"stroke:#000000; stroke-width:2; stroke-opacity:0.1; fill:none\" points=\"\n",
       "  967.595,216.607 2352.76,301.625 \n",
       "  \"/>\n",
       "<polyline clip-path=\"url(#clip740)\" style=\"stroke:#000000; stroke-width:4; stroke-opacity:1; fill:none\" points=\"\n",
       "  167.871,1401.43 167.871,302.298 \n",
       "  \"/>\n",
       "<polyline clip-path=\"url(#clip740)\" style=\"stroke:#000000; stroke-width:4; stroke-opacity:1; fill:none\" points=\"\n",
       "  167.871,1301.19 177.468,1298.13 \n",
       "  \"/>\n",
       "<polyline clip-path=\"url(#clip740)\" style=\"stroke:#000000; stroke-width:4; stroke-opacity:1; fill:none\" points=\"\n",
       "  167.871,1093.81 177.468,1090.75 \n",
       "  \"/>\n",
       "<polyline clip-path=\"url(#clip740)\" style=\"stroke:#000000; stroke-width:4; stroke-opacity:1; fill:none\" points=\"\n",
       "  167.871,886.428 177.468,883.367 \n",
       "  \"/>\n",
       "<polyline clip-path=\"url(#clip740)\" style=\"stroke:#000000; stroke-width:4; stroke-opacity:1; fill:none\" points=\"\n",
       "  167.871,679.045 177.468,675.984 \n",
       "  \"/>\n",
       "<polyline clip-path=\"url(#clip740)\" style=\"stroke:#000000; stroke-width:4; stroke-opacity:1; fill:none\" points=\"\n",
       "  167.871,471.661 177.468,468.601 \n",
       "  \"/>\n",
       "<path clip-path=\"url(#clip740)\" d=\"M 0 0 M62.9921 1301.65 L92.6679 1301.65 L92.6679 1305.58 L62.9921 1305.58 L62.9921 1301.65 Z\" fill=\"#000000\" fill-rule=\"evenodd\" fill-opacity=\"1\" /><path clip-path=\"url(#clip740)\" d=\"M 0 0 M98.5475 1314.54 L106.186 1314.54 L106.186 1288.17 L97.8762 1289.84 L97.8762 1285.58 L106.14 1283.91 L110.816 1283.91 L110.816 1314.54 L118.455 1314.54 L118.455 1318.47 L98.5475 1318.47 L98.5475 1314.54 Z\" fill=\"#000000\" fill-rule=\"evenodd\" fill-opacity=\"1\" /><path clip-path=\"url(#clip740)\" d=\"M 0 0 M127.552 1314.54 L143.871 1314.54 L143.871 1318.47 L121.927 1318.47 L121.927 1314.54 Q124.589 1311.78 129.172 1307.16 Q133.779 1302.5 134.959 1301.16 Q137.205 1298.64 138.084 1296.9 Q138.987 1295.14 138.987 1293.45 Q138.987 1290.7 137.043 1288.96 Q135.121 1287.22 132.02 1287.22 Q129.82 1287.22 127.367 1287.99 Q124.936 1288.75 122.158 1290.3 L122.158 1285.58 Q124.983 1284.45 127.436 1283.87 Q129.89 1283.29 131.927 1283.29 Q137.297 1283.29 140.492 1285.97 Q143.686 1288.66 143.686 1293.15 Q143.686 1295.28 142.876 1297.2 Q142.089 1299.1 139.982 1301.69 Q139.404 1302.36 136.302 1305.58 Q133.2 1308.78 127.552 1314.54 Z\" fill=\"#000000\" fill-rule=\"evenodd\" fill-opacity=\"1\" /><path clip-path=\"url(#clip740)\" d=\"M 0 0 M87.367 1094.26 L117.043 1094.26 L117.043 1098.2 L87.367 1098.2 L87.367 1094.26 Z\" fill=\"#000000\" fill-rule=\"evenodd\" fill-opacity=\"1\" /><path clip-path=\"url(#clip740)\" d=\"M 0 0 M122.251 1110.37 L122.251 1106.11 Q124.01 1106.95 125.816 1107.39 Q127.621 1107.83 129.358 1107.83 Q133.987 1107.83 136.418 1104.73 Q138.871 1101.6 139.219 1095.26 Q137.876 1097.25 135.816 1098.31 Q133.756 1099.38 131.256 1099.38 Q126.07 1099.38 123.038 1096.25 Q120.029 1093.11 120.029 1087.67 Q120.029 1082.34 123.177 1079.12 Q126.325 1075.91 131.557 1075.91 Q137.552 1075.91 140.7 1080.51 Q143.871 1085.1 143.871 1093.85 Q143.871 1102.02 139.982 1106.9 Q136.117 1111.76 129.566 1111.76 Q127.807 1111.76 126.001 1111.42 Q124.196 1111.07 122.251 1110.37 M131.557 1095.72 Q134.705 1095.72 136.533 1093.57 Q138.385 1091.42 138.385 1087.67 Q138.385 1083.94 136.533 1081.79 Q134.705 1079.61 131.557 1079.61 Q128.408 1079.61 126.557 1081.79 Q124.728 1083.94 124.728 1087.67 Q124.728 1091.42 126.557 1093.57 Q128.408 1095.72 131.557 1095.72 Z\" fill=\"#000000\" fill-rule=\"evenodd\" fill-opacity=\"1\" /><path clip-path=\"url(#clip740)\" d=\"M 0 0 M87.0198 886.879 L116.696 886.879 L116.696 890.815 L87.0198 890.815 L87.0198 886.879 Z\" fill=\"#000000\" fill-rule=\"evenodd\" fill-opacity=\"1\" /><path clip-path=\"url(#clip740)\" d=\"M 0 0 M132.344 884.565 Q129.195 884.565 127.344 886.717 Q125.515 888.87 125.515 892.62 Q125.515 896.347 127.344 898.523 Q129.195 900.676 132.344 900.676 Q135.492 900.676 137.32 898.523 Q139.172 896.347 139.172 892.62 Q139.172 888.87 137.32 886.717 Q135.492 884.565 132.344 884.565 M141.626 869.912 L141.626 874.171 Q139.867 873.338 138.061 872.898 Q136.279 872.458 134.52 872.458 Q129.89 872.458 127.436 875.583 Q125.006 878.708 124.658 885.028 Q126.024 883.014 128.084 881.949 Q130.145 880.861 132.621 880.861 Q137.83 880.861 140.839 884.032 Q143.871 887.18 143.871 892.62 Q143.871 897.944 140.723 901.162 Q137.575 904.379 132.344 904.379 Q126.348 904.379 123.177 899.796 Q120.006 895.189 120.006 886.463 Q120.006 878.268 123.895 873.407 Q127.783 868.523 134.334 868.523 Q136.094 868.523 137.876 868.87 Q139.682 869.217 141.626 869.912 Z\" fill=\"#000000\" fill-rule=\"evenodd\" fill-opacity=\"1\" /><path clip-path=\"url(#clip740)\" d=\"M 0 0 M87.83 679.496 L117.506 679.496 L117.506 683.431 L87.83 683.431 L87.83 679.496 Z\" fill=\"#000000\" fill-rule=\"evenodd\" fill-opacity=\"1\" /><path clip-path=\"url(#clip740)\" d=\"M 0 0 M136.742 677.691 Q140.098 678.408 141.973 680.677 Q143.871 682.945 143.871 686.278 Q143.871 691.394 140.353 694.195 Q136.834 696.996 130.353 696.996 Q128.177 696.996 125.862 696.556 Q123.571 696.14 121.117 695.283 L121.117 690.769 Q123.061 691.903 125.376 692.482 Q127.691 693.061 130.214 693.061 Q134.612 693.061 136.904 691.325 Q139.219 689.589 139.219 686.278 Q139.219 683.223 137.066 681.51 Q134.936 679.774 131.117 679.774 L127.089 679.774 L127.089 675.931 L131.302 675.931 Q134.751 675.931 136.58 674.566 Q138.408 673.177 138.408 670.584 Q138.408 667.922 136.51 666.51 Q134.635 665.075 131.117 665.075 Q129.195 665.075 126.996 665.492 Q124.797 665.908 122.158 666.788 L122.158 662.621 Q124.82 661.88 127.135 661.51 Q129.473 661.14 131.533 661.14 Q136.857 661.14 139.959 663.57 Q143.061 665.978 143.061 670.098 Q143.061 672.968 141.418 674.959 Q139.774 676.927 136.742 677.691 Z\" fill=\"#000000\" fill-rule=\"evenodd\" fill-opacity=\"1\" /><path clip-path=\"url(#clip740)\" d=\"M 0 0 M131.927 457.46 Q128.316 457.46 126.487 461.025 Q124.682 464.567 124.682 471.696 Q124.682 478.803 126.487 482.367 Q128.316 485.909 131.927 485.909 Q135.561 485.909 137.367 482.367 Q139.195 478.803 139.195 471.696 Q139.195 464.567 137.367 461.025 Q135.561 457.46 131.927 457.46 M131.927 453.756 Q137.737 453.756 140.793 458.363 Q143.871 462.946 143.871 471.696 Q143.871 480.423 140.793 485.029 Q137.737 489.613 131.927 489.613 Q126.117 489.613 123.038 485.029 Q119.983 480.423 119.983 471.696 Q119.983 462.946 123.038 458.363 Q126.117 453.756 131.927 453.756 Z\" fill=\"#000000\" fill-rule=\"evenodd\" fill-opacity=\"1\" /><polyline clip-path=\"url(#clip742)\" style=\"stroke:#009af9; stroke-width:4; stroke-opacity:1; fill:none\" points=\"\n",
       "  229.708,328.594 916.778,482.506 1603.85,774.675 2290.92,1205.1 \n",
       "  \"/>\n",
       "<path clip-path=\"url(#clip740)\" d=\"\n",
       "M1986.14 216.178 L2279.93 216.178 L2279.93 95.2176 L1986.14 95.2176  Z\n",
       "  \" fill=\"#ffffff\" fill-rule=\"evenodd\" fill-opacity=\"1\"/>\n",
       "<polyline clip-path=\"url(#clip740)\" style=\"stroke:#000000; stroke-width:4; stroke-opacity:1; fill:none\" points=\"\n",
       "  1986.14,216.178 2279.93,216.178 2279.93,95.2176 1986.14,95.2176 1986.14,216.178 \n",
       "  \"/>\n",
       "<polyline clip-path=\"url(#clip740)\" style=\"stroke:#009af9; stroke-width:4; stroke-opacity:1; fill:none\" points=\"\n",
       "  2010.42,155.698 2156.08,155.698 \n",
       "  \"/>\n",
       "<path clip-path=\"url(#clip740)\" d=\"M 0 0 M2194.2 175.385 Q2192.39 180.015 2190.68 181.427 Q2188.97 182.839 2186.1 182.839 L2182.69 182.839 L2182.69 179.274 L2185.19 179.274 Q2186.95 179.274 2187.92 178.44 Q2188.9 177.607 2190.08 174.505 L2190.84 172.561 L2180.36 147.052 L2184.87 147.052 L2192.97 167.329 L2201.07 147.052 L2205.59 147.052 L2194.2 175.385 Z\" fill=\"#000000\" fill-rule=\"evenodd\" fill-opacity=\"1\" /><path clip-path=\"url(#clip740)\" d=\"M 0 0 M2211.47 169.042 L2219.1 169.042 L2219.1 142.677 L2210.79 144.343 L2210.79 140.084 L2219.06 138.418 L2223.73 138.418 L2223.73 169.042 L2231.37 169.042 L2231.37 172.978 L2211.47 172.978 L2211.47 169.042 Z\" fill=\"#000000\" fill-rule=\"evenodd\" fill-opacity=\"1\" /></svg>\n"
      ]
     },
     "execution_count": 104,
     "metadata": {},
     "output_type": "execute_result"
    }
   ],
   "source": [
    "# plot the f to see\n",
    "x = [1,2,3,4]\n",
    "y = [1,2,3,4]\n",
    "z = [r(1,1),r(2,2),r(3,3),r(4,4)]\n",
    "plot3d(x, y, z,  markersize = 7)\n",
    "# plot3d!(x, z, y,  markersize = 7)"
   ]
  },
  {
   "cell_type": "code",
   "execution_count": 102,
   "metadata": {},
   "outputs": [
    {
     "data": {
      "text/plain": [
       "calculateDisAndPoint (generic function with 1 method)"
      ]
     },
     "execution_count": 102,
     "metadata": {},
     "output_type": "execute_result"
    }
   ],
   "source": [
    "# we are creating hyperplanes by thinking f(x) = p(x)/q(x)\n",
    "# or converting to <A, xn> - f(x)<B, xm> = 0 with A, B is correspondingly coe of p(x) and q(x) and are the keys\n",
    "# xn and xm are the vectors which will represent the fucntions\n",
    "# for easy calculation combining A and B into a big vector so it would be: <A to B, xn to -f(x)xm> = 0\n",
    "# this is a hyperplan formula with d = 0\n",
    "# therefore, xn to -f(x)xm is the vector of the hyperplane in R n+m+2 space\n",
    "\n",
    "# function to calculate the distince between a point and the hyperplane with the sign\n",
    "function calculateDisAndPoint(big_vect, the_point)\n",
    "#     calculate distance by |vect.start_point + d|/||vect|| , d is 0 in this case\n",
    "    a = sum(hcat([the_point[i]*big_vect[i] for i in 1:size(big_vect)[2]]...))\n",
    "    b = sum(hcat([big_vect[i]*big_vect[i] for i in 1:size(big_vect)[2]]...))\n",
    "    c = sqrt(b)\n",
    "    dis = a/c\n",
    "#     calculate lambda in x - x0 = lambda.vect to calculate the projectpoint\n",
    "    lambd = a/b\n",
    "    x0 = the_point - (lambd * big_vect)\n",
    "    return dis, x0\n",
    "end"
   ]
  },
  {
   "cell_type": "code",
   "execution_count": 406,
   "metadata": {},
   "outputs": [],
   "source": [
    "# Calculate the big vector for each hyper plane\n",
    "num_hy = size(T)[1]\n",
    "hy_space_sz = n + m + 2\n",
    "big_vect_Arr = Array{Array{Float64}}(undef, 1, num_hy)\n",
    "for i in 1:num_hy\n",
    "    xn = vander(T[i], n+1)\n",
    "    xm = vander(T[i], m+1)\n",
    "    big_vect_Arr[i] = hcat(xn, -f(T[i])*xm)\n",
    "end"
   ]
  },
  {
   "cell_type": "code",
   "execution_count": 421,
   "metadata": {},
   "outputs": [
    {
     "name": "stdout",
     "output_type": "stream",
     "text": [
      "663.669679 seconds (1.79 G allocations: 72.799 GiB, 5.17% gc time)\n",
      "the number of iteration: 1983536\n"
     ]
    }
   ],
   "source": [
    "# iterate after a certain times and store the value in a array of the size of number of hyperplanes\n",
    "pointA = Array{Array{Float64}}(undef, 1, num_hy)\n",
    "\n",
    "error_rate = 0.00000001\n",
    "\n",
    "s_p = vander(1, hy_space_sz)\n",
    "need_to_cal = true\n",
    "count = 0\n",
    "\n",
    "@time while true\n",
    "    for i in 1:num_hy\n",
    "        result = calculateDisAndPoint(big_vect_Arr[i],s_p)\n",
    "        if isassigned(pointA, i)\n",
    "            if need_to_cal\n",
    "                a = pointA[i] - result[2]\n",
    "                if sqrt(dot(a, a)) > error_rate\n",
    "                    need_to_cal = false\n",
    "                end\n",
    "            end\n",
    "        else\n",
    "            need_to_cal = false\n",
    "        end\n",
    "        pointA[i] = result[2]\n",
    "        s_p = result[2]\n",
    "    end\n",
    "    count += 1\n",
    "    if need_to_cal\n",
    "        break\n",
    "    else\n",
    "        need_to_cal = true\n",
    "    end\n",
    "end\n",
    "\n",
    "println(\"the number of iteration: \", count)"
   ]
  },
  {
   "cell_type": "code",
   "execution_count": 422,
   "metadata": {},
   "outputs": [
    {
     "data": {
      "text/plain": [
       "1×8 Array{Float64,2}:\n",
       " 1.49973  0.00332193  -0.00236001  …  0.000974325  0.499818  0.000166935"
      ]
     },
     "execution_count": 422,
     "metadata": {},
     "output_type": "execute_result"
    }
   ],
   "source": [
    "# calculate the mid point\n",
    "mid_p = sum(pointA)/num_hy"
   ]
  },
  {
   "cell_type": "code",
   "execution_count": 423,
   "metadata": {},
   "outputs": [
    {
     "data": {
      "text/plain": [
       "g (generic function with 1 method)"
      ]
     },
     "execution_count": 423,
     "metadata": {},
     "output_type": "execute_result"
    }
   ],
   "source": [
    "# we now have the final results\n",
    "p(t) = sum((t^(i-1))*mid_p[i] for i in 1:(n+1))\n",
    "q(t) = sum((t^(i-1))*mid_p[i+n+1] for i in 1:(m+1))\n",
    "g(t) = p(t)/q(t)"
   ]
  },
  {
   "cell_type": "code",
   "execution_count": 424,
   "metadata": {},
   "outputs": [
    {
     "data": {
      "text/plain": [
       "1-element Array{Float64,1}:\n",
       " 0.0"
      ]
     },
     "execution_count": 424,
     "metadata": {},
     "output_type": "execute_result"
    }
   ],
   "source": [
    "# Find the points of extreme deviation:\n",
    "# T = 1.1:0.1:2\n",
    "σ(t) = g(t) - f(t)\n",
    "Tmax = maximum(abs.(σ.(T)))\n",
    "T⁺ = T[findall(t -> σ(t) ≈ Tmax, T)]\n",
    "T⁻ = T[findall(t -> σ(t) ≈ -Tmax, T)]"
   ]
  },
  {
   "cell_type": "code",
   "execution_count": 425,
   "metadata": {},
   "outputs": [
    {
     "data": {
      "text/plain": [
       "1.3737062713011533e-6"
      ]
     },
     "execution_count": 425,
     "metadata": {},
     "output_type": "execute_result"
    }
   ],
   "source": [
    "# calculate the mean in the range\n",
    "mean(σ.(T))"
   ]
  },
  {
   "cell_type": "code",
   "execution_count": 426,
   "metadata": {
    "scrolled": false
   },
   "outputs": [
    {
     "data": {
      "image/svg+xml": [
       "<?xml version=\"1.0\" encoding=\"utf-8\"?>\n",
       "<svg xmlns=\"http://www.w3.org/2000/svg\" xmlns:xlink=\"http://www.w3.org/1999/xlink\" width=\"600\" height=\"400\" viewBox=\"0 0 2400 1600\">\n",
       "<defs>\n",
       "  <clipPath id=\"clip940\">\n",
       "    <rect x=\"0\" y=\"0\" width=\"2400\" height=\"1600\"/>\n",
       "  </clipPath>\n",
       "</defs>\n",
       "<path clip-path=\"url(#clip940)\" d=\"\n",
       "M0 1600 L2400 1600 L2400 0 L0 0  Z\n",
       "  \" fill=\"#ffffff\" fill-rule=\"evenodd\" fill-opacity=\"1\"/>\n",
       "<defs>\n",
       "  <clipPath id=\"clip941\">\n",
       "    <rect x=\"480\" y=\"0\" width=\"1681\" height=\"1600\"/>\n",
       "  </clipPath>\n",
       "</defs>\n",
       "<path clip-path=\"url(#clip940)\" d=\"\n",
       "M173.728 1486.45 L2352.76 1486.45 L2352.76 183.952 L173.728 183.952  Z\n",
       "  \" fill=\"#ffffff\" fill-rule=\"evenodd\" fill-opacity=\"1\"/>\n",
       "<defs>\n",
       "  <clipPath id=\"clip942\">\n",
       "    <rect x=\"173\" y=\"183\" width=\"2180\" height=\"1303\"/>\n",
       "  </clipPath>\n",
       "</defs>\n",
       "<polyline clip-path=\"url(#clip942)\" style=\"stroke:#000000; stroke-width:2; stroke-opacity:0.1; fill:none\" points=\"\n",
       "  235.398,1486.45 235.398,183.952 \n",
       "  \"/>\n",
       "<polyline clip-path=\"url(#clip942)\" style=\"stroke:#000000; stroke-width:2; stroke-opacity:0.1; fill:none\" points=\"\n",
       "  920.627,1486.45 920.627,183.952 \n",
       "  \"/>\n",
       "<polyline clip-path=\"url(#clip942)\" style=\"stroke:#000000; stroke-width:2; stroke-opacity:0.1; fill:none\" points=\"\n",
       "  1605.86,1486.45 1605.86,183.952 \n",
       "  \"/>\n",
       "<polyline clip-path=\"url(#clip942)\" style=\"stroke:#000000; stroke-width:2; stroke-opacity:0.1; fill:none\" points=\"\n",
       "  2291.09,1486.45 2291.09,183.952 \n",
       "  \"/>\n",
       "<polyline clip-path=\"url(#clip940)\" style=\"stroke:#000000; stroke-width:4; stroke-opacity:1; fill:none\" points=\"\n",
       "  173.728,1486.45 2352.76,1486.45 \n",
       "  \"/>\n",
       "<polyline clip-path=\"url(#clip940)\" style=\"stroke:#000000; stroke-width:4; stroke-opacity:1; fill:none\" points=\"\n",
       "  235.398,1486.45 235.398,1470.82 \n",
       "  \"/>\n",
       "<polyline clip-path=\"url(#clip940)\" style=\"stroke:#000000; stroke-width:4; stroke-opacity:1; fill:none\" points=\"\n",
       "  920.627,1486.45 920.627,1470.82 \n",
       "  \"/>\n",
       "<polyline clip-path=\"url(#clip940)\" style=\"stroke:#000000; stroke-width:4; stroke-opacity:1; fill:none\" points=\"\n",
       "  1605.86,1486.45 1605.86,1470.82 \n",
       "  \"/>\n",
       "<polyline clip-path=\"url(#clip940)\" style=\"stroke:#000000; stroke-width:4; stroke-opacity:1; fill:none\" points=\"\n",
       "  2291.09,1486.45 2291.09,1470.82 \n",
       "  \"/>\n",
       "<path clip-path=\"url(#clip940)\" d=\"M 0 0 M235.398 1515.64 Q231.787 1515.64 229.959 1519.2 Q228.153 1522.75 228.153 1529.87 Q228.153 1536.98 229.959 1540.55 Q231.787 1544.09 235.398 1544.09 Q239.033 1544.09 240.838 1540.55 Q242.667 1536.98 242.667 1529.87 Q242.667 1522.75 240.838 1519.2 Q239.033 1515.64 235.398 1515.64 M235.398 1511.93 Q241.209 1511.93 244.264 1516.54 Q247.343 1521.12 247.343 1529.87 Q247.343 1538.6 244.264 1543.21 Q241.209 1547.79 235.398 1547.79 Q229.588 1547.79 226.51 1543.21 Q223.454 1538.6 223.454 1529.87 Q223.454 1521.12 226.51 1516.54 Q229.588 1511.93 235.398 1511.93 Z\" fill=\"#000000\" fill-rule=\"evenodd\" fill-opacity=\"1\" /><path clip-path=\"url(#clip940)\" d=\"M 0 0 M911.009 1543.18 L918.648 1543.18 L918.648 1516.82 L910.338 1518.49 L910.338 1514.23 L918.602 1512.56 L923.278 1512.56 L923.278 1543.18 L930.917 1543.18 L930.917 1547.12 L911.009 1547.12 L911.009 1543.18 Z\" fill=\"#000000\" fill-rule=\"evenodd\" fill-opacity=\"1\" /><path clip-path=\"url(#clip940)\" d=\"M 0 0 M1600.51 1543.18 L1616.83 1543.18 L1616.83 1547.12 L1594.88 1547.12 L1594.88 1543.18 Q1597.55 1540.43 1602.13 1535.8 Q1606.74 1531.15 1607.92 1529.81 Q1610.16 1527.28 1611.04 1525.55 Q1611.94 1523.79 1611.94 1522.1 Q1611.94 1519.34 1610 1517.61 Q1608.08 1515.87 1604.98 1515.87 Q1602.78 1515.87 1600.32 1516.63 Q1597.89 1517.4 1595.12 1518.95 L1595.12 1514.23 Q1597.94 1513.09 1600.39 1512.51 Q1602.85 1511.93 1604.88 1511.93 Q1610.25 1511.93 1613.45 1514.62 Q1616.64 1517.31 1616.64 1521.8 Q1616.64 1523.93 1615.83 1525.85 Q1615.05 1527.74 1612.94 1530.34 Q1612.36 1531.01 1609.26 1534.23 Q1606.16 1537.42 1600.51 1543.18 Z\" fill=\"#000000\" fill-rule=\"evenodd\" fill-opacity=\"1\" /><path clip-path=\"url(#clip940)\" d=\"M 0 0 M2295.33 1528.49 Q2298.69 1529.2 2300.56 1531.47 Q2302.46 1533.74 2302.46 1537.07 Q2302.46 1542.19 2298.94 1544.99 Q2295.43 1547.79 2288.94 1547.79 Q2286.77 1547.79 2284.45 1547.35 Q2282.16 1546.93 2279.71 1546.08 L2279.71 1541.56 Q2281.65 1542.7 2283.97 1543.28 Q2286.28 1543.86 2288.81 1543.86 Q2293.2 1543.86 2295.49 1542.12 Q2297.81 1540.38 2297.81 1537.07 Q2297.81 1534.02 2295.66 1532.31 Q2293.53 1530.57 2289.71 1530.57 L2285.68 1530.57 L2285.68 1526.73 L2289.89 1526.73 Q2293.34 1526.73 2295.17 1525.36 Q2297 1523.97 2297 1521.38 Q2297 1518.72 2295.1 1517.31 Q2293.23 1515.87 2289.71 1515.87 Q2287.79 1515.87 2285.59 1516.29 Q2283.39 1516.7 2280.75 1517.58 L2280.75 1513.42 Q2283.41 1512.68 2285.73 1512.31 Q2288.06 1511.93 2290.12 1511.93 Q2295.45 1511.93 2298.55 1514.37 Q2301.65 1516.77 2301.65 1520.89 Q2301.65 1523.76 2300.01 1525.75 Q2298.37 1527.72 2295.33 1528.49 Z\" fill=\"#000000\" fill-rule=\"evenodd\" fill-opacity=\"1\" /><polyline clip-path=\"url(#clip942)\" style=\"stroke:#000000; stroke-width:2; stroke-opacity:0.1; fill:none\" points=\"\n",
       "  173.728,1371.22 2352.76,1371.22 \n",
       "  \"/>\n",
       "<polyline clip-path=\"url(#clip942)\" style=\"stroke:#000000; stroke-width:2; stroke-opacity:0.1; fill:none\" points=\"\n",
       "  173.728,1083.62 2352.76,1083.62 \n",
       "  \"/>\n",
       "<polyline clip-path=\"url(#clip942)\" style=\"stroke:#000000; stroke-width:2; stroke-opacity:0.1; fill:none\" points=\"\n",
       "  173.728,796.018 2352.76,796.018 \n",
       "  \"/>\n",
       "<polyline clip-path=\"url(#clip942)\" style=\"stroke:#000000; stroke-width:2; stroke-opacity:0.1; fill:none\" points=\"\n",
       "  173.728,508.416 2352.76,508.416 \n",
       "  \"/>\n",
       "<polyline clip-path=\"url(#clip942)\" style=\"stroke:#000000; stroke-width:2; stroke-opacity:0.1; fill:none\" points=\"\n",
       "  173.728,220.815 2352.76,220.815 \n",
       "  \"/>\n",
       "<polyline clip-path=\"url(#clip940)\" style=\"stroke:#000000; stroke-width:4; stroke-opacity:1; fill:none\" points=\"\n",
       "  173.728,1486.45 173.728,183.952 \n",
       "  \"/>\n",
       "<polyline clip-path=\"url(#clip940)\" style=\"stroke:#000000; stroke-width:4; stroke-opacity:1; fill:none\" points=\"\n",
       "  173.728,1371.22 199.876,1371.22 \n",
       "  \"/>\n",
       "<polyline clip-path=\"url(#clip940)\" style=\"stroke:#000000; stroke-width:4; stroke-opacity:1; fill:none\" points=\"\n",
       "  173.728,1083.62 199.876,1083.62 \n",
       "  \"/>\n",
       "<polyline clip-path=\"url(#clip940)\" style=\"stroke:#000000; stroke-width:4; stroke-opacity:1; fill:none\" points=\"\n",
       "  173.728,796.018 199.876,796.018 \n",
       "  \"/>\n",
       "<polyline clip-path=\"url(#clip940)\" style=\"stroke:#000000; stroke-width:4; stroke-opacity:1; fill:none\" points=\"\n",
       "  173.728,508.416 199.876,508.416 \n",
       "  \"/>\n",
       "<polyline clip-path=\"url(#clip940)\" style=\"stroke:#000000; stroke-width:4; stroke-opacity:1; fill:none\" points=\"\n",
       "  173.728,220.815 199.876,220.815 \n",
       "  \"/>\n",
       "<path clip-path=\"url(#clip940)\" d=\"M 0 0 M57.4273 1384.56 L73.7466 1384.56 L73.7466 1388.5 L51.8023 1388.5 L51.8023 1384.56 Q54.4643 1381.81 59.0476 1377.18 Q63.6541 1372.53 64.8346 1371.19 Q67.08 1368.66 67.9596 1366.93 Q68.8624 1365.17 68.8624 1363.48 Q68.8624 1360.72 66.918 1358.99 Q64.9967 1357.25 61.8948 1357.25 Q59.6958 1357.25 57.2421 1358.01 Q54.8115 1358.78 52.0338 1360.33 L52.0338 1355.61 Q54.8578 1354.47 57.3115 1353.89 Q59.7652 1353.31 61.8023 1353.31 Q67.1726 1353.31 70.367 1356 Q73.5614 1358.69 73.5614 1363.18 Q73.5614 1365.31 72.7513 1367.23 Q71.9642 1369.12 69.8578 1371.72 Q69.2791 1372.39 66.1772 1375.61 Q63.0754 1378.8 57.4273 1384.56 Z\" fill=\"#000000\" fill-rule=\"evenodd\" fill-opacity=\"1\" /><path clip-path=\"url(#clip940)\" d=\"M 0 0 M78.8161 1382.62 L83.7003 1382.62 L83.7003 1388.5 L78.8161 1388.5 L78.8161 1382.62 Z\" fill=\"#000000\" fill-rule=\"evenodd\" fill-opacity=\"1\" /><path clip-path=\"url(#clip940)\" d=\"M 0 0 M98.7696 1357.02 Q95.1586 1357.02 93.3299 1360.58 Q91.5243 1364.13 91.5243 1371.25 Q91.5243 1378.36 93.3299 1381.93 Q95.1586 1385.47 98.7696 1385.47 Q102.404 1385.47 104.209 1381.93 Q106.038 1378.36 106.038 1371.25 Q106.038 1364.13 104.209 1360.58 Q102.404 1357.02 98.7696 1357.02 M98.7696 1353.31 Q104.58 1353.31 107.635 1357.92 Q110.714 1362.5 110.714 1371.25 Q110.714 1379.98 107.635 1384.59 Q104.58 1389.17 98.7696 1389.17 Q92.9595 1389.17 89.8808 1384.59 Q86.8253 1379.98 86.8253 1371.25 Q86.8253 1362.5 89.8808 1357.92 Q92.9595 1353.31 98.7696 1353.31 Z\" fill=\"#000000\" fill-rule=\"evenodd\" fill-opacity=\"1\" /><path clip-path=\"url(#clip940)\" d=\"M 0 0 M125.783 1357.02 Q122.172 1357.02 120.344 1360.58 Q118.538 1364.13 118.538 1371.25 Q118.538 1378.36 120.344 1381.93 Q122.172 1385.47 125.783 1385.47 Q129.418 1385.47 131.223 1381.93 Q133.052 1378.36 133.052 1371.25 Q133.052 1364.13 131.223 1360.58 Q129.418 1357.02 125.783 1357.02 M125.783 1353.31 Q131.594 1353.31 134.649 1357.92 Q137.728 1362.5 137.728 1371.25 Q137.728 1379.98 134.649 1384.59 Q131.594 1389.17 125.783 1389.17 Q119.973 1389.17 116.895 1384.59 Q113.839 1379.98 113.839 1371.25 Q113.839 1362.5 116.895 1357.92 Q119.973 1353.31 125.783 1353.31 Z\" fill=\"#000000\" fill-rule=\"evenodd\" fill-opacity=\"1\" /><path clip-path=\"url(#clip940)\" d=\"M 0 0 M60.0199 1096.96 L76.3392 1096.96 L76.3392 1100.9 L54.3949 1100.9 L54.3949 1096.96 Q57.0569 1094.21 61.6402 1089.58 Q66.2467 1084.93 67.4272 1083.58 Q69.6726 1081.06 70.5522 1079.32 Q71.455 1077.57 71.455 1075.88 Q71.455 1073.12 69.5105 1071.38 Q67.5893 1069.65 64.4874 1069.65 Q62.2884 1069.65 59.8347 1070.41 Q57.4041 1071.18 54.6264 1072.73 L54.6264 1068.01 Q57.4504 1066.87 59.9041 1066.29 Q62.3578 1065.71 64.3948 1065.71 Q69.7652 1065.71 72.9596 1068.4 Q76.154 1071.08 76.154 1075.57 Q76.154 1077.7 75.3438 1079.63 Q74.5568 1081.52 72.4503 1084.12 Q71.8716 1084.79 68.7698 1088.01 Q65.668 1091.2 60.0199 1096.96 Z\" fill=\"#000000\" fill-rule=\"evenodd\" fill-opacity=\"1\" /><path clip-path=\"url(#clip940)\" d=\"M 0 0 M81.4086 1095.02 L86.2929 1095.02 L86.2929 1100.9 L81.4086 1100.9 L81.4086 1095.02 Z\" fill=\"#000000\" fill-rule=\"evenodd\" fill-opacity=\"1\" /><path clip-path=\"url(#clip940)\" d=\"M 0 0 M95.39 1096.96 L111.709 1096.96 L111.709 1100.9 L89.7651 1100.9 L89.7651 1096.96 Q92.4271 1094.21 97.0104 1089.58 Q101.617 1084.93 102.797 1083.58 Q105.043 1081.06 105.922 1079.32 Q106.825 1077.57 106.825 1075.88 Q106.825 1073.12 104.881 1071.38 Q102.959 1069.65 99.8576 1069.65 Q97.6585 1069.65 95.2049 1070.41 Q92.7743 1071.18 89.9965 1072.73 L89.9965 1068.01 Q92.8206 1066.87 95.2743 1066.29 Q97.728 1065.71 99.765 1065.71 Q105.135 1065.71 108.33 1068.4 Q111.524 1071.08 111.524 1075.57 Q111.524 1077.7 110.714 1079.63 Q109.927 1081.52 107.821 1084.12 Q107.242 1084.79 104.14 1088.01 Q101.038 1091.2 95.39 1096.96 Z\" fill=\"#000000\" fill-rule=\"evenodd\" fill-opacity=\"1\" /><path clip-path=\"url(#clip940)\" d=\"M 0 0 M116.825 1066.34 L135.181 1066.34 L135.181 1070.27 L121.107 1070.27 L121.107 1078.75 Q122.126 1078.4 123.145 1078.24 Q124.163 1078.05 125.182 1078.05 Q130.969 1078.05 134.348 1081.22 Q137.728 1084.39 137.728 1089.81 Q137.728 1095.39 134.256 1098.49 Q130.783 1101.57 124.464 1101.57 Q122.288 1101.57 120.02 1101.2 Q117.774 1100.83 115.367 1100.09 L115.367 1095.39 Q117.45 1096.52 119.672 1097.08 Q121.895 1097.63 124.371 1097.63 Q128.376 1097.63 130.714 1095.53 Q133.052 1093.42 133.052 1089.81 Q133.052 1086.2 130.714 1084.09 Q128.376 1081.99 124.371 1081.99 Q122.496 1081.99 120.621 1082.4 Q118.77 1082.82 116.825 1083.7 L116.825 1066.34 Z\" fill=\"#000000\" fill-rule=\"evenodd\" fill-opacity=\"1\" /><path clip-path=\"url(#clip940)\" d=\"M 0 0 M58.4226 809.362 L74.742 809.362 L74.742 813.298 L52.7977 813.298 L52.7977 809.362 Q55.4597 806.608 60.043 801.978 Q64.6495 797.325 65.83 795.983 Q68.0754 793.46 68.955 791.724 Q69.8578 789.964 69.8578 788.275 Q69.8578 785.52 67.9133 783.784 Q65.992 782.048 62.8902 782.048 Q60.6911 782.048 58.2375 782.812 Q55.8069 783.575 53.0292 785.126 L53.0292 780.404 Q55.8532 779.27 58.3069 778.691 Q60.7606 778.113 62.7976 778.113 Q68.168 778.113 71.3624 780.798 Q74.5568 783.483 74.5568 787.974 Q74.5568 790.103 73.7466 792.025 Q72.9596 793.923 70.8531 796.515 Q70.2744 797.187 67.1726 800.404 Q64.0708 803.599 58.4226 809.362 Z\" fill=\"#000000\" fill-rule=\"evenodd\" fill-opacity=\"1\" /><path clip-path=\"url(#clip940)\" d=\"M 0 0 M79.8114 807.418 L84.6956 807.418 L84.6956 813.298 L79.8114 813.298 L79.8114 807.418 Z\" fill=\"#000000\" fill-rule=\"evenodd\" fill-opacity=\"1\" /><path clip-path=\"url(#clip940)\" d=\"M 0 0 M89.8114 778.738 L108.168 778.738 L108.168 782.673 L94.0937 782.673 L94.0937 791.145 Q95.1123 790.798 96.1308 790.636 Q97.1493 790.45 98.1678 790.45 Q103.955 790.45 107.334 793.622 Q110.714 796.793 110.714 802.21 Q110.714 807.788 107.242 810.89 Q103.77 813.969 97.4502 813.969 Q95.2743 813.969 93.0058 813.598 Q90.7604 813.228 88.353 812.487 L88.353 807.788 Q90.4364 808.923 92.6586 809.478 Q94.8808 810.034 97.3576 810.034 Q101.362 810.034 103.7 807.927 Q106.038 805.821 106.038 802.21 Q106.038 798.599 103.7 796.492 Q101.362 794.386 97.3576 794.386 Q95.4826 794.386 93.6076 794.802 Q91.7558 795.219 89.8114 796.099 L89.8114 778.738 Z\" fill=\"#000000\" fill-rule=\"evenodd\" fill-opacity=\"1\" /><path clip-path=\"url(#clip940)\" d=\"M 0 0 M125.783 781.816 Q122.172 781.816 120.344 785.381 Q118.538 788.923 118.538 796.052 Q118.538 803.159 120.344 806.724 Q122.172 810.265 125.783 810.265 Q129.418 810.265 131.223 806.724 Q133.052 803.159 133.052 796.052 Q133.052 788.923 131.223 785.381 Q129.418 781.816 125.783 781.816 M125.783 778.113 Q131.594 778.113 134.649 782.719 Q137.728 787.302 137.728 796.052 Q137.728 804.779 134.649 809.386 Q131.594 813.969 125.783 813.969 Q119.973 813.969 116.895 809.386 Q113.839 804.779 113.839 796.052 Q113.839 787.302 116.895 782.719 Q119.973 778.113 125.783 778.113 Z\" fill=\"#000000\" fill-rule=\"evenodd\" fill-opacity=\"1\" /><path clip-path=\"url(#clip940)\" d=\"M 0 0 M59.3254 521.761 L75.6448 521.761 L75.6448 525.696 L53.7004 525.696 L53.7004 521.761 Q56.3625 519.007 60.9458 514.377 Q65.5522 509.724 66.7328 508.382 Q68.9781 505.859 69.8578 504.122 Q70.7605 502.363 70.7605 500.673 Q70.7605 497.919 68.8161 496.183 Q66.8948 494.447 63.793 494.447 Q61.5939 494.447 59.1402 495.21 Q56.7097 495.974 53.9319 497.525 L53.9319 492.803 Q56.756 491.669 59.2097 491.09 Q61.6634 490.511 63.7004 490.511 Q69.0707 490.511 72.2652 493.197 Q75.4596 495.882 75.4596 500.372 Q75.4596 502.502 74.6494 504.423 Q73.8624 506.321 71.7559 508.914 Q71.1772 509.585 68.0754 512.803 Q64.9735 515.997 59.3254 521.761 Z\" fill=\"#000000\" fill-rule=\"evenodd\" fill-opacity=\"1\" /><path clip-path=\"url(#clip940)\" d=\"M 0 0 M80.7142 519.817 L85.5984 519.817 L85.5984 525.696 L80.7142 525.696 L80.7142 519.817 Z\" fill=\"#000000\" fill-rule=\"evenodd\" fill-opacity=\"1\" /><path clip-path=\"url(#clip940)\" d=\"M 0 0 M89.4873 491.136 L111.709 491.136 L111.709 493.127 L99.1632 525.696 L94.2789 525.696 L106.084 495.072 L89.4873 495.072 L89.4873 491.136 Z\" fill=\"#000000\" fill-rule=\"evenodd\" fill-opacity=\"1\" /><path clip-path=\"url(#clip940)\" d=\"M 0 0 M116.825 491.136 L135.181 491.136 L135.181 495.072 L121.107 495.072 L121.107 503.544 Q122.126 503.197 123.145 503.034 Q124.163 502.849 125.182 502.849 Q130.969 502.849 134.348 506.021 Q137.728 509.192 137.728 514.608 Q137.728 520.187 134.256 523.289 Q130.783 526.368 124.464 526.368 Q122.288 526.368 120.02 525.997 Q117.774 525.627 115.367 524.886 L115.367 520.187 Q117.45 521.321 119.672 521.877 Q121.895 522.433 124.371 522.433 Q128.376 522.433 130.714 520.326 Q133.052 518.22 133.052 514.608 Q133.052 510.997 130.714 508.891 Q128.376 506.784 124.371 506.784 Q122.496 506.784 120.621 507.201 Q118.77 507.618 116.825 508.497 L116.825 491.136 Z\" fill=\"#000000\" fill-rule=\"evenodd\" fill-opacity=\"1\" /><path clip-path=\"url(#clip940)\" d=\"M 0 0 M66.617 219.461 Q69.9735 220.179 71.8485 222.447 Q73.7466 224.716 73.7466 228.049 Q73.7466 233.165 70.2281 235.966 Q66.7096 238.767 60.2282 238.767 Q58.0523 238.767 55.7375 238.327 Q53.4458 237.91 50.9921 237.054 L50.9921 232.54 Q52.9366 233.674 55.2514 234.253 Q57.5662 234.831 60.0893 234.831 Q64.4874 234.831 66.7791 233.095 Q69.0939 231.359 69.0939 228.049 Q69.0939 224.993 66.9411 223.28 Q64.8115 221.544 60.9921 221.544 L56.9643 221.544 L56.9643 217.702 L61.1773 217.702 Q64.6263 217.702 66.455 216.336 Q68.2837 214.947 68.2837 212.355 Q68.2837 209.693 66.3856 208.281 Q64.5106 206.845 60.9921 206.845 Q59.0708 206.845 56.8717 207.262 Q54.6727 207.679 52.0338 208.558 L52.0338 204.392 Q54.6958 203.651 57.0106 203.281 Q59.3486 202.91 61.4087 202.91 Q66.7328 202.91 69.8346 205.341 Q72.9365 207.748 72.9365 211.869 Q72.9365 214.739 71.2929 216.73 Q69.6494 218.697 66.617 219.461 Z\" fill=\"#000000\" fill-rule=\"evenodd\" fill-opacity=\"1\" /><path clip-path=\"url(#clip940)\" d=\"M 0 0 M78.8161 232.216 L83.7003 232.216 L83.7003 238.095 L78.8161 238.095 L78.8161 232.216 Z\" fill=\"#000000\" fill-rule=\"evenodd\" fill-opacity=\"1\" /><path clip-path=\"url(#clip940)\" d=\"M 0 0 M98.7696 206.614 Q95.1586 206.614 93.3299 210.179 Q91.5243 213.72 91.5243 220.85 Q91.5243 227.956 93.3299 231.521 Q95.1586 235.063 98.7696 235.063 Q102.404 235.063 104.209 231.521 Q106.038 227.956 106.038 220.85 Q106.038 213.72 104.209 210.179 Q102.404 206.614 98.7696 206.614 M98.7696 202.91 Q104.58 202.91 107.635 207.517 Q110.714 212.1 110.714 220.85 Q110.714 229.577 107.635 234.183 Q104.58 238.767 98.7696 238.767 Q92.9595 238.767 89.8808 234.183 Q86.8253 229.577 86.8253 220.85 Q86.8253 212.1 89.8808 207.517 Q92.9595 202.91 98.7696 202.91 Z\" fill=\"#000000\" fill-rule=\"evenodd\" fill-opacity=\"1\" /><path clip-path=\"url(#clip940)\" d=\"M 0 0 M125.783 206.614 Q122.172 206.614 120.344 210.179 Q118.538 213.72 118.538 220.85 Q118.538 227.956 120.344 231.521 Q122.172 235.063 125.783 235.063 Q129.418 235.063 131.223 231.521 Q133.052 227.956 133.052 220.85 Q133.052 213.72 131.223 210.179 Q129.418 206.614 125.783 206.614 M125.783 202.91 Q131.594 202.91 134.649 207.517 Q137.728 212.1 137.728 220.85 Q137.728 229.577 134.649 234.183 Q131.594 238.767 125.783 238.767 Q119.973 238.767 116.895 234.183 Q113.839 229.577 113.839 220.85 Q113.839 212.1 116.895 207.517 Q119.973 202.91 125.783 202.91 Z\" fill=\"#000000\" fill-rule=\"evenodd\" fill-opacity=\"1\" /><path clip-path=\"url(#clip940)\" d=\"M 0 0 M1066.83 9.62495 Q1061.41 18.942 1058.77 28.0566 Q1056.14 37.1711 1056.14 46.5287 Q1056.14 55.8863 1058.77 65.0818 Q1061.45 74.2369 1066.83 83.5134 L1060.35 83.5134 Q1054.28 73.9938 1051.24 64.7983 Q1048.24 55.6027 1048.24 46.5287 Q1048.24 37.4952 1051.24 28.3401 Q1054.24 19.1851 1060.35 9.62495 L1066.83 9.62495 Z\" fill=\"#000000\" fill-rule=\"evenodd\" fill-opacity=\"1\" /><path clip-path=\"url(#clip940)\" d=\"M 0 0 M1112.37 45.1919 L1112.37 72.576 L1104.91 72.576 L1104.91 45.4349 Q1104.91 38.994 1102.4 35.7938 Q1099.89 32.5936 1094.87 32.5936 Q1088.83 32.5936 1085.35 36.4419 Q1081.86 40.2903 1081.86 46.9338 L1081.86 72.576 L1074.37 72.576 L1074.37 27.2059 L1081.86 27.2059 L1081.86 34.2544 Q1084.54 30.163 1088.14 28.1376 Q1091.79 26.1121 1096.53 26.1121 Q1104.35 26.1121 1108.36 30.9732 Q1112.37 35.7938 1112.37 45.1919 Z\" fill=\"#000000\" fill-rule=\"evenodd\" fill-opacity=\"1\" /><path clip-path=\"url(#clip940)\" d=\"M 0 0 M1122.09 62.2867 L1130.64 62.2867 L1130.64 69.2543 L1123.99 82.2172 L1118.77 82.2172 L1122.09 69.2543 L1122.09 62.2867 Z\" fill=\"#000000\" fill-rule=\"evenodd\" fill-opacity=\"1\" /><path clip-path=\"url(#clip940)\" d=\"M 0 0 M1173.78 35.9153 Q1176.57 30.8922 1180.46 28.5022 Q1184.35 26.1121 1189.62 26.1121 Q1196.71 26.1121 1200.55 31.0947 Q1204.4 36.0368 1204.4 45.1919 L1204.4 72.576 L1196.91 72.576 L1196.91 45.4349 Q1196.91 38.913 1194.6 35.7533 Q1192.29 32.5936 1187.55 32.5936 Q1181.76 32.5936 1178.4 36.4419 Q1175.03 40.2903 1175.03 46.9338 L1175.03 72.576 L1167.54 72.576 L1167.54 45.4349 Q1167.54 38.8725 1165.23 35.7533 Q1162.92 32.5936 1158.1 32.5936 Q1152.39 32.5936 1149.03 36.4824 Q1145.66 40.3308 1145.66 46.9338 L1145.66 72.576 L1138.17 72.576 L1138.17 27.2059 L1145.66 27.2059 L1145.66 34.2544 Q1148.22 30.082 1151.78 28.0971 Q1155.35 26.1121 1160.25 26.1121 Q1165.19 26.1121 1168.63 28.6237 Q1172.12 31.1352 1173.78 35.9153 Z\" fill=\"#000000\" fill-rule=\"evenodd\" fill-opacity=\"1\" /><path clip-path=\"url(#clip940)\" d=\"M 0 0 M1211.05 9.62495 L1217.53 9.62495 Q1223.6 19.1851 1226.6 28.3401 Q1229.64 37.4952 1229.64 46.5287 Q1229.64 55.6027 1226.6 64.7983 Q1223.6 73.9938 1217.53 83.5134 L1211.05 83.5134 Q1216.43 74.2369 1219.07 65.0818 Q1221.74 55.8863 1221.74 46.5287 Q1221.74 37.1711 1219.07 28.0566 Q1216.43 18.942 1211.05 9.62495 Z\" fill=\"#000000\" fill-rule=\"evenodd\" fill-opacity=\"1\" /><path clip-path=\"url(#clip940)\" d=\"M 0 0 M1238.43 34.9026 L1290.36 34.9026 L1290.36 41.7081 L1238.43 41.7081 L1238.43 34.9026 M1238.43 51.4303 L1290.36 51.4303 L1290.36 58.3168 L1238.43 58.3168 L1238.43 51.4303 Z\" fill=\"#000000\" fill-rule=\"evenodd\" fill-opacity=\"1\" /><path clip-path=\"url(#clip940)\" d=\"M 0 0 M1316.09 9.62495 Q1310.66 18.942 1308.02 28.0566 Q1305.39 37.1711 1305.39 46.5287 Q1305.39 55.8863 1308.02 65.0818 Q1310.7 74.2369 1316.09 83.5134 L1309.6 83.5134 Q1303.53 73.9938 1300.49 64.7983 Q1297.49 55.6027 1297.49 46.5287 Q1297.49 37.4952 1300.49 28.3401 Q1303.49 19.1851 1309.6 9.62495 L1316.09 9.62495 Z\" fill=\"#000000\" fill-rule=\"evenodd\" fill-opacity=\"1\" /><path clip-path=\"url(#clip940)\" d=\"M 0 0 M1349.75 39.9662 Q1355.62 41.222 1358.9 45.1919 Q1362.23 49.1618 1362.23 54.9951 Q1362.23 63.9476 1356.07 68.8492 Q1349.91 73.7508 1338.57 73.7508 Q1334.76 73.7508 1330.71 72.9811 Q1326.7 72.2519 1322.41 70.7531 L1322.41 62.8538 Q1325.81 64.8388 1329.86 65.8515 Q1333.91 66.8642 1338.33 66.8642 Q1346.02 66.8642 1350.03 63.826 Q1354.08 60.7879 1354.08 54.9951 Q1354.08 49.6479 1350.32 46.6502 Q1346.59 43.612 1339.91 43.612 L1332.86 43.612 L1332.86 36.8875 L1340.23 36.8875 Q1346.27 36.8875 1349.47 34.4975 Q1352.67 32.067 1352.67 27.5299 Q1352.67 22.8714 1349.34 20.4004 Q1346.06 17.8888 1339.91 17.8888 Q1336.54 17.8888 1332.69 18.618 Q1328.85 19.3471 1324.23 20.8865 L1324.23 13.5948 Q1328.89 12.2985 1332.94 11.6504 Q1337.03 11.0023 1340.63 11.0023 Q1349.95 11.0023 1355.38 15.2557 Q1360.81 19.4686 1360.81 26.6793 Q1360.81 31.7024 1357.93 35.1862 Q1355.06 38.6294 1349.75 39.9662 Z\" fill=\"#000000\" fill-rule=\"evenodd\" fill-opacity=\"1\" /><path clip-path=\"url(#clip940)\" d=\"M 0 0 M1371.95 62.2867 L1380.5 62.2867 L1380.5 69.2543 L1373.85 82.2172 L1368.63 82.2172 L1371.95 69.2543 L1371.95 62.2867 Z\" fill=\"#000000\" fill-rule=\"evenodd\" fill-opacity=\"1\" /><path clip-path=\"url(#clip940)\" d=\"M 0 0 M1440.53 39.9662 Q1446.4 41.222 1449.68 45.1919 Q1453.01 49.1618 1453.01 54.9951 Q1453.01 63.9476 1446.85 68.8492 Q1440.69 73.7508 1429.35 73.7508 Q1425.54 73.7508 1421.49 72.9811 Q1417.48 72.2519 1413.19 70.7531 L1413.19 62.8538 Q1416.59 64.8388 1420.64 65.8515 Q1424.69 66.8642 1429.11 66.8642 Q1436.8 66.8642 1440.81 63.826 Q1444.86 60.7879 1444.86 54.9951 Q1444.86 49.6479 1441.1 46.6502 Q1437.37 43.612 1430.69 43.612 L1423.64 43.612 L1423.64 36.8875 L1431.01 36.8875 Q1437.05 36.8875 1440.25 34.4975 Q1443.45 32.067 1443.45 27.5299 Q1443.45 22.8714 1440.12 20.4004 Q1436.84 17.8888 1430.69 17.8888 Q1427.32 17.8888 1423.48 18.618 Q1419.63 19.3471 1415.01 20.8865 L1415.01 13.5948 Q1419.67 12.2985 1423.72 11.6504 Q1427.81 11.0023 1431.42 11.0023 Q1440.73 11.0023 1446.16 15.2557 Q1451.59 19.4686 1451.59 26.6793 Q1451.59 31.7024 1448.71 35.1862 Q1445.84 38.6294 1440.53 39.9662 Z\" fill=\"#000000\" fill-rule=\"evenodd\" fill-opacity=\"1\" /><path clip-path=\"url(#clip940)\" d=\"M 0 0 M1459.65 9.62495 L1466.13 9.62495 Q1472.21 19.1851 1475.21 28.3401 Q1478.24 37.4952 1478.24 46.5287 Q1478.24 55.6027 1475.21 64.7983 Q1472.21 73.9938 1466.13 83.5134 L1459.65 83.5134 Q1465.04 74.2369 1467.67 65.0818 Q1470.34 55.8863 1470.34 46.5287 Q1470.34 37.1711 1467.67 28.0566 Q1465.04 18.942 1459.65 9.62495 Z\" fill=\"#000000\" fill-rule=\"evenodd\" fill-opacity=\"1\" /><path clip-path=\"url(#clip940)\" d=\"M 0 0 M1022.84 138.748 L1022.84 142.393 L988.57 142.393 Q989.056 150.09 993.188 154.141 Q997.361 158.151 1004.77 158.151 Q1009.07 158.151 1013.08 157.098 Q1017.13 156.045 1021.1 153.938 L1021.1 160.987 Q1017.09 162.688 1012.88 163.58 Q1008.66 164.471 1004.33 164.471 Q993.472 164.471 987.112 158.151 Q980.793 151.832 980.793 141.057 Q980.793 129.917 986.788 123.395 Q992.824 116.832 1003.03 116.832 Q1012.19 116.832 1017.49 122.746 Q1022.84 128.62 1022.84 138.748 M1015.39 136.56 Q1015.31 130.443 1011.94 126.797 Q1008.62 123.152 1003.11 123.152 Q996.875 123.152 993.107 126.676 Q989.38 130.2 988.813 136.601 L1015.39 136.56 Z\" fill=\"#000000\" fill-rule=\"evenodd\" fill-opacity=\"1\" /><path clip-path=\"url(#clip940)\" d=\"M 0 0 M1056.95 124.893 Q1055.69 124.164 1054.19 123.84 Q1052.74 123.476 1050.95 123.476 Q1044.63 123.476 1041.23 127.608 Q1037.87 131.699 1037.87 139.396 L1037.87 163.296 L1030.38 163.296 L1030.38 117.926 L1037.87 117.926 L1037.87 124.974 Q1040.22 120.843 1043.99 118.858 Q1047.75 116.832 1053.14 116.832 Q1053.91 116.832 1054.84 116.954 Q1055.77 117.035 1056.91 117.237 L1056.95 124.893 Z\" fill=\"#000000\" fill-rule=\"evenodd\" fill-opacity=\"1\" /><path clip-path=\"url(#clip940)\" d=\"M 0 0 M1089.6 124.893 Q1088.34 124.164 1086.85 123.84 Q1085.39 123.476 1083.6 123.476 Q1077.29 123.476 1073.88 127.608 Q1070.52 131.699 1070.52 139.396 L1070.52 163.296 L1063.03 163.296 L1063.03 117.926 L1070.52 117.926 L1070.52 124.974 Q1072.87 120.843 1076.64 118.858 Q1080.4 116.832 1085.79 116.832 Q1086.56 116.832 1087.49 116.954 Q1088.43 117.035 1089.56 117.237 L1089.6 124.893 Z\" fill=\"#000000\" fill-rule=\"evenodd\" fill-opacity=\"1\" /><path clip-path=\"url(#clip940)\" d=\"M 0 0 M1131.89 177.069 L1131.89 182.862 L1088.79 182.862 L1088.79 177.069 L1131.89 177.069 Z\" fill=\"#000000\" fill-rule=\"evenodd\" fill-opacity=\"1\" /><path clip-path=\"url(#clip940)\" d=\"M 0 0 M1166 124.893 Q1164.74 124.164 1163.25 123.84 Q1161.79 123.476 1160 123.476 Q1153.69 123.476 1150.28 127.608 Q1146.92 131.699 1146.92 139.396 L1146.92 163.296 L1139.43 163.296 L1139.43 117.926 L1146.92 117.926 L1146.92 124.974 Q1149.27 120.843 1153.04 118.858 Q1156.8 116.832 1162.19 116.832 Q1162.96 116.832 1163.89 116.954 Q1164.83 117.035 1165.96 117.237 L1166 124.893 Z\" fill=\"#000000\" fill-rule=\"evenodd\" fill-opacity=\"1\" /><path clip-path=\"url(#clip940)\" d=\"M 0 0 M1194.44 140.489 Q1185.4 140.489 1181.92 142.555 Q1178.44 144.621 1178.44 149.604 Q1178.44 153.574 1181.03 155.923 Q1183.66 158.232 1188.16 158.232 Q1194.36 158.232 1198.08 153.857 Q1201.85 149.442 1201.85 142.15 L1201.85 140.489 L1194.44 140.489 M1209.3 137.411 L1209.3 163.296 L1201.85 163.296 L1201.85 156.409 Q1199.3 160.541 1195.49 162.526 Q1191.68 164.471 1186.17 164.471 Q1179.21 164.471 1175.07 160.582 Q1170.98 156.653 1170.98 150.09 Q1170.98 142.434 1176.09 138.545 Q1181.23 134.656 1191.4 134.656 L1201.85 134.656 L1201.85 133.927 Q1201.85 128.782 1198.45 125.987 Q1195.09 123.152 1188.97 123.152 Q1185.08 123.152 1181.39 124.083 Q1177.71 125.015 1174.3 126.878 L1174.3 119.992 Q1178.4 118.412 1182.24 117.642 Q1186.09 116.832 1189.74 116.832 Q1199.58 116.832 1204.44 121.936 Q1209.3 127.04 1209.3 137.411 Z\" fill=\"#000000\" fill-rule=\"evenodd\" fill-opacity=\"1\" /><path clip-path=\"url(#clip940)\" d=\"M 0 0 M1224.49 105.044 L1224.49 117.926 L1239.85 117.926 L1239.85 123.719 L1224.49 123.719 L1224.49 148.348 Q1224.49 153.898 1225.99 155.478 Q1227.53 157.058 1232.19 157.058 L1239.85 157.058 L1239.85 163.296 L1232.19 163.296 Q1223.56 163.296 1220.28 160.096 Q1217 156.855 1217 148.348 L1217 123.719 L1211.53 123.719 L1211.53 117.926 L1217 117.926 L1217 105.044 L1224.49 105.044 Z\" fill=\"#000000\" fill-rule=\"evenodd\" fill-opacity=\"1\" /><path clip-path=\"url(#clip940)\" d=\"M 0 0 M1286.47 138.748 L1286.47 142.393 L1252.2 142.393 Q1252.69 150.09 1256.82 154.141 Q1260.99 158.151 1268.41 158.151 Q1272.7 158.151 1276.71 157.098 Q1280.76 156.045 1284.73 153.938 L1284.73 160.987 Q1280.72 162.688 1276.51 163.58 Q1272.3 164.471 1267.96 164.471 Q1257.1 164.471 1250.74 158.151 Q1244.43 151.832 1244.43 141.057 Q1244.43 129.917 1250.42 123.395 Q1256.46 116.832 1266.66 116.832 Q1275.82 116.832 1281.13 122.746 Q1286.47 128.62 1286.47 138.748 M1279.02 136.56 Q1278.94 130.443 1275.58 126.797 Q1272.26 123.152 1266.75 123.152 Q1260.51 123.152 1256.74 126.676 Q1253.01 130.2 1252.45 136.601 L1279.02 136.56 Z\" fill=\"#000000\" fill-rule=\"evenodd\" fill-opacity=\"1\" /><path clip-path=\"url(#clip940)\" d=\"M 0 0 M1295.26 125.623 L1347.2 125.623 L1347.2 132.428 L1295.26 132.428 L1295.26 125.623 M1295.26 142.15 L1347.2 142.15 L1347.2 149.037 L1295.26 149.037 L1295.26 142.15 Z\" fill=\"#000000\" fill-rule=\"evenodd\" fill-opacity=\"1\" /><path clip-path=\"url(#clip940)\" d=\"M 0 0 M1357.49 156.409 L1370.85 156.409 L1370.85 110.27 L1356.31 113.186 L1356.31 105.733 L1370.77 102.816 L1378.96 102.816 L1378.96 156.409 L1392.32 156.409 L1392.32 163.296 L1357.49 163.296 L1357.49 156.409 Z\" fill=\"#000000\" fill-rule=\"evenodd\" fill-opacity=\"1\" /><path clip-path=\"url(#clip940)\" d=\"M 0 0 M1401.2 153.007 L1409.74 153.007 L1409.74 163.296 L1401.2 163.296 L1401.2 153.007 Z\" fill=\"#000000\" fill-rule=\"evenodd\" fill-opacity=\"1\" /><path clip-path=\"url(#clip940)\" d=\"M 0 0 M1436.11 108.204 Q1429.79 108.204 1426.59 114.442 Q1423.43 120.64 1423.43 133.117 Q1423.43 145.553 1426.59 151.791 Q1429.79 157.989 1436.11 157.989 Q1442.47 157.989 1445.63 151.791 Q1448.83 145.553 1448.83 133.117 Q1448.83 120.64 1445.63 114.442 Q1442.47 108.204 1436.11 108.204 M1436.11 101.722 Q1446.28 101.722 1451.63 109.784 Q1457.02 117.804 1457.02 133.117 Q1457.02 148.389 1451.63 156.45 Q1446.28 164.471 1436.11 164.471 Q1425.95 164.471 1420.56 156.45 Q1415.21 148.389 1415.21 133.117 Q1415.21 117.804 1420.56 109.784 Q1425.95 101.722 1436.11 101.722 Z\" fill=\"#000000\" fill-rule=\"evenodd\" fill-opacity=\"1\" /><path clip-path=\"url(#clip940)\" d=\"M 0 0 M1503.64 138.748 L1503.64 142.393 L1469.37 142.393 Q1469.86 150.09 1473.99 154.141 Q1478.16 158.151 1485.58 158.151 Q1489.87 158.151 1493.88 157.098 Q1497.93 156.045 1501.9 153.938 L1501.9 160.987 Q1497.89 162.688 1493.68 163.58 Q1489.46 164.471 1485.13 164.471 Q1474.27 164.471 1467.91 158.151 Q1461.59 151.832 1461.59 141.057 Q1461.59 129.917 1467.59 123.395 Q1473.63 116.832 1483.83 116.832 Q1492.99 116.832 1498.3 122.746 Q1503.64 128.62 1503.64 138.748 M1496.19 136.56 Q1496.11 130.443 1492.75 126.797 Q1489.42 123.152 1483.91 123.152 Q1477.68 123.152 1473.91 126.676 Q1470.18 130.2 1469.62 136.601 L1496.19 136.56 Z\" fill=\"#000000\" fill-rule=\"evenodd\" fill-opacity=\"1\" /><path clip-path=\"url(#clip940)\" d=\"M 0 0 M1507.69 137.249 L1529.53 137.249 L1529.53 143.892 L1507.69 143.892 L1507.69 137.249 Z\" fill=\"#000000\" fill-rule=\"evenodd\" fill-opacity=\"1\" /><path clip-path=\"url(#clip940)\" d=\"M 0 0 M1555.9 134.575 Q1550.07 134.575 1546.7 137.694 Q1543.38 140.813 1543.38 146.282 Q1543.38 151.751 1546.7 154.87 Q1550.07 157.989 1555.9 157.989 Q1561.73 157.989 1565.09 154.87 Q1568.46 151.71 1568.46 146.282 Q1568.46 140.813 1565.09 137.694 Q1561.77 134.575 1555.9 134.575 M1547.72 131.091 Q1542.45 129.795 1539.49 126.19 Q1536.58 122.584 1536.58 117.399 Q1536.58 110.148 1541.72 105.935 Q1546.91 101.722 1555.9 101.722 Q1564.93 101.722 1570.08 105.935 Q1575.22 110.148 1575.22 117.399 Q1575.22 122.584 1572.27 126.19 Q1569.35 129.795 1564.12 131.091 Q1570.04 132.469 1573.32 136.479 Q1576.64 140.489 1576.64 146.282 Q1576.64 155.073 1571.25 159.772 Q1565.91 164.471 1555.9 164.471 Q1545.89 164.471 1540.51 159.772 Q1535.16 155.073 1535.16 146.282 Q1535.16 140.489 1538.48 136.479 Q1541.8 132.469 1547.72 131.091 M1544.72 118.169 Q1544.72 122.868 1547.64 125.501 Q1550.59 128.134 1555.9 128.134 Q1561.17 128.134 1564.12 125.501 Q1567.12 122.868 1567.12 118.169 Q1567.12 113.47 1564.12 110.837 Q1561.17 108.204 1555.9 108.204 Q1550.59 108.204 1547.64 110.837 Q1544.72 113.47 1544.72 118.169 Z\" fill=\"#000000\" fill-rule=\"evenodd\" fill-opacity=\"1\" /><polyline clip-path=\"url(#clip942)\" style=\"stroke:#009af9; stroke-width:4; stroke-opacity:1; fill:none\" points=\"\n",
       "  235.398,220.844 240.417,221.022 245.436,221.569 250.455,222.48 255.474,223.752 278.677,234.227 301.881,251.936 325.084,276.378 348.287,306.976 371.491,343.09 \n",
       "  394.694,384.035 417.897,429.1 441.101,477.563 496.877,603.693 552.654,736.024 599.813,846.838 646.972,952.617 698.199,1058.56 749.427,1152.83 796.654,1228.19 \n",
       "  843.882,1292.01 894.514,1347.6 945.147,1390.33 1003.81,1424.65 1062.47,1443.93 1114.61,1449.58 1166.74,1445.5 1212.45,1434.67 1258.17,1417.71 1308.01,1392.92 \n",
       "  1357.85,1362.22 1407.99,1326.01 1458.13,1285.02 1513.57,1234.76 1569,1179.9 1621.74,1123.92 1674.49,1064.67 1784.17,932.526 1876.5,813.496 1989.23,660.458 \n",
       "  2095.19,510.363 2264.96,260.187 2291.09,220.817 \n",
       "  \"/>\n",
       "<polyline clip-path=\"url(#clip942)\" style=\"stroke:#e26f46; stroke-width:4; stroke-opacity:1; fill:none\" points=\"\n",
       "  235.398,220.815 240.417,221 245.436,221.552 250.455,222.469 255.474,223.746 278.677,234.239 301.881,251.958 325.084,276.405 348.287,307.002 371.491,343.113 \n",
       "  394.694,384.053 417.897,429.112 441.101,477.569 496.877,603.686 552.654,736.011 599.813,846.825 646.972,952.606 698.199,1058.55 749.427,1152.83 796.654,1228.2 \n",
       "  843.882,1292.02 894.514,1347.61 945.147,1390.34 1003.81,1424.66 1062.47,1443.93 1114.61,1449.58 1166.74,1445.49 1212.45,1434.66 1258.17,1417.7 1308.01,1392.91 \n",
       "  1357.85,1362.21 1407.99,1326 1458.13,1285.01 1513.57,1234.75 1569,1179.89 1621.74,1123.92 1674.49,1064.67 1784.17,932.534 1876.5,813.509 1989.23,660.475 \n",
       "  2095.19,510.38 2264.96,260.189 2291.09,220.815 \n",
       "  \"/>\n",
       "<path clip-path=\"url(#clip940)\" d=\"\n",
       "M1968.26 408.809 L2280.12 408.809 L2280.12 227.369 L1968.26 227.369  Z\n",
       "  \" fill=\"#ffffff\" fill-rule=\"evenodd\" fill-opacity=\"1\"/>\n",
       "<polyline clip-path=\"url(#clip940)\" style=\"stroke:#000000; stroke-width:4; stroke-opacity:1; fill:none\" points=\"\n",
       "  1968.26,408.809 2280.12,408.809 2280.12,227.369 1968.26,227.369 1968.26,408.809 \n",
       "  \"/>\n",
       "<polyline clip-path=\"url(#clip940)\" style=\"stroke:#009af9; stroke-width:4; stroke-opacity:1; fill:none\" points=\"\n",
       "  1992.47,287.849 2137.74,287.849 \n",
       "  \"/>\n",
       "<path clip-path=\"url(#clip940)\" d=\"M 0 0 M2180.87 291.865 Q2180.87 287.235 2178.94 284.689 Q2177.05 282.143 2173.6 282.143 Q2170.17 282.143 2168.25 284.689 Q2166.35 287.235 2166.35 291.865 Q2166.35 296.471 2168.25 299.018 Q2170.17 301.564 2173.6 301.564 Q2177.05 301.564 2178.94 299.018 Q2180.87 296.471 2180.87 291.865 M2185.12 301.911 Q2185.12 308.531 2182.19 311.749 Q2179.25 314.99 2173.18 314.99 Q2170.94 314.99 2168.94 314.642 Q2166.95 314.318 2165.08 313.624 L2165.08 309.48 Q2166.95 310.499 2168.78 310.985 Q2170.61 311.471 2172.51 311.471 Q2176.7 311.471 2178.78 309.272 Q2180.87 307.096 2180.87 302.675 L2180.87 300.568 Q2179.55 302.86 2177.49 303.994 Q2175.43 305.129 2172.56 305.129 Q2167.79 305.129 2164.87 301.494 Q2161.95 297.86 2161.95 291.865 Q2161.95 285.846 2164.87 282.212 Q2167.79 278.578 2172.56 278.578 Q2175.43 278.578 2177.49 279.712 Q2179.55 280.846 2180.87 283.138 L2180.87 279.203 L2185.12 279.203 L2185.12 301.911 Z\" fill=\"#000000\" fill-rule=\"evenodd\" fill-opacity=\"1\" /><path clip-path=\"url(#clip940)\" d=\"M 0 0 M2199.82 269.157 Q2196.72 274.481 2195.22 279.689 Q2193.71 284.897 2193.71 290.244 Q2193.71 295.592 2195.22 300.846 Q2196.75 306.078 2199.82 311.379 L2196.12 311.379 Q2192.65 305.939 2190.91 300.684 Q2189.2 295.43 2189.2 290.244 Q2189.2 285.082 2190.91 279.851 Q2192.62 274.62 2196.12 269.157 L2199.82 269.157 Z\" fill=\"#000000\" fill-rule=\"evenodd\" fill-opacity=\"1\" /><path clip-path=\"url(#clip940)\" d=\"M 0 0 M2208.5 271.842 L2208.5 279.203 L2217.28 279.203 L2217.28 282.513 L2208.5 282.513 L2208.5 296.587 Q2208.5 299.758 2209.36 300.661 Q2210.24 301.564 2212.9 301.564 L2217.28 301.564 L2217.28 305.129 L2212.9 305.129 Q2207.97 305.129 2206.1 303.3 Q2204.22 301.448 2204.22 296.587 L2204.22 282.513 L2201.1 282.513 L2201.1 279.203 L2204.22 279.203 L2204.22 271.842 L2208.5 271.842 Z\" fill=\"#000000\" fill-rule=\"evenodd\" fill-opacity=\"1\" /><path clip-path=\"url(#clip940)\" d=\"M 0 0 M2221.07 269.157 L2224.78 269.157 Q2228.25 274.62 2229.96 279.851 Q2231.7 285.082 2231.7 290.244 Q2231.7 295.43 2229.96 300.684 Q2228.25 305.939 2224.78 311.379 L2221.07 311.379 Q2224.15 306.078 2225.66 300.846 Q2227.18 295.592 2227.18 290.244 Q2227.18 284.897 2225.66 279.689 Q2224.15 274.481 2221.07 269.157 Z\" fill=\"#000000\" fill-rule=\"evenodd\" fill-opacity=\"1\" /><polyline clip-path=\"url(#clip940)\" style=\"stroke:#e26f46; stroke-width:4; stroke-opacity:1; fill:none\" points=\"\n",
       "  1992.47,348.329 2137.74,348.329 \n",
       "  \"/>\n",
       "<path clip-path=\"url(#clip940)\" d=\"M 0 0 M2178.46 329.59 L2178.46 333.132 L2174.38 333.132 Q2172.09 333.132 2171.19 334.058 Q2170.31 334.984 2170.31 337.391 L2170.31 339.683 L2177.32 339.683 L2177.32 342.993 L2170.31 342.993 L2170.31 365.609 L2166.03 365.609 L2166.03 342.993 L2161.95 342.993 L2161.95 339.683 L2166.03 339.683 L2166.03 337.877 Q2166.03 333.549 2168.04 331.581 Q2170.06 329.59 2174.43 329.59 L2178.46 329.59 Z\" fill=\"#000000\" fill-rule=\"evenodd\" fill-opacity=\"1\" /><path clip-path=\"url(#clip940)\" d=\"M 0 0 M2193.16 329.637 Q2190.06 334.961 2188.55 340.169 Q2187.05 345.377 2187.05 350.724 Q2187.05 356.072 2188.55 361.326 Q2190.08 366.558 2193.16 371.859 L2189.45 371.859 Q2185.98 366.419 2184.25 361.164 Q2182.53 355.91 2182.53 350.724 Q2182.53 345.562 2184.25 340.331 Q2185.96 335.1 2189.45 329.637 L2193.16 329.637 Z\" fill=\"#000000\" fill-rule=\"evenodd\" fill-opacity=\"1\" /><path clip-path=\"url(#clip940)\" d=\"M 0 0 M2201.84 332.322 L2201.84 339.683 L2210.61 339.683 L2210.61 342.993 L2201.84 342.993 L2201.84 357.067 Q2201.84 360.238 2202.69 361.141 Q2203.57 362.044 2206.24 362.044 L2210.61 362.044 L2210.61 365.609 L2206.24 365.609 Q2201.31 365.609 2199.43 363.78 Q2197.56 361.928 2197.56 357.067 L2197.56 342.993 L2194.43 342.993 L2194.43 339.683 L2197.56 339.683 L2197.56 332.322 L2201.84 332.322 Z\" fill=\"#000000\" fill-rule=\"evenodd\" fill-opacity=\"1\" /><path clip-path=\"url(#clip940)\" d=\"M 0 0 M2214.41 329.637 L2218.11 329.637 Q2221.58 335.1 2223.3 340.331 Q2225.03 345.562 2225.03 350.724 Q2225.03 355.91 2223.3 361.164 Q2221.58 366.419 2218.11 371.859 L2214.41 371.859 Q2217.49 366.558 2218.99 361.326 Q2220.52 356.072 2220.52 350.724 Q2220.52 345.377 2218.99 340.169 Q2217.49 334.961 2214.41 329.637 Z\" fill=\"#000000\" fill-rule=\"evenodd\" fill-opacity=\"1\" /></svg>\n"
      ]
     },
     "execution_count": 426,
     "metadata": {},
     "output_type": "execute_result"
    }
   ],
   "source": [
    "plot(g,0,3, title=\"(n,m)=$((n,m))\\n err_rate=$(error_rate)\", label=\"g(t)\")\n",
    "plot!(f,0,3, label=\"f(t)\")"
   ]
  },
  {
   "cell_type": "code",
   "execution_count": 427,
   "metadata": {},
   "outputs": [
    {
     "data": {
      "image/svg+xml": [
       "<?xml version=\"1.0\" encoding=\"utf-8\"?>\n",
       "<svg xmlns=\"http://www.w3.org/2000/svg\" xmlns:xlink=\"http://www.w3.org/1999/xlink\" width=\"600\" height=\"400\" viewBox=\"0 0 2400 1600\">\n",
       "<defs>\n",
       "  <clipPath id=\"clip980\">\n",
       "    <rect x=\"0\" y=\"0\" width=\"2400\" height=\"1600\"/>\n",
       "  </clipPath>\n",
       "</defs>\n",
       "<path clip-path=\"url(#clip980)\" d=\"\n",
       "M0 1600 L2400 1600 L2400 0 L0 0  Z\n",
       "  \" fill=\"#ffffff\" fill-rule=\"evenodd\" fill-opacity=\"1\"/>\n",
       "<defs>\n",
       "  <clipPath id=\"clip981\">\n",
       "    <rect x=\"480\" y=\"0\" width=\"1681\" height=\"1600\"/>\n",
       "  </clipPath>\n",
       "</defs>\n",
       "<path clip-path=\"url(#clip980)\" d=\"\n",
       "M273.747 1486.45 L2352.76 1486.45 L2352.76 244.432 L273.747 244.432  Z\n",
       "  \" fill=\"#ffffff\" fill-rule=\"evenodd\" fill-opacity=\"1\"/>\n",
       "<defs>\n",
       "  <clipPath id=\"clip982\">\n",
       "    <rect x=\"273\" y=\"244\" width=\"2080\" height=\"1243\"/>\n",
       "  </clipPath>\n",
       "</defs>\n",
       "<polyline clip-path=\"url(#clip982)\" style=\"stroke:#000000; stroke-width:2; stroke-opacity:0.1; fill:none\" points=\"\n",
       "  332.587,1486.45 332.587,244.432 \n",
       "  \"/>\n",
       "<polyline clip-path=\"url(#clip982)\" style=\"stroke:#000000; stroke-width:2; stroke-opacity:0.1; fill:none\" points=\"\n",
       "  986.364,1486.45 986.364,244.432 \n",
       "  \"/>\n",
       "<polyline clip-path=\"url(#clip982)\" style=\"stroke:#000000; stroke-width:2; stroke-opacity:0.1; fill:none\" points=\"\n",
       "  1640.14,1486.45 1640.14,244.432 \n",
       "  \"/>\n",
       "<polyline clip-path=\"url(#clip982)\" style=\"stroke:#000000; stroke-width:2; stroke-opacity:0.1; fill:none\" points=\"\n",
       "  2293.92,1486.45 2293.92,244.432 \n",
       "  \"/>\n",
       "<polyline clip-path=\"url(#clip980)\" style=\"stroke:#000000; stroke-width:4; stroke-opacity:1; fill:none\" points=\"\n",
       "  273.747,1486.45 2352.76,1486.45 \n",
       "  \"/>\n",
       "<polyline clip-path=\"url(#clip980)\" style=\"stroke:#000000; stroke-width:4; stroke-opacity:1; fill:none\" points=\"\n",
       "  332.587,1486.45 332.587,1471.54 \n",
       "  \"/>\n",
       "<polyline clip-path=\"url(#clip980)\" style=\"stroke:#000000; stroke-width:4; stroke-opacity:1; fill:none\" points=\"\n",
       "  986.364,1486.45 986.364,1471.54 \n",
       "  \"/>\n",
       "<polyline clip-path=\"url(#clip980)\" style=\"stroke:#000000; stroke-width:4; stroke-opacity:1; fill:none\" points=\"\n",
       "  1640.14,1486.45 1640.14,1471.54 \n",
       "  \"/>\n",
       "<polyline clip-path=\"url(#clip980)\" style=\"stroke:#000000; stroke-width:4; stroke-opacity:1; fill:none\" points=\"\n",
       "  2293.92,1486.45 2293.92,1471.54 \n",
       "  \"/>\n",
       "<path clip-path=\"url(#clip980)\" d=\"M 0 0 M332.587 1515.64 Q328.976 1515.64 327.148 1519.2 Q325.342 1522.75 325.342 1529.87 Q325.342 1536.98 327.148 1540.55 Q328.976 1544.09 332.587 1544.09 Q336.222 1544.09 338.027 1540.55 Q339.856 1536.98 339.856 1529.87 Q339.856 1522.75 338.027 1519.2 Q336.222 1515.64 332.587 1515.64 M332.587 1511.93 Q338.398 1511.93 341.453 1516.54 Q344.532 1521.12 344.532 1529.87 Q344.532 1538.6 341.453 1543.21 Q338.398 1547.79 332.587 1547.79 Q326.777 1547.79 323.699 1543.21 Q320.643 1538.6 320.643 1529.87 Q320.643 1521.12 323.699 1516.54 Q326.777 1511.93 332.587 1511.93 Z\" fill=\"#000000\" fill-rule=\"evenodd\" fill-opacity=\"1\" /><path clip-path=\"url(#clip980)\" d=\"M 0 0 M976.746 1543.18 L984.384 1543.18 L984.384 1516.82 L976.074 1518.49 L976.074 1514.23 L984.338 1512.56 L989.014 1512.56 L989.014 1543.18 L996.653 1543.18 L996.653 1547.12 L976.746 1547.12 L976.746 1543.18 Z\" fill=\"#000000\" fill-rule=\"evenodd\" fill-opacity=\"1\" /><path clip-path=\"url(#clip980)\" d=\"M 0 0 M1634.79 1543.18 L1651.11 1543.18 L1651.11 1547.12 L1629.17 1547.12 L1629.17 1543.18 Q1631.83 1540.43 1636.41 1535.8 Q1641.02 1531.15 1642.2 1529.81 Q1644.45 1527.28 1645.32 1525.55 Q1646.23 1523.79 1646.23 1522.1 Q1646.23 1519.34 1644.28 1517.61 Q1642.36 1515.87 1639.26 1515.87 Q1637.06 1515.87 1634.61 1516.63 Q1632.18 1517.4 1629.4 1518.95 L1629.4 1514.23 Q1632.22 1513.09 1634.68 1512.51 Q1637.13 1511.93 1639.17 1511.93 Q1644.54 1511.93 1647.73 1514.62 Q1650.93 1517.31 1650.93 1521.8 Q1650.93 1523.93 1650.12 1525.85 Q1649.33 1527.74 1647.22 1530.34 Q1646.64 1531.01 1643.54 1534.23 Q1640.44 1537.42 1634.79 1543.18 Z\" fill=\"#000000\" fill-rule=\"evenodd\" fill-opacity=\"1\" /><path clip-path=\"url(#clip980)\" d=\"M 0 0 M2298.16 1528.49 Q2301.52 1529.2 2303.4 1531.47 Q2305.29 1533.74 2305.29 1537.07 Q2305.29 1542.19 2301.77 1544.99 Q2298.26 1547.79 2291.77 1547.79 Q2289.6 1547.79 2287.28 1547.35 Q2284.99 1546.93 2282.54 1546.08 L2282.54 1541.56 Q2284.48 1542.7 2286.8 1543.28 Q2289.11 1543.86 2291.64 1543.86 Q2296.03 1543.86 2298.33 1542.12 Q2300.64 1540.38 2300.64 1537.07 Q2300.64 1534.02 2298.49 1532.31 Q2296.36 1530.57 2292.54 1530.57 L2288.51 1530.57 L2288.51 1526.73 L2292.72 1526.73 Q2296.17 1526.73 2298 1525.36 Q2299.83 1523.97 2299.83 1521.38 Q2299.83 1518.72 2297.93 1517.31 Q2296.06 1515.87 2292.54 1515.87 Q2290.62 1515.87 2288.42 1516.29 Q2286.22 1516.7 2283.58 1517.58 L2283.58 1513.42 Q2286.24 1512.68 2288.56 1512.31 Q2290.9 1511.93 2292.96 1511.93 Q2298.28 1511.93 2301.38 1514.37 Q2304.48 1516.77 2304.48 1520.89 Q2304.48 1523.76 2302.84 1525.75 Q2301.2 1527.72 2298.16 1528.49 Z\" fill=\"#000000\" fill-rule=\"evenodd\" fill-opacity=\"1\" /><polyline clip-path=\"url(#clip982)\" style=\"stroke:#000000; stroke-width:2; stroke-opacity:0.1; fill:none\" points=\"\n",
       "  273.747,1326.31 2352.76,1326.31 \n",
       "  \"/>\n",
       "<polyline clip-path=\"url(#clip982)\" style=\"stroke:#000000; stroke-width:2; stroke-opacity:0.1; fill:none\" points=\"\n",
       "  273.747,1085.47 2352.76,1085.47 \n",
       "  \"/>\n",
       "<polyline clip-path=\"url(#clip982)\" style=\"stroke:#000000; stroke-width:2; stroke-opacity:0.1; fill:none\" points=\"\n",
       "  273.747,844.627 2352.76,844.627 \n",
       "  \"/>\n",
       "<polyline clip-path=\"url(#clip982)\" style=\"stroke:#000000; stroke-width:2; stroke-opacity:0.1; fill:none\" points=\"\n",
       "  273.747,603.788 2352.76,603.788 \n",
       "  \"/>\n",
       "<polyline clip-path=\"url(#clip982)\" style=\"stroke:#000000; stroke-width:2; stroke-opacity:0.1; fill:none\" points=\"\n",
       "  273.747,362.949 2352.76,362.949 \n",
       "  \"/>\n",
       "<polyline clip-path=\"url(#clip980)\" style=\"stroke:#000000; stroke-width:4; stroke-opacity:1; fill:none\" points=\"\n",
       "  273.747,1486.45 273.747,244.432 \n",
       "  \"/>\n",
       "<polyline clip-path=\"url(#clip980)\" style=\"stroke:#000000; stroke-width:4; stroke-opacity:1; fill:none\" points=\"\n",
       "  273.747,1326.31 298.696,1326.31 \n",
       "  \"/>\n",
       "<polyline clip-path=\"url(#clip980)\" style=\"stroke:#000000; stroke-width:4; stroke-opacity:1; fill:none\" points=\"\n",
       "  273.747,1085.47 298.696,1085.47 \n",
       "  \"/>\n",
       "<polyline clip-path=\"url(#clip980)\" style=\"stroke:#000000; stroke-width:4; stroke-opacity:1; fill:none\" points=\"\n",
       "  273.747,844.627 298.696,844.627 \n",
       "  \"/>\n",
       "<polyline clip-path=\"url(#clip980)\" style=\"stroke:#000000; stroke-width:4; stroke-opacity:1; fill:none\" points=\"\n",
       "  273.747,603.788 298.696,603.788 \n",
       "  \"/>\n",
       "<polyline clip-path=\"url(#clip980)\" style=\"stroke:#000000; stroke-width:4; stroke-opacity:1; fill:none\" points=\"\n",
       "  273.747,362.949 298.696,362.949 \n",
       "  \"/>\n",
       "<path clip-path=\"url(#clip980)\" d=\"M 0 0 M51.3625 1333.2 L81.0383 1333.2 L81.0383 1337.14 L51.3625 1337.14 L51.3625 1333.2 Z\" fill=\"#000000\" fill-rule=\"evenodd\" fill-opacity=\"1\" /><path clip-path=\"url(#clip980)\" d=\"M 0 0 M90.1354 1346.1 L106.455 1346.1 L106.455 1350.03 L84.5105 1350.03 L84.5105 1346.1 Q87.1725 1343.34 91.7558 1338.71 Q96.3623 1334.06 97.5428 1332.72 Q99.7882 1330.2 100.668 1328.46 Q101.571 1326.7 101.571 1325.01 Q101.571 1322.26 99.6261 1320.52 Q97.7048 1318.78 94.603 1318.78 Q92.4039 1318.78 89.9503 1319.55 Q87.5197 1320.31 84.7419 1321.86 L84.7419 1317.14 Q87.566 1316.01 90.0197 1315.43 Q92.4734 1314.85 94.5104 1314.85 Q99.8808 1314.85 103.075 1317.53 Q106.27 1320.22 106.27 1324.71 Q106.27 1326.84 105.459 1328.76 Q104.672 1330.66 102.566 1333.25 Q101.987 1333.92 98.8854 1337.14 Q95.7836 1340.33 90.1354 1346.1 Z\" fill=\"#000000\" fill-rule=\"evenodd\" fill-opacity=\"1\" /><path clip-path=\"url(#clip980)\" d=\"M 0 0 M139.695 1324.57 L129.117 1335.2 L139.695 1345.77 L136.941 1348.57 L126.316 1337.95 L115.691 1348.57 L112.959 1345.77 L123.515 1335.2 L112.959 1324.57 L115.691 1321.77 L126.316 1332.39 L136.941 1321.77 L139.695 1324.57 Z\" fill=\"#000000\" fill-rule=\"evenodd\" fill-opacity=\"1\" /><path clip-path=\"url(#clip980)\" d=\"M 0 0 M145.575 1346.1 L153.214 1346.1 L153.214 1319.73 L144.904 1321.4 L144.904 1317.14 L153.168 1315.47 L157.843 1315.47 L157.843 1346.1 L165.482 1346.1 L165.482 1350.03 L145.575 1350.03 L145.575 1346.1 Z\" fill=\"#000000\" fill-rule=\"evenodd\" fill-opacity=\"1\" /><path clip-path=\"url(#clip980)\" d=\"M 0 0 M180.552 1318.55 Q176.941 1318.55 175.112 1322.12 Q173.306 1325.66 173.306 1332.79 Q173.306 1339.89 175.112 1343.46 Q176.941 1347 180.552 1347 Q184.186 1347 185.991 1343.46 Q187.82 1339.89 187.82 1332.79 Q187.82 1325.66 185.991 1322.12 Q184.186 1318.55 180.552 1318.55 M180.552 1314.85 Q186.362 1314.85 189.417 1319.45 Q192.496 1324.04 192.496 1332.79 Q192.496 1341.51 189.417 1346.12 Q186.362 1350.7 180.552 1350.7 Q174.741 1350.7 171.663 1346.12 Q168.607 1341.51 168.607 1332.79 Q168.607 1324.04 171.663 1319.45 Q174.741 1314.85 180.552 1314.85 Z\" fill=\"#000000\" fill-rule=\"evenodd\" fill-opacity=\"1\" /><path clip-path=\"url(#clip980)\" d=\"M 0 0 M192.496 1308.95 L216.608 1308.95 L216.608 1312.15 L192.496 1312.15 L192.496 1308.95 Z\" fill=\"#000000\" fill-rule=\"evenodd\" fill-opacity=\"1\" /><path clip-path=\"url(#clip980)\" d=\"M 0 0 M220.764 1294.54 L235.679 1294.54 L235.679 1297.74 L224.244 1297.74 L224.244 1304.62 Q225.071 1304.34 225.899 1304.21 Q226.726 1304.06 227.554 1304.06 Q232.256 1304.06 235.002 1306.64 Q237.747 1309.21 237.747 1313.61 Q237.747 1318.15 234.926 1320.67 Q232.105 1323.17 226.971 1323.17 Q225.203 1323.17 223.36 1322.87 Q221.535 1322.57 219.579 1321.96 L219.579 1318.15 Q221.272 1319.07 223.077 1319.52 Q224.883 1319.97 226.895 1319.97 Q230.149 1319.97 232.049 1318.26 Q233.948 1316.55 233.948 1313.61 Q233.948 1310.68 232.049 1308.97 Q230.149 1307.26 226.895 1307.26 Q225.372 1307.26 223.849 1307.6 Q222.344 1307.93 220.764 1308.65 L220.764 1294.54 Z\" fill=\"#000000\" fill-rule=\"evenodd\" fill-opacity=\"1\" /><path clip-path=\"url(#clip980)\" d=\"M 0 0 M50.9921 1092.37 L80.6679 1092.37 L80.6679 1096.3 L50.9921 1096.3 L50.9921 1092.37 Z\" fill=\"#000000\" fill-rule=\"evenodd\" fill-opacity=\"1\" /><path clip-path=\"url(#clip980)\" d=\"M 0 0 M86.5475 1105.26 L94.1863 1105.26 L94.1863 1078.89 L85.8762 1080.56 L85.8762 1076.3 L94.14 1074.63 L98.8159 1074.63 L98.8159 1105.26 L106.455 1105.26 L106.455 1109.19 L86.5475 1109.19 L86.5475 1105.26 Z\" fill=\"#000000\" fill-rule=\"evenodd\" fill-opacity=\"1\" /><path clip-path=\"url(#clip980)\" d=\"M 0 0 M139.695 1083.73 L129.117 1094.36 L139.695 1104.93 L136.941 1107.74 L126.316 1097.11 L115.691 1107.74 L112.959 1104.93 L123.515 1094.36 L112.959 1083.73 L115.691 1080.93 L126.316 1091.56 L136.941 1080.93 L139.695 1083.73 Z\" fill=\"#000000\" fill-rule=\"evenodd\" fill-opacity=\"1\" /><path clip-path=\"url(#clip980)\" d=\"M 0 0 M145.575 1105.26 L153.214 1105.26 L153.214 1078.89 L144.904 1080.56 L144.904 1076.3 L153.168 1074.63 L157.843 1074.63 L157.843 1105.26 L165.482 1105.26 L165.482 1109.19 L145.575 1109.19 L145.575 1105.26 Z\" fill=\"#000000\" fill-rule=\"evenodd\" fill-opacity=\"1\" /><path clip-path=\"url(#clip980)\" d=\"M 0 0 M180.552 1077.71 Q176.941 1077.71 175.112 1081.28 Q173.306 1084.82 173.306 1091.95 Q173.306 1099.06 175.112 1102.62 Q176.941 1106.16 180.552 1106.16 Q184.186 1106.16 185.991 1102.62 Q187.82 1099.06 187.82 1091.95 Q187.82 1084.82 185.991 1081.28 Q184.186 1077.71 180.552 1077.71 M180.552 1074.01 Q186.362 1074.01 189.417 1078.62 Q192.496 1083.2 192.496 1091.95 Q192.496 1100.68 189.417 1105.28 Q186.362 1109.87 180.552 1109.87 Q174.741 1109.87 171.663 1105.28 Q168.607 1100.68 168.607 1091.95 Q168.607 1083.2 171.663 1078.62 Q174.741 1074.01 180.552 1074.01 Z\" fill=\"#000000\" fill-rule=\"evenodd\" fill-opacity=\"1\" /><path clip-path=\"url(#clip980)\" d=\"M 0 0 M192.496 1068.11 L216.608 1068.11 L216.608 1071.31 L192.496 1071.31 L192.496 1068.11 Z\" fill=\"#000000\" fill-rule=\"evenodd\" fill-opacity=\"1\" /><path clip-path=\"url(#clip980)\" d=\"M 0 0 M220.764 1053.7 L235.679 1053.7 L235.679 1056.9 L224.244 1056.9 L224.244 1063.78 Q225.071 1063.5 225.899 1063.37 Q226.726 1063.22 227.554 1063.22 Q232.256 1063.22 235.002 1065.8 Q237.747 1068.37 237.747 1072.77 Q237.747 1077.31 234.926 1079.83 Q232.105 1082.33 226.971 1082.33 Q225.203 1082.33 223.36 1082.03 Q221.535 1081.73 219.579 1081.13 L219.579 1077.31 Q221.272 1078.23 223.077 1078.68 Q224.883 1079.13 226.895 1079.13 Q230.149 1079.13 232.049 1077.42 Q233.948 1075.71 233.948 1072.77 Q233.948 1069.84 232.049 1068.13 Q230.149 1066.42 226.895 1066.42 Q225.372 1066.42 223.849 1066.76 Q222.344 1067.09 220.764 1067.81 L220.764 1053.7 Z\" fill=\"#000000\" fill-rule=\"evenodd\" fill-opacity=\"1\" /><path clip-path=\"url(#clip980)\" d=\"M 0 0 M225.803 830.426 Q222.192 830.426 220.363 833.991 Q218.558 837.532 218.558 844.662 Q218.558 851.769 220.363 855.333 Q222.192 858.875 225.803 858.875 Q229.437 858.875 231.243 855.333 Q233.072 851.769 233.072 844.662 Q233.072 837.532 231.243 833.991 Q229.437 830.426 225.803 830.426 M225.803 826.722 Q231.613 826.722 234.669 831.329 Q237.747 835.912 237.747 844.662 Q237.747 853.389 234.669 857.995 Q231.613 862.579 225.803 862.579 Q219.993 862.579 216.914 857.995 Q213.859 853.389 213.859 844.662 Q213.859 835.912 216.914 831.329 Q219.993 826.722 225.803 826.722 Z\" fill=\"#000000\" fill-rule=\"evenodd\" fill-opacity=\"1\" /><path clip-path=\"url(#clip980)\" d=\"M 0 0 M86.5475 623.581 L94.1863 623.581 L94.1863 597.215 L85.8762 598.882 L85.8762 594.623 L94.14 592.956 L98.8159 592.956 L98.8159 623.581 L106.455 623.581 L106.455 627.516 L86.5475 627.516 L86.5475 623.581 Z\" fill=\"#000000\" fill-rule=\"evenodd\" fill-opacity=\"1\" /><path clip-path=\"url(#clip980)\" d=\"M 0 0 M139.695 602.053 L129.117 612.678 L139.695 623.257 L136.941 626.058 L126.316 615.433 L115.691 626.058 L112.959 623.257 L123.515 612.678 L112.959 602.053 L115.691 599.252 L126.316 609.877 L136.941 599.252 L139.695 602.053 Z\" fill=\"#000000\" fill-rule=\"evenodd\" fill-opacity=\"1\" /><path clip-path=\"url(#clip980)\" d=\"M 0 0 M145.575 623.581 L153.214 623.581 L153.214 597.215 L144.904 598.882 L144.904 594.623 L153.168 592.956 L157.843 592.956 L157.843 623.581 L165.482 623.581 L165.482 627.516 L145.575 627.516 L145.575 623.581 Z\" fill=\"#000000\" fill-rule=\"evenodd\" fill-opacity=\"1\" /><path clip-path=\"url(#clip980)\" d=\"M 0 0 M180.552 596.035 Q176.941 596.035 175.112 599.599 Q173.306 603.141 173.306 610.271 Q173.306 617.377 175.112 620.942 Q176.941 624.483 180.552 624.483 Q184.186 624.483 185.991 620.942 Q187.82 617.377 187.82 610.271 Q187.82 603.141 185.991 599.599 Q184.186 596.035 180.552 596.035 M180.552 592.331 Q186.362 592.331 189.417 596.937 Q192.496 601.521 192.496 610.271 Q192.496 618.997 189.417 623.604 Q186.362 628.187 180.552 628.187 Q174.741 628.187 171.663 623.604 Q168.607 618.997 168.607 610.271 Q168.607 601.521 171.663 596.937 Q174.741 592.331 180.552 592.331 Z\" fill=\"#000000\" fill-rule=\"evenodd\" fill-opacity=\"1\" /><path clip-path=\"url(#clip980)\" d=\"M 0 0 M192.496 586.432 L216.608 586.432 L216.608 589.63 L192.496 589.63 L192.496 586.432 Z\" fill=\"#000000\" fill-rule=\"evenodd\" fill-opacity=\"1\" /><path clip-path=\"url(#clip980)\" d=\"M 0 0 M220.764 572.025 L235.679 572.025 L235.679 575.223 L224.244 575.223 L224.244 582.106 Q225.071 581.824 225.899 581.693 Q226.726 581.542 227.554 581.542 Q232.256 581.542 235.002 584.119 Q237.747 586.696 237.747 591.097 Q237.747 595.629 234.926 598.149 Q232.105 600.651 226.971 600.651 Q225.203 600.651 223.36 600.35 Q221.535 600.049 219.579 599.447 L219.579 595.629 Q221.272 596.551 223.077 597.002 Q224.883 597.454 226.895 597.454 Q230.149 597.454 232.049 595.742 Q233.948 594.031 233.948 591.097 Q233.948 588.163 232.049 586.451 Q230.149 584.74 226.895 584.74 Q225.372 584.74 223.849 585.078 Q222.344 585.417 220.764 586.131 L220.764 572.025 Z\" fill=\"#000000\" fill-rule=\"evenodd\" fill-opacity=\"1\" /><path clip-path=\"url(#clip980)\" d=\"M 0 0 M90.1354 382.742 L106.455 382.742 L106.455 386.677 L84.5105 386.677 L84.5105 382.742 Q87.1725 379.987 91.7558 375.357 Q96.3623 370.705 97.5428 369.362 Q99.7882 366.839 100.668 365.103 Q101.571 363.344 101.571 361.654 Q101.571 358.899 99.6261 357.163 Q97.7048 355.427 94.603 355.427 Q92.4039 355.427 89.9503 356.191 Q87.5197 356.955 84.7419 358.506 L84.7419 353.783 Q87.566 352.649 90.0197 352.071 Q92.4734 351.492 94.5104 351.492 Q99.8808 351.492 103.075 354.177 Q106.27 356.862 106.27 361.353 Q106.27 363.482 105.459 365.404 Q104.672 367.302 102.566 369.894 Q101.987 370.566 98.8854 373.783 Q95.7836 376.978 90.1354 382.742 Z\" fill=\"#000000\" fill-rule=\"evenodd\" fill-opacity=\"1\" /><path clip-path=\"url(#clip980)\" d=\"M 0 0 M139.695 361.214 L129.117 371.839 L139.695 382.418 L136.941 385.218 L126.316 374.594 L115.691 385.218 L112.959 382.418 L123.515 371.839 L112.959 361.214 L115.691 358.413 L126.316 369.038 L136.941 358.413 L139.695 361.214 Z\" fill=\"#000000\" fill-rule=\"evenodd\" fill-opacity=\"1\" /><path clip-path=\"url(#clip980)\" d=\"M 0 0 M145.575 382.742 L153.214 382.742 L153.214 356.376 L144.904 358.043 L144.904 353.783 L153.168 352.117 L157.843 352.117 L157.843 382.742 L165.482 382.742 L165.482 386.677 L145.575 386.677 L145.575 382.742 Z\" fill=\"#000000\" fill-rule=\"evenodd\" fill-opacity=\"1\" /><path clip-path=\"url(#clip980)\" d=\"M 0 0 M180.552 355.195 Q176.941 355.195 175.112 358.76 Q173.306 362.302 173.306 369.432 Q173.306 376.538 175.112 380.103 Q176.941 383.644 180.552 383.644 Q184.186 383.644 185.991 380.103 Q187.82 376.538 187.82 369.432 Q187.82 362.302 185.991 358.76 Q184.186 355.195 180.552 355.195 M180.552 351.492 Q186.362 351.492 189.417 356.098 Q192.496 360.682 192.496 369.432 Q192.496 378.158 189.417 382.765 Q186.362 387.348 180.552 387.348 Q174.741 387.348 171.663 382.765 Q168.607 378.158 168.607 369.432 Q168.607 360.682 171.663 356.098 Q174.741 351.492 180.552 351.492 Z\" fill=\"#000000\" fill-rule=\"evenodd\" fill-opacity=\"1\" /><path clip-path=\"url(#clip980)\" d=\"M 0 0 M192.496 345.593 L216.608 345.593 L216.608 348.79 L192.496 348.79 L192.496 345.593 Z\" fill=\"#000000\" fill-rule=\"evenodd\" fill-opacity=\"1\" /><path clip-path=\"url(#clip980)\" d=\"M 0 0 M220.764 331.186 L235.679 331.186 L235.679 334.384 L224.244 334.384 L224.244 341.267 Q225.071 340.985 225.899 340.854 Q226.726 340.703 227.554 340.703 Q232.256 340.703 235.002 343.28 Q237.747 345.856 237.747 350.257 Q237.747 354.79 234.926 357.31 Q232.105 359.812 226.971 359.812 Q225.203 359.812 223.36 359.511 Q221.535 359.21 219.579 358.608 L219.579 354.79 Q221.272 355.712 223.077 356.163 Q224.883 356.615 226.895 356.615 Q230.149 356.615 232.049 354.903 Q233.948 353.191 233.948 350.257 Q233.948 347.323 232.049 345.612 Q230.149 343.9 226.895 343.9 Q225.372 343.9 223.849 344.239 Q222.344 344.578 220.764 345.292 L220.764 331.186 Z\" fill=\"#000000\" fill-rule=\"evenodd\" fill-opacity=\"1\" /><path clip-path=\"url(#clip980)\" d=\"M 0 0 M1168.47 9.54393 L1168.47 15.7418 L1161.34 15.7418 Q1157.33 15.7418 1155.75 17.3622 Q1154.21 18.9825 1154.21 23.1955 L1154.21 27.2059 L1166.49 27.2059 L1166.49 32.9987 L1154.21 32.9987 L1154.21 72.576 L1146.72 72.576 L1146.72 32.9987 L1139.59 32.9987 L1139.59 27.2059 L1146.72 27.2059 L1146.72 24.0462 Q1146.72 16.471 1150.24 13.0277 Q1153.77 9.54393 1161.42 9.54393 L1168.47 9.54393 Z\" fill=\"#000000\" fill-rule=\"evenodd\" fill-opacity=\"1\" /><path clip-path=\"url(#clip980)\" d=\"M 0 0 M1194.2 9.62495 Q1188.77 18.942 1186.13 28.0566 Q1183.5 37.1711 1183.5 46.5287 Q1183.5 55.8863 1186.13 65.0818 Q1188.81 74.2369 1194.2 83.5134 L1187.71 83.5134 Q1181.64 73.9938 1178.6 64.7983 Q1175.6 55.6027 1175.6 46.5287 Q1175.6 37.4952 1178.6 28.3401 Q1181.6 19.1851 1187.71 9.62495 L1194.2 9.62495 Z\" fill=\"#000000\" fill-rule=\"evenodd\" fill-opacity=\"1\" /><path clip-path=\"url(#clip980)\" d=\"M 0 0 M1239.73 27.2059 L1223.32 49.2833 L1240.58 72.576 L1231.79 72.576 L1218.58 54.752 L1205.38 72.576 L1196.59 72.576 L1214.21 48.8377 L1198.08 27.2059 L1206.87 27.2059 L1218.91 43.369 L1230.94 27.2059 L1239.73 27.2059 Z\" fill=\"#000000\" fill-rule=\"evenodd\" fill-opacity=\"1\" /><path clip-path=\"url(#clip980)\" d=\"M 0 0 M1247.22 9.62495 L1253.7 9.62495 Q1259.78 19.1851 1262.78 28.3401 Q1265.82 37.4952 1265.82 46.5287 Q1265.82 55.6027 1262.78 64.7983 Q1259.78 73.9938 1253.7 83.5134 L1247.22 83.5134 Q1252.61 74.2369 1255.24 65.0818 Q1257.92 55.8863 1257.92 46.5287 Q1257.92 37.1711 1255.24 28.0566 Q1252.61 18.942 1247.22 9.62495 Z\" fill=\"#000000\" fill-rule=\"evenodd\" fill-opacity=\"1\" /><path clip-path=\"url(#clip980)\" d=\"M 0 0 M1296.24 46.5287 L1318.07 46.5287 L1318.07 53.1722 L1296.24 53.1722 L1296.24 46.5287 Z\" fill=\"#000000\" fill-rule=\"evenodd\" fill-opacity=\"1\" /><path clip-path=\"url(#clip980)\" d=\"M 0 0 M1382.12 49.3643 Q1382.12 41.2625 1378.75 36.8065 Q1375.43 32.3505 1369.4 32.3505 Q1363.4 32.3505 1360.04 36.8065 Q1356.72 41.2625 1356.72 49.3643 Q1356.72 57.4256 1360.04 61.8816 Q1363.4 66.3376 1369.4 66.3376 Q1375.43 66.3376 1378.75 61.8816 Q1382.12 57.4256 1382.12 49.3643 M1389.57 66.9452 Q1389.57 78.5308 1384.43 84.1616 Q1379.28 89.8329 1368.67 89.8329 Q1364.74 89.8329 1361.25 89.2252 Q1357.77 88.6581 1354.49 87.4428 L1354.49 80.1917 Q1357.77 81.9741 1360.97 82.8248 Q1364.17 83.6755 1367.49 83.6755 Q1374.83 83.6755 1378.47 79.8271 Q1382.12 76.0193 1382.12 68.282 L1382.12 64.5957 Q1379.81 68.6061 1376.2 70.5911 Q1372.6 72.576 1367.57 72.576 Q1359.23 72.576 1354.13 66.2161 Q1349.02 59.8562 1349.02 49.3643 Q1349.02 38.832 1354.13 32.472 Q1359.23 26.1121 1367.57 26.1121 Q1372.6 26.1121 1376.2 28.0971 Q1379.81 30.082 1382.12 34.0924 L1382.12 27.2059 L1389.57 27.2059 L1389.57 66.9452 Z\" fill=\"#000000\" fill-rule=\"evenodd\" fill-opacity=\"1\" /><path clip-path=\"url(#clip980)\" d=\"M 0 0 M1415.29 9.62495 Q1409.87 18.942 1407.23 28.0566 Q1404.6 37.1711 1404.6 46.5287 Q1404.6 55.8863 1407.23 65.0818 Q1409.91 74.2369 1415.29 83.5134 L1408.81 83.5134 Q1402.74 73.9938 1399.7 64.7983 Q1396.7 55.6027 1396.7 46.5287 Q1396.7 37.4952 1399.7 28.3401 Q1402.7 19.1851 1408.81 9.62495 L1415.29 9.62495 Z\" fill=\"#000000\" fill-rule=\"evenodd\" fill-opacity=\"1\" /><path clip-path=\"url(#clip980)\" d=\"M 0 0 M1460.83 27.2059 L1444.42 49.2833 L1461.68 72.576 L1452.89 72.576 L1439.68 54.752 L1426.47 72.576 L1417.68 72.576 L1435.31 48.8377 L1419.18 27.2059 L1427.97 27.2059 L1440 43.369 L1452.04 27.2059 L1460.83 27.2059 Z\" fill=\"#000000\" fill-rule=\"evenodd\" fill-opacity=\"1\" /><path clip-path=\"url(#clip980)\" d=\"M 0 0 M1468.32 9.62495 L1474.8 9.62495 Q1480.88 19.1851 1483.88 28.3401 Q1486.91 37.4952 1486.91 46.5287 Q1486.91 55.6027 1483.88 64.7983 Q1480.88 73.9938 1474.8 83.5134 L1468.32 83.5134 Q1473.71 74.2369 1476.34 65.0818 Q1479.01 55.8863 1479.01 46.5287 Q1479.01 37.1711 1476.34 28.0566 Q1473.71 18.942 1468.32 9.62495 Z\" fill=\"#000000\" fill-rule=\"evenodd\" fill-opacity=\"1\" /><path clip-path=\"url(#clip980)\" d=\"M 0 0 M1133.59 100.345 Q1128.17 109.662 1125.53 118.777 Q1122.9 127.891 1122.9 137.249 Q1122.9 146.606 1125.53 155.802 Q1128.21 164.957 1133.59 174.233 L1127.11 174.233 Q1121.04 164.714 1118 155.518 Q1115 146.323 1115 137.249 Q1115 128.215 1118 119.06 Q1121 109.905 1127.11 100.345 L1133.59 100.345 Z\" fill=\"#000000\" fill-rule=\"evenodd\" fill-opacity=\"1\" /><path clip-path=\"url(#clip980)\" d=\"M 0 0 M1179.13 135.912 L1179.13 163.296 L1171.67 163.296 L1171.67 136.155 Q1171.67 129.714 1169.16 126.514 Q1166.65 123.314 1161.63 123.314 Q1155.59 123.314 1152.11 127.162 Q1148.62 131.01 1148.62 137.654 L1148.62 163.296 L1141.13 163.296 L1141.13 117.926 L1148.62 117.926 L1148.62 124.974 Q1151.3 120.883 1154.9 118.858 Q1158.55 116.832 1163.29 116.832 Q1171.11 116.832 1175.12 121.693 Q1179.13 126.514 1179.13 135.912 Z\" fill=\"#000000\" fill-rule=\"evenodd\" fill-opacity=\"1\" /><path clip-path=\"url(#clip980)\" d=\"M 0 0 M1188.85 153.007 L1197.4 153.007 L1197.4 159.974 L1190.75 172.937 L1185.53 172.937 L1188.85 159.974 L1188.85 153.007 Z\" fill=\"#000000\" fill-rule=\"evenodd\" fill-opacity=\"1\" /><path clip-path=\"url(#clip980)\" d=\"M 0 0 M1240.54 126.635 Q1243.33 121.612 1247.22 119.222 Q1251.11 116.832 1256.38 116.832 Q1263.47 116.832 1267.31 121.815 Q1271.16 126.757 1271.16 135.912 L1271.16 163.296 L1263.67 163.296 L1263.67 136.155 Q1263.67 129.633 1261.36 126.473 Q1259.05 123.314 1254.31 123.314 Q1248.52 123.314 1245.16 127.162 Q1241.79 131.01 1241.79 137.654 L1241.79 163.296 L1234.3 163.296 L1234.3 136.155 Q1234.3 129.592 1231.99 126.473 Q1229.68 123.314 1224.86 123.314 Q1219.15 123.314 1215.79 127.202 Q1212.42 131.051 1212.42 137.654 L1212.42 163.296 L1204.93 163.296 L1204.93 117.926 L1212.42 117.926 L1212.42 124.974 Q1214.98 120.802 1218.54 118.817 Q1222.11 116.832 1227.01 116.832 Q1231.95 116.832 1235.39 119.344 Q1238.88 121.855 1240.54 126.635 Z\" fill=\"#000000\" fill-rule=\"evenodd\" fill-opacity=\"1\" /><path clip-path=\"url(#clip980)\" d=\"M 0 0 M1277.81 100.345 L1284.29 100.345 Q1290.36 109.905 1293.36 119.06 Q1296.4 128.215 1296.4 137.249 Q1296.4 146.323 1293.36 155.518 Q1290.36 164.714 1284.29 174.233 L1277.81 174.233 Q1283.19 164.957 1285.83 155.802 Q1288.5 146.606 1288.5 137.249 Q1288.5 127.891 1285.83 118.777 Q1283.19 109.662 1277.81 100.345 Z\" fill=\"#000000\" fill-rule=\"evenodd\" fill-opacity=\"1\" /><path clip-path=\"url(#clip980)\" d=\"M 0 0 M1305.19 125.623 L1357.12 125.623 L1357.12 132.428 L1305.19 132.428 L1305.19 125.623 M1305.19 142.15 L1357.12 142.15 L1357.12 149.037 L1305.19 149.037 L1305.19 142.15 Z\" fill=\"#000000\" fill-rule=\"evenodd\" fill-opacity=\"1\" /><path clip-path=\"url(#clip980)\" d=\"M 0 0 M1382.85 100.345 Q1377.42 109.662 1374.78 118.777 Q1372.15 127.891 1372.15 137.249 Q1372.15 146.606 1374.78 155.802 Q1377.46 164.957 1382.85 174.233 L1376.36 174.233 Q1370.29 164.714 1367.25 155.518 Q1364.25 146.323 1364.25 137.249 Q1364.25 128.215 1367.25 119.06 Q1370.25 109.905 1376.36 100.345 L1382.85 100.345 Z\" fill=\"#000000\" fill-rule=\"evenodd\" fill-opacity=\"1\" /><path clip-path=\"url(#clip980)\" d=\"M 0 0 M1416.51 130.686 Q1422.38 131.942 1425.66 135.912 Q1428.99 139.882 1428.99 145.715 Q1428.99 154.668 1422.83 159.569 Q1416.67 164.471 1405.33 164.471 Q1401.52 164.471 1397.47 163.701 Q1393.46 162.972 1389.17 161.473 L1389.17 153.574 Q1392.57 155.559 1396.62 156.571 Q1400.67 157.584 1405.09 157.584 Q1412.78 157.584 1416.79 154.546 Q1420.84 151.508 1420.84 145.715 Q1420.84 140.368 1417.08 137.37 Q1413.35 134.332 1406.67 134.332 L1399.62 134.332 L1399.62 127.608 L1406.99 127.608 Q1413.03 127.608 1416.23 125.218 Q1419.43 122.787 1419.43 118.25 Q1419.43 113.591 1416.1 111.12 Q1412.82 108.609 1406.67 108.609 Q1403.3 108.609 1399.45 109.338 Q1395.61 110.067 1390.99 111.606 L1390.99 104.315 Q1395.65 103.019 1399.7 102.37 Q1403.79 101.722 1407.39 101.722 Q1416.71 101.722 1422.14 105.976 Q1427.57 110.189 1427.57 117.399 Q1427.57 122.422 1424.69 125.906 Q1421.82 129.349 1416.51 130.686 Z\" fill=\"#000000\" fill-rule=\"evenodd\" fill-opacity=\"1\" /><path clip-path=\"url(#clip980)\" d=\"M 0 0 M1438.71 153.007 L1447.26 153.007 L1447.26 159.974 L1440.61 172.937 L1435.39 172.937 L1438.71 159.974 L1438.71 153.007 Z\" fill=\"#000000\" fill-rule=\"evenodd\" fill-opacity=\"1\" /><path clip-path=\"url(#clip980)\" d=\"M 0 0 M1507.29 130.686 Q1513.16 131.942 1516.45 135.912 Q1519.77 139.882 1519.77 145.715 Q1519.77 154.668 1513.61 159.569 Q1507.45 164.471 1496.11 164.471 Q1492.3 164.471 1488.25 163.701 Q1484.24 162.972 1479.95 161.473 L1479.95 153.574 Q1483.35 155.559 1487.4 156.571 Q1491.45 157.584 1495.87 157.584 Q1503.56 157.584 1507.57 154.546 Q1511.62 151.508 1511.62 145.715 Q1511.62 140.368 1507.86 137.37 Q1504.13 134.332 1497.45 134.332 L1490.4 134.332 L1490.4 127.608 L1497.77 127.608 Q1503.81 127.608 1507.01 125.218 Q1510.21 122.787 1510.21 118.25 Q1510.21 113.591 1506.88 111.12 Q1503.6 108.609 1497.45 108.609 Q1494.08 108.609 1490.24 109.338 Q1486.39 110.067 1481.77 111.606 L1481.77 104.315 Q1486.43 103.019 1490.48 102.37 Q1494.57 101.722 1498.18 101.722 Q1507.49 101.722 1512.92 105.976 Q1518.35 110.189 1518.35 117.399 Q1518.35 122.422 1515.47 125.906 Q1512.6 129.349 1507.29 130.686 Z\" fill=\"#000000\" fill-rule=\"evenodd\" fill-opacity=\"1\" /><path clip-path=\"url(#clip980)\" d=\"M 0 0 M1526.41 100.345 L1532.89 100.345 Q1538.97 109.905 1541.97 119.06 Q1545 128.215 1545 137.249 Q1545 146.323 1541.97 155.518 Q1538.97 164.714 1532.89 174.233 L1526.41 174.233 Q1531.8 164.957 1534.43 155.802 Q1537.1 146.606 1537.1 137.249 Q1537.1 127.891 1534.43 118.777 Q1531.8 109.662 1526.41 100.345 Z\" fill=\"#000000\" fill-rule=\"evenodd\" fill-opacity=\"1\" /><path clip-path=\"url(#clip980)\" d=\"M 0 0 M1072.85 229.468 L1072.85 233.113 L1038.58 233.113 Q1039.07 240.81 1043.2 244.861 Q1047.37 248.871 1054.78 248.871 Q1059.08 248.871 1063.09 247.818 Q1067.14 246.765 1071.11 244.658 L1071.11 251.707 Q1067.1 253.408 1062.89 254.3 Q1058.67 255.191 1054.34 255.191 Q1043.48 255.191 1037.12 248.871 Q1030.8 242.552 1030.8 231.777 Q1030.8 220.637 1036.8 214.115 Q1042.83 207.552 1053.04 207.552 Q1062.2 207.552 1067.5 213.466 Q1072.85 219.34 1072.85 229.468 M1065.4 227.28 Q1065.32 221.163 1061.95 217.517 Q1058.63 213.872 1053.12 213.872 Q1046.88 213.872 1043.12 217.396 Q1039.39 220.92 1038.82 227.321 L1065.4 227.28 Z\" fill=\"#000000\" fill-rule=\"evenodd\" fill-opacity=\"1\" /><path clip-path=\"url(#clip980)\" d=\"M 0 0 M1106.96 215.613 Q1105.7 214.884 1104.2 214.56 Q1102.75 214.196 1100.96 214.196 Q1094.64 214.196 1091.24 218.328 Q1087.88 222.419 1087.88 230.116 L1087.88 254.016 L1080.39 254.016 L1080.39 208.646 L1087.88 208.646 L1087.88 215.694 Q1090.23 211.563 1094 209.578 Q1097.76 207.552 1103.15 207.552 Q1103.92 207.552 1104.85 207.674 Q1105.78 207.755 1106.92 207.957 L1106.96 215.613 Z\" fill=\"#000000\" fill-rule=\"evenodd\" fill-opacity=\"1\" /><path clip-path=\"url(#clip980)\" d=\"M 0 0 M1139.61 215.613 Q1138.35 214.884 1136.86 214.56 Q1135.4 214.196 1133.61 214.196 Q1127.29 214.196 1123.89 218.328 Q1120.53 222.419 1120.53 230.116 L1120.53 254.016 L1113.04 254.016 L1113.04 208.646 L1120.53 208.646 L1120.53 215.694 Q1122.88 211.563 1126.65 209.578 Q1130.41 207.552 1135.8 207.552 Q1136.57 207.552 1137.5 207.674 Q1138.43 207.755 1139.57 207.957 L1139.61 215.613 Z\" fill=\"#000000\" fill-rule=\"evenodd\" fill-opacity=\"1\" /><path clip-path=\"url(#clip980)\" d=\"M 0 0 M1181.9 267.789 L1181.9 273.582 L1138.8 273.582 L1138.8 267.789 L1181.9 267.789 Z\" fill=\"#000000\" fill-rule=\"evenodd\" fill-opacity=\"1\" /><path clip-path=\"url(#clip980)\" d=\"M 0 0 M1216.01 215.613 Q1214.75 214.884 1213.26 214.56 Q1211.8 214.196 1210.01 214.196 Q1203.69 214.196 1200.29 218.328 Q1196.93 222.419 1196.93 230.116 L1196.93 254.016 L1189.44 254.016 L1189.44 208.646 L1196.93 208.646 L1196.93 215.694 Q1199.28 211.563 1203.05 209.578 Q1206.81 207.552 1212.2 207.552 Q1212.97 207.552 1213.9 207.674 Q1214.83 207.755 1215.97 207.957 L1216.01 215.613 Z\" fill=\"#000000\" fill-rule=\"evenodd\" fill-opacity=\"1\" /><path clip-path=\"url(#clip980)\" d=\"M 0 0 M1244.45 231.209 Q1235.41 231.209 1231.93 233.275 Q1228.45 235.341 1228.45 240.324 Q1228.45 244.294 1231.04 246.643 Q1233.67 248.952 1238.17 248.952 Q1244.37 248.952 1248.09 244.577 Q1251.86 240.162 1251.86 232.87 L1251.86 231.209 L1244.45 231.209 M1259.31 228.131 L1259.31 254.016 L1251.86 254.016 L1251.86 247.129 Q1249.31 251.261 1245.5 253.246 Q1241.69 255.191 1236.18 255.191 Q1229.22 255.191 1225.08 251.302 Q1220.99 247.373 1220.99 240.81 Q1220.99 233.154 1226.1 229.265 Q1231.24 225.376 1241.41 225.376 L1251.86 225.376 L1251.86 224.647 Q1251.86 219.502 1248.46 216.707 Q1245.1 213.872 1238.98 213.872 Q1235.09 213.872 1231.4 214.803 Q1227.72 215.735 1224.31 217.598 L1224.31 210.712 Q1228.41 209.132 1232.25 208.362 Q1236.1 207.552 1239.75 207.552 Q1249.59 207.552 1254.45 212.656 Q1259.31 217.76 1259.31 228.131 Z\" fill=\"#000000\" fill-rule=\"evenodd\" fill-opacity=\"1\" /><path clip-path=\"url(#clip980)\" d=\"M 0 0 M1274.5 195.764 L1274.5 208.646 L1289.86 208.646 L1289.86 214.439 L1274.5 214.439 L1274.5 239.068 Q1274.5 244.618 1276 246.198 Q1277.54 247.778 1282.2 247.778 L1289.86 247.778 L1289.86 254.016 L1282.2 254.016 Q1273.57 254.016 1270.29 250.816 Q1267.01 247.575 1267.01 239.068 L1267.01 214.439 L1261.54 214.439 L1261.54 208.646 L1267.01 208.646 L1267.01 195.764 L1274.5 195.764 Z\" fill=\"#000000\" fill-rule=\"evenodd\" fill-opacity=\"1\" /><path clip-path=\"url(#clip980)\" d=\"M 0 0 M1336.48 229.468 L1336.48 233.113 L1302.21 233.113 Q1302.7 240.81 1306.83 244.861 Q1311 248.871 1318.42 248.871 Q1322.71 248.871 1326.72 247.818 Q1330.77 246.765 1334.74 244.658 L1334.74 251.707 Q1330.73 253.408 1326.52 254.3 Q1322.31 255.191 1317.97 255.191 Q1307.11 255.191 1300.75 248.871 Q1294.44 242.552 1294.44 231.777 Q1294.44 220.637 1300.43 214.115 Q1306.47 207.552 1316.67 207.552 Q1325.83 207.552 1331.14 213.466 Q1336.48 219.34 1336.48 229.468 M1329.03 227.28 Q1328.95 221.163 1325.59 217.517 Q1322.26 213.872 1316.76 213.872 Q1310.52 213.872 1306.75 217.396 Q1303.02 220.92 1302.46 227.321 L1329.03 227.28 Z\" fill=\"#000000\" fill-rule=\"evenodd\" fill-opacity=\"1\" /><path clip-path=\"url(#clip980)\" d=\"M 0 0 M1345.27 216.343 L1397.21 216.343 L1397.21 223.148 L1345.27 223.148 L1345.27 216.343 M1345.27 232.87 L1397.21 232.87 L1397.21 239.757 L1345.27 239.757 L1345.27 232.87 Z\" fill=\"#000000\" fill-rule=\"evenodd\" fill-opacity=\"1\" /><path clip-path=\"url(#clip980)\" d=\"M 0 0 M1407.5 247.129 L1420.86 247.129 L1420.86 200.99 L1406.32 203.906 L1406.32 196.453 L1420.78 193.536 L1428.97 193.536 L1428.97 247.129 L1442.33 247.129 L1442.33 254.016 L1407.5 254.016 L1407.5 247.129 Z\" fill=\"#000000\" fill-rule=\"evenodd\" fill-opacity=\"1\" /><path clip-path=\"url(#clip980)\" d=\"M 0 0 M1451.21 243.727 L1459.75 243.727 L1459.75 254.016 L1451.21 254.016 L1451.21 243.727 Z\" fill=\"#000000\" fill-rule=\"evenodd\" fill-opacity=\"1\" /><path clip-path=\"url(#clip980)\" d=\"M 0 0 M1486.12 198.924 Q1479.8 198.924 1476.6 205.162 Q1473.44 211.36 1473.44 223.837 Q1473.44 236.273 1476.6 242.511 Q1479.8 248.709 1486.12 248.709 Q1492.48 248.709 1495.64 242.511 Q1498.84 236.273 1498.84 223.837 Q1498.84 211.36 1495.64 205.162 Q1492.48 198.924 1486.12 198.924 M1486.12 192.442 Q1496.29 192.442 1501.64 200.504 Q1507.03 208.524 1507.03 223.837 Q1507.03 239.109 1501.64 247.17 Q1496.29 255.191 1486.12 255.191 Q1475.96 255.191 1470.57 247.17 Q1465.22 239.109 1465.22 223.837 Q1465.22 208.524 1470.57 200.504 Q1475.96 192.442 1486.12 192.442 Z\" fill=\"#000000\" fill-rule=\"evenodd\" fill-opacity=\"1\" /><path clip-path=\"url(#clip980)\" d=\"M 0 0 M1553.65 229.468 L1553.65 233.113 L1519.38 233.113 Q1519.87 240.81 1524 244.861 Q1528.17 248.871 1535.59 248.871 Q1539.88 248.871 1543.89 247.818 Q1547.94 246.765 1551.91 244.658 L1551.91 251.707 Q1547.9 253.408 1543.69 254.3 Q1539.47 255.191 1535.14 255.191 Q1524.28 255.191 1517.92 248.871 Q1511.6 242.552 1511.6 231.777 Q1511.6 220.637 1517.6 214.115 Q1523.64 207.552 1533.84 207.552 Q1543 207.552 1548.31 213.466 Q1553.65 219.34 1553.65 229.468 M1546.2 227.28 Q1546.12 221.163 1542.76 217.517 Q1539.43 213.872 1533.92 213.872 Q1527.69 213.872 1523.92 217.396 Q1520.19 220.92 1519.63 227.321 L1546.2 227.28 Z\" fill=\"#000000\" fill-rule=\"evenodd\" fill-opacity=\"1\" /><path clip-path=\"url(#clip980)\" d=\"M 0 0 M1557.7 227.969 L1579.54 227.969 L1579.54 234.612 L1557.7 234.612 L1557.7 227.969 Z\" fill=\"#000000\" fill-rule=\"evenodd\" fill-opacity=\"1\" /><path clip-path=\"url(#clip980)\" d=\"M 0 0 M1605.91 225.295 Q1600.08 225.295 1596.71 228.414 Q1593.39 231.533 1593.39 237.002 Q1593.39 242.471 1596.71 245.59 Q1600.08 248.709 1605.91 248.709 Q1611.74 248.709 1615.1 245.59 Q1618.47 242.43 1618.47 237.002 Q1618.47 231.533 1615.1 228.414 Q1611.78 225.295 1605.91 225.295 M1597.73 221.811 Q1592.46 220.515 1589.5 216.91 Q1586.59 213.304 1586.59 208.119 Q1586.59 200.868 1591.73 196.655 Q1596.92 192.442 1605.91 192.442 Q1614.94 192.442 1620.09 196.655 Q1625.23 200.868 1625.23 208.119 Q1625.23 213.304 1622.27 216.91 Q1619.36 220.515 1614.13 221.811 Q1620.05 223.189 1623.33 227.199 Q1626.65 231.209 1626.65 237.002 Q1626.65 245.793 1621.26 250.492 Q1615.92 255.191 1605.91 255.191 Q1595.9 255.191 1590.52 250.492 Q1585.17 245.793 1585.17 237.002 Q1585.17 231.209 1588.49 227.199 Q1591.81 223.189 1597.73 221.811 M1594.73 208.889 Q1594.73 213.588 1597.65 216.221 Q1600.6 218.854 1605.91 218.854 Q1611.18 218.854 1614.13 216.221 Q1617.13 213.588 1617.13 208.889 Q1617.13 204.19 1614.13 201.557 Q1611.18 198.924 1605.91 198.924 Q1600.6 198.924 1597.65 201.557 Q1594.73 204.19 1594.73 208.889 Z\" fill=\"#000000\" fill-rule=\"evenodd\" fill-opacity=\"1\" /><polyline clip-path=\"url(#clip982)\" style=\"stroke:#009af9; stroke-width:4; stroke-opacity:1; fill:none\" points=\"\n",
       "  332.587,1451.3 334.982,1382.23 337.376,1315.77 339.77,1251.87 342.164,1190.49 344.559,1131.59 346.953,1075.12 348.15,1047.78 349.347,1021.03 350.544,994.865 \n",
       "  351.741,969.278 357.276,858.343 362.81,759.089 368.345,670.956 373.88,593.382 379.414,525.812 384.949,467.695 390.483,418.488 396.018,377.652 401.552,344.66 \n",
       "  407.087,318.993 412.622,300.143 418.156,287.612 423.691,280.916 429.225,279.584 434.76,283.156 440.294,291.19 451.364,318.944 462.433,359.602 473.502,410.18 \n",
       "  484.571,467.963 506.709,595.628 528.848,726.264 542.152,800.96 555.456,870.296 568.76,932.776 582.064,987.328 595.368,1033.26 608.673,1070.23 621.977,1098.16 \n",
       "  635.281,1117.25 646.53,1126.78 657.778,1130.59 669.027,1129.09 680.275,1122.71 691.524,1111.94 702.772,1097.29 714.021,1079.29 725.269,1058.46 774.145,947.492 \n",
       "  823.021,830.378 845.551,782.303 868.081,740.65 890.611,706.647 913.14,681.025 937.295,663.194 961.449,655.227 985.603,656.629 1009.76,666.602 1037.74,687.528 \n",
       "  1065.73,716.78 1093.71,752.423 1121.7,792.498 1171.44,868.851 1221.18,943.734 1264.79,1002.03 1308.41,1049.3 1332.19,1069.42 1355.97,1085.16 1379.74,1096.31 \n",
       "  1403.52,1102.77 1427.44,1104.52 1451.36,1101.55 1475.28,1093.97 1499.2,1081.97 1525.64,1063.84 1552.09,1040.98 1578.53,1013.83 1604.98,982.884 1655.3,915.508 \n",
       "  1705.62,840.455 1757.95,758.968 1810.27,678.999 1854.32,616.655 1898.36,562.121 1925.25,533.968 1952.14,510.531 1979.03,492.476 2005.92,480.455 2031.19,475.229 \n",
       "  2056.47,476.421 2081.74,484.537 2107.02,500.074 2127.26,518.199 2147.51,541.639 2167.76,570.631 2188,605.409 2208.25,646.199 2228.5,693.223 2248.74,746.699 \n",
       "  2268.99,806.839 2275.22,826.723 2281.45,847.264 2287.68,868.467 2293.92,890.339 \n",
       "  \"/>\n",
       "<circle clip-path=\"url(#clip982)\" cx=\"332.587\" cy=\"1451.3\" r=\"14\" fill=\"#3da44d\" fill-rule=\"evenodd\" fill-opacity=\"1\" stroke=\"#000000\" stroke-opacity=\"1\" stroke-width=\"3.2\"/>\n",
       "<path clip-path=\"url(#clip980)\" d=\"\n",
       "M2000.86 527.753 L2283.46 527.753 L2283.46 285.833 L2000.86 285.833  Z\n",
       "  \" fill=\"#ffffff\" fill-rule=\"evenodd\" fill-opacity=\"1\"/>\n",
       "<polyline clip-path=\"url(#clip980)\" style=\"stroke:#000000; stroke-width:4; stroke-opacity:1; fill:none\" points=\"\n",
       "  2000.86,527.753 2283.46,527.753 2283.46,285.833 2000.86,285.833 2000.86,527.753 \n",
       "  \"/>\n",
       "<polyline clip-path=\"url(#clip980)\" style=\"stroke:#009af9; stroke-width:4; stroke-opacity:1; fill:none\" points=\"\n",
       "  2023.96,346.313 2162.56,346.313 \n",
       "  \"/>\n",
       "<path clip-path=\"url(#clip980)\" d=\"M 0 0 M2199.5 366 Q2197.7 370.63 2195.98 372.042 Q2194.27 373.454 2191.4 373.454 L2188 373.454 L2188 369.889 L2190.5 369.889 Q2192.26 369.889 2193.23 369.056 Q2194.2 368.222 2195.38 365.12 L2196.14 363.176 L2185.66 337.667 L2190.17 337.667 L2198.27 357.945 L2206.38 337.667 L2210.89 337.667 L2199.5 366 Z\" fill=\"#000000\" fill-rule=\"evenodd\" fill-opacity=\"1\" /><path clip-path=\"url(#clip980)\" d=\"M 0 0 M2216.77 359.657 L2224.41 359.657 L2224.41 333.292 L2216.1 334.959 L2216.1 330.699 L2224.36 329.033 L2229.04 329.033 L2229.04 359.657 L2236.68 359.657 L2236.68 363.593 L2216.77 363.593 L2216.77 359.657 Z\" fill=\"#000000\" fill-rule=\"evenodd\" fill-opacity=\"1\" /><path clip-path=\"url(#clip980)\" d=\"M 0 0 M2199.5 426.48 Q2197.7 431.11 2195.98 432.522 Q2194.27 433.934 2191.4 433.934 L2188 433.934 L2188 430.369 L2190.5 430.369 Q2192.26 430.369 2193.23 429.536 Q2194.2 428.702 2195.38 425.6 L2196.14 423.656 L2185.66 398.147 L2190.17 398.147 L2198.27 418.425 L2206.38 398.147 L2210.89 398.147 L2199.5 426.48 Z\" fill=\"#000000\" fill-rule=\"evenodd\" fill-opacity=\"1\" /><path clip-path=\"url(#clip980)\" d=\"M 0 0 M2219.99 420.137 L2236.31 420.137 L2236.31 424.073 L2214.36 424.073 L2214.36 420.137 Q2217.02 417.383 2221.61 412.753 Q2226.21 408.101 2227.39 406.758 Q2229.64 404.235 2230.52 402.499 Q2231.42 400.739 2231.42 399.05 Q2231.42 396.295 2229.48 394.559 Q2227.56 392.823 2224.45 392.823 Q2222.26 392.823 2219.8 393.587 Q2217.37 394.351 2214.59 395.902 L2214.59 391.179 Q2217.42 390.045 2219.87 389.466 Q2222.32 388.888 2224.36 388.888 Q2229.73 388.888 2232.93 391.573 Q2236.12 394.258 2236.12 398.749 Q2236.12 400.878 2235.31 402.8 Q2234.52 404.698 2232.42 407.29 Q2231.84 407.962 2228.74 411.179 Q2225.64 414.374 2219.99 420.137 Z\" fill=\"#000000\" fill-rule=\"evenodd\" fill-opacity=\"1\" /><circle clip-path=\"url(#clip980)\" cx=\"2093.26\" cy=\"467.273\" r=\"23\" fill=\"#3da44d\" fill-rule=\"evenodd\" fill-opacity=\"1\" stroke=\"#000000\" stroke-opacity=\"1\" stroke-width=\"5.12\"/>\n",
       "<path clip-path=\"url(#clip980)\" d=\"M 0 0 M2199.5 486.96 Q2197.7 491.59 2195.98 493.002 Q2194.27 494.414 2191.4 494.414 L2188 494.414 L2188 490.849 L2190.5 490.849 Q2192.26 490.849 2193.23 490.016 Q2194.2 489.182 2195.38 486.08 L2196.14 484.136 L2185.66 458.627 L2190.17 458.627 L2198.27 478.905 L2206.38 458.627 L2210.89 458.627 L2199.5 486.96 Z\" fill=\"#000000\" fill-rule=\"evenodd\" fill-opacity=\"1\" /><path clip-path=\"url(#clip980)\" d=\"M 0 0 M2230.13 465.918 Q2233.48 466.636 2235.36 468.905 Q2237.26 471.173 2237.26 474.506 Q2237.26 479.622 2233.74 482.423 Q2230.22 485.224 2223.74 485.224 Q2221.56 485.224 2219.25 484.784 Q2216.95 484.367 2214.5 483.511 L2214.5 478.997 Q2216.45 480.131 2218.76 480.71 Q2221.07 481.289 2223.6 481.289 Q2228 481.289 2230.29 479.553 Q2232.6 477.817 2232.6 474.506 Q2232.6 471.451 2230.45 469.738 Q2228.32 468.002 2224.5 468.002 L2220.47 468.002 L2220.47 464.159 L2224.69 464.159 Q2228.14 464.159 2229.96 462.794 Q2231.79 461.405 2231.79 458.812 Q2231.79 456.15 2229.89 454.738 Q2228.02 453.303 2224.5 453.303 Q2222.58 453.303 2220.38 453.719 Q2218.18 454.136 2215.54 455.016 L2215.54 450.849 Q2218.2 450.108 2220.52 449.738 Q2222.86 449.368 2224.92 449.368 Q2230.24 449.368 2233.34 451.798 Q2236.45 454.206 2236.45 458.326 Q2236.45 461.196 2234.8 463.187 Q2233.16 465.155 2230.13 465.918 Z\" fill=\"#000000\" fill-rule=\"evenodd\" fill-opacity=\"1\" /></svg>\n"
      ]
     },
     "execution_count": 427,
     "metadata": {},
     "output_type": "execute_result"
    }
   ],
   "source": [
    "plot(σ,0,3, title=\"f(x) - g(x)\\n (n,m)=$((n,m))\\n err_rate=$(error_rate)\")\n",
    "scatter!(T⁺,σ.(T⁺))\n",
    "scatter!(T⁻,σ.(T⁻))"
   ]
  },
  {
   "cell_type": "markdown",
   "metadata": {},
   "source": [
    "# Issues can report on:\n",
    "- the number of planes and the range to approximate, how many planes is enough and at what range?\n",
    "- the power of the 2 poly in rational (n and m), higher mean better ? but will that affect the computation\n",
    "- the number of iteration/computation time corresponding to the error rate, what is the acceptable error rate?\n",
    "- is calculating the mid point by the avg the best way?\n",
    "- the case of going to infinity (maybe not that interesting)"
   ]
  },
  {
   "cell_type": "markdown",
   "metadata": {},
   "source": [
    "## Parameters need to be set/change:\n",
    "- n and m\n",
    "- range of approx [a,b]\n",
    "- step in that range to determine number of hyperplanes\n",
    "- error rate"
   ]
  },
  {
   "cell_type": "markdown",
   "metadata": {},
   "source": [
    "Runtime of the algo should be: O(h(n+m+2)) for each iteration\n",
    "\n",
    "testing, checking by:\n",
    "- the accuracy (maybe the standard deviation)\n",
    "- the computation time or iteration\n",
    "- \n"
   ]
  },
  {
   "cell_type": "code",
   "execution_count": 26,
   "metadata": {},
   "outputs": [
    {
     "name": "stdout",
     "output_type": "stream",
     "text": [
      "@elapse 23\n"
     ]
    }
   ],
   "source": [
    "@elapse println(\"23323\")"
   ]
  },
  {
   "cell_type": "code",
   "execution_count": null,
   "metadata": {},
   "outputs": [],
   "source": []
  },
  {
   "cell_type": "code",
   "execution_count": null,
   "metadata": {},
   "outputs": [],
   "source": []
  }
 ],
 "metadata": {
  "kernelspec": {
   "display_name": "Julia 1.5.2",
   "language": "julia",
   "name": "julia-1.5"
  },
  "language_info": {
   "file_extension": ".jl",
   "mimetype": "application/julia",
   "name": "julia",
   "version": "1.5.2"
  }
 },
 "nbformat": 4,
 "nbformat_minor": 4
}
