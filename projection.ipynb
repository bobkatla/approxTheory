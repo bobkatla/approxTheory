{
 "cells": [
  {
   "cell_type": "markdown",
   "metadata": {},
   "source": [
    "# Alternative projection"
   ]
  },
  {
   "cell_type": "code",
   "execution_count": 1,
   "metadata": {},
   "outputs": [],
   "source": [
    "# Getting all the required library\n",
    "# using JuMP\n",
    "# using GLPK\n",
    "using Plots"
   ]
  },
  {
   "cell_type": "code",
   "execution_count": 2,
   "metadata": {},
   "outputs": [
    {
     "data": {
      "text/plain": [
       "vander (generic function with 1 method)"
      ]
     },
     "execution_count": 2,
     "metadata": {},
     "output_type": "execute_result"
    }
   ],
   "source": [
    "# Create the vander function for creating a form of representing the vectors and calculations\n",
    "vander(t,n) = hcat([t.^i for i = 0:n-1]...)"
   ]
  },
  {
   "cell_type": "code",
   "execution_count": 49,
   "metadata": {},
   "outputs": [
    {
     "data": {
      "text/plain": [
       "f (generic function with 1 method)"
      ]
     },
     "execution_count": 49,
     "metadata": {},
     "output_type": "execute_result"
    }
   ],
   "source": [
    "# Setting the parameters\n",
    "T=1:0.01:5 # Interpolation points, note it has to be different from 0 so it's best to pick from 1\n",
    "(n, m) = (5, 6) # The power of the 2 poly in the rational functions\n",
    "hy_space_sz = n+m+2\n",
    "# N = 10\n",
    "# c = rand(N)\n",
    "# f(t) = sum([c[i]*sin(π*i*(t+0.25)) for i in 1:N]) # Function to approximate\n",
    "\n",
    "f(t) = (t^3+3)/(t^2 + 1) #function simple to test"
   ]
  },
  {
   "cell_type": "code",
   "execution_count": 50,
   "metadata": {},
   "outputs": [
    {
     "data": {
      "image/svg+xml": [
       "<?xml version=\"1.0\" encoding=\"utf-8\"?>\n",
       "<svg xmlns=\"http://www.w3.org/2000/svg\" xmlns:xlink=\"http://www.w3.org/1999/xlink\" width=\"600\" height=\"400\" viewBox=\"0 0 2400 1600\">\n",
       "<defs>\n",
       "  <clipPath id=\"clip930\">\n",
       "    <rect x=\"0\" y=\"0\" width=\"2400\" height=\"1600\"/>\n",
       "  </clipPath>\n",
       "</defs>\n",
       "<path clip-path=\"url(#clip930)\" d=\"\n",
       "M0 1600 L2400 1600 L2400 0 L0 0  Z\n",
       "  \" fill=\"#ffffff\" fill-rule=\"evenodd\" fill-opacity=\"1\"/>\n",
       "<defs>\n",
       "  <clipPath id=\"clip931\">\n",
       "    <rect x=\"480\" y=\"0\" width=\"1681\" height=\"1600\"/>\n",
       "  </clipPath>\n",
       "</defs>\n",
       "<path clip-path=\"url(#clip930)\" d=\"\n",
       "M112.177 1486.45 L2352.76 1486.45 L2352.76 47.2441 L112.177 47.2441  Z\n",
       "  \" fill=\"#ffffff\" fill-rule=\"evenodd\" fill-opacity=\"1\"/>\n",
       "<defs>\n",
       "  <clipPath id=\"clip932\">\n",
       "    <rect x=\"112\" y=\"47\" width=\"2242\" height=\"1440\"/>\n",
       "  </clipPath>\n",
       "</defs>\n",
       "<polyline clip-path=\"url(#clip932)\" style=\"stroke:#000000; stroke-width:2; stroke-opacity:0.1; fill:none\" points=\"\n",
       "  175.59,1486.45 175.59,47.2441 \n",
       "  \"/>\n",
       "<polyline clip-path=\"url(#clip932)\" style=\"stroke:#000000; stroke-width:2; stroke-opacity:0.1; fill:none\" points=\"\n",
       "  704.028,1486.45 704.028,47.2441 \n",
       "  \"/>\n",
       "<polyline clip-path=\"url(#clip932)\" style=\"stroke:#000000; stroke-width:2; stroke-opacity:0.1; fill:none\" points=\"\n",
       "  1232.47,1486.45 1232.47,47.2441 \n",
       "  \"/>\n",
       "<polyline clip-path=\"url(#clip932)\" style=\"stroke:#000000; stroke-width:2; stroke-opacity:0.1; fill:none\" points=\"\n",
       "  1760.9,1486.45 1760.9,47.2441 \n",
       "  \"/>\n",
       "<polyline clip-path=\"url(#clip932)\" style=\"stroke:#000000; stroke-width:2; stroke-opacity:0.1; fill:none\" points=\"\n",
       "  2289.34,1486.45 2289.34,47.2441 \n",
       "  \"/>\n",
       "<polyline clip-path=\"url(#clip930)\" style=\"stroke:#000000; stroke-width:4; stroke-opacity:1; fill:none\" points=\"\n",
       "  112.177,1486.45 2352.76,1486.45 \n",
       "  \"/>\n",
       "<polyline clip-path=\"url(#clip930)\" style=\"stroke:#000000; stroke-width:4; stroke-opacity:1; fill:none\" points=\"\n",
       "  175.59,1486.45 175.59,1469.18 \n",
       "  \"/>\n",
       "<polyline clip-path=\"url(#clip930)\" style=\"stroke:#000000; stroke-width:4; stroke-opacity:1; fill:none\" points=\"\n",
       "  704.028,1486.45 704.028,1469.18 \n",
       "  \"/>\n",
       "<polyline clip-path=\"url(#clip930)\" style=\"stroke:#000000; stroke-width:4; stroke-opacity:1; fill:none\" points=\"\n",
       "  1232.47,1486.45 1232.47,1469.18 \n",
       "  \"/>\n",
       "<polyline clip-path=\"url(#clip930)\" style=\"stroke:#000000; stroke-width:4; stroke-opacity:1; fill:none\" points=\"\n",
       "  1760.9,1486.45 1760.9,1469.18 \n",
       "  \"/>\n",
       "<polyline clip-path=\"url(#clip930)\" style=\"stroke:#000000; stroke-width:4; stroke-opacity:1; fill:none\" points=\"\n",
       "  2289.34,1486.45 2289.34,1469.18 \n",
       "  \"/>\n",
       "<path clip-path=\"url(#clip930)\" d=\"M 0 0 M165.972 1543.18 L173.611 1543.18 L173.611 1516.82 L165.3 1518.49 L165.3 1514.23 L173.564 1512.56 L178.24 1512.56 L178.24 1543.18 L185.879 1543.18 L185.879 1547.12 L165.972 1547.12 L165.972 1543.18 Z\" fill=\"#000000\" fill-rule=\"evenodd\" fill-opacity=\"1\" /><path clip-path=\"url(#clip930)\" d=\"M 0 0 M698.681 1543.18 L715 1543.18 L715 1547.12 L693.056 1547.12 L693.056 1543.18 Q695.718 1540.43 700.301 1535.8 Q704.908 1531.15 706.088 1529.81 Q708.334 1527.28 709.213 1525.55 Q710.116 1523.79 710.116 1522.1 Q710.116 1519.34 708.172 1517.61 Q706.25 1515.87 703.149 1515.87 Q700.949 1515.87 698.496 1516.63 Q696.065 1517.4 693.287 1518.95 L693.287 1514.23 Q696.112 1513.09 698.565 1512.51 Q701.019 1511.93 703.056 1511.93 Q708.426 1511.93 711.621 1514.62 Q714.815 1517.31 714.815 1521.8 Q714.815 1523.93 714.005 1525.85 Q713.218 1527.74 711.111 1530.34 Q710.533 1531.01 707.431 1534.23 Q704.329 1537.42 698.681 1543.18 Z\" fill=\"#000000\" fill-rule=\"evenodd\" fill-opacity=\"1\" /><path clip-path=\"url(#clip930)\" d=\"M 0 0 M1236.71 1528.49 Q1240.07 1529.2 1241.95 1531.47 Q1243.84 1533.74 1243.84 1537.07 Q1243.84 1542.19 1240.33 1544.99 Q1236.81 1547.79 1230.33 1547.79 Q1228.15 1547.79 1225.83 1547.35 Q1223.54 1546.93 1221.09 1546.08 L1221.09 1541.56 Q1223.03 1542.7 1225.35 1543.28 Q1227.66 1543.86 1230.19 1543.86 Q1234.58 1543.86 1236.88 1542.12 Q1239.19 1540.38 1239.19 1537.07 Q1239.19 1534.02 1237.04 1532.31 Q1234.91 1530.57 1231.09 1530.57 L1227.06 1530.57 L1227.06 1526.73 L1231.27 1526.73 Q1234.72 1526.73 1236.55 1525.36 Q1238.38 1523.97 1238.38 1521.38 Q1238.38 1518.72 1236.48 1517.31 Q1234.61 1515.87 1231.09 1515.87 Q1229.17 1515.87 1226.97 1516.29 Q1224.77 1516.7 1222.13 1517.58 L1222.13 1513.42 Q1224.79 1512.68 1227.11 1512.31 Q1229.45 1511.93 1231.51 1511.93 Q1236.83 1511.93 1239.93 1514.37 Q1243.03 1516.77 1243.03 1520.89 Q1243.03 1523.76 1241.39 1525.75 Q1239.75 1527.72 1236.71 1528.49 Z\" fill=\"#000000\" fill-rule=\"evenodd\" fill-opacity=\"1\" /><path clip-path=\"url(#clip930)\" d=\"M 0 0 M1763.91 1516.63 L1752.11 1535.08 L1763.91 1535.08 L1763.91 1516.63 M1762.69 1512.56 L1768.57 1512.56 L1768.57 1535.08 L1773.5 1535.08 L1773.5 1538.97 L1768.57 1538.97 L1768.57 1547.12 L1763.91 1547.12 L1763.91 1538.97 L1748.31 1538.97 L1748.31 1534.46 L1762.69 1512.56 Z\" fill=\"#000000\" fill-rule=\"evenodd\" fill-opacity=\"1\" /><path clip-path=\"url(#clip930)\" d=\"M 0 0 M2279.62 1512.56 L2297.98 1512.56 L2297.98 1516.5 L2283.9 1516.5 L2283.9 1524.97 Q2284.92 1524.62 2285.94 1524.46 Q2286.96 1524.27 2287.98 1524.27 Q2293.76 1524.27 2297.14 1527.44 Q2300.52 1530.62 2300.52 1536.03 Q2300.52 1541.61 2297.05 1544.71 Q2293.58 1547.79 2287.26 1547.79 Q2285.08 1547.79 2282.82 1547.42 Q2280.57 1547.05 2278.16 1546.31 L2278.16 1541.61 Q2280.25 1542.74 2282.47 1543.3 Q2284.69 1543.86 2287.17 1543.86 Q2291.17 1543.86 2293.51 1541.75 Q2295.85 1539.64 2295.85 1536.03 Q2295.85 1532.42 2293.51 1530.31 Q2291.17 1528.21 2287.17 1528.21 Q2285.29 1528.21 2283.42 1528.62 Q2281.57 1529.04 2279.62 1529.92 L2279.62 1512.56 Z\" fill=\"#000000\" fill-rule=\"evenodd\" fill-opacity=\"1\" /><polyline clip-path=\"url(#clip932)\" style=\"stroke:#000000; stroke-width:2; stroke-opacity:0.1; fill:none\" points=\"\n",
       "  112.177,1416.34 2352.76,1416.34 \n",
       "  \"/>\n",
       "<polyline clip-path=\"url(#clip932)\" style=\"stroke:#000000; stroke-width:2; stroke-opacity:0.1; fill:none\" points=\"\n",
       "  112.177,961.898 2352.76,961.898 \n",
       "  \"/>\n",
       "<polyline clip-path=\"url(#clip932)\" style=\"stroke:#000000; stroke-width:2; stroke-opacity:0.1; fill:none\" points=\"\n",
       "  112.177,507.459 2352.76,507.459 \n",
       "  \"/>\n",
       "<polyline clip-path=\"url(#clip932)\" style=\"stroke:#000000; stroke-width:2; stroke-opacity:0.1; fill:none\" points=\"\n",
       "  112.177,53.0194 2352.76,53.0194 \n",
       "  \"/>\n",
       "<polyline clip-path=\"url(#clip930)\" style=\"stroke:#000000; stroke-width:4; stroke-opacity:1; fill:none\" points=\"\n",
       "  112.177,1486.45 112.177,47.2441 \n",
       "  \"/>\n",
       "<polyline clip-path=\"url(#clip930)\" style=\"stroke:#000000; stroke-width:4; stroke-opacity:1; fill:none\" points=\"\n",
       "  112.177,1416.34 139.064,1416.34 \n",
       "  \"/>\n",
       "<polyline clip-path=\"url(#clip930)\" style=\"stroke:#000000; stroke-width:4; stroke-opacity:1; fill:none\" points=\"\n",
       "  112.177,961.898 139.064,961.898 \n",
       "  \"/>\n",
       "<polyline clip-path=\"url(#clip930)\" style=\"stroke:#000000; stroke-width:4; stroke-opacity:1; fill:none\" points=\"\n",
       "  112.177,507.459 139.064,507.459 \n",
       "  \"/>\n",
       "<polyline clip-path=\"url(#clip930)\" style=\"stroke:#000000; stroke-width:4; stroke-opacity:1; fill:none\" points=\"\n",
       "  112.177,53.0194 139.064,53.0194 \n",
       "  \"/>\n",
       "<path clip-path=\"url(#clip930)\" d=\"M 0 0 M59.8578 1429.68 L76.1772 1429.68 L76.1772 1433.62 L54.2328 1433.62 L54.2328 1429.68 Q56.8949 1426.93 61.4782 1422.3 Q66.0846 1417.65 67.2652 1416.3 Q69.5105 1413.78 70.3902 1412.04 Q71.2929 1410.28 71.2929 1408.6 Q71.2929 1405.84 69.3485 1404.1 Q67.4272 1402.37 64.3254 1402.37 Q62.1263 1402.37 59.6726 1403.13 Q57.2421 1403.9 54.4643 1405.45 L54.4643 1400.72 Q57.2884 1399.59 59.7421 1399.01 Q62.1958 1398.43 64.2328 1398.43 Q69.6031 1398.43 72.7976 1401.12 Q75.992 1403.8 75.992 1408.29 Q75.992 1410.42 75.1818 1412.35 Q74.3948 1414.24 72.2883 1416.84 Q71.7096 1417.51 68.6078 1420.72 Q65.5059 1423.92 59.8578 1429.68 Z\" fill=\"#000000\" fill-rule=\"evenodd\" fill-opacity=\"1\" /><path clip-path=\"url(#clip930)\" d=\"M 0 0 M69.0476 960.544 Q72.404 961.262 74.279 963.53 Q76.1772 965.799 76.1772 969.132 Q76.1772 974.248 72.6587 977.049 Q69.1402 979.85 62.6587 979.85 Q60.4828 979.85 58.168 979.41 Q55.8764 978.993 53.4227 978.137 L53.4227 973.623 Q55.3671 974.757 57.6819 975.336 Q59.9967 975.915 62.5198 975.915 Q66.918 975.915 69.2096 974.179 Q71.5244 972.442 71.5244 969.132 Q71.5244 966.077 69.3717 964.364 Q67.242 962.628 63.4226 962.628 L59.3949 962.628 L59.3949 958.785 L63.6078 958.785 Q67.0569 958.785 68.8855 957.419 Q70.7142 956.03 70.7142 953.438 Q70.7142 950.776 68.8161 949.364 Q66.9411 947.929 63.4226 947.929 Q61.5013 947.929 59.3023 948.345 Q57.1032 948.762 54.4643 949.642 L54.4643 945.475 Q57.1264 944.734 59.4412 944.364 Q61.7791 943.994 63.8393 943.994 Q69.1633 943.994 72.2652 946.424 Q75.367 948.831 75.367 952.952 Q75.367 955.822 73.7235 957.813 Q72.08 959.78 69.0476 960.544 Z\" fill=\"#000000\" fill-rule=\"evenodd\" fill-opacity=\"1\" /><path clip-path=\"url(#clip930)\" d=\"M 0 0 M66.5939 494.253 L54.7884 512.702 L66.5939 512.702 L66.5939 494.253 M65.367 490.179 L71.2466 490.179 L71.2466 512.702 L76.1772 512.702 L76.1772 516.591 L71.2466 516.591 L71.2466 524.739 L66.5939 524.739 L66.5939 516.591 L50.9921 516.591 L50.9921 512.077 L65.367 490.179 Z\" fill=\"#000000\" fill-rule=\"evenodd\" fill-opacity=\"1\" /><path clip-path=\"url(#clip930)\" d=\"M 0 0 M55.2745 35.7394 L73.6309 35.7394 L73.6309 39.6746 L59.5569 39.6746 L59.5569 48.1467 Q60.5754 47.7995 61.5939 47.6375 Q62.6124 47.4523 63.6309 47.4523 Q69.418 47.4523 72.7976 50.6236 Q76.1772 53.7948 76.1772 59.2115 Q76.1772 64.7902 72.705 67.892 Q69.2328 70.9707 62.9134 70.9707 Q60.7374 70.9707 58.4689 70.6003 Q56.2236 70.2299 53.8162 69.4892 L53.8162 64.7902 Q55.8995 65.9244 58.1217 66.48 Q60.3439 67.0355 62.8208 67.0355 Q66.8254 67.0355 69.1633 64.929 Q71.5013 62.8226 71.5013 59.2115 Q71.5013 55.6004 69.1633 53.4939 Q66.8254 51.3875 62.8208 51.3875 Q60.9458 51.3875 59.0708 51.8041 Q57.2189 52.2208 55.2745 53.1004 L55.2745 35.7394 Z\" fill=\"#000000\" fill-rule=\"evenodd\" fill-opacity=\"1\" /><polyline clip-path=\"url(#clip932)\" style=\"stroke:#009af9; stroke-width:4; stroke-opacity:1; fill:none\" points=\"\n",
       "  175.59,1416.34 185.911,1420.6 196.232,1424.53 291.667,1445.72 387.102,1443.34 444.455,1432.73 501.807,1416.46 550.298,1398.92 598.789,1378.41 704.138,1325.39 \n",
       "  801.261,1268.45 905.386,1201 1026.03,1116.7 1133.24,1037.65 1227.25,965.933 1329.75,885.748 1432.86,803.443 1546.86,710.947 1655.33,621.8 1768.11,528.184 \n",
       "  1863.05,448.797 1978.96,351.297 2087.92,259.177 2262.48,110.866 2289.34,87.9763 \n",
       "  \"/>\n",
       "<path clip-path=\"url(#clip930)\" d=\"\n",
       "M1978.1 216.178 L2278.07 216.178 L2278.07 95.2176 L1978.1 95.2176  Z\n",
       "  \" fill=\"#ffffff\" fill-rule=\"evenodd\" fill-opacity=\"1\"/>\n",
       "<polyline clip-path=\"url(#clip930)\" style=\"stroke:#000000; stroke-width:4; stroke-opacity:1; fill:none\" points=\"\n",
       "  1978.1,216.178 2278.07,216.178 2278.07,95.2176 1978.1,95.2176 1978.1,216.178 \n",
       "  \"/>\n",
       "<polyline clip-path=\"url(#clip930)\" style=\"stroke:#009af9; stroke-width:4; stroke-opacity:1; fill:none\" points=\"\n",
       "  2002.99,155.698 2152.37,155.698 \n",
       "  \"/>\n",
       "<path clip-path=\"url(#clip930)\" d=\"M 0 0 M2191.1 175.385 Q2189.3 180.015 2187.59 181.427 Q2185.87 182.839 2183 182.839 L2179.6 182.839 L2179.6 179.274 L2182.1 179.274 Q2183.86 179.274 2184.83 178.44 Q2185.8 177.607 2186.98 174.505 L2187.75 172.561 L2177.26 147.052 L2181.77 147.052 L2189.88 167.329 L2197.98 147.052 L2202.49 147.052 L2191.1 175.385 Z\" fill=\"#000000\" fill-rule=\"evenodd\" fill-opacity=\"1\" /><path clip-path=\"url(#clip930)\" d=\"M 0 0 M2208.37 169.042 L2216.01 169.042 L2216.01 142.677 L2207.7 144.343 L2207.7 140.084 L2215.96 138.418 L2220.64 138.418 L2220.64 169.042 L2228.28 169.042 L2228.28 172.978 L2208.37 172.978 L2208.37 169.042 Z\" fill=\"#000000\" fill-rule=\"evenodd\" fill-opacity=\"1\" /></svg>\n"
      ]
     },
     "execution_count": 50,
     "metadata": {},
     "output_type": "execute_result"
    }
   ],
   "source": [
    "# plot the f to see\n",
    "plot(f,1,5)"
   ]
  },
  {
   "cell_type": "code",
   "execution_count": 51,
   "metadata": {},
   "outputs": [
    {
     "data": {
      "text/plain": [
       "calculateDisAndPoint (generic function with 1 method)"
      ]
     },
     "execution_count": 51,
     "metadata": {},
     "output_type": "execute_result"
    }
   ],
   "source": [
    "# we are creating hyperplanes by thinking f(x) = p(x)/q(x)\n",
    "# or converting to <A, xn> - f(x)<B, xm> = 0 with A, B is correspondingly coe of p(x) and q(x) and are the keys\n",
    "# xn and xm are the vectors which will represent the fucntions\n",
    "# for easy calculation combining A and B into a big vector so it would be: <A to B, xn to -f(x)xm> = 0\n",
    "# this is a hyperplan formula with d = 0\n",
    "# therefore, xn to -f(x)xm is the vector of the hyperplane in R n+m+2 space\n",
    "\n",
    "# function to calculate the distince between a point and the hyperplane with the sign\n",
    "function calculateDisAndPoint(check_value, the_point, n, m)\n",
    "    hy_space_sz = n + m + 2\n",
    "    xn = vander(check_value, n+1)\n",
    "    xm = vander(check_value, m+1)\n",
    "    big_vect = hcat(xn, -f(check_value)*xm)\n",
    "#     calculate distance by |vect.start_point + d|/||vect|| , d is 0 in this case\n",
    "    a = sum(hcat([the_point[i]*big_vect[i] for i in 1:hy_space_sz]...))\n",
    "    b = sum(hcat([big_vect[i]*big_vect[i] for i in 1:hy_space_sz]...))\n",
    "    c = sqrt(b)\n",
    "    dis = a/c\n",
    "#     calculate lambda in x - x0 = lambda.vect to calculate the projectpoint\n",
    "    lambd = a/b\n",
    "    x0 = the_point - (lambd * big_vect)\n",
    "    return dis, x0\n",
    "end"
   ]
  },
  {
   "cell_type": "code",
   "execution_count": 52,
   "metadata": {},
   "outputs": [],
   "source": [
    "# iterate after a certain times and store the value in a array of the size of number of hyperplanes\n",
    "num_hy = size(T)[1]\n",
    "distA = Array{Float64}(undef, 1, num_hy)\n",
    "pointA = Array{Array{Float64}}(undef, 1, num_hy)\n",
    "ite_times = 20\n",
    "s_p = vander(1, hy_space_sz)\n",
    "\n",
    "for i in 1:(ite_times*num_hy)\n",
    "    check = i%num_hy + 1\n",
    "    result = calculateDisAndPoint(T[check],s_p,n,m)\n",
    "    distA[check] = result[1]\n",
    "    pointA[check] = result[2]\n",
    "    s_p = result[2]\n",
    "end"
   ]
  },
  {
   "cell_type": "code",
   "execution_count": 53,
   "metadata": {},
   "outputs": [
    {
     "data": {
      "text/plain": [
       "1×13 Array{Float64,2}:\n",
       " 1.19535  1.17  1.14544  1.12804  1.13326  …  0.677191  0.491478  -0.072187"
      ]
     },
     "execution_count": 53,
     "metadata": {},
     "output_type": "execute_result"
    }
   ],
   "source": [
    "# calculate the mid point\n",
    "mid_p = sum(pointA)/num_hy"
   ]
  },
  {
   "cell_type": "code",
   "execution_count": 78,
   "metadata": {},
   "outputs": [
    {
     "data": {
      "text/plain": [
       "6"
      ]
     },
     "execution_count": 78,
     "metadata": {},
     "output_type": "execute_result"
    }
   ],
   "source": [
    "# maximum(mid_p)\n",
    "findmax(mid_p)[2][2]"
   ]
  },
  {
   "cell_type": "code",
   "execution_count": 54,
   "metadata": {},
   "outputs": [
    {
     "name": "stdout",
     "output_type": "stream",
     "text": [
      "1.1953510777690604\n",
      "1.169999770706346\n",
      "1.1454391963030806\n",
      "1.1280357010736761\n",
      "1.133259474272219\n",
      "1.1982445346774748\n",
      "0.5976640604911447\n",
      "0.6449663232718407\n",
      "0.6882470051280163\n",
      "0.7117748903368974\n",
      "0.6771908712852576\n",
      "0.4914778419575343\n",
      "-0.0721870039405266\n"
     ]
    }
   ],
   "source": [
    "for i in mid_p\n",
    "    println(i)\n",
    "end"
   ]
  },
  {
   "cell_type": "code",
   "execution_count": 55,
   "metadata": {},
   "outputs": [
    {
     "data": {
      "text/plain": [
       "g (generic function with 1 method)"
      ]
     },
     "execution_count": 55,
     "metadata": {},
     "output_type": "execute_result"
    }
   ],
   "source": [
    "# we now have the final results\n",
    "p(t) = sum((t^(i-1))*mid_p[i] for i in 1:(n+1))\n",
    "q(t) = sum((t^(i-1))*mid_p[i+n+1] for i in 1:(m+1))\n",
    "g(t) = p(t)/q(t)"
   ]
  },
  {
   "cell_type": "code",
   "execution_count": 56,
   "metadata": {},
   "outputs": [
    {
     "data": {
      "text/plain": [
       "1.920227351145914"
      ]
     },
     "execution_count": 56,
     "metadata": {},
     "output_type": "execute_result"
    }
   ],
   "source": [
    "g(1.2)"
   ]
  },
  {
   "cell_type": "code",
   "execution_count": 57,
   "metadata": {},
   "outputs": [
    {
     "data": {
      "text/plain": [
       "1.9377049180327868"
      ]
     },
     "execution_count": 57,
     "metadata": {},
     "output_type": "execute_result"
    }
   ],
   "source": [
    "f(1.2)"
   ]
  },
  {
   "cell_type": "code",
   "execution_count": 64,
   "metadata": {},
   "outputs": [
    {
     "data": {
      "image/svg+xml": [
       "<?xml version=\"1.0\" encoding=\"utf-8\"?>\n",
       "<svg xmlns=\"http://www.w3.org/2000/svg\" xmlns:xlink=\"http://www.w3.org/1999/xlink\" width=\"600\" height=\"400\" viewBox=\"0 0 2400 1600\">\n",
       "<defs>\n",
       "  <clipPath id=\"clip170\">\n",
       "    <rect x=\"0\" y=\"0\" width=\"2400\" height=\"1600\"/>\n",
       "  </clipPath>\n",
       "</defs>\n",
       "<path clip-path=\"url(#clip170)\" d=\"\n",
       "M0 1600 L2400 1600 L2400 0 L0 0  Z\n",
       "  \" fill=\"#ffffff\" fill-rule=\"evenodd\" fill-opacity=\"1\"/>\n",
       "<defs>\n",
       "  <clipPath id=\"clip171\">\n",
       "    <rect x=\"480\" y=\"0\" width=\"1681\" height=\"1600\"/>\n",
       "  </clipPath>\n",
       "</defs>\n",
       "<path clip-path=\"url(#clip170)\" d=\"\n",
       "M112.177 1486.45 L2352.76 1486.45 L2352.76 47.2441 L112.177 47.2441  Z\n",
       "  \" fill=\"#ffffff\" fill-rule=\"evenodd\" fill-opacity=\"1\"/>\n",
       "<defs>\n",
       "  <clipPath id=\"clip172\">\n",
       "    <rect x=\"112\" y=\"47\" width=\"2242\" height=\"1440\"/>\n",
       "  </clipPath>\n",
       "</defs>\n",
       "<polyline clip-path=\"url(#clip172)\" style=\"stroke:#000000; stroke-width:2; stroke-opacity:0.1; fill:none\" points=\"\n",
       "  175.59,1486.45 175.59,47.2441 \n",
       "  \"/>\n",
       "<polyline clip-path=\"url(#clip172)\" style=\"stroke:#000000; stroke-width:2; stroke-opacity:0.1; fill:none\" points=\"\n",
       "  704.028,1486.45 704.028,47.2441 \n",
       "  \"/>\n",
       "<polyline clip-path=\"url(#clip172)\" style=\"stroke:#000000; stroke-width:2; stroke-opacity:0.1; fill:none\" points=\"\n",
       "  1232.47,1486.45 1232.47,47.2441 \n",
       "  \"/>\n",
       "<polyline clip-path=\"url(#clip172)\" style=\"stroke:#000000; stroke-width:2; stroke-opacity:0.1; fill:none\" points=\"\n",
       "  1760.9,1486.45 1760.9,47.2441 \n",
       "  \"/>\n",
       "<polyline clip-path=\"url(#clip172)\" style=\"stroke:#000000; stroke-width:2; stroke-opacity:0.1; fill:none\" points=\"\n",
       "  2289.34,1486.45 2289.34,47.2441 \n",
       "  \"/>\n",
       "<polyline clip-path=\"url(#clip170)\" style=\"stroke:#000000; stroke-width:4; stroke-opacity:1; fill:none\" points=\"\n",
       "  112.177,1486.45 2352.76,1486.45 \n",
       "  \"/>\n",
       "<polyline clip-path=\"url(#clip170)\" style=\"stroke:#000000; stroke-width:4; stroke-opacity:1; fill:none\" points=\"\n",
       "  175.59,1486.45 175.59,1469.18 \n",
       "  \"/>\n",
       "<polyline clip-path=\"url(#clip170)\" style=\"stroke:#000000; stroke-width:4; stroke-opacity:1; fill:none\" points=\"\n",
       "  704.028,1486.45 704.028,1469.18 \n",
       "  \"/>\n",
       "<polyline clip-path=\"url(#clip170)\" style=\"stroke:#000000; stroke-width:4; stroke-opacity:1; fill:none\" points=\"\n",
       "  1232.47,1486.45 1232.47,1469.18 \n",
       "  \"/>\n",
       "<polyline clip-path=\"url(#clip170)\" style=\"stroke:#000000; stroke-width:4; stroke-opacity:1; fill:none\" points=\"\n",
       "  1760.9,1486.45 1760.9,1469.18 \n",
       "  \"/>\n",
       "<polyline clip-path=\"url(#clip170)\" style=\"stroke:#000000; stroke-width:4; stroke-opacity:1; fill:none\" points=\"\n",
       "  2289.34,1486.45 2289.34,1469.18 \n",
       "  \"/>\n",
       "<path clip-path=\"url(#clip170)\" d=\"M 0 0 M165.972 1543.18 L173.611 1543.18 L173.611 1516.82 L165.3 1518.49 L165.3 1514.23 L173.564 1512.56 L178.24 1512.56 L178.24 1543.18 L185.879 1543.18 L185.879 1547.12 L165.972 1547.12 L165.972 1543.18 Z\" fill=\"#000000\" fill-rule=\"evenodd\" fill-opacity=\"1\" /><path clip-path=\"url(#clip170)\" d=\"M 0 0 M698.681 1543.18 L715 1543.18 L715 1547.12 L693.056 1547.12 L693.056 1543.18 Q695.718 1540.43 700.301 1535.8 Q704.908 1531.15 706.088 1529.81 Q708.334 1527.28 709.213 1525.55 Q710.116 1523.79 710.116 1522.1 Q710.116 1519.34 708.172 1517.61 Q706.25 1515.87 703.149 1515.87 Q700.949 1515.87 698.496 1516.63 Q696.065 1517.4 693.287 1518.95 L693.287 1514.23 Q696.112 1513.09 698.565 1512.51 Q701.019 1511.93 703.056 1511.93 Q708.426 1511.93 711.621 1514.62 Q714.815 1517.31 714.815 1521.8 Q714.815 1523.93 714.005 1525.85 Q713.218 1527.74 711.111 1530.34 Q710.533 1531.01 707.431 1534.23 Q704.329 1537.42 698.681 1543.18 Z\" fill=\"#000000\" fill-rule=\"evenodd\" fill-opacity=\"1\" /><path clip-path=\"url(#clip170)\" d=\"M 0 0 M1236.71 1528.49 Q1240.07 1529.2 1241.95 1531.47 Q1243.84 1533.74 1243.84 1537.07 Q1243.84 1542.19 1240.33 1544.99 Q1236.81 1547.79 1230.33 1547.79 Q1228.15 1547.79 1225.83 1547.35 Q1223.54 1546.93 1221.09 1546.08 L1221.09 1541.56 Q1223.03 1542.7 1225.35 1543.28 Q1227.66 1543.86 1230.19 1543.86 Q1234.58 1543.86 1236.88 1542.12 Q1239.19 1540.38 1239.19 1537.07 Q1239.19 1534.02 1237.04 1532.31 Q1234.91 1530.57 1231.09 1530.57 L1227.06 1530.57 L1227.06 1526.73 L1231.27 1526.73 Q1234.72 1526.73 1236.55 1525.36 Q1238.38 1523.97 1238.38 1521.38 Q1238.38 1518.72 1236.48 1517.31 Q1234.61 1515.87 1231.09 1515.87 Q1229.17 1515.87 1226.97 1516.29 Q1224.77 1516.7 1222.13 1517.58 L1222.13 1513.42 Q1224.79 1512.68 1227.11 1512.31 Q1229.45 1511.93 1231.51 1511.93 Q1236.83 1511.93 1239.93 1514.37 Q1243.03 1516.77 1243.03 1520.89 Q1243.03 1523.76 1241.39 1525.75 Q1239.75 1527.72 1236.71 1528.49 Z\" fill=\"#000000\" fill-rule=\"evenodd\" fill-opacity=\"1\" /><path clip-path=\"url(#clip170)\" d=\"M 0 0 M1763.91 1516.63 L1752.11 1535.08 L1763.91 1535.08 L1763.91 1516.63 M1762.69 1512.56 L1768.57 1512.56 L1768.57 1535.08 L1773.5 1535.08 L1773.5 1538.97 L1768.57 1538.97 L1768.57 1547.12 L1763.91 1547.12 L1763.91 1538.97 L1748.31 1538.97 L1748.31 1534.46 L1762.69 1512.56 Z\" fill=\"#000000\" fill-rule=\"evenodd\" fill-opacity=\"1\" /><path clip-path=\"url(#clip170)\" d=\"M 0 0 M2279.62 1512.56 L2297.98 1512.56 L2297.98 1516.5 L2283.9 1516.5 L2283.9 1524.97 Q2284.92 1524.62 2285.94 1524.46 Q2286.96 1524.27 2287.98 1524.27 Q2293.76 1524.27 2297.14 1527.44 Q2300.52 1530.62 2300.52 1536.03 Q2300.52 1541.61 2297.05 1544.71 Q2293.58 1547.79 2287.26 1547.79 Q2285.08 1547.79 2282.82 1547.42 Q2280.57 1547.05 2278.16 1546.31 L2278.16 1541.61 Q2280.25 1542.74 2282.47 1543.3 Q2284.69 1543.86 2287.17 1543.86 Q2291.17 1543.86 2293.51 1541.75 Q2295.85 1539.64 2295.85 1536.03 Q2295.85 1532.42 2293.51 1530.31 Q2291.17 1528.21 2287.17 1528.21 Q2285.29 1528.21 2283.42 1528.62 Q2281.57 1529.04 2279.62 1529.92 L2279.62 1512.56 Z\" fill=\"#000000\" fill-rule=\"evenodd\" fill-opacity=\"1\" /><polyline clip-path=\"url(#clip172)\" style=\"stroke:#000000; stroke-width:2; stroke-opacity:0.1; fill:none\" points=\"\n",
       "  112.177,1385.42 2352.76,1385.42 \n",
       "  \"/>\n",
       "<polyline clip-path=\"url(#clip172)\" style=\"stroke:#000000; stroke-width:2; stroke-opacity:0.1; fill:none\" points=\"\n",
       "  112.177,941.558 2352.76,941.558 \n",
       "  \"/>\n",
       "<polyline clip-path=\"url(#clip172)\" style=\"stroke:#000000; stroke-width:2; stroke-opacity:0.1; fill:none\" points=\"\n",
       "  112.177,497.695 2352.76,497.695 \n",
       "  \"/>\n",
       "<polyline clip-path=\"url(#clip172)\" style=\"stroke:#000000; stroke-width:2; stroke-opacity:0.1; fill:none\" points=\"\n",
       "  112.177,53.833 2352.76,53.833 \n",
       "  \"/>\n",
       "<polyline clip-path=\"url(#clip170)\" style=\"stroke:#000000; stroke-width:4; stroke-opacity:1; fill:none\" points=\"\n",
       "  112.177,1486.45 112.177,47.2441 \n",
       "  \"/>\n",
       "<polyline clip-path=\"url(#clip170)\" style=\"stroke:#000000; stroke-width:4; stroke-opacity:1; fill:none\" points=\"\n",
       "  112.177,1385.42 139.064,1385.42 \n",
       "  \"/>\n",
       "<polyline clip-path=\"url(#clip170)\" style=\"stroke:#000000; stroke-width:4; stroke-opacity:1; fill:none\" points=\"\n",
       "  112.177,941.558 139.064,941.558 \n",
       "  \"/>\n",
       "<polyline clip-path=\"url(#clip170)\" style=\"stroke:#000000; stroke-width:4; stroke-opacity:1; fill:none\" points=\"\n",
       "  112.177,497.695 139.064,497.695 \n",
       "  \"/>\n",
       "<polyline clip-path=\"url(#clip170)\" style=\"stroke:#000000; stroke-width:4; stroke-opacity:1; fill:none\" points=\"\n",
       "  112.177,53.833 139.064,53.833 \n",
       "  \"/>\n",
       "<path clip-path=\"url(#clip170)\" d=\"M 0 0 M59.8578 1398.76 L76.1772 1398.76 L76.1772 1402.7 L54.2328 1402.7 L54.2328 1398.76 Q56.8949 1396.01 61.4782 1391.38 Q66.0846 1386.73 67.2652 1385.39 Q69.5105 1382.86 70.3902 1381.13 Q71.2929 1379.37 71.2929 1377.68 Q71.2929 1374.92 69.3485 1373.19 Q67.4272 1371.45 64.3254 1371.45 Q62.1263 1371.45 59.6726 1372.21 Q57.2421 1372.98 54.4643 1374.53 L54.4643 1369.81 Q57.2884 1368.67 59.7421 1368.09 Q62.1958 1367.51 64.2328 1367.51 Q69.6031 1367.51 72.7976 1370.2 Q75.992 1372.89 75.992 1377.38 Q75.992 1379.51 75.1818 1381.43 Q74.3948 1383.32 72.2883 1385.92 Q71.7096 1386.59 68.6078 1389.81 Q65.5059 1393 59.8578 1398.76 Z\" fill=\"#000000\" fill-rule=\"evenodd\" fill-opacity=\"1\" /><path clip-path=\"url(#clip170)\" d=\"M 0 0 M69.0476 940.203 Q72.404 940.921 74.279 943.189 Q76.1772 945.458 76.1772 948.791 Q76.1772 953.907 72.6587 956.708 Q69.1402 959.509 62.6587 959.509 Q60.4828 959.509 58.168 959.069 Q55.8764 958.652 53.4227 957.796 L53.4227 953.282 Q55.3671 954.416 57.6819 954.995 Q59.9967 955.574 62.5198 955.574 Q66.918 955.574 69.2096 953.838 Q71.5244 952.101 71.5244 948.791 Q71.5244 945.736 69.3717 944.023 Q67.242 942.287 63.4226 942.287 L59.3949 942.287 L59.3949 938.444 L63.6078 938.444 Q67.0569 938.444 68.8855 937.078 Q70.7142 935.689 70.7142 933.097 Q70.7142 930.435 68.8161 929.023 Q66.9411 927.588 63.4226 927.588 Q61.5013 927.588 59.3023 928.004 Q57.1032 928.421 54.4643 929.301 L54.4643 925.134 Q57.1264 924.393 59.4412 924.023 Q61.7791 923.653 63.8393 923.653 Q69.1633 923.653 72.2652 926.083 Q75.367 928.49 75.367 932.611 Q75.367 935.481 73.7235 937.472 Q72.08 939.439 69.0476 940.203 Z\" fill=\"#000000\" fill-rule=\"evenodd\" fill-opacity=\"1\" /><path clip-path=\"url(#clip170)\" d=\"M 0 0 M66.5939 484.489 L54.7884 502.938 L66.5939 502.938 L66.5939 484.489 M65.367 480.415 L71.2466 480.415 L71.2466 502.938 L76.1772 502.938 L76.1772 506.827 L71.2466 506.827 L71.2466 514.975 L66.5939 514.975 L66.5939 506.827 L50.9921 506.827 L50.9921 502.313 L65.367 480.415 Z\" fill=\"#000000\" fill-rule=\"evenodd\" fill-opacity=\"1\" /><path clip-path=\"url(#clip170)\" d=\"M 0 0 M55.2745 36.553 L73.6309 36.553 L73.6309 40.4882 L59.5569 40.4882 L59.5569 48.9604 Q60.5754 48.6131 61.5939 48.4511 Q62.6124 48.2659 63.6309 48.2659 Q69.418 48.2659 72.7976 51.4372 Q76.1772 54.6085 76.1772 60.0251 Q76.1772 65.6038 72.705 68.7056 Q69.2328 71.7843 62.9134 71.7843 Q60.7374 71.7843 58.4689 71.414 Q56.2236 71.0436 53.8162 70.3028 L53.8162 65.6038 Q55.8995 66.7381 58.1217 67.2936 Q60.3439 67.8492 62.8208 67.8492 Q66.8254 67.8492 69.1633 65.7427 Q71.5013 63.6362 71.5013 60.0251 Q71.5013 56.414 69.1633 54.3076 Q66.8254 52.2011 62.8208 52.2011 Q60.9458 52.2011 59.0708 52.6178 Q57.2189 53.0344 55.2745 53.914 L55.2745 36.553 Z\" fill=\"#000000\" fill-rule=\"evenodd\" fill-opacity=\"1\" /><polyline clip-path=\"url(#clip172)\" style=\"stroke:#009af9; stroke-width:4; stroke-opacity:1; fill:none\" points=\"\n",
       "  175.59,1445.72 196.232,1441.77 387.102,1387.06 501.807,1344.48 598.789,1305.44 704.138,1260.74 801.261,1217.68 905.386,1169.53 1026.03,1110.89 1133.24,1055.83 \n",
       "  1227.25,1004.89 1329.75,946.09 1432.86,882.98 1546.86,807.838 1655.33,730.245 1768.11,642.172 1863.05,561.224 1978.96,452.477 2087.92,338.512 2262.48,126.39 \n",
       "  2289.34,89.8953 \n",
       "  \"/>\n",
       "<polyline clip-path=\"url(#clip172)\" style=\"stroke:#e26f46; stroke-width:4; stroke-opacity:1; fill:none\" points=\"\n",
       "  175.59,1385.42 185.911,1389.59 196.232,1393.42 291.667,1414.11 387.102,1411.79 444.455,1401.43 501.807,1385.54 550.298,1368.41 598.789,1348.37 704.138,1296.59 \n",
       "  801.261,1240.98 905.386,1175.1 1026.03,1092.75 1133.24,1015.55 1227.25,945.498 1329.75,867.18 1432.86,786.79 1546.86,696.447 1655.33,609.375 1768.11,517.938 \n",
       "  1863.05,440.398 1978.96,345.168 2087.92,255.192 2262.48,110.333 2289.34,87.9763 \n",
       "  \"/>\n",
       "<path clip-path=\"url(#clip170)\" d=\"\n",
       "M1978.1 276.658 L2278.07 276.658 L2278.07 95.2176 L1978.1 95.2176  Z\n",
       "  \" fill=\"#ffffff\" fill-rule=\"evenodd\" fill-opacity=\"1\"/>\n",
       "<polyline clip-path=\"url(#clip170)\" style=\"stroke:#000000; stroke-width:4; stroke-opacity:1; fill:none\" points=\"\n",
       "  1978.1,276.658 2278.07,276.658 2278.07,95.2176 1978.1,95.2176 1978.1,276.658 \n",
       "  \"/>\n",
       "<polyline clip-path=\"url(#clip170)\" style=\"stroke:#009af9; stroke-width:4; stroke-opacity:1; fill:none\" points=\"\n",
       "  2002.99,155.698 2152.37,155.698 \n",
       "  \"/>\n",
       "<path clip-path=\"url(#clip170)\" d=\"M 0 0 M2191.1 175.385 Q2189.3 180.015 2187.59 181.427 Q2185.87 182.839 2183 182.839 L2179.6 182.839 L2179.6 179.274 L2182.1 179.274 Q2183.86 179.274 2184.83 178.44 Q2185.8 177.607 2186.98 174.505 L2187.75 172.561 L2177.26 147.052 L2181.77 147.052 L2189.88 167.329 L2197.98 147.052 L2202.49 147.052 L2191.1 175.385 Z\" fill=\"#000000\" fill-rule=\"evenodd\" fill-opacity=\"1\" /><path clip-path=\"url(#clip170)\" d=\"M 0 0 M2208.37 169.042 L2216.01 169.042 L2216.01 142.677 L2207.7 144.343 L2207.7 140.084 L2215.96 138.418 L2220.64 138.418 L2220.64 169.042 L2228.28 169.042 L2228.28 172.978 L2208.37 172.978 L2208.37 169.042 Z\" fill=\"#000000\" fill-rule=\"evenodd\" fill-opacity=\"1\" /><polyline clip-path=\"url(#clip170)\" style=\"stroke:#e26f46; stroke-width:4; stroke-opacity:1; fill:none\" points=\"\n",
       "  2002.99,216.178 2152.37,216.178 \n",
       "  \"/>\n",
       "<path clip-path=\"url(#clip170)\" d=\"M 0 0 M2191.1 235.865 Q2189.3 240.495 2187.59 241.907 Q2185.87 243.319 2183 243.319 L2179.6 243.319 L2179.6 239.754 L2182.1 239.754 Q2183.86 239.754 2184.83 238.92 Q2185.8 238.087 2186.98 234.985 L2187.75 233.041 L2177.26 207.532 L2181.77 207.532 L2189.88 227.809 L2197.98 207.532 L2202.49 207.532 L2191.1 235.865 Z\" fill=\"#000000\" fill-rule=\"evenodd\" fill-opacity=\"1\" /><path clip-path=\"url(#clip170)\" d=\"M 0 0 M2211.59 229.522 L2227.91 229.522 L2227.91 233.458 L2205.96 233.458 L2205.96 229.522 Q2208.63 226.768 2213.21 222.138 Q2217.82 217.485 2219 216.143 Q2221.24 213.62 2222.12 211.884 Q2223.02 210.124 2223.02 208.435 Q2223.02 205.68 2221.08 203.944 Q2219.16 202.208 2216.06 202.208 Q2213.86 202.208 2211.4 202.972 Q2208.97 203.735 2206.2 205.286 L2206.2 200.564 Q2209.02 199.43 2211.47 198.851 Q2213.93 198.273 2215.96 198.273 Q2221.33 198.273 2224.53 200.958 Q2227.72 203.643 2227.72 208.134 Q2227.72 210.263 2226.91 212.185 Q2226.13 214.083 2224.02 216.675 Q2223.44 217.347 2220.34 220.564 Q2217.24 223.759 2211.59 229.522 Z\" fill=\"#000000\" fill-rule=\"evenodd\" fill-opacity=\"1\" /></svg>\n"
      ]
     },
     "execution_count": 64,
     "metadata": {},
     "output_type": "execute_result"
    }
   ],
   "source": [
    "plot(g,1,5)\n",
    "plot!(f,1,5)"
   ]
  },
  {
   "cell_type": "code",
   "execution_count": 59,
   "metadata": {},
   "outputs": [
    {
     "data": {
      "text/plain": [
       "1-element Array{Float64,1}:\n",
       " 4.0"
      ]
     },
     "execution_count": 59,
     "metadata": {},
     "output_type": "execute_result"
    }
   ],
   "source": [
    "# Find the points of extreme deviation:\n",
    "\n",
    "σ(t) = g(t) - f(t)\n",
    "Tmax = maximum(abs.(σ.(T)))\n",
    "T⁺ = T[findall(t -> σ(t) ≈ Tmax, T)]\n",
    "T⁻ = T[findall(t -> σ(t) ≈ -Tmax, T)]"
   ]
  },
  {
   "cell_type": "code",
   "execution_count": 60,
   "metadata": {},
   "outputs": [
    {
     "data": {
      "image/svg+xml": [
       "<?xml version=\"1.0\" encoding=\"utf-8\"?>\n",
       "<svg xmlns=\"http://www.w3.org/2000/svg\" xmlns:xlink=\"http://www.w3.org/1999/xlink\" width=\"600\" height=\"400\" viewBox=\"0 0 2400 1600\">\n",
       "<defs>\n",
       "  <clipPath id=\"clip010\">\n",
       "    <rect x=\"0\" y=\"0\" width=\"2400\" height=\"1600\"/>\n",
       "  </clipPath>\n",
       "</defs>\n",
       "<path clip-path=\"url(#clip010)\" d=\"\n",
       "M0 1600 L2400 1600 L2400 0 L0 0  Z\n",
       "  \" fill=\"#ffffff\" fill-rule=\"evenodd\" fill-opacity=\"1\"/>\n",
       "<defs>\n",
       "  <clipPath id=\"clip011\">\n",
       "    <rect x=\"480\" y=\"0\" width=\"1681\" height=\"1600\"/>\n",
       "  </clipPath>\n",
       "</defs>\n",
       "<path clip-path=\"url(#clip010)\" d=\"\n",
       "M179.422 1486.45 L2352.76 1486.45 L2352.76 47.2441 L179.422 47.2441  Z\n",
       "  \" fill=\"#ffffff\" fill-rule=\"evenodd\" fill-opacity=\"1\"/>\n",
       "<defs>\n",
       "  <clipPath id=\"clip012\">\n",
       "    <rect x=\"179\" y=\"47\" width=\"2174\" height=\"1440\"/>\n",
       "  </clipPath>\n",
       "</defs>\n",
       "<polyline clip-path=\"url(#clip012)\" style=\"stroke:#000000; stroke-width:2; stroke-opacity:0.1; fill:none\" points=\"\n",
       "  240.932,1486.45 240.932,47.2441 \n",
       "  \"/>\n",
       "<polyline clip-path=\"url(#clip012)\" style=\"stroke:#000000; stroke-width:2; stroke-opacity:0.1; fill:none\" points=\"\n",
       "  753.51,1486.45 753.51,47.2441 \n",
       "  \"/>\n",
       "<polyline clip-path=\"url(#clip012)\" style=\"stroke:#000000; stroke-width:2; stroke-opacity:0.1; fill:none\" points=\"\n",
       "  1266.09,1486.45 1266.09,47.2441 \n",
       "  \"/>\n",
       "<polyline clip-path=\"url(#clip012)\" style=\"stroke:#000000; stroke-width:2; stroke-opacity:0.1; fill:none\" points=\"\n",
       "  1778.67,1486.45 1778.67,47.2441 \n",
       "  \"/>\n",
       "<polyline clip-path=\"url(#clip012)\" style=\"stroke:#000000; stroke-width:2; stroke-opacity:0.1; fill:none\" points=\"\n",
       "  2291.25,1486.45 2291.25,47.2441 \n",
       "  \"/>\n",
       "<polyline clip-path=\"url(#clip010)\" style=\"stroke:#000000; stroke-width:4; stroke-opacity:1; fill:none\" points=\"\n",
       "  179.422,1486.45 2352.76,1486.45 \n",
       "  \"/>\n",
       "<polyline clip-path=\"url(#clip010)\" style=\"stroke:#000000; stroke-width:4; stroke-opacity:1; fill:none\" points=\"\n",
       "  240.932,1486.45 240.932,1469.18 \n",
       "  \"/>\n",
       "<polyline clip-path=\"url(#clip010)\" style=\"stroke:#000000; stroke-width:4; stroke-opacity:1; fill:none\" points=\"\n",
       "  753.51,1486.45 753.51,1469.18 \n",
       "  \"/>\n",
       "<polyline clip-path=\"url(#clip010)\" style=\"stroke:#000000; stroke-width:4; stroke-opacity:1; fill:none\" points=\"\n",
       "  1266.09,1486.45 1266.09,1469.18 \n",
       "  \"/>\n",
       "<polyline clip-path=\"url(#clip010)\" style=\"stroke:#000000; stroke-width:4; stroke-opacity:1; fill:none\" points=\"\n",
       "  1778.67,1486.45 1778.67,1469.18 \n",
       "  \"/>\n",
       "<polyline clip-path=\"url(#clip010)\" style=\"stroke:#000000; stroke-width:4; stroke-opacity:1; fill:none\" points=\"\n",
       "  2291.25,1486.45 2291.25,1469.18 \n",
       "  \"/>\n",
       "<path clip-path=\"url(#clip010)\" d=\"M 0 0 M231.314 1543.18 L238.952 1543.18 L238.952 1516.82 L230.642 1518.49 L230.642 1514.23 L238.906 1512.56 L243.582 1512.56 L243.582 1543.18 L251.221 1543.18 L251.221 1547.12 L231.314 1547.12 L231.314 1543.18 Z\" fill=\"#000000\" fill-rule=\"evenodd\" fill-opacity=\"1\" /><path clip-path=\"url(#clip010)\" d=\"M 0 0 M748.163 1543.18 L764.483 1543.18 L764.483 1547.12 L742.538 1547.12 L742.538 1543.18 Q745.2 1540.43 749.784 1535.8 Q754.39 1531.15 755.571 1529.81 Q757.816 1527.28 758.695 1525.55 Q759.598 1523.79 759.598 1522.1 Q759.598 1519.34 757.654 1517.61 Q755.733 1515.87 752.631 1515.87 Q750.432 1515.87 747.978 1516.63 Q745.547 1517.4 742.77 1518.95 L742.77 1514.23 Q745.594 1513.09 748.047 1512.51 Q750.501 1511.93 752.538 1511.93 Q757.908 1511.93 761.103 1514.62 Q764.297 1517.31 764.297 1521.8 Q764.297 1523.93 763.487 1525.85 Q762.7 1527.74 760.594 1530.34 Q760.015 1531.01 756.913 1534.23 Q753.811 1537.42 748.163 1543.18 Z\" fill=\"#000000\" fill-rule=\"evenodd\" fill-opacity=\"1\" /><path clip-path=\"url(#clip010)\" d=\"M 0 0 M1270.34 1528.49 Q1273.69 1529.2 1275.57 1531.47 Q1277.47 1533.74 1277.47 1537.07 Q1277.47 1542.19 1273.95 1544.99 Q1270.43 1547.79 1263.95 1547.79 Q1261.77 1547.79 1259.46 1547.35 Q1257.17 1546.93 1254.71 1546.08 L1254.71 1541.56 Q1256.66 1542.7 1258.97 1543.28 Q1261.29 1543.86 1263.81 1543.86 Q1268.21 1543.86 1270.5 1542.12 Q1272.81 1540.38 1272.81 1537.07 Q1272.81 1534.02 1270.66 1532.31 Q1268.53 1530.57 1264.71 1530.57 L1260.68 1530.57 L1260.68 1526.73 L1264.9 1526.73 Q1268.35 1526.73 1270.17 1525.36 Q1272 1523.97 1272 1521.38 Q1272 1518.72 1270.11 1517.31 Q1268.23 1515.87 1264.71 1515.87 Q1262.79 1515.87 1260.59 1516.29 Q1258.39 1516.7 1255.75 1517.58 L1255.75 1513.42 Q1258.42 1512.68 1260.73 1512.31 Q1263.07 1511.93 1265.13 1511.93 Q1270.45 1511.93 1273.55 1514.37 Q1276.66 1516.77 1276.66 1520.89 Q1276.66 1523.76 1275.01 1525.75 Q1273.37 1527.72 1270.34 1528.49 Z\" fill=\"#000000\" fill-rule=\"evenodd\" fill-opacity=\"1\" /><path clip-path=\"url(#clip010)\" d=\"M 0 0 M1781.68 1516.63 L1769.87 1535.08 L1781.68 1535.08 L1781.68 1516.63 M1780.45 1512.56 L1786.33 1512.56 L1786.33 1535.08 L1791.26 1535.08 L1791.26 1538.97 L1786.33 1538.97 L1786.33 1547.12 L1781.68 1547.12 L1781.68 1538.97 L1766.08 1538.97 L1766.08 1534.46 L1780.45 1512.56 Z\" fill=\"#000000\" fill-rule=\"evenodd\" fill-opacity=\"1\" /><path clip-path=\"url(#clip010)\" d=\"M 0 0 M2281.52 1512.56 L2299.88 1512.56 L2299.88 1516.5 L2285.81 1516.5 L2285.81 1524.97 Q2286.83 1524.62 2287.84 1524.46 Q2288.86 1524.27 2289.88 1524.27 Q2295.67 1524.27 2299.05 1527.44 Q2302.43 1530.62 2302.43 1536.03 Q2302.43 1541.61 2298.95 1544.71 Q2295.48 1547.79 2289.16 1547.79 Q2286.99 1547.79 2284.72 1547.42 Q2282.47 1547.05 2280.07 1546.31 L2280.07 1541.61 Q2282.15 1542.74 2284.37 1543.3 Q2286.59 1543.86 2289.07 1543.86 Q2293.08 1543.86 2295.41 1541.75 Q2297.75 1539.64 2297.75 1536.03 Q2297.75 1532.42 2295.41 1530.31 Q2293.08 1528.21 2289.07 1528.21 Q2287.2 1528.21 2285.32 1528.62 Q2283.47 1529.04 2281.52 1529.92 L2281.52 1512.56 Z\" fill=\"#000000\" fill-rule=\"evenodd\" fill-opacity=\"1\" /><polyline clip-path=\"url(#clip012)\" style=\"stroke:#000000; stroke-width:2; stroke-opacity:0.1; fill:none\" points=\"\n",
       "  179.422,1158.29 2352.76,1158.29 \n",
       "  \"/>\n",
       "<polyline clip-path=\"url(#clip012)\" style=\"stroke:#000000; stroke-width:2; stroke-opacity:0.1; fill:none\" points=\"\n",
       "  179.422,798.641 2352.76,798.641 \n",
       "  \"/>\n",
       "<polyline clip-path=\"url(#clip012)\" style=\"stroke:#000000; stroke-width:2; stroke-opacity:0.1; fill:none\" points=\"\n",
       "  179.422,438.994 2352.76,438.994 \n",
       "  \"/>\n",
       "<polyline clip-path=\"url(#clip012)\" style=\"stroke:#000000; stroke-width:2; stroke-opacity:0.1; fill:none\" points=\"\n",
       "  179.422,79.346 2352.76,79.346 \n",
       "  \"/>\n",
       "<polyline clip-path=\"url(#clip010)\" style=\"stroke:#000000; stroke-width:4; stroke-opacity:1; fill:none\" points=\"\n",
       "  179.422,1486.45 179.422,47.2441 \n",
       "  \"/>\n",
       "<polyline clip-path=\"url(#clip010)\" style=\"stroke:#000000; stroke-width:4; stroke-opacity:1; fill:none\" points=\"\n",
       "  179.422,1158.29 205.502,1158.29 \n",
       "  \"/>\n",
       "<polyline clip-path=\"url(#clip010)\" style=\"stroke:#000000; stroke-width:4; stroke-opacity:1; fill:none\" points=\"\n",
       "  179.422,798.641 205.502,798.641 \n",
       "  \"/>\n",
       "<polyline clip-path=\"url(#clip010)\" style=\"stroke:#000000; stroke-width:4; stroke-opacity:1; fill:none\" points=\"\n",
       "  179.422,438.994 205.502,438.994 \n",
       "  \"/>\n",
       "<polyline clip-path=\"url(#clip010)\" style=\"stroke:#000000; stroke-width:4; stroke-opacity:1; fill:none\" points=\"\n",
       "  179.422,79.346 205.502,79.346 \n",
       "  \"/>\n",
       "<path clip-path=\"url(#clip010)\" d=\"M 0 0 M51.3625 1158.74 L81.0383 1158.74 L81.0383 1162.68 L51.3625 1162.68 L51.3625 1158.74 Z\" fill=\"#000000\" fill-rule=\"evenodd\" fill-opacity=\"1\" /><path clip-path=\"url(#clip010)\" d=\"M 0 0 M96.1076 1144.09 Q92.4965 1144.09 90.6678 1147.65 Q88.8623 1151.19 88.8623 1158.32 Q88.8623 1165.43 90.6678 1168.99 Q92.4965 1172.54 96.1076 1172.54 Q99.7419 1172.54 101.547 1168.99 Q103.376 1165.43 103.376 1158.32 Q103.376 1151.19 101.547 1147.65 Q99.7419 1144.09 96.1076 1144.09 M96.1076 1140.38 Q101.918 1140.38 104.973 1144.99 Q108.052 1149.57 108.052 1158.32 Q108.052 1167.05 104.973 1171.66 Q101.918 1176.24 96.1076 1176.24 Q90.2975 1176.24 87.2188 1171.66 Q84.1632 1167.05 84.1632 1158.32 Q84.1632 1149.57 87.2188 1144.99 Q90.2975 1140.38 96.1076 1140.38 Z\" fill=\"#000000\" fill-rule=\"evenodd\" fill-opacity=\"1\" /><path clip-path=\"url(#clip010)\" d=\"M 0 0 M113.121 1169.69 L118.006 1169.69 L118.006 1175.57 L113.121 1175.57 L113.121 1169.69 Z\" fill=\"#000000\" fill-rule=\"evenodd\" fill-opacity=\"1\" /><path clip-path=\"url(#clip010)\" d=\"M 0 0 M127.103 1171.63 L143.422 1171.63 L143.422 1175.57 L121.478 1175.57 L121.478 1171.63 Q124.14 1168.88 128.723 1164.25 Q133.33 1159.6 134.51 1158.25 Q136.756 1155.73 137.635 1153.99 Q138.538 1152.24 138.538 1150.55 Q138.538 1147.79 136.594 1146.05 Q134.672 1144.32 131.57 1144.32 Q129.371 1144.32 126.918 1145.08 Q124.487 1145.85 121.709 1147.4 L121.709 1142.68 Q124.533 1141.54 126.987 1140.96 Q129.441 1140.38 131.478 1140.38 Q136.848 1140.38 140.043 1143.07 Q143.237 1145.75 143.237 1150.24 Q143.237 1152.37 142.427 1154.3 Q141.64 1156.19 139.533 1158.79 Q138.955 1159.46 135.853 1162.68 Q132.751 1165.87 127.103 1171.63 Z\" fill=\"#000000\" fill-rule=\"evenodd\" fill-opacity=\"1\" /><path clip-path=\"url(#clip010)\" d=\"M 0 0 M50.9921 799.093 L80.6679 799.093 L80.6679 803.028 L50.9921 803.028 L50.9921 799.093 Z\" fill=\"#000000\" fill-rule=\"evenodd\" fill-opacity=\"1\" /><path clip-path=\"url(#clip010)\" d=\"M 0 0 M95.7373 784.44 Q92.1262 784.44 90.2975 788.005 Q88.4919 791.546 88.4919 798.676 Q88.4919 805.782 90.2975 809.347 Q92.1262 812.889 95.7373 812.889 Q99.3715 812.889 101.177 809.347 Q103.006 805.782 103.006 798.676 Q103.006 791.546 101.177 788.005 Q99.3715 784.44 95.7373 784.44 M95.7373 780.736 Q101.547 780.736 104.603 785.343 Q107.682 789.926 107.682 798.676 Q107.682 807.403 104.603 812.009 Q101.547 816.592 95.7373 816.592 Q89.9271 816.592 86.8484 812.009 Q83.7929 807.403 83.7929 798.676 Q83.7929 789.926 86.8484 785.343 Q89.9271 780.736 95.7373 780.736 Z\" fill=\"#000000\" fill-rule=\"evenodd\" fill-opacity=\"1\" /><path clip-path=\"url(#clip010)\" d=\"M 0 0 M112.751 810.042 L117.635 810.042 L117.635 815.921 L112.751 815.921 L112.751 810.042 Z\" fill=\"#000000\" fill-rule=\"evenodd\" fill-opacity=\"1\" /><path clip-path=\"url(#clip010)\" d=\"M 0 0 M123.515 811.986 L131.154 811.986 L131.154 785.62 L122.844 787.287 L122.844 783.028 L131.107 781.361 L135.783 781.361 L135.783 811.986 L143.422 811.986 L143.422 815.921 L123.515 815.921 L123.515 811.986 Z\" fill=\"#000000\" fill-rule=\"evenodd\" fill-opacity=\"1\" /><path clip-path=\"url(#clip010)\" d=\"M 0 0 M94.5104 424.792 Q90.8993 424.792 89.0706 428.357 Q87.2651 431.899 87.2651 439.028 Q87.2651 446.135 89.0706 449.7 Q90.8993 453.241 94.5104 453.241 Q98.1447 453.241 99.9502 449.7 Q101.779 446.135 101.779 439.028 Q101.779 431.899 99.9502 428.357 Q98.1447 424.792 94.5104 424.792 M94.5104 421.089 Q100.321 421.089 103.376 425.695 Q106.455 430.278 106.455 439.028 Q106.455 447.755 103.376 452.362 Q100.321 456.945 94.5104 456.945 Q88.7003 456.945 85.6216 452.362 Q82.566 447.755 82.566 439.028 Q82.566 430.278 85.6216 425.695 Q88.7003 421.089 94.5104 421.089 Z\" fill=\"#000000\" fill-rule=\"evenodd\" fill-opacity=\"1\" /><path clip-path=\"url(#clip010)\" d=\"M 0 0 M111.524 450.394 L116.408 450.394 L116.408 456.274 L111.524 456.274 L111.524 450.394 Z\" fill=\"#000000\" fill-rule=\"evenodd\" fill-opacity=\"1\" /><path clip-path=\"url(#clip010)\" d=\"M 0 0 M131.478 424.792 Q127.867 424.792 126.038 428.357 Q124.232 431.899 124.232 439.028 Q124.232 446.135 126.038 449.7 Q127.867 453.241 131.478 453.241 Q135.112 453.241 136.918 449.7 Q138.746 446.135 138.746 439.028 Q138.746 431.899 136.918 428.357 Q135.112 424.792 131.478 424.792 M131.478 421.089 Q137.288 421.089 140.343 425.695 Q143.422 430.278 143.422 439.028 Q143.422 447.755 140.343 452.362 Q137.288 456.945 131.478 456.945 Q125.668 456.945 122.589 452.362 Q119.533 447.755 119.533 439.028 Q119.533 430.278 122.589 425.695 Q125.668 421.089 131.478 421.089 Z\" fill=\"#000000\" fill-rule=\"evenodd\" fill-opacity=\"1\" /><path clip-path=\"url(#clip010)\" d=\"M 0 0 M95.7373 65.1447 Q92.1262 65.1447 90.2975 68.7095 Q88.4919 72.2512 88.4919 79.3808 Q88.4919 86.4872 90.2975 90.052 Q92.1262 93.5937 95.7373 93.5937 Q99.3715 93.5937 101.177 90.052 Q103.006 86.4872 103.006 79.3808 Q103.006 72.2512 101.177 68.7095 Q99.3715 65.1447 95.7373 65.1447 M95.7373 61.4411 Q101.547 61.4411 104.603 66.0475 Q107.682 70.6308 107.682 79.3808 Q107.682 88.1076 104.603 92.714 Q101.547 97.2973 95.7373 97.2973 Q89.9271 97.2973 86.8484 92.714 Q83.7929 88.1076 83.7929 79.3808 Q83.7929 70.6308 86.8484 66.0475 Q89.9271 61.4411 95.7373 61.4411 Z\" fill=\"#000000\" fill-rule=\"evenodd\" fill-opacity=\"1\" /><path clip-path=\"url(#clip010)\" d=\"M 0 0 M112.751 90.7464 L117.635 90.7464 L117.635 96.626 L112.751 96.626 L112.751 90.7464 Z\" fill=\"#000000\" fill-rule=\"evenodd\" fill-opacity=\"1\" /><path clip-path=\"url(#clip010)\" d=\"M 0 0 M123.515 92.6909 L131.154 92.6909 L131.154 66.3253 L122.844 67.9919 L122.844 63.7327 L131.107 62.066 L135.783 62.066 L135.783 92.6909 L143.422 92.6909 L143.422 96.626 L123.515 96.626 L123.515 92.6909 Z\" fill=\"#000000\" fill-rule=\"evenodd\" fill-opacity=\"1\" /><polyline clip-path=\"url(#clip012)\" style=\"stroke:#009af9; stroke-width:4; stroke-opacity:1; fill:none\" points=\"\n",
       "  240.932,927.553 245.937,902.714 250.943,878.298 255.949,854.304 260.955,830.731 284.097,727.204 307.24,632.552 330.383,546.606 353.525,469.148 376.668,399.919 \n",
       "  399.811,338.629 422.954,284.963 446.096,238.586 473.912,192.005 501.727,154.844 529.543,126.491 557.359,106.335 580.876,95.2467 604.394,89.2408 627.912,87.9763 \n",
       "  651.43,91.1242 702.523,111.67 753.617,148.532 800.721,194.594 847.825,250.239 898.325,318.539 948.825,393.871 1007.33,487.627 1065.84,585.986 1169.84,765.385 \n",
       "  1261.03,920.246 1360.45,1078.38 1460.47,1218.4 1515.76,1284.75 1571.05,1341.56 1623.65,1385.5 1676.26,1418.37 1730.96,1439.42 1785.66,1445.63 1831.7,1438.16 \n",
       "  1877.75,1418.01 1905.86,1399.01 1933.96,1374.61 1962.07,1344.53 1990.18,1308.49 2016.6,1268.89 2043.02,1223.49 2069.45,1171.99 2095.87,1114.1 2117.03,1062.92 \n",
       "  2138.2,1007.27 2159.36,946.974 2180.53,881.853 2201.69,811.712 2222.86,736.348 2244.02,655.551 2265.19,569.097 2271.7,541.314 2278.22,512.965 2284.73,484.044 \n",
       "  2291.25,454.543 \n",
       "  \"/>\n",
       "<circle clip-path=\"url(#clip012)\" cx=\"1778.67\" cy=\"1445.72\" r=\"14\" fill=\"#3da44d\" fill-rule=\"evenodd\" fill-opacity=\"1\" stroke=\"#000000\" stroke-opacity=\"1\" stroke-width=\"3.2\"/>\n",
       "<path clip-path=\"url(#clip010)\" d=\"\n",
       "M1987.23 337.138 L2280.31 337.138 L2280.31 95.2176 L1987.23 95.2176  Z\n",
       "  \" fill=\"#ffffff\" fill-rule=\"evenodd\" fill-opacity=\"1\"/>\n",
       "<polyline clip-path=\"url(#clip010)\" style=\"stroke:#000000; stroke-width:4; stroke-opacity:1; fill:none\" points=\"\n",
       "  1987.23,337.138 2280.31,337.138 2280.31,95.2176 1987.23,95.2176 1987.23,337.138 \n",
       "  \"/>\n",
       "<polyline clip-path=\"url(#clip010)\" style=\"stroke:#009af9; stroke-width:4; stroke-opacity:1; fill:none\" points=\"\n",
       "  2011.38,155.698 2156.27,155.698 \n",
       "  \"/>\n",
       "<path clip-path=\"url(#clip010)\" d=\"M 0 0 M2194.26 175.385 Q2192.46 180.015 2190.74 181.427 Q2189.03 182.839 2186.16 182.839 L2182.76 182.839 L2182.76 179.274 L2185.26 179.274 Q2187.02 179.274 2187.99 178.44 Q2188.96 177.607 2190.14 174.505 L2190.9 172.561 L2180.42 147.052 L2184.93 147.052 L2193.03 167.329 L2201.14 147.052 L2205.65 147.052 L2194.26 175.385 Z\" fill=\"#000000\" fill-rule=\"evenodd\" fill-opacity=\"1\" /><path clip-path=\"url(#clip010)\" d=\"M 0 0 M2211.53 169.042 L2219.17 169.042 L2219.17 142.677 L2210.86 144.343 L2210.86 140.084 L2219.12 138.418 L2223.8 138.418 L2223.8 169.042 L2231.44 169.042 L2231.44 172.978 L2211.53 172.978 L2211.53 169.042 Z\" fill=\"#000000\" fill-rule=\"evenodd\" fill-opacity=\"1\" /><path clip-path=\"url(#clip010)\" d=\"M 0 0 M2194.26 235.865 Q2192.46 240.495 2190.74 241.907 Q2189.03 243.319 2186.16 243.319 L2182.76 243.319 L2182.76 239.754 L2185.26 239.754 Q2187.02 239.754 2187.99 238.92 Q2188.96 238.087 2190.14 234.985 L2190.9 233.041 L2180.42 207.532 L2184.93 207.532 L2193.03 227.809 L2201.14 207.532 L2205.65 207.532 L2194.26 235.865 Z\" fill=\"#000000\" fill-rule=\"evenodd\" fill-opacity=\"1\" /><path clip-path=\"url(#clip010)\" d=\"M 0 0 M2214.75 229.522 L2231.07 229.522 L2231.07 233.458 L2209.12 233.458 L2209.12 229.522 Q2211.78 226.768 2216.37 222.138 Q2220.97 217.485 2222.15 216.143 Q2224.4 213.62 2225.28 211.884 Q2226.18 210.124 2226.18 208.435 Q2226.18 205.68 2224.24 203.944 Q2222.32 202.208 2219.21 202.208 Q2217.02 202.208 2214.56 202.972 Q2212.13 203.735 2209.35 205.286 L2209.35 200.564 Q2212.18 199.43 2214.63 198.851 Q2217.08 198.273 2219.12 198.273 Q2224.49 198.273 2227.69 200.958 Q2230.88 203.643 2230.88 208.134 Q2230.88 210.263 2230.07 212.185 Q2229.28 214.083 2227.18 216.675 Q2226.6 217.347 2223.5 220.564 Q2220.39 223.759 2214.75 229.522 Z\" fill=\"#000000\" fill-rule=\"evenodd\" fill-opacity=\"1\" /><circle clip-path=\"url(#clip010)\" cx=\"2083.83\" cy=\"276.658\" r=\"23\" fill=\"#3da44d\" fill-rule=\"evenodd\" fill-opacity=\"1\" stroke=\"#000000\" stroke-opacity=\"1\" stroke-width=\"5.12\"/>\n",
       "<path clip-path=\"url(#clip010)\" d=\"M 0 0 M2194.26 296.345 Q2192.46 300.975 2190.74 302.387 Q2189.03 303.799 2186.16 303.799 L2182.76 303.799 L2182.76 300.234 L2185.26 300.234 Q2187.02 300.234 2187.99 299.4 Q2188.96 298.567 2190.14 295.465 L2190.9 293.521 L2180.42 268.012 L2184.93 268.012 L2193.03 288.289 L2201.14 268.012 L2205.65 268.012 L2194.26 296.345 Z\" fill=\"#000000\" fill-rule=\"evenodd\" fill-opacity=\"1\" /><path clip-path=\"url(#clip010)\" d=\"M 0 0 M2224.89 275.303 Q2228.24 276.021 2230.12 278.289 Q2232.02 280.558 2232.02 283.891 Q2232.02 289.007 2228.5 291.808 Q2224.98 294.609 2218.5 294.609 Q2216.32 294.609 2214.01 294.169 Q2211.71 293.752 2209.26 292.896 L2209.26 288.382 Q2211.21 289.516 2213.52 290.095 Q2215.83 290.674 2218.36 290.674 Q2222.76 290.674 2225.05 288.938 Q2227.36 287.201 2227.36 283.891 Q2227.36 280.836 2225.21 279.123 Q2223.08 277.387 2219.26 277.387 L2215.23 277.387 L2215.23 273.544 L2219.45 273.544 Q2222.89 273.544 2224.72 272.178 Q2226.55 270.79 2226.55 268.197 Q2226.55 265.535 2224.65 264.123 Q2222.78 262.688 2219.26 262.688 Q2217.34 262.688 2215.14 263.104 Q2212.94 263.521 2210.3 264.401 L2210.3 260.234 Q2212.96 259.493 2215.28 259.123 Q2217.62 258.753 2219.68 258.753 Q2225 258.753 2228.1 261.183 Q2231.2 263.59 2231.2 267.711 Q2231.2 270.581 2229.56 272.572 Q2227.92 274.54 2224.89 275.303 Z\" fill=\"#000000\" fill-rule=\"evenodd\" fill-opacity=\"1\" /></svg>\n"
      ]
     },
     "execution_count": 60,
     "metadata": {},
     "output_type": "execute_result"
    }
   ],
   "source": [
    "plot(σ,1,5)\n",
    "scatter!(T⁺,σ.(T⁺))\n",
    "scatter!(T⁻,σ.(T⁻))"
   ]
  },
  {
   "cell_type": "code",
   "execution_count": null,
   "metadata": {},
   "outputs": [],
   "source": []
  }
 ],
 "metadata": {
  "kernelspec": {
   "display_name": "Julia 1.5.2",
   "language": "julia",
   "name": "julia-1.5"
  },
  "language_info": {
   "file_extension": ".jl",
   "mimetype": "application/julia",
   "name": "julia",
   "version": "1.5.2"
  }
 },
 "nbformat": 4,
 "nbformat_minor": 4
}
