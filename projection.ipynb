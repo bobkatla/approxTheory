{
 "cells": [
  {
   "cell_type": "markdown",
   "metadata": {},
   "source": [
    "# Alternative projection"
   ]
  },
  {
   "cell_type": "code",
   "execution_count": 1,
   "metadata": {},
   "outputs": [],
   "source": [
    "# Getting all the required library\n",
    "# using JuMP\n",
    "# using GLPK\n",
    "\n",
    "using Plots\n",
    "using LinearAlgebra"
   ]
  },
  {
   "cell_type": "code",
   "execution_count": 2,
   "metadata": {},
   "outputs": [
    {
     "data": {
      "text/plain": [
       "vander (generic function with 1 method)"
      ]
     },
     "execution_count": 2,
     "metadata": {},
     "output_type": "execute_result"
    }
   ],
   "source": [
    "# Create the vander function for creating a form of representing the vectors and calculations\n",
    "vander(t,n) = hcat([t.^i for i = 0:n-1]...)"
   ]
  },
  {
   "cell_type": "code",
   "execution_count": 3,
   "metadata": {},
   "outputs": [
    {
     "data": {
      "text/plain": [
       "f (generic function with 1 method)"
      ]
     },
     "execution_count": 3,
     "metadata": {},
     "output_type": "execute_result"
    }
   ],
   "source": [
    "# Setting the parameters\n",
    "T=1:0.01:5 # Interpolation points, note it has to be different from 0 so it's best to pick from 1\n",
    "(n, m) = (23, 22) # The power of the 2 poly in the rational functions\n",
    "hy_space_sz = n+m+2\n",
    "# N = 10\n",
    "# c = rand(N)\n",
    "# f(t) = sum([c[i]*sin(π*i*(t+0.25)) for i in 1:N]) # Function to approximate\n",
    "\n",
    "f(t) = (t^3+3)/(t^2 + 1) #function simple to test"
   ]
  },
  {
   "cell_type": "code",
   "execution_count": 4,
   "metadata": {},
   "outputs": [
    {
     "data": {
      "image/svg+xml": [
       "<?xml version=\"1.0\" encoding=\"utf-8\"?>\n",
       "<svg xmlns=\"http://www.w3.org/2000/svg\" xmlns:xlink=\"http://www.w3.org/1999/xlink\" width=\"600\" height=\"400\" viewBox=\"0 0 2400 1600\">\n",
       "<defs>\n",
       "  <clipPath id=\"clip870\">\n",
       "    <rect x=\"0\" y=\"0\" width=\"2400\" height=\"1600\"/>\n",
       "  </clipPath>\n",
       "</defs>\n",
       "<path clip-path=\"url(#clip870)\" d=\"\n",
       "M0 1600 L2400 1600 L2400 0 L0 0  Z\n",
       "  \" fill=\"#ffffff\" fill-rule=\"evenodd\" fill-opacity=\"1\"/>\n",
       "<defs>\n",
       "  <clipPath id=\"clip871\">\n",
       "    <rect x=\"480\" y=\"0\" width=\"1681\" height=\"1600\"/>\n",
       "  </clipPath>\n",
       "</defs>\n",
       "<path clip-path=\"url(#clip870)\" d=\"\n",
       "M112.177 1486.45 L2352.76 1486.45 L2352.76 47.2441 L112.177 47.2441  Z\n",
       "  \" fill=\"#ffffff\" fill-rule=\"evenodd\" fill-opacity=\"1\"/>\n",
       "<defs>\n",
       "  <clipPath id=\"clip872\">\n",
       "    <rect x=\"112\" y=\"47\" width=\"2242\" height=\"1440\"/>\n",
       "  </clipPath>\n",
       "</defs>\n",
       "<polyline clip-path=\"url(#clip872)\" style=\"stroke:#000000; stroke-width:2; stroke-opacity:0.1; fill:none\" points=\"\n",
       "  175.59,1486.45 175.59,47.2441 \n",
       "  \"/>\n",
       "<polyline clip-path=\"url(#clip872)\" style=\"stroke:#000000; stroke-width:2; stroke-opacity:0.1; fill:none\" points=\"\n",
       "  704.028,1486.45 704.028,47.2441 \n",
       "  \"/>\n",
       "<polyline clip-path=\"url(#clip872)\" style=\"stroke:#000000; stroke-width:2; stroke-opacity:0.1; fill:none\" points=\"\n",
       "  1232.47,1486.45 1232.47,47.2441 \n",
       "  \"/>\n",
       "<polyline clip-path=\"url(#clip872)\" style=\"stroke:#000000; stroke-width:2; stroke-opacity:0.1; fill:none\" points=\"\n",
       "  1760.9,1486.45 1760.9,47.2441 \n",
       "  \"/>\n",
       "<polyline clip-path=\"url(#clip872)\" style=\"stroke:#000000; stroke-width:2; stroke-opacity:0.1; fill:none\" points=\"\n",
       "  2289.34,1486.45 2289.34,47.2441 \n",
       "  \"/>\n",
       "<polyline clip-path=\"url(#clip870)\" style=\"stroke:#000000; stroke-width:4; stroke-opacity:1; fill:none\" points=\"\n",
       "  112.177,1486.45 2352.76,1486.45 \n",
       "  \"/>\n",
       "<polyline clip-path=\"url(#clip870)\" style=\"stroke:#000000; stroke-width:4; stroke-opacity:1; fill:none\" points=\"\n",
       "  175.59,1486.45 175.59,1469.18 \n",
       "  \"/>\n",
       "<polyline clip-path=\"url(#clip870)\" style=\"stroke:#000000; stroke-width:4; stroke-opacity:1; fill:none\" points=\"\n",
       "  704.028,1486.45 704.028,1469.18 \n",
       "  \"/>\n",
       "<polyline clip-path=\"url(#clip870)\" style=\"stroke:#000000; stroke-width:4; stroke-opacity:1; fill:none\" points=\"\n",
       "  1232.47,1486.45 1232.47,1469.18 \n",
       "  \"/>\n",
       "<polyline clip-path=\"url(#clip870)\" style=\"stroke:#000000; stroke-width:4; stroke-opacity:1; fill:none\" points=\"\n",
       "  1760.9,1486.45 1760.9,1469.18 \n",
       "  \"/>\n",
       "<polyline clip-path=\"url(#clip870)\" style=\"stroke:#000000; stroke-width:4; stroke-opacity:1; fill:none\" points=\"\n",
       "  2289.34,1486.45 2289.34,1469.18 \n",
       "  \"/>\n",
       "<path clip-path=\"url(#clip870)\" d=\"M 0 0 M165.972 1543.18 L173.611 1543.18 L173.611 1516.82 L165.3 1518.49 L165.3 1514.23 L173.564 1512.56 L178.24 1512.56 L178.24 1543.18 L185.879 1543.18 L185.879 1547.12 L165.972 1547.12 L165.972 1543.18 Z\" fill=\"#000000\" fill-rule=\"evenodd\" fill-opacity=\"1\" /><path clip-path=\"url(#clip870)\" d=\"M 0 0 M698.681 1543.18 L715 1543.18 L715 1547.12 L693.056 1547.12 L693.056 1543.18 Q695.718 1540.43 700.301 1535.8 Q704.908 1531.15 706.088 1529.81 Q708.334 1527.28 709.213 1525.55 Q710.116 1523.79 710.116 1522.1 Q710.116 1519.34 708.172 1517.61 Q706.25 1515.87 703.149 1515.87 Q700.949 1515.87 698.496 1516.63 Q696.065 1517.4 693.287 1518.95 L693.287 1514.23 Q696.112 1513.09 698.565 1512.51 Q701.019 1511.93 703.056 1511.93 Q708.426 1511.93 711.621 1514.62 Q714.815 1517.31 714.815 1521.8 Q714.815 1523.93 714.005 1525.85 Q713.218 1527.74 711.111 1530.34 Q710.533 1531.01 707.431 1534.23 Q704.329 1537.42 698.681 1543.18 Z\" fill=\"#000000\" fill-rule=\"evenodd\" fill-opacity=\"1\" /><path clip-path=\"url(#clip870)\" d=\"M 0 0 M1236.71 1528.49 Q1240.07 1529.2 1241.95 1531.47 Q1243.84 1533.74 1243.84 1537.07 Q1243.84 1542.19 1240.33 1544.99 Q1236.81 1547.79 1230.33 1547.79 Q1228.15 1547.79 1225.83 1547.35 Q1223.54 1546.93 1221.09 1546.08 L1221.09 1541.56 Q1223.03 1542.7 1225.35 1543.28 Q1227.66 1543.86 1230.19 1543.86 Q1234.58 1543.86 1236.88 1542.12 Q1239.19 1540.38 1239.19 1537.07 Q1239.19 1534.02 1237.04 1532.31 Q1234.91 1530.57 1231.09 1530.57 L1227.06 1530.57 L1227.06 1526.73 L1231.27 1526.73 Q1234.72 1526.73 1236.55 1525.36 Q1238.38 1523.97 1238.38 1521.38 Q1238.38 1518.72 1236.48 1517.31 Q1234.61 1515.87 1231.09 1515.87 Q1229.17 1515.87 1226.97 1516.29 Q1224.77 1516.7 1222.13 1517.58 L1222.13 1513.42 Q1224.79 1512.68 1227.11 1512.31 Q1229.45 1511.93 1231.51 1511.93 Q1236.83 1511.93 1239.93 1514.37 Q1243.03 1516.77 1243.03 1520.89 Q1243.03 1523.76 1241.39 1525.75 Q1239.75 1527.72 1236.71 1528.49 Z\" fill=\"#000000\" fill-rule=\"evenodd\" fill-opacity=\"1\" /><path clip-path=\"url(#clip870)\" d=\"M 0 0 M1763.91 1516.63 L1752.11 1535.08 L1763.91 1535.08 L1763.91 1516.63 M1762.69 1512.56 L1768.57 1512.56 L1768.57 1535.08 L1773.5 1535.08 L1773.5 1538.97 L1768.57 1538.97 L1768.57 1547.12 L1763.91 1547.12 L1763.91 1538.97 L1748.31 1538.97 L1748.31 1534.46 L1762.69 1512.56 Z\" fill=\"#000000\" fill-rule=\"evenodd\" fill-opacity=\"1\" /><path clip-path=\"url(#clip870)\" d=\"M 0 0 M2279.62 1512.56 L2297.98 1512.56 L2297.98 1516.5 L2283.9 1516.5 L2283.9 1524.97 Q2284.92 1524.62 2285.94 1524.46 Q2286.96 1524.27 2287.98 1524.27 Q2293.76 1524.27 2297.14 1527.44 Q2300.52 1530.62 2300.52 1536.03 Q2300.52 1541.61 2297.05 1544.71 Q2293.58 1547.79 2287.26 1547.79 Q2285.08 1547.79 2282.82 1547.42 Q2280.57 1547.05 2278.16 1546.31 L2278.16 1541.61 Q2280.25 1542.74 2282.47 1543.3 Q2284.69 1543.86 2287.17 1543.86 Q2291.17 1543.86 2293.51 1541.75 Q2295.85 1539.64 2295.85 1536.03 Q2295.85 1532.42 2293.51 1530.31 Q2291.17 1528.21 2287.17 1528.21 Q2285.29 1528.21 2283.42 1528.62 Q2281.57 1529.04 2279.62 1529.92 L2279.62 1512.56 Z\" fill=\"#000000\" fill-rule=\"evenodd\" fill-opacity=\"1\" /><polyline clip-path=\"url(#clip872)\" style=\"stroke:#000000; stroke-width:2; stroke-opacity:0.1; fill:none\" points=\"\n",
       "  112.177,1416.34 2352.76,1416.34 \n",
       "  \"/>\n",
       "<polyline clip-path=\"url(#clip872)\" style=\"stroke:#000000; stroke-width:2; stroke-opacity:0.1; fill:none\" points=\"\n",
       "  112.177,961.898 2352.76,961.898 \n",
       "  \"/>\n",
       "<polyline clip-path=\"url(#clip872)\" style=\"stroke:#000000; stroke-width:2; stroke-opacity:0.1; fill:none\" points=\"\n",
       "  112.177,507.459 2352.76,507.459 \n",
       "  \"/>\n",
       "<polyline clip-path=\"url(#clip872)\" style=\"stroke:#000000; stroke-width:2; stroke-opacity:0.1; fill:none\" points=\"\n",
       "  112.177,53.0194 2352.76,53.0194 \n",
       "  \"/>\n",
       "<polyline clip-path=\"url(#clip870)\" style=\"stroke:#000000; stroke-width:4; stroke-opacity:1; fill:none\" points=\"\n",
       "  112.177,1486.45 112.177,47.2441 \n",
       "  \"/>\n",
       "<polyline clip-path=\"url(#clip870)\" style=\"stroke:#000000; stroke-width:4; stroke-opacity:1; fill:none\" points=\"\n",
       "  112.177,1416.34 139.064,1416.34 \n",
       "  \"/>\n",
       "<polyline clip-path=\"url(#clip870)\" style=\"stroke:#000000; stroke-width:4; stroke-opacity:1; fill:none\" points=\"\n",
       "  112.177,961.898 139.064,961.898 \n",
       "  \"/>\n",
       "<polyline clip-path=\"url(#clip870)\" style=\"stroke:#000000; stroke-width:4; stroke-opacity:1; fill:none\" points=\"\n",
       "  112.177,507.459 139.064,507.459 \n",
       "  \"/>\n",
       "<polyline clip-path=\"url(#clip870)\" style=\"stroke:#000000; stroke-width:4; stroke-opacity:1; fill:none\" points=\"\n",
       "  112.177,53.0194 139.064,53.0194 \n",
       "  \"/>\n",
       "<path clip-path=\"url(#clip870)\" d=\"M 0 0 M59.8578 1429.68 L76.1772 1429.68 L76.1772 1433.62 L54.2328 1433.62 L54.2328 1429.68 Q56.8949 1426.93 61.4782 1422.3 Q66.0846 1417.65 67.2652 1416.3 Q69.5105 1413.78 70.3902 1412.04 Q71.2929 1410.28 71.2929 1408.6 Q71.2929 1405.84 69.3485 1404.1 Q67.4272 1402.37 64.3254 1402.37 Q62.1263 1402.37 59.6726 1403.13 Q57.2421 1403.9 54.4643 1405.45 L54.4643 1400.72 Q57.2884 1399.59 59.7421 1399.01 Q62.1958 1398.43 64.2328 1398.43 Q69.6031 1398.43 72.7976 1401.12 Q75.992 1403.8 75.992 1408.29 Q75.992 1410.42 75.1818 1412.35 Q74.3948 1414.24 72.2883 1416.84 Q71.7096 1417.51 68.6078 1420.72 Q65.5059 1423.92 59.8578 1429.68 Z\" fill=\"#000000\" fill-rule=\"evenodd\" fill-opacity=\"1\" /><path clip-path=\"url(#clip870)\" d=\"M 0 0 M69.0476 960.544 Q72.404 961.262 74.279 963.53 Q76.1772 965.799 76.1772 969.132 Q76.1772 974.248 72.6587 977.049 Q69.1402 979.85 62.6587 979.85 Q60.4828 979.85 58.168 979.41 Q55.8764 978.993 53.4227 978.137 L53.4227 973.623 Q55.3671 974.757 57.6819 975.336 Q59.9967 975.915 62.5198 975.915 Q66.918 975.915 69.2096 974.179 Q71.5244 972.442 71.5244 969.132 Q71.5244 966.077 69.3717 964.364 Q67.242 962.628 63.4226 962.628 L59.3949 962.628 L59.3949 958.785 L63.6078 958.785 Q67.0569 958.785 68.8855 957.419 Q70.7142 956.03 70.7142 953.438 Q70.7142 950.776 68.8161 949.364 Q66.9411 947.929 63.4226 947.929 Q61.5013 947.929 59.3023 948.345 Q57.1032 948.762 54.4643 949.642 L54.4643 945.475 Q57.1264 944.734 59.4412 944.364 Q61.7791 943.994 63.8393 943.994 Q69.1633 943.994 72.2652 946.424 Q75.367 948.831 75.367 952.952 Q75.367 955.822 73.7235 957.813 Q72.08 959.78 69.0476 960.544 Z\" fill=\"#000000\" fill-rule=\"evenodd\" fill-opacity=\"1\" /><path clip-path=\"url(#clip870)\" d=\"M 0 0 M66.5939 494.253 L54.7884 512.702 L66.5939 512.702 L66.5939 494.253 M65.367 490.179 L71.2466 490.179 L71.2466 512.702 L76.1772 512.702 L76.1772 516.591 L71.2466 516.591 L71.2466 524.739 L66.5939 524.739 L66.5939 516.591 L50.9921 516.591 L50.9921 512.077 L65.367 490.179 Z\" fill=\"#000000\" fill-rule=\"evenodd\" fill-opacity=\"1\" /><path clip-path=\"url(#clip870)\" d=\"M 0 0 M55.2745 35.7394 L73.6309 35.7394 L73.6309 39.6746 L59.5569 39.6746 L59.5569 48.1467 Q60.5754 47.7995 61.5939 47.6375 Q62.6124 47.4523 63.6309 47.4523 Q69.418 47.4523 72.7976 50.6236 Q76.1772 53.7948 76.1772 59.2115 Q76.1772 64.7902 72.705 67.892 Q69.2328 70.9707 62.9134 70.9707 Q60.7374 70.9707 58.4689 70.6003 Q56.2236 70.2299 53.8162 69.4892 L53.8162 64.7902 Q55.8995 65.9244 58.1217 66.48 Q60.3439 67.0355 62.8208 67.0355 Q66.8254 67.0355 69.1633 64.929 Q71.5013 62.8226 71.5013 59.2115 Q71.5013 55.6004 69.1633 53.4939 Q66.8254 51.3875 62.8208 51.3875 Q60.9458 51.3875 59.0708 51.8041 Q57.2189 52.2208 55.2745 53.1004 L55.2745 35.7394 Z\" fill=\"#000000\" fill-rule=\"evenodd\" fill-opacity=\"1\" /><polyline clip-path=\"url(#clip872)\" style=\"stroke:#009af9; stroke-width:4; stroke-opacity:1; fill:none\" points=\"\n",
       "  175.59,1416.34 185.911,1420.6 196.232,1424.53 291.667,1445.72 387.102,1443.34 444.455,1432.73 501.807,1416.46 550.298,1398.92 598.789,1378.41 704.138,1325.39 \n",
       "  801.261,1268.45 905.386,1201 1026.03,1116.7 1133.24,1037.65 1227.25,965.933 1329.75,885.748 1432.86,803.443 1546.86,710.947 1655.33,621.8 1768.11,528.184 \n",
       "  1863.05,448.797 1978.96,351.297 2087.92,259.177 2262.48,110.866 2289.34,87.9763 \n",
       "  \"/>\n",
       "<path clip-path=\"url(#clip870)\" d=\"\n",
       "M1978.1 216.178 L2278.07 216.178 L2278.07 95.2176 L1978.1 95.2176  Z\n",
       "  \" fill=\"#ffffff\" fill-rule=\"evenodd\" fill-opacity=\"1\"/>\n",
       "<polyline clip-path=\"url(#clip870)\" style=\"stroke:#000000; stroke-width:4; stroke-opacity:1; fill:none\" points=\"\n",
       "  1978.1,216.178 2278.07,216.178 2278.07,95.2176 1978.1,95.2176 1978.1,216.178 \n",
       "  \"/>\n",
       "<polyline clip-path=\"url(#clip870)\" style=\"stroke:#009af9; stroke-width:4; stroke-opacity:1; fill:none\" points=\"\n",
       "  2002.99,155.698 2152.37,155.698 \n",
       "  \"/>\n",
       "<path clip-path=\"url(#clip870)\" d=\"M 0 0 M2191.1 175.385 Q2189.3 180.015 2187.59 181.427 Q2185.87 182.839 2183 182.839 L2179.6 182.839 L2179.6 179.274 L2182.1 179.274 Q2183.86 179.274 2184.83 178.44 Q2185.8 177.607 2186.98 174.505 L2187.75 172.561 L2177.26 147.052 L2181.77 147.052 L2189.88 167.329 L2197.98 147.052 L2202.49 147.052 L2191.1 175.385 Z\" fill=\"#000000\" fill-rule=\"evenodd\" fill-opacity=\"1\" /><path clip-path=\"url(#clip870)\" d=\"M 0 0 M2208.37 169.042 L2216.01 169.042 L2216.01 142.677 L2207.7 144.343 L2207.7 140.084 L2215.96 138.418 L2220.64 138.418 L2220.64 169.042 L2228.28 169.042 L2228.28 172.978 L2208.37 172.978 L2208.37 169.042 Z\" fill=\"#000000\" fill-rule=\"evenodd\" fill-opacity=\"1\" /></svg>\n"
      ]
     },
     "execution_count": 4,
     "metadata": {},
     "output_type": "execute_result"
    }
   ],
   "source": [
    "# plot the f to see\n",
    "plot(f,1,5)"
   ]
  },
  {
   "cell_type": "code",
   "execution_count": 5,
   "metadata": {},
   "outputs": [
    {
     "data": {
      "text/plain": [
       "calculateDisAndPoint (generic function with 1 method)"
      ]
     },
     "execution_count": 5,
     "metadata": {},
     "output_type": "execute_result"
    }
   ],
   "source": [
    "# we are creating hyperplanes by thinking f(x) = p(x)/q(x)\n",
    "# or converting to <A, xn> - f(x)<B, xm> = 0 with A, B is correspondingly coe of p(x) and q(x) and are the keys\n",
    "# xn and xm are the vectors which will represent the fucntions\n",
    "# for easy calculation combining A and B into a big vector so it would be: <A to B, xn to -f(x)xm> = 0\n",
    "# this is a hyperplan formula with d = 0\n",
    "# therefore, xn to -f(x)xm is the vector of the hyperplane in R n+m+2 space\n",
    "\n",
    "# function to calculate the distince between a point and the hyperplane with the sign\n",
    "function calculateDisAndPoint(big_vect, the_point)\n",
    "#     calculate distance by |vect.start_point + d|/||vect|| , d is 0 in this case\n",
    "    a = sum(hcat([the_point[i]*big_vect[i] for i in 1:size(big_vect)[2]]...))\n",
    "    b = sum(hcat([big_vect[i]*big_vect[i] for i in 1:size(big_vect)[2]]...))\n",
    "    c = sqrt(b)\n",
    "    dis = a/c\n",
    "#     calculate lambda in x - x0 = lambda.vect to calculate the projectpoint\n",
    "    lambd = a/b\n",
    "    x0 = the_point - (lambd * big_vect)\n",
    "    return dis, x0\n",
    "end"
   ]
  },
  {
   "cell_type": "code",
   "execution_count": 6,
   "metadata": {},
   "outputs": [],
   "source": [
    "# Calculate the big vector for each hyper plane\n",
    "num_hy = size(T)[1]\n",
    "hy_space_sz = n + m + 2\n",
    "big_vect_Arr = Array{Array{Float64}}(undef, 1, num_hy)\n",
    "for i in 1:num_hy\n",
    "    xn = vander(T[i], n+1)\n",
    "    xm = vander(T[i], m+1)\n",
    "    big_vect_Arr[i] = hcat(xn, -f(T[i])*xm)\n",
    "end"
   ]
  },
  {
   "cell_type": "code",
   "execution_count": 7,
   "metadata": {},
   "outputs": [
    {
     "name": "stdout",
     "output_type": "stream",
     "text": [
      "the number of iteration: 1861\n"
     ]
    }
   ],
   "source": [
    "# iterate after a certain times and store the value in a array of the size of number of hyperplanes\n",
    "pointA = Array{Array{Float64}}(undef, 1, num_hy)\n",
    "\n",
    "error_rate = 0.0001\n",
    "\n",
    "s_p = vander(1, hy_space_sz)\n",
    "need_to_cal = true\n",
    "count = 0\n",
    "\n",
    "while true\n",
    "    for i in 1:num_hy\n",
    "        result = calculateDisAndPoint(big_vect_Arr[i],s_p)\n",
    "        if isassigned(pointA, i)\n",
    "            if need_to_cal\n",
    "                a = pointA[i] - result[2]\n",
    "                if sqrt(LinearAlgebra.dot(a, a)) > error_rate\n",
    "                    need_to_cal = false\n",
    "                end\n",
    "            end\n",
    "        else\n",
    "            need_to_cal = false\n",
    "        end\n",
    "        pointA[i] = result[2]\n",
    "        s_p = result[2]\n",
    "    end\n",
    "    count += 1\n",
    "    if need_to_cal\n",
    "        break\n",
    "    else\n",
    "        need_to_cal = true\n",
    "    end\n",
    "end\n",
    "\n",
    "println(\"the number of iteration: \", count)"
   ]
  },
  {
   "cell_type": "code",
   "execution_count": 8,
   "metadata": {},
   "outputs": [
    {
     "data": {
      "text/plain": [
       "1×47 Array{Float64,2}:\n",
       " 1.25806  1.24986  1.24076  1.2308  1.22005  …  0.613504  0.968585  0.801716"
      ]
     },
     "execution_count": 8,
     "metadata": {},
     "output_type": "execute_result"
    }
   ],
   "source": [
    "# calculate the mid point\n",
    "mid_p = sum(pointA)/num_hy"
   ]
  },
  {
   "cell_type": "code",
   "execution_count": 9,
   "metadata": {},
   "outputs": [],
   "source": [
    "for i in mid_p\n",
    "#     println(i)\n",
    "end"
   ]
  },
  {
   "cell_type": "code",
   "execution_count": 10,
   "metadata": {},
   "outputs": [
    {
     "data": {
      "text/plain": [
       "g (generic function with 1 method)"
      ]
     },
     "execution_count": 10,
     "metadata": {},
     "output_type": "execute_result"
    }
   ],
   "source": [
    "# we now have the final results\n",
    "p(t) = sum((t^(i-1))*mid_p[i] for i in 1:(n+1))\n",
    "q(t) = sum((t^(i-1))*mid_p[i+n+1] for i in 1:(m+1))\n",
    "g(t) = p(t)/q(t)"
   ]
  },
  {
   "cell_type": "code",
   "execution_count": 11,
   "metadata": {},
   "outputs": [
    {
     "data": {
      "text/plain": [
       "1.9397174766104583"
      ]
     },
     "execution_count": 11,
     "metadata": {},
     "output_type": "execute_result"
    }
   ],
   "source": [
    "g(1.2)"
   ]
  },
  {
   "cell_type": "code",
   "execution_count": 12,
   "metadata": {},
   "outputs": [
    {
     "data": {
      "text/plain": [
       "1.9377049180327868"
      ]
     },
     "execution_count": 12,
     "metadata": {},
     "output_type": "execute_result"
    }
   ],
   "source": [
    "f(1.2)"
   ]
  },
  {
   "cell_type": "code",
   "execution_count": 13,
   "metadata": {},
   "outputs": [
    {
     "data": {
      "image/svg+xml": [
       "<?xml version=\"1.0\" encoding=\"utf-8\"?>\n",
       "<svg xmlns=\"http://www.w3.org/2000/svg\" xmlns:xlink=\"http://www.w3.org/1999/xlink\" width=\"600\" height=\"400\" viewBox=\"0 0 2400 1600\">\n",
       "<defs>\n",
       "  <clipPath id=\"clip910\">\n",
       "    <rect x=\"0\" y=\"0\" width=\"2400\" height=\"1600\"/>\n",
       "  </clipPath>\n",
       "</defs>\n",
       "<path clip-path=\"url(#clip910)\" d=\"\n",
       "M0 1600 L2400 1600 L2400 0 L0 0  Z\n",
       "  \" fill=\"#ffffff\" fill-rule=\"evenodd\" fill-opacity=\"1\"/>\n",
       "<defs>\n",
       "  <clipPath id=\"clip911\">\n",
       "    <rect x=\"480\" y=\"0\" width=\"1681\" height=\"1600\"/>\n",
       "  </clipPath>\n",
       "</defs>\n",
       "<path clip-path=\"url(#clip910)\" d=\"\n",
       "M112.177 1486.45 L2352.76 1486.45 L2352.76 47.2441 L112.177 47.2441  Z\n",
       "  \" fill=\"#ffffff\" fill-rule=\"evenodd\" fill-opacity=\"1\"/>\n",
       "<defs>\n",
       "  <clipPath id=\"clip912\">\n",
       "    <rect x=\"112\" y=\"47\" width=\"2242\" height=\"1440\"/>\n",
       "  </clipPath>\n",
       "</defs>\n",
       "<polyline clip-path=\"url(#clip912)\" style=\"stroke:#000000; stroke-width:2; stroke-opacity:0.1; fill:none\" points=\"\n",
       "  175.59,1486.45 175.59,47.2441 \n",
       "  \"/>\n",
       "<polyline clip-path=\"url(#clip912)\" style=\"stroke:#000000; stroke-width:2; stroke-opacity:0.1; fill:none\" points=\"\n",
       "  704.028,1486.45 704.028,47.2441 \n",
       "  \"/>\n",
       "<polyline clip-path=\"url(#clip912)\" style=\"stroke:#000000; stroke-width:2; stroke-opacity:0.1; fill:none\" points=\"\n",
       "  1232.47,1486.45 1232.47,47.2441 \n",
       "  \"/>\n",
       "<polyline clip-path=\"url(#clip912)\" style=\"stroke:#000000; stroke-width:2; stroke-opacity:0.1; fill:none\" points=\"\n",
       "  1760.9,1486.45 1760.9,47.2441 \n",
       "  \"/>\n",
       "<polyline clip-path=\"url(#clip912)\" style=\"stroke:#000000; stroke-width:2; stroke-opacity:0.1; fill:none\" points=\"\n",
       "  2289.34,1486.45 2289.34,47.2441 \n",
       "  \"/>\n",
       "<polyline clip-path=\"url(#clip910)\" style=\"stroke:#000000; stroke-width:4; stroke-opacity:1; fill:none\" points=\"\n",
       "  112.177,1486.45 2352.76,1486.45 \n",
       "  \"/>\n",
       "<polyline clip-path=\"url(#clip910)\" style=\"stroke:#000000; stroke-width:4; stroke-opacity:1; fill:none\" points=\"\n",
       "  175.59,1486.45 175.59,1469.18 \n",
       "  \"/>\n",
       "<polyline clip-path=\"url(#clip910)\" style=\"stroke:#000000; stroke-width:4; stroke-opacity:1; fill:none\" points=\"\n",
       "  704.028,1486.45 704.028,1469.18 \n",
       "  \"/>\n",
       "<polyline clip-path=\"url(#clip910)\" style=\"stroke:#000000; stroke-width:4; stroke-opacity:1; fill:none\" points=\"\n",
       "  1232.47,1486.45 1232.47,1469.18 \n",
       "  \"/>\n",
       "<polyline clip-path=\"url(#clip910)\" style=\"stroke:#000000; stroke-width:4; stroke-opacity:1; fill:none\" points=\"\n",
       "  1760.9,1486.45 1760.9,1469.18 \n",
       "  \"/>\n",
       "<polyline clip-path=\"url(#clip910)\" style=\"stroke:#000000; stroke-width:4; stroke-opacity:1; fill:none\" points=\"\n",
       "  2289.34,1486.45 2289.34,1469.18 \n",
       "  \"/>\n",
       "<path clip-path=\"url(#clip910)\" d=\"M 0 0 M165.972 1543.18 L173.611 1543.18 L173.611 1516.82 L165.3 1518.49 L165.3 1514.23 L173.564 1512.56 L178.24 1512.56 L178.24 1543.18 L185.879 1543.18 L185.879 1547.12 L165.972 1547.12 L165.972 1543.18 Z\" fill=\"#000000\" fill-rule=\"evenodd\" fill-opacity=\"1\" /><path clip-path=\"url(#clip910)\" d=\"M 0 0 M698.681 1543.18 L715 1543.18 L715 1547.12 L693.056 1547.12 L693.056 1543.18 Q695.718 1540.43 700.301 1535.8 Q704.908 1531.15 706.088 1529.81 Q708.334 1527.28 709.213 1525.55 Q710.116 1523.79 710.116 1522.1 Q710.116 1519.34 708.172 1517.61 Q706.25 1515.87 703.149 1515.87 Q700.949 1515.87 698.496 1516.63 Q696.065 1517.4 693.287 1518.95 L693.287 1514.23 Q696.112 1513.09 698.565 1512.51 Q701.019 1511.93 703.056 1511.93 Q708.426 1511.93 711.621 1514.62 Q714.815 1517.31 714.815 1521.8 Q714.815 1523.93 714.005 1525.85 Q713.218 1527.74 711.111 1530.34 Q710.533 1531.01 707.431 1534.23 Q704.329 1537.42 698.681 1543.18 Z\" fill=\"#000000\" fill-rule=\"evenodd\" fill-opacity=\"1\" /><path clip-path=\"url(#clip910)\" d=\"M 0 0 M1236.71 1528.49 Q1240.07 1529.2 1241.95 1531.47 Q1243.84 1533.74 1243.84 1537.07 Q1243.84 1542.19 1240.33 1544.99 Q1236.81 1547.79 1230.33 1547.79 Q1228.15 1547.79 1225.83 1547.35 Q1223.54 1546.93 1221.09 1546.08 L1221.09 1541.56 Q1223.03 1542.7 1225.35 1543.28 Q1227.66 1543.86 1230.19 1543.86 Q1234.58 1543.86 1236.88 1542.12 Q1239.19 1540.38 1239.19 1537.07 Q1239.19 1534.02 1237.04 1532.31 Q1234.91 1530.57 1231.09 1530.57 L1227.06 1530.57 L1227.06 1526.73 L1231.27 1526.73 Q1234.72 1526.73 1236.55 1525.36 Q1238.38 1523.97 1238.38 1521.38 Q1238.38 1518.72 1236.48 1517.31 Q1234.61 1515.87 1231.09 1515.87 Q1229.17 1515.87 1226.97 1516.29 Q1224.77 1516.7 1222.13 1517.58 L1222.13 1513.42 Q1224.79 1512.68 1227.11 1512.31 Q1229.45 1511.93 1231.51 1511.93 Q1236.83 1511.93 1239.93 1514.37 Q1243.03 1516.77 1243.03 1520.89 Q1243.03 1523.76 1241.39 1525.75 Q1239.75 1527.72 1236.71 1528.49 Z\" fill=\"#000000\" fill-rule=\"evenodd\" fill-opacity=\"1\" /><path clip-path=\"url(#clip910)\" d=\"M 0 0 M1763.91 1516.63 L1752.11 1535.08 L1763.91 1535.08 L1763.91 1516.63 M1762.69 1512.56 L1768.57 1512.56 L1768.57 1535.08 L1773.5 1535.08 L1773.5 1538.97 L1768.57 1538.97 L1768.57 1547.12 L1763.91 1547.12 L1763.91 1538.97 L1748.31 1538.97 L1748.31 1534.46 L1762.69 1512.56 Z\" fill=\"#000000\" fill-rule=\"evenodd\" fill-opacity=\"1\" /><path clip-path=\"url(#clip910)\" d=\"M 0 0 M2279.62 1512.56 L2297.98 1512.56 L2297.98 1516.5 L2283.9 1516.5 L2283.9 1524.97 Q2284.92 1524.62 2285.94 1524.46 Q2286.96 1524.27 2287.98 1524.27 Q2293.76 1524.27 2297.14 1527.44 Q2300.52 1530.62 2300.52 1536.03 Q2300.52 1541.61 2297.05 1544.71 Q2293.58 1547.79 2287.26 1547.79 Q2285.08 1547.79 2282.82 1547.42 Q2280.57 1547.05 2278.16 1546.31 L2278.16 1541.61 Q2280.25 1542.74 2282.47 1543.3 Q2284.69 1543.86 2287.17 1543.86 Q2291.17 1543.86 2293.51 1541.75 Q2295.85 1539.64 2295.85 1536.03 Q2295.85 1532.42 2293.51 1530.31 Q2291.17 1528.21 2287.17 1528.21 Q2285.29 1528.21 2283.42 1528.62 Q2281.57 1529.04 2279.62 1529.92 L2279.62 1512.56 Z\" fill=\"#000000\" fill-rule=\"evenodd\" fill-opacity=\"1\" /><polyline clip-path=\"url(#clip912)\" style=\"stroke:#000000; stroke-width:2; stroke-opacity:0.1; fill:none\" points=\"\n",
       "  112.177,1416.08 2352.76,1416.08 \n",
       "  \"/>\n",
       "<polyline clip-path=\"url(#clip912)\" style=\"stroke:#000000; stroke-width:2; stroke-opacity:0.1; fill:none\" points=\"\n",
       "  112.177,961.729 2352.76,961.729 \n",
       "  \"/>\n",
       "<polyline clip-path=\"url(#clip912)\" style=\"stroke:#000000; stroke-width:2; stroke-opacity:0.1; fill:none\" points=\"\n",
       "  112.177,507.377 2352.76,507.377 \n",
       "  \"/>\n",
       "<polyline clip-path=\"url(#clip912)\" style=\"stroke:#000000; stroke-width:2; stroke-opacity:0.1; fill:none\" points=\"\n",
       "  112.177,53.0262 2352.76,53.0262 \n",
       "  \"/>\n",
       "<polyline clip-path=\"url(#clip910)\" style=\"stroke:#000000; stroke-width:4; stroke-opacity:1; fill:none\" points=\"\n",
       "  112.177,1486.45 112.177,47.2441 \n",
       "  \"/>\n",
       "<polyline clip-path=\"url(#clip910)\" style=\"stroke:#000000; stroke-width:4; stroke-opacity:1; fill:none\" points=\"\n",
       "  112.177,1416.08 139.064,1416.08 \n",
       "  \"/>\n",
       "<polyline clip-path=\"url(#clip910)\" style=\"stroke:#000000; stroke-width:4; stroke-opacity:1; fill:none\" points=\"\n",
       "  112.177,961.729 139.064,961.729 \n",
       "  \"/>\n",
       "<polyline clip-path=\"url(#clip910)\" style=\"stroke:#000000; stroke-width:4; stroke-opacity:1; fill:none\" points=\"\n",
       "  112.177,507.377 139.064,507.377 \n",
       "  \"/>\n",
       "<polyline clip-path=\"url(#clip910)\" style=\"stroke:#000000; stroke-width:4; stroke-opacity:1; fill:none\" points=\"\n",
       "  112.177,53.0262 139.064,53.0262 \n",
       "  \"/>\n",
       "<path clip-path=\"url(#clip910)\" d=\"M 0 0 M59.8578 1429.42 L76.1772 1429.42 L76.1772 1433.36 L54.2328 1433.36 L54.2328 1429.42 Q56.8949 1426.67 61.4782 1422.04 Q66.0846 1417.39 67.2652 1416.05 Q69.5105 1413.52 70.3902 1411.79 Q71.2929 1410.03 71.2929 1408.34 Q71.2929 1405.58 69.3485 1403.85 Q67.4272 1402.11 64.3254 1402.11 Q62.1263 1402.11 59.6726 1402.87 Q57.2421 1403.64 54.4643 1405.19 L54.4643 1400.47 Q57.2884 1399.33 59.7421 1398.75 Q62.1958 1398.18 64.2328 1398.18 Q69.6031 1398.18 72.7976 1400.86 Q75.992 1403.55 75.992 1408.04 Q75.992 1410.17 75.1818 1412.09 Q74.3948 1413.99 72.2883 1416.58 Q71.7096 1417.25 68.6078 1420.47 Q65.5059 1423.66 59.8578 1429.42 Z\" fill=\"#000000\" fill-rule=\"evenodd\" fill-opacity=\"1\" /><path clip-path=\"url(#clip910)\" d=\"M 0 0 M69.0476 960.375 Q72.404 961.092 74.279 963.361 Q76.1772 965.629 76.1772 968.963 Q76.1772 974.078 72.6587 976.879 Q69.1402 979.68 62.6587 979.68 Q60.4828 979.68 58.168 979.24 Q55.8764 978.824 53.4227 977.967 L53.4227 973.453 Q55.3671 974.588 57.6819 975.166 Q59.9967 975.745 62.5198 975.745 Q66.918 975.745 69.2096 974.009 Q71.5244 972.273 71.5244 968.963 Q71.5244 965.907 69.3717 964.194 Q67.242 962.458 63.4226 962.458 L59.3949 962.458 L59.3949 958.615 L63.6078 958.615 Q67.0569 958.615 68.8855 957.25 Q70.7142 955.861 70.7142 953.268 Q70.7142 950.606 68.8161 949.194 Q66.9411 947.759 63.4226 947.759 Q61.5013 947.759 59.3023 948.176 Q57.1032 948.592 54.4643 949.472 L54.4643 945.305 Q57.1264 944.565 59.4412 944.194 Q61.7791 943.824 63.8393 943.824 Q69.1633 943.824 72.2652 946.254 Q75.367 948.662 75.367 952.782 Q75.367 955.652 73.7235 957.643 Q72.08 959.611 69.0476 960.375 Z\" fill=\"#000000\" fill-rule=\"evenodd\" fill-opacity=\"1\" /><path clip-path=\"url(#clip910)\" d=\"M 0 0 M66.5939 494.172 L54.7884 512.621 L66.5939 512.621 L66.5939 494.172 M65.367 490.097 L71.2466 490.097 L71.2466 512.621 L76.1772 512.621 L76.1772 516.509 L71.2466 516.509 L71.2466 524.657 L66.5939 524.657 L66.5939 516.509 L50.9921 516.509 L50.9921 511.996 L65.367 490.097 Z\" fill=\"#000000\" fill-rule=\"evenodd\" fill-opacity=\"1\" /><path clip-path=\"url(#clip910)\" d=\"M 0 0 M55.2745 35.7462 L73.6309 35.7462 L73.6309 39.6813 L59.5569 39.6813 L59.5569 48.1535 Q60.5754 47.8063 61.5939 47.6443 Q62.6124 47.4591 63.6309 47.4591 Q69.418 47.4591 72.7976 50.6304 Q76.1772 53.8016 76.1772 59.2183 Q76.1772 64.7969 72.705 67.8988 Q69.2328 70.9775 62.9134 70.9775 Q60.7374 70.9775 58.4689 70.6071 Q56.2236 70.2367 53.8162 69.496 L53.8162 64.7969 Q55.8995 65.9312 58.1217 66.4868 Q60.3439 67.0423 62.8208 67.0423 Q66.8254 67.0423 69.1633 64.9358 Q71.5013 62.8294 71.5013 59.2183 Q71.5013 55.6072 69.1633 53.5007 Q66.8254 51.3942 62.8208 51.3942 Q60.9458 51.3942 59.0708 51.8109 Q57.2189 52.2276 55.2745 53.1072 L55.2745 35.7462 Z\" fill=\"#000000\" fill-rule=\"evenodd\" fill-opacity=\"1\" /><polyline clip-path=\"url(#clip912)\" style=\"stroke:#009af9; stroke-width:4; stroke-opacity:1; fill:none\" points=\"\n",
       "  175.59,1413.89 180.75,1416.99 185.911,1419.84 191.072,1422.44 196.232,1424.81 243.95,1438.59 291.667,1444.31 339.385,1445.72 387.102,1442.83 444.455,1433.37 \n",
       "  501.807,1417.73 550.298,1400.3 598.789,1379.6 704.138,1325.7 801.261,1267.89 905.386,1199.76 1026.03,1115.1 1133.24,1036.07 1227.25,964.545 1329.75,884.7 \n",
       "  1432.86,802.798 1546.86,710.755 1655.33,621.993 1768.11,528.695 1863.05,449.488 1978.96,352.084 2087.92,259.919 2262.48,111.249 2289.34,88.2729 \n",
       "  \"/>\n",
       "<polyline clip-path=\"url(#clip912)\" style=\"stroke:#e26f46; stroke-width:4; stroke-opacity:1; fill:none\" points=\"\n",
       "  175.59,1416.08 185.911,1420.34 196.232,1424.27 291.667,1445.45 387.102,1443.08 444.455,1432.47 501.807,1416.2 550.298,1398.67 598.789,1378.16 704.138,1325.15 \n",
       "  801.261,1268.22 905.386,1200.79 1026.03,1116.5 1133.24,1037.47 1227.25,965.762 1329.75,885.593 1432.86,803.304 1546.86,710.826 1655.33,621.696 1768.11,528.098 \n",
       "  1863.05,448.727 1978.96,351.246 2087.92,259.144 2262.48,110.861 2289.34,87.9763 \n",
       "  \"/>\n",
       "<path clip-path=\"url(#clip910)\" d=\"\n",
       "M1978.1 276.658 L2278.07 276.658 L2278.07 95.2176 L1978.1 95.2176  Z\n",
       "  \" fill=\"#ffffff\" fill-rule=\"evenodd\" fill-opacity=\"1\"/>\n",
       "<polyline clip-path=\"url(#clip910)\" style=\"stroke:#000000; stroke-width:4; stroke-opacity:1; fill:none\" points=\"\n",
       "  1978.1,276.658 2278.07,276.658 2278.07,95.2176 1978.1,95.2176 1978.1,276.658 \n",
       "  \"/>\n",
       "<polyline clip-path=\"url(#clip910)\" style=\"stroke:#009af9; stroke-width:4; stroke-opacity:1; fill:none\" points=\"\n",
       "  2002.99,155.698 2152.37,155.698 \n",
       "  \"/>\n",
       "<path clip-path=\"url(#clip910)\" d=\"M 0 0 M2191.1 175.385 Q2189.3 180.015 2187.59 181.427 Q2185.87 182.839 2183 182.839 L2179.6 182.839 L2179.6 179.274 L2182.1 179.274 Q2183.86 179.274 2184.83 178.44 Q2185.8 177.607 2186.98 174.505 L2187.75 172.561 L2177.26 147.052 L2181.77 147.052 L2189.88 167.329 L2197.98 147.052 L2202.49 147.052 L2191.1 175.385 Z\" fill=\"#000000\" fill-rule=\"evenodd\" fill-opacity=\"1\" /><path clip-path=\"url(#clip910)\" d=\"M 0 0 M2208.37 169.042 L2216.01 169.042 L2216.01 142.677 L2207.7 144.343 L2207.7 140.084 L2215.96 138.418 L2220.64 138.418 L2220.64 169.042 L2228.28 169.042 L2228.28 172.978 L2208.37 172.978 L2208.37 169.042 Z\" fill=\"#000000\" fill-rule=\"evenodd\" fill-opacity=\"1\" /><polyline clip-path=\"url(#clip910)\" style=\"stroke:#e26f46; stroke-width:4; stroke-opacity:1; fill:none\" points=\"\n",
       "  2002.99,216.178 2152.37,216.178 \n",
       "  \"/>\n",
       "<path clip-path=\"url(#clip910)\" d=\"M 0 0 M2191.1 235.865 Q2189.3 240.495 2187.59 241.907 Q2185.87 243.319 2183 243.319 L2179.6 243.319 L2179.6 239.754 L2182.1 239.754 Q2183.86 239.754 2184.83 238.92 Q2185.8 238.087 2186.98 234.985 L2187.75 233.041 L2177.26 207.532 L2181.77 207.532 L2189.88 227.809 L2197.98 207.532 L2202.49 207.532 L2191.1 235.865 Z\" fill=\"#000000\" fill-rule=\"evenodd\" fill-opacity=\"1\" /><path clip-path=\"url(#clip910)\" d=\"M 0 0 M2211.59 229.522 L2227.91 229.522 L2227.91 233.458 L2205.96 233.458 L2205.96 229.522 Q2208.63 226.768 2213.21 222.138 Q2217.82 217.485 2219 216.143 Q2221.24 213.62 2222.12 211.884 Q2223.02 210.124 2223.02 208.435 Q2223.02 205.68 2221.08 203.944 Q2219.16 202.208 2216.06 202.208 Q2213.86 202.208 2211.4 202.972 Q2208.97 203.735 2206.2 205.286 L2206.2 200.564 Q2209.02 199.43 2211.47 198.851 Q2213.93 198.273 2215.96 198.273 Q2221.33 198.273 2224.53 200.958 Q2227.72 203.643 2227.72 208.134 Q2227.72 210.263 2226.91 212.185 Q2226.13 214.083 2224.02 216.675 Q2223.44 217.347 2220.34 220.564 Q2217.24 223.759 2211.59 229.522 Z\" fill=\"#000000\" fill-rule=\"evenodd\" fill-opacity=\"1\" /></svg>\n"
      ]
     },
     "execution_count": 13,
     "metadata": {},
     "output_type": "execute_result"
    }
   ],
   "source": [
    "plot(g,1,5)\n",
    "plot!(f,1,5)"
   ]
  },
  {
   "cell_type": "code",
   "execution_count": 14,
   "metadata": {},
   "outputs": [
    {
     "data": {
      "text/plain": [
       "Float64[]"
      ]
     },
     "execution_count": 14,
     "metadata": {},
     "output_type": "execute_result"
    }
   ],
   "source": [
    "# Find the points of extreme deviation:\n",
    "\n",
    "σ(t) = g(t) - f(t)\n",
    "Tmax = maximum(abs.(σ.(T)))\n",
    "T⁺ = T[findall(t -> σ(t) ≈ Tmax, T)]\n",
    "T⁻ = T[findall(t -> σ(t) ≈ -Tmax, T)]"
   ]
  },
  {
   "cell_type": "code",
   "execution_count": 15,
   "metadata": {},
   "outputs": [
    {
     "data": {
      "image/svg+xml": [
       "<?xml version=\"1.0\" encoding=\"utf-8\"?>\n",
       "<svg xmlns=\"http://www.w3.org/2000/svg\" xmlns:xlink=\"http://www.w3.org/1999/xlink\" width=\"600\" height=\"400\" viewBox=\"0 0 2400 1600\">\n",
       "<defs>\n",
       "  <clipPath id=\"clip950\">\n",
       "    <rect x=\"0\" y=\"0\" width=\"2400\" height=\"1600\"/>\n",
       "  </clipPath>\n",
       "</defs>\n",
       "<path clip-path=\"url(#clip950)\" d=\"\n",
       "M0 1600 L2400 1600 L2400 0 L0 0  Z\n",
       "  \" fill=\"#ffffff\" fill-rule=\"evenodd\" fill-opacity=\"1\"/>\n",
       "<defs>\n",
       "  <clipPath id=\"clip951\">\n",
       "    <rect x=\"480\" y=\"0\" width=\"1681\" height=\"1600\"/>\n",
       "  </clipPath>\n",
       "</defs>\n",
       "<path clip-path=\"url(#clip950)\" d=\"\n",
       "M233.079 1486.45 L2352.76 1486.45 L2352.76 47.2441 L233.079 47.2441  Z\n",
       "  \" fill=\"#ffffff\" fill-rule=\"evenodd\" fill-opacity=\"1\"/>\n",
       "<defs>\n",
       "  <clipPath id=\"clip952\">\n",
       "    <rect x=\"233\" y=\"47\" width=\"2121\" height=\"1440\"/>\n",
       "  </clipPath>\n",
       "</defs>\n",
       "<polyline clip-path=\"url(#clip952)\" style=\"stroke:#000000; stroke-width:2; stroke-opacity:0.1; fill:none\" points=\"\n",
       "  293.07,1486.45 293.07,47.2441 \n",
       "  \"/>\n",
       "<polyline clip-path=\"url(#clip952)\" style=\"stroke:#000000; stroke-width:2; stroke-opacity:0.1; fill:none\" points=\"\n",
       "  792.994,1486.45 792.994,47.2441 \n",
       "  \"/>\n",
       "<polyline clip-path=\"url(#clip952)\" style=\"stroke:#000000; stroke-width:2; stroke-opacity:0.1; fill:none\" points=\"\n",
       "  1292.92,1486.45 1292.92,47.2441 \n",
       "  \"/>\n",
       "<polyline clip-path=\"url(#clip952)\" style=\"stroke:#000000; stroke-width:2; stroke-opacity:0.1; fill:none\" points=\"\n",
       "  1792.84,1486.45 1792.84,47.2441 \n",
       "  \"/>\n",
       "<polyline clip-path=\"url(#clip952)\" style=\"stroke:#000000; stroke-width:2; stroke-opacity:0.1; fill:none\" points=\"\n",
       "  2292.77,1486.45 2292.77,47.2441 \n",
       "  \"/>\n",
       "<polyline clip-path=\"url(#clip950)\" style=\"stroke:#000000; stroke-width:4; stroke-opacity:1; fill:none\" points=\"\n",
       "  233.079,1486.45 2352.76,1486.45 \n",
       "  \"/>\n",
       "<polyline clip-path=\"url(#clip950)\" style=\"stroke:#000000; stroke-width:4; stroke-opacity:1; fill:none\" points=\"\n",
       "  293.07,1486.45 293.07,1469.18 \n",
       "  \"/>\n",
       "<polyline clip-path=\"url(#clip950)\" style=\"stroke:#000000; stroke-width:4; stroke-opacity:1; fill:none\" points=\"\n",
       "  792.994,1486.45 792.994,1469.18 \n",
       "  \"/>\n",
       "<polyline clip-path=\"url(#clip950)\" style=\"stroke:#000000; stroke-width:4; stroke-opacity:1; fill:none\" points=\"\n",
       "  1292.92,1486.45 1292.92,1469.18 \n",
       "  \"/>\n",
       "<polyline clip-path=\"url(#clip950)\" style=\"stroke:#000000; stroke-width:4; stroke-opacity:1; fill:none\" points=\"\n",
       "  1792.84,1486.45 1792.84,1469.18 \n",
       "  \"/>\n",
       "<polyline clip-path=\"url(#clip950)\" style=\"stroke:#000000; stroke-width:4; stroke-opacity:1; fill:none\" points=\"\n",
       "  2292.77,1486.45 2292.77,1469.18 \n",
       "  \"/>\n",
       "<path clip-path=\"url(#clip950)\" d=\"M 0 0 M283.452 1543.18 L291.091 1543.18 L291.091 1516.82 L282.781 1518.49 L282.781 1514.23 L291.045 1512.56 L295.721 1512.56 L295.721 1543.18 L303.359 1543.18 L303.359 1547.12 L283.452 1547.12 L283.452 1543.18 Z\" fill=\"#000000\" fill-rule=\"evenodd\" fill-opacity=\"1\" /><path clip-path=\"url(#clip950)\" d=\"M 0 0 M787.647 1543.18 L803.966 1543.18 L803.966 1547.12 L782.022 1547.12 L782.022 1543.18 Q784.684 1540.43 789.267 1535.8 Q793.874 1531.15 795.054 1529.81 Q797.299 1527.28 798.179 1525.55 Q799.082 1523.79 799.082 1522.1 Q799.082 1519.34 797.137 1517.61 Q795.216 1515.87 792.114 1515.87 Q789.915 1515.87 787.462 1516.63 Q785.031 1517.4 782.253 1518.95 L782.253 1514.23 Q785.077 1513.09 787.531 1512.51 Q789.985 1511.93 792.022 1511.93 Q797.392 1511.93 800.586 1514.62 Q803.781 1517.31 803.781 1521.8 Q803.781 1523.93 802.971 1525.85 Q802.184 1527.74 800.077 1530.34 Q799.498 1531.01 796.397 1534.23 Q793.295 1537.42 787.647 1543.18 Z\" fill=\"#000000\" fill-rule=\"evenodd\" fill-opacity=\"1\" /><path clip-path=\"url(#clip950)\" d=\"M 0 0 M1297.17 1528.49 Q1300.52 1529.2 1302.4 1531.47 Q1304.29 1533.74 1304.29 1537.07 Q1304.29 1542.19 1300.78 1544.99 Q1297.26 1547.79 1290.78 1547.79 Q1288.6 1547.79 1286.29 1547.35 Q1283.99 1546.93 1281.54 1546.08 L1281.54 1541.56 Q1283.48 1542.7 1285.8 1543.28 Q1288.11 1543.86 1290.64 1543.86 Q1295.04 1543.86 1297.33 1542.12 Q1299.64 1540.38 1299.64 1537.07 Q1299.64 1534.02 1297.49 1532.31 Q1295.36 1530.57 1291.54 1530.57 L1287.51 1530.57 L1287.51 1526.73 L1291.73 1526.73 Q1295.17 1526.73 1297 1525.36 Q1298.83 1523.97 1298.83 1521.38 Q1298.83 1518.72 1296.93 1517.31 Q1295.06 1515.87 1291.54 1515.87 Q1289.62 1515.87 1287.42 1516.29 Q1285.22 1516.7 1282.58 1517.58 L1282.58 1513.42 Q1285.24 1512.68 1287.56 1512.31 Q1289.9 1511.93 1291.96 1511.93 Q1297.28 1511.93 1300.38 1514.37 Q1303.48 1516.77 1303.48 1520.89 Q1303.48 1523.76 1301.84 1525.75 Q1300.2 1527.72 1297.17 1528.49 Z\" fill=\"#000000\" fill-rule=\"evenodd\" fill-opacity=\"1\" /><path clip-path=\"url(#clip950)\" d=\"M 0 0 M1795.85 1516.63 L1784.05 1535.08 L1795.85 1535.08 L1795.85 1516.63 M1794.62 1512.56 L1800.5 1512.56 L1800.5 1535.08 L1805.43 1535.08 L1805.43 1538.97 L1800.5 1538.97 L1800.5 1547.12 L1795.85 1547.12 L1795.85 1538.97 L1780.25 1538.97 L1780.25 1534.46 L1794.62 1512.56 Z\" fill=\"#000000\" fill-rule=\"evenodd\" fill-opacity=\"1\" /><path clip-path=\"url(#clip950)\" d=\"M 0 0 M2283.04 1512.56 L2301.4 1512.56 L2301.4 1516.5 L2287.33 1516.5 L2287.33 1524.97 Q2288.34 1524.62 2289.36 1524.46 Q2290.38 1524.27 2291.4 1524.27 Q2297.19 1524.27 2300.57 1527.44 Q2303.95 1530.62 2303.95 1536.03 Q2303.95 1541.61 2300.47 1544.71 Q2297 1547.79 2290.68 1547.79 Q2288.51 1547.79 2286.24 1547.42 Q2283.99 1547.05 2281.58 1546.31 L2281.58 1541.61 Q2283.67 1542.74 2285.89 1543.3 Q2288.11 1543.86 2290.59 1543.86 Q2294.59 1543.86 2296.93 1541.75 Q2299.27 1539.64 2299.27 1536.03 Q2299.27 1532.42 2296.93 1530.31 Q2294.59 1528.21 2290.59 1528.21 Q2288.71 1528.21 2286.84 1528.62 Q2284.99 1529.04 2283.04 1529.92 L2283.04 1512.56 Z\" fill=\"#000000\" fill-rule=\"evenodd\" fill-opacity=\"1\" /><polyline clip-path=\"url(#clip952)\" style=\"stroke:#000000; stroke-width:2; stroke-opacity:0.1; fill:none\" points=\"\n",
       "  233.079,1187.52 2352.76,1187.52 \n",
       "  \"/>\n",
       "<polyline clip-path=\"url(#clip952)\" style=\"stroke:#000000; stroke-width:2; stroke-opacity:0.1; fill:none\" points=\"\n",
       "  233.079,865.053 2352.76,865.053 \n",
       "  \"/>\n",
       "<polyline clip-path=\"url(#clip952)\" style=\"stroke:#000000; stroke-width:2; stroke-opacity:0.1; fill:none\" points=\"\n",
       "  233.079,542.583 2352.76,542.583 \n",
       "  \"/>\n",
       "<polyline clip-path=\"url(#clip952)\" style=\"stroke:#000000; stroke-width:2; stroke-opacity:0.1; fill:none\" points=\"\n",
       "  233.079,220.114 2352.76,220.114 \n",
       "  \"/>\n",
       "<polyline clip-path=\"url(#clip950)\" style=\"stroke:#000000; stroke-width:4; stroke-opacity:1; fill:none\" points=\"\n",
       "  233.079,1486.45 233.079,47.2441 \n",
       "  \"/>\n",
       "<polyline clip-path=\"url(#clip950)\" style=\"stroke:#000000; stroke-width:4; stroke-opacity:1; fill:none\" points=\"\n",
       "  233.079,1187.52 258.515,1187.52 \n",
       "  \"/>\n",
       "<polyline clip-path=\"url(#clip950)\" style=\"stroke:#000000; stroke-width:4; stroke-opacity:1; fill:none\" points=\"\n",
       "  233.079,865.053 258.515,865.053 \n",
       "  \"/>\n",
       "<polyline clip-path=\"url(#clip950)\" style=\"stroke:#000000; stroke-width:4; stroke-opacity:1; fill:none\" points=\"\n",
       "  233.079,542.583 258.515,542.583 \n",
       "  \"/>\n",
       "<polyline clip-path=\"url(#clip950)\" style=\"stroke:#000000; stroke-width:4; stroke-opacity:1; fill:none\" points=\"\n",
       "  233.079,220.114 258.515,220.114 \n",
       "  \"/>\n",
       "<path clip-path=\"url(#clip950)\" d=\"M 0 0 M50.9921 1187.97 L80.6679 1187.97 L80.6679 1191.91 L50.9921 1191.91 L50.9921 1187.97 Z\" fill=\"#000000\" fill-rule=\"evenodd\" fill-opacity=\"1\" /><path clip-path=\"url(#clip950)\" d=\"M 0 0 M95.7373 1173.32 Q92.1262 1173.32 90.2975 1176.89 Q88.4919 1180.43 88.4919 1187.56 Q88.4919 1194.66 90.2975 1198.23 Q92.1262 1201.77 95.7373 1201.77 Q99.3715 1201.77 101.177 1198.23 Q103.006 1194.66 103.006 1187.56 Q103.006 1180.43 101.177 1176.89 Q99.3715 1173.32 95.7373 1173.32 M95.7373 1169.62 Q101.547 1169.62 104.603 1174.22 Q107.682 1178.81 107.682 1187.56 Q107.682 1196.28 104.603 1200.89 Q101.547 1205.47 95.7373 1205.47 Q89.9271 1205.47 86.8484 1200.89 Q83.7929 1196.28 83.7929 1187.56 Q83.7929 1178.81 86.8484 1174.22 Q89.9271 1169.62 95.7373 1169.62 Z\" fill=\"#000000\" fill-rule=\"evenodd\" fill-opacity=\"1\" /><path clip-path=\"url(#clip950)\" d=\"M 0 0 M112.751 1198.92 L117.635 1198.92 L117.635 1204.8 L112.751 1204.8 L112.751 1198.92 Z\" fill=\"#000000\" fill-rule=\"evenodd\" fill-opacity=\"1\" /><path clip-path=\"url(#clip950)\" d=\"M 0 0 M132.705 1173.32 Q129.094 1173.32 127.265 1176.89 Q125.459 1180.43 125.459 1187.56 Q125.459 1194.66 127.265 1198.23 Q129.094 1201.77 132.705 1201.77 Q136.339 1201.77 138.144 1198.23 Q139.973 1194.66 139.973 1187.56 Q139.973 1180.43 138.144 1176.89 Q136.339 1173.32 132.705 1173.32 M132.705 1169.62 Q138.515 1169.62 141.57 1174.22 Q144.649 1178.81 144.649 1187.56 Q144.649 1196.28 141.57 1200.89 Q138.515 1205.47 132.705 1205.47 Q126.894 1205.47 123.816 1200.89 Q120.76 1196.28 120.76 1187.56 Q120.76 1178.81 123.816 1174.22 Q126.894 1169.62 132.705 1169.62 Z\" fill=\"#000000\" fill-rule=\"evenodd\" fill-opacity=\"1\" /><path clip-path=\"url(#clip950)\" d=\"M 0 0 M159.718 1173.32 Q156.107 1173.32 154.279 1176.89 Q152.473 1180.43 152.473 1187.56 Q152.473 1194.66 154.279 1198.23 Q156.107 1201.77 159.718 1201.77 Q163.353 1201.77 165.158 1198.23 Q166.987 1194.66 166.987 1187.56 Q166.987 1180.43 165.158 1176.89 Q163.353 1173.32 159.718 1173.32 M159.718 1169.62 Q165.529 1169.62 168.584 1174.22 Q171.663 1178.81 171.663 1187.56 Q171.663 1196.28 168.584 1200.89 Q165.529 1205.47 159.718 1205.47 Q153.908 1205.47 150.83 1200.89 Q147.774 1196.28 147.774 1187.56 Q147.774 1178.81 150.83 1174.22 Q153.908 1169.62 159.718 1169.62 Z\" fill=\"#000000\" fill-rule=\"evenodd\" fill-opacity=\"1\" /><path clip-path=\"url(#clip950)\" d=\"M 0 0 M180.76 1200.87 L197.079 1200.87 L197.079 1204.8 L175.135 1204.8 L175.135 1200.87 Q177.797 1198.11 182.38 1193.48 Q186.987 1188.83 188.167 1187.49 Q190.413 1184.96 191.292 1183.23 Q192.195 1181.47 192.195 1179.78 Q192.195 1177.02 190.251 1175.29 Q188.329 1173.55 185.228 1173.55 Q183.028 1173.55 180.575 1174.32 Q178.144 1175.08 175.366 1176.63 L175.366 1171.91 Q178.191 1170.77 180.644 1170.2 Q183.098 1169.62 185.135 1169.62 Q190.505 1169.62 193.7 1172.3 Q196.894 1174.99 196.894 1179.48 Q196.894 1181.61 196.084 1183.53 Q195.297 1185.43 193.19 1188.02 Q192.612 1188.69 189.51 1191.91 Q186.408 1195.1 180.76 1200.87 Z\" fill=\"#000000\" fill-rule=\"evenodd\" fill-opacity=\"1\" /><path clip-path=\"url(#clip950)\" d=\"M 0 0 M94.14 850.851 Q90.529 850.851 88.7003 854.416 Q86.8947 857.958 86.8947 865.087 Q86.8947 872.194 88.7003 875.759 Q90.529 879.3 94.14 879.3 Q97.7743 879.3 99.5798 875.759 Q101.409 872.194 101.409 865.087 Q101.409 857.958 99.5798 854.416 Q97.7743 850.851 94.14 850.851 M94.14 847.148 Q99.9502 847.148 103.006 851.754 Q106.084 856.337 106.084 865.087 Q106.084 873.814 103.006 878.421 Q99.9502 883.004 94.14 883.004 Q88.3299 883.004 85.2512 878.421 Q82.1957 873.814 82.1957 865.087 Q82.1957 856.337 85.2512 851.754 Q88.3299 847.148 94.14 847.148 Z\" fill=\"#000000\" fill-rule=\"evenodd\" fill-opacity=\"1\" /><path clip-path=\"url(#clip950)\" d=\"M 0 0 M111.154 876.453 L116.038 876.453 L116.038 882.333 L111.154 882.333 L111.154 876.453 Z\" fill=\"#000000\" fill-rule=\"evenodd\" fill-opacity=\"1\" /><path clip-path=\"url(#clip950)\" d=\"M 0 0 M131.107 850.851 Q127.496 850.851 125.668 854.416 Q123.862 857.958 123.862 865.087 Q123.862 872.194 125.668 875.759 Q127.496 879.3 131.107 879.3 Q134.742 879.3 136.547 875.759 Q138.376 872.194 138.376 865.087 Q138.376 857.958 136.547 854.416 Q134.742 850.851 131.107 850.851 M131.107 847.148 Q136.918 847.148 139.973 851.754 Q143.052 856.337 143.052 865.087 Q143.052 873.814 139.973 878.421 Q136.918 883.004 131.107 883.004 Q125.297 883.004 122.219 878.421 Q119.163 873.814 119.163 865.087 Q119.163 856.337 122.219 851.754 Q125.297 847.148 131.107 847.148 Z\" fill=\"#000000\" fill-rule=\"evenodd\" fill-opacity=\"1\" /><path clip-path=\"url(#clip950)\" d=\"M 0 0 M158.121 850.851 Q154.51 850.851 152.681 854.416 Q150.876 857.958 150.876 865.087 Q150.876 872.194 152.681 875.759 Q154.51 879.3 158.121 879.3 Q161.755 879.3 163.561 875.759 Q165.39 872.194 165.39 865.087 Q165.39 857.958 163.561 854.416 Q161.755 850.851 158.121 850.851 M158.121 847.148 Q163.931 847.148 166.987 851.754 Q170.066 856.337 170.066 865.087 Q170.066 873.814 166.987 878.421 Q163.931 883.004 158.121 883.004 Q152.311 883.004 149.232 878.421 Q146.177 873.814 146.177 865.087 Q146.177 856.337 149.232 851.754 Q152.311 847.148 158.121 847.148 Z\" fill=\"#000000\" fill-rule=\"evenodd\" fill-opacity=\"1\" /><path clip-path=\"url(#clip950)\" d=\"M 0 0 M185.135 850.851 Q181.524 850.851 179.695 854.416 Q177.89 857.958 177.89 865.087 Q177.89 872.194 179.695 875.759 Q181.524 879.3 185.135 879.3 Q188.769 879.3 190.575 875.759 Q192.403 872.194 192.403 865.087 Q192.403 857.958 190.575 854.416 Q188.769 850.851 185.135 850.851 M185.135 847.148 Q190.945 847.148 194.001 851.754 Q197.079 856.337 197.079 865.087 Q197.079 873.814 194.001 878.421 Q190.945 883.004 185.135 883.004 Q179.325 883.004 176.246 878.421 Q173.191 873.814 173.191 865.087 Q173.191 856.337 176.246 851.754 Q179.325 847.148 185.135 847.148 Z\" fill=\"#000000\" fill-rule=\"evenodd\" fill-opacity=\"1\" /><path clip-path=\"url(#clip950)\" d=\"M 0 0 M95.7373 528.382 Q92.1262 528.382 90.2975 531.947 Q88.4919 535.488 88.4919 542.618 Q88.4919 549.724 90.2975 553.289 Q92.1262 556.831 95.7373 556.831 Q99.3715 556.831 101.177 553.289 Q103.006 549.724 103.006 542.618 Q103.006 535.488 101.177 531.947 Q99.3715 528.382 95.7373 528.382 M95.7373 524.678 Q101.547 524.678 104.603 529.285 Q107.682 533.868 107.682 542.618 Q107.682 551.345 104.603 555.951 Q101.547 560.535 95.7373 560.535 Q89.9271 560.535 86.8484 555.951 Q83.7929 551.345 83.7929 542.618 Q83.7929 533.868 86.8484 529.285 Q89.9271 524.678 95.7373 524.678 Z\" fill=\"#000000\" fill-rule=\"evenodd\" fill-opacity=\"1\" /><path clip-path=\"url(#clip950)\" d=\"M 0 0 M112.751 553.984 L117.635 553.984 L117.635 559.863 L112.751 559.863 L112.751 553.984 Z\" fill=\"#000000\" fill-rule=\"evenodd\" fill-opacity=\"1\" /><path clip-path=\"url(#clip950)\" d=\"M 0 0 M132.705 528.382 Q129.094 528.382 127.265 531.947 Q125.459 535.488 125.459 542.618 Q125.459 549.724 127.265 553.289 Q129.094 556.831 132.705 556.831 Q136.339 556.831 138.144 553.289 Q139.973 549.724 139.973 542.618 Q139.973 535.488 138.144 531.947 Q136.339 528.382 132.705 528.382 M132.705 524.678 Q138.515 524.678 141.57 529.285 Q144.649 533.868 144.649 542.618 Q144.649 551.345 141.57 555.951 Q138.515 560.535 132.705 560.535 Q126.894 560.535 123.816 555.951 Q120.76 551.345 120.76 542.618 Q120.76 533.868 123.816 529.285 Q126.894 524.678 132.705 524.678 Z\" fill=\"#000000\" fill-rule=\"evenodd\" fill-opacity=\"1\" /><path clip-path=\"url(#clip950)\" d=\"M 0 0 M159.718 528.382 Q156.107 528.382 154.279 531.947 Q152.473 535.488 152.473 542.618 Q152.473 549.724 154.279 553.289 Q156.107 556.831 159.718 556.831 Q163.353 556.831 165.158 553.289 Q166.987 549.724 166.987 542.618 Q166.987 535.488 165.158 531.947 Q163.353 528.382 159.718 528.382 M159.718 524.678 Q165.529 524.678 168.584 529.285 Q171.663 533.868 171.663 542.618 Q171.663 551.345 168.584 555.951 Q165.529 560.535 159.718 560.535 Q153.908 560.535 150.83 555.951 Q147.774 551.345 147.774 542.618 Q147.774 533.868 150.83 529.285 Q153.908 524.678 159.718 524.678 Z\" fill=\"#000000\" fill-rule=\"evenodd\" fill-opacity=\"1\" /><path clip-path=\"url(#clip950)\" d=\"M 0 0 M180.76 555.928 L197.079 555.928 L197.079 559.863 L175.135 559.863 L175.135 555.928 Q177.797 553.173 182.38 548.544 Q186.987 543.891 188.167 542.549 Q190.413 540.025 191.292 538.289 Q192.195 536.53 192.195 534.84 Q192.195 532.086 190.251 530.35 Q188.329 528.613 185.228 528.613 Q183.028 528.613 180.575 529.377 Q178.144 530.141 175.366 531.692 L175.366 526.97 Q178.191 525.836 180.644 525.257 Q183.098 524.678 185.135 524.678 Q190.505 524.678 193.7 527.363 Q196.894 530.049 196.894 534.539 Q196.894 536.669 196.084 538.59 Q195.297 540.488 193.19 543.081 Q192.612 543.752 189.51 546.97 Q186.408 550.164 180.76 555.928 Z\" fill=\"#000000\" fill-rule=\"evenodd\" fill-opacity=\"1\" /><path clip-path=\"url(#clip950)\" d=\"M 0 0 M93.6539 205.913 Q90.0428 205.913 88.2141 209.477 Q86.4086 213.019 86.4086 220.149 Q86.4086 227.255 88.2141 230.82 Q90.0428 234.361 93.6539 234.361 Q97.2882 234.361 99.0937 230.82 Q100.922 227.255 100.922 220.149 Q100.922 213.019 99.0937 209.477 Q97.2882 205.913 93.6539 205.913 M93.6539 202.209 Q99.4641 202.209 102.52 206.815 Q105.598 211.399 105.598 220.149 Q105.598 228.875 102.52 233.482 Q99.4641 238.065 93.6539 238.065 Q87.8438 238.065 84.7651 233.482 Q81.7096 228.875 81.7096 220.149 Q81.7096 211.399 84.7651 206.815 Q87.8438 202.209 93.6539 202.209 Z\" fill=\"#000000\" fill-rule=\"evenodd\" fill-opacity=\"1\" /><path clip-path=\"url(#clip950)\" d=\"M 0 0 M110.668 231.514 L115.552 231.514 L115.552 237.394 L110.668 237.394 L110.668 231.514 Z\" fill=\"#000000\" fill-rule=\"evenodd\" fill-opacity=\"1\" /><path clip-path=\"url(#clip950)\" d=\"M 0 0 M130.621 205.913 Q127.01 205.913 125.182 209.477 Q123.376 213.019 123.376 220.149 Q123.376 227.255 125.182 230.82 Q127.01 234.361 130.621 234.361 Q134.256 234.361 136.061 230.82 Q137.89 227.255 137.89 220.149 Q137.89 213.019 136.061 209.477 Q134.256 205.913 130.621 205.913 M130.621 202.209 Q136.431 202.209 139.487 206.815 Q142.566 211.399 142.566 220.149 Q142.566 228.875 139.487 233.482 Q136.431 238.065 130.621 238.065 Q124.811 238.065 121.732 233.482 Q118.677 228.875 118.677 220.149 Q118.677 211.399 121.732 206.815 Q124.811 202.209 130.621 202.209 Z\" fill=\"#000000\" fill-rule=\"evenodd\" fill-opacity=\"1\" /><path clip-path=\"url(#clip950)\" d=\"M 0 0 M157.635 205.913 Q154.024 205.913 152.195 209.477 Q150.39 213.019 150.39 220.149 Q150.39 227.255 152.195 230.82 Q154.024 234.361 157.635 234.361 Q161.269 234.361 163.075 230.82 Q164.904 227.255 164.904 220.149 Q164.904 213.019 163.075 209.477 Q161.269 205.913 157.635 205.913 M157.635 202.209 Q163.445 202.209 166.501 206.815 Q169.579 211.399 169.579 220.149 Q169.579 228.875 166.501 233.482 Q163.445 238.065 157.635 238.065 Q151.825 238.065 148.746 233.482 Q145.691 228.875 145.691 220.149 Q145.691 211.399 148.746 206.815 Q151.825 202.209 157.635 202.209 Z\" fill=\"#000000\" fill-rule=\"evenodd\" fill-opacity=\"1\" /><path clip-path=\"url(#clip950)\" d=\"M 0 0 M187.496 206.908 L175.691 225.357 L187.496 225.357 L187.496 206.908 M186.269 202.834 L192.149 202.834 L192.149 225.357 L197.079 225.357 L197.079 229.246 L192.149 229.246 L192.149 237.394 L187.496 237.394 L187.496 229.246 L171.894 229.246 L171.894 224.732 L186.269 202.834 Z\" fill=\"#000000\" fill-rule=\"evenodd\" fill-opacity=\"1\" /><polyline clip-path=\"url(#clip952)\" style=\"stroke:#009af9; stroke-width:4; stroke-opacity:1; fill:none\" points=\"\n",
       "  293.07,87.9763 295.511,260.475 297.952,417.4 300.393,559.175 302.834,686.278 305.276,799.234 307.717,898.614 308.937,943.4 310.158,985.022 310.768,1004.67 \n",
       "  311.378,1023.56 311.989,1041.7 312.599,1059.09 315.42,1130.2 318.242,1186.75 321.063,1229.82 323.884,1260.48 326.706,1279.8 329.527,1288.84 332.349,1288.66 \n",
       "  335.17,1280.27 337.992,1264.65 340.813,1242.74 343.634,1215.46 346.456,1183.64 352.099,1109.58 357.741,1026.35 363.384,938.901 369.027,851.324 374.67,766.914 \n",
       "  380.313,688.23 385.956,617.165 391.598,555.034 397.241,502.654 402.884,460.426 408.527,428.41 414.17,406.398 419.813,393.971 425.455,390.553 431.098,395.46 \n",
       "  436.741,407.935 442.384,427.182 448.027,452.389 459.312,517.477 470.598,597.066 481.884,685.656 493.169,778.532 506.734,890.4 520.298,997.642 533.863,1096.49 \n",
       "  547.427,1184.41 560.992,1259.89 574.556,1322.2 588.12,1371.24 601.685,1407.34 613.153,1428.22 624.622,1440.82 636.091,1445.72 647.559,1443.54 659.028,1434.96 \n",
       "  670.496,1420.61 681.965,1401.14 693.433,1377.19 718.349,1312.56 743.266,1235.21 768.182,1150.03 793.098,1061.07 839.039,897.69 884.98,747.018 909.606,674.709 \n",
       "  934.233,609.41 958.86,551.602 983.487,501.529 1012.02,453.244 1040.55,415.234 1069.08,387.126 1097.62,368.402 1122.97,359.136 1148.33,356.313 1173.69,359.426 \n",
       "  1199.04,367.957 1243.51,394.43 1287.98,433.204 1336.47,486.4 1384.95,547.903 1433.73,615.23 1482.5,685.408 1590.35,839.569 1692.96,970.5 1746.31,1028.07 \n",
       "  1799.66,1076.65 1844.57,1109.75 1889.48,1135.17 1944.3,1155.16 1999.13,1162.42 2050.67,1157.2 2102.21,1140.04 2143.5,1117.53 2184.78,1087.15 2226.07,1048.88 \n",
       "  2267.35,1002.69 2273.7,994.877 2280.06,986.879 2286.41,978.693 2292.77,970.321 \n",
       "  \"/>\n",
       "<circle clip-path=\"url(#clip952)\" cx=\"293.07\" cy=\"87.9763\" r=\"14\" fill=\"#e26f46\" fill-rule=\"evenodd\" fill-opacity=\"1\" stroke=\"#000000\" stroke-opacity=\"1\" stroke-width=\"3.2\"/>\n",
       "<path clip-path=\"url(#clip950)\" d=\"\n",
       "M1994.98 337.138 L2282.1 337.138 L2282.1 95.2176 L1994.98 95.2176  Z\n",
       "  \" fill=\"#ffffff\" fill-rule=\"evenodd\" fill-opacity=\"1\"/>\n",
       "<polyline clip-path=\"url(#clip950)\" style=\"stroke:#000000; stroke-width:4; stroke-opacity:1; fill:none\" points=\"\n",
       "  1994.98,337.138 2282.1,337.138 2282.1,95.2176 1994.98,95.2176 1994.98,337.138 \n",
       "  \"/>\n",
       "<polyline clip-path=\"url(#clip950)\" style=\"stroke:#009af9; stroke-width:4; stroke-opacity:1; fill:none\" points=\"\n",
       "  2018.54,155.698 2159.85,155.698 \n",
       "  \"/>\n",
       "<path clip-path=\"url(#clip950)\" d=\"M 0 0 M2197.24 175.385 Q2195.44 180.015 2193.72 181.427 Q2192.01 182.839 2189.14 182.839 L2185.74 182.839 L2185.74 179.274 L2188.24 179.274 Q2190 179.274 2190.97 178.44 Q2191.94 177.607 2193.12 174.505 L2193.89 172.561 L2183.4 147.052 L2187.91 147.052 L2196.01 167.329 L2204.12 147.052 L2208.63 147.052 L2197.24 175.385 Z\" fill=\"#000000\" fill-rule=\"evenodd\" fill-opacity=\"1\" /><path clip-path=\"url(#clip950)\" d=\"M 0 0 M2214.51 169.042 L2222.15 169.042 L2222.15 142.677 L2213.84 144.343 L2213.84 140.084 L2222.1 138.418 L2226.78 138.418 L2226.78 169.042 L2234.42 169.042 L2234.42 172.978 L2214.51 172.978 L2214.51 169.042 Z\" fill=\"#000000\" fill-rule=\"evenodd\" fill-opacity=\"1\" /><circle clip-path=\"url(#clip950)\" cx=\"2089.19\" cy=\"216.178\" r=\"23\" fill=\"#e26f46\" fill-rule=\"evenodd\" fill-opacity=\"1\" stroke=\"#000000\" stroke-opacity=\"1\" stroke-width=\"5.12\"/>\n",
       "<path clip-path=\"url(#clip950)\" d=\"M 0 0 M2197.24 235.865 Q2195.44 240.495 2193.72 241.907 Q2192.01 243.319 2189.14 243.319 L2185.74 243.319 L2185.74 239.754 L2188.24 239.754 Q2190 239.754 2190.97 238.92 Q2191.94 238.087 2193.12 234.985 L2193.89 233.041 L2183.4 207.532 L2187.91 207.532 L2196.01 227.809 L2204.12 207.532 L2208.63 207.532 L2197.24 235.865 Z\" fill=\"#000000\" fill-rule=\"evenodd\" fill-opacity=\"1\" /><path clip-path=\"url(#clip950)\" d=\"M 0 0 M2217.73 229.522 L2234.05 229.522 L2234.05 233.458 L2212.1 233.458 L2212.1 229.522 Q2214.76 226.768 2219.35 222.138 Q2223.95 217.485 2225.14 216.143 Q2227.38 213.62 2228.26 211.884 Q2229.16 210.124 2229.16 208.435 Q2229.16 205.68 2227.22 203.944 Q2225.3 202.208 2222.2 202.208 Q2220 202.208 2217.54 202.972 Q2215.11 203.735 2212.33 205.286 L2212.33 200.564 Q2215.16 199.43 2217.61 198.851 Q2220.07 198.273 2222.1 198.273 Q2227.47 198.273 2230.67 200.958 Q2233.86 203.643 2233.86 208.134 Q2233.86 210.263 2233.05 212.185 Q2232.26 214.083 2230.16 216.675 Q2229.58 217.347 2226.48 220.564 Q2223.38 223.759 2217.73 229.522 Z\" fill=\"#000000\" fill-rule=\"evenodd\" fill-opacity=\"1\" /><path clip-path=\"url(#clip950)\" d=\"M 0 0 M2197.24 296.345 Q2195.44 300.975 2193.72 302.387 Q2192.01 303.799 2189.14 303.799 L2185.74 303.799 L2185.74 300.234 L2188.24 300.234 Q2190 300.234 2190.97 299.4 Q2191.94 298.567 2193.12 295.465 L2193.89 293.521 L2183.4 268.012 L2187.91 268.012 L2196.01 288.289 L2204.12 268.012 L2208.63 268.012 L2197.24 296.345 Z\" fill=\"#000000\" fill-rule=\"evenodd\" fill-opacity=\"1\" /><path clip-path=\"url(#clip950)\" d=\"M 0 0 M2227.87 275.303 Q2231.22 276.021 2233.1 278.289 Q2235 280.558 2235 283.891 Q2235 289.007 2231.48 291.808 Q2227.96 294.609 2221.48 294.609 Q2219.3 294.609 2216.99 294.169 Q2214.7 293.752 2212.24 292.896 L2212.24 288.382 Q2214.19 289.516 2216.5 290.095 Q2218.82 290.674 2221.34 290.674 Q2225.74 290.674 2228.03 288.938 Q2230.34 287.201 2230.34 283.891 Q2230.34 280.836 2228.19 279.123 Q2226.06 277.387 2222.24 277.387 L2218.21 277.387 L2218.21 273.544 L2222.43 273.544 Q2225.88 273.544 2227.7 272.178 Q2229.53 270.79 2229.53 268.197 Q2229.53 265.535 2227.64 264.123 Q2225.76 262.688 2222.24 262.688 Q2220.32 262.688 2218.12 263.104 Q2215.92 263.521 2213.28 264.401 L2213.28 260.234 Q2215.95 259.493 2218.26 259.123 Q2220.6 258.753 2222.66 258.753 Q2227.98 258.753 2231.08 261.183 Q2234.19 263.59 2234.19 267.711 Q2234.19 270.581 2232.54 272.572 Q2230.9 274.54 2227.87 275.303 Z\" fill=\"#000000\" fill-rule=\"evenodd\" fill-opacity=\"1\" /></svg>\n"
      ]
     },
     "execution_count": 15,
     "metadata": {},
     "output_type": "execute_result"
    }
   ],
   "source": [
    "plot(σ,1,5)\n",
    "scatter!(T⁺,σ.(T⁺))\n",
    "scatter!(T⁻,σ.(T⁻))"
   ]
  },
  {
   "cell_type": "markdown",
   "metadata": {},
   "source": [
    "Issues can report on:\n",
    "- the number of planes and the range to approximate, how many planes is enough and at what range?\n",
    "- the power of the 2 poly in rational (n and m), higher mean better ? but will that affect the computation\n",
    "- the number of iteration/computation time corresponding to the error rate, what is the acceptable error rate?\n",
    "- is calculating the mid point by the avg the best way?\n",
    "- the case of going to infinity (maybe not that interesting)"
   ]
  },
  {
   "cell_type": "code",
   "execution_count": null,
   "metadata": {},
   "outputs": [],
   "source": []
  }
 ],
 "metadata": {
  "kernelspec": {
   "display_name": "Julia 1.5.2",
   "language": "julia",
   "name": "julia-1.5"
  },
  "language_info": {
   "file_extension": ".jl",
   "mimetype": "application/julia",
   "name": "julia",
   "version": "1.5.2"
  }
 },
 "nbformat": 4,
 "nbformat_minor": 4
}
